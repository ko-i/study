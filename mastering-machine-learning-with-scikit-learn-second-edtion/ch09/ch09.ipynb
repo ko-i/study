{
 "cells": [
  {
   "cell_type": "code",
   "execution_count": 1,
   "metadata": {},
   "outputs": [],
   "source": [
    "# 2020-10-20 created by Akson"
   ]
  },
  {
   "cell_type": "code",
   "execution_count": 7,
   "metadata": {},
   "outputs": [
    {
     "name": "stdout",
     "output_type": "stream",
     "text": [
      "Original sample: [33 31 73 63 40 87 80 19  1 68]\n",
      "Sample mean: 49.5\n",
      "Number of bootstrap re-samples: 100\n",
      "Example re-sample: [40 31 33 31 19  1 19 19 19 73]\n",
      "Mean of resamples: 49.496\n"
     ]
    }
   ],
   "source": [
    "# code9.1\n",
    "# 自发重采样\n",
    "\n",
    "import numpy as np\n",
    "\n",
    "# 10个整数的样例\n",
    "sample = np.random.randint(low = 1, high = 100, size = 10)\n",
    "print('Original sample: %s' % sample)\n",
    "print('Sample mean: %s' % np.mean(sample))\n",
    "\n",
    "# 重采样100次\n",
    "resamples = [np.random.choice(sample, size = sample.shape) for i in range(100)]\n",
    "print('Number of bootstrap re-samples: %s' % len(resamples))\n",
    "print('Example re-sample: %s' % resamples[0])\n",
    "\n",
    "resample_means = np.array([resample.mean() for resample in resamples])\n",
    "print('Mean of resamples: %s' % resample_means.mean())"
   ]
  },
  {
   "cell_type": "code",
   "execution_count": 13,
   "metadata": {},
   "outputs": [
    {
     "name": "stdout",
     "output_type": "stream",
     "text": [
      "              precision    recall  f1-score   support\n",
      "\n",
      "           0       0.73      0.66      0.69       127\n",
      "           1       0.68      0.75      0.71       123\n",
      "\n",
      "    accuracy                           0.70       250\n",
      "   macro avg       0.71      0.70      0.70       250\n",
      "weighted avg       0.71      0.70      0.70       250\n",
      "\n",
      "              precision    recall  f1-score   support\n",
      "\n",
      "           0       0.87      0.87      0.87       127\n",
      "           1       0.87      0.87      0.87       123\n",
      "\n",
      "    accuracy                           0.87       250\n",
      "   macro avg       0.87      0.87      0.87       250\n",
      "weighted avg       0.87      0.87      0.87       250\n",
      "\n"
     ]
    }
   ],
   "source": [
    "# code9.2\n",
    "# 随机森林测试\n",
    "\n",
    "from sklearn.tree import DecisionTreeClassifier\n",
    "from sklearn.ensemble import RandomForestClassifier\n",
    "from sklearn.datasets import make_classification\n",
    "from sklearn.model_selection import train_test_split\n",
    "from sklearn.metrics import classification_report\n",
    "\n",
    "X, y = make_classification(n_samples = 1000, n_features = 100, n_informative = 20, n_clusters_per_class = 2, random_state = 11)\n",
    "X_train, X_test, y_train, y_test = train_test_split(X, y, random_state = 11)\n",
    "\n",
    "# 决策树\n",
    "clf = DecisionTreeClassifier(random_state = 11)\n",
    "clf.fit(X_train, y_train)\n",
    "predictions = clf.predict(X_test)\n",
    "print(classification_report(y_test, predictions))\n",
    "\n",
    "# 随机森林\n",
    "clf = RandomForestClassifier(n_estimators = 2000, random_state = 11)\n",
    "clf.fit(X_train, y_train)\n",
    "predictions = clf.predict(X_test)\n",
    "print(classification_report(y_test, predictions))"
   ]
  },
  {
   "cell_type": "code",
   "execution_count": 23,
   "metadata": {},
   "outputs": [
    {
     "name": "stdout",
     "output_type": "stream",
     "text": [
      "Decision tree accuracy: 0.56\n",
      "AdaBoost accuracy: 0.64\n"
     ]
    },
    {
     "data": {
      "text/plain": [
       "[<matplotlib.lines.Line2D at 0x7f93154fbaf0>]"
      ]
     },
     "execution_count": 23,
     "metadata": {},
     "output_type": "execute_result"
    },
    {
     "data": {
      "image/png": "[encoded data removed]",
      "text/plain": [
       "<Figure size 432x288 with 1 Axes>"
      ]
     },
     "metadata": {
      "needs_background": "light"
     },
     "output_type": "display_data"
    }
   ],
   "source": [
    "# code9.3\n",
    "# AdaBoost\n",
    "\n",
    "%matplotlib inline\n",
    "\n",
    "from sklearn.ensemble import AdaBoostClassifier\n",
    "from sklearn.tree import DecisionTreeClassifier\n",
    "from sklearn.datasets import  make_classification\n",
    "from sklearn.model_selection import train_test_split\n",
    "import matplotlib.pyplot as plt\n",
    "\n",
    "X, y = make_classification(n_samples = 100, n_features = 50, n_informative = 30, n_clusters_per_class = 3, random_state = 11)\n",
    "X_train, X_test, y_train, y_test = train_test_split(X, y, random_state = 11)\n",
    "\n",
    "# 决策树\n",
    "clf = DecisionTreeClassifier(random_state = 11)\n",
    "clf.fit(X_train, y_train)\n",
    "print('Decision tree accuracy: %s' % clf.score(X_test, y_test))\n",
    "\n",
    "# 使用AdaBoost\n",
    "clf = AdaBoostClassifier(n_estimators = 100, random_state = 11)\n",
    "clf.fit(X_train, y_train)\n",
    "print('AdaBoost accuracy: %s' % clf.score(X_test, y_test))\n",
    "\n",
    "plt.title('Ensemble Accuracy')\n",
    "plt.xlabel('Number of base estimators in ensemble')\n",
    "plt.ylabel('Accuracy')\n",
    "plt.plot(range(1, 101), [accuracy for accuracy in clf.staged_score(X_test, y_test)])"
   ]
  },
  {
   "cell_type": "code",
   "execution_count": 31,
   "metadata": {},
   "outputs": [
    {
     "name": "stdout",
     "output_type": "stream",
     "text": [
      "Logistic regression accuracy: 0.8\n",
      "KNN accuracy: 0.56\n",
      "Stacking classifier accuracy: 0.8\n"
     ]
    }
   ],
   "source": [
    "# code9.4\n",
    "# 堆叠法\n",
    "\n",
    "from sklearn.neighbors import KNeighborsClassifier\n",
    "from sklearn.linear_model import LogisticRegression\n",
    "from sklearn.base import clone, BaseEstimator, TransformerMixin, ClassifierMixin\n",
    "\n",
    "class StackingClassifier(BaseEstimator, ClassifierMixin, TransformerMixin):\n",
    "    def __init__(self, classifiers):\n",
    "        self.classifiers = classifiers\n",
    "        self.meta_classifier = DecisionTreeClassifier()\n",
    "        \n",
    "    def fit(self, X, y):\n",
    "        for clf in self.classifiers:\n",
    "            clf.fit(X, y)\n",
    "        self.meta_classifier.fit(self._get_meta_features(X), y)\n",
    "        return self   \n",
    "        \n",
    "    def _get_meta_features(self, X):\n",
    "        probas = np.asarray([clf.predict_proba(X) for clf in self.classifiers])\n",
    "        return np.concatenate(probas, axis = 1)\n",
    "    \n",
    "    def predict(self, X):\n",
    "        return self.meta_classifier.predict(self._get_meta_features(X))\n",
    "    \n",
    "    def predict_proba(self, X):\n",
    "        return self.meta_classifier.predict_proba(self._get_meta_features(X))\n",
    "    \n",
    "\n",
    "X, y = make_classification(n_samples = 100, n_features = 50, n_informative = 30, n_clusters_per_class = 3, random_state = 11)\n",
    "X_train, X_test, y_train, y_test = train_test_split(X, y, random_state = 11)\n",
    "\n",
    "lr = LogisticRegression()\n",
    "lr.fit(X_train, y_train)\n",
    "print('Logistic regression accuracy: %s' % lr.score(X_test, y_test))\n",
    "\n",
    "knn_clf = KNeighborsClassifier()\n",
    "knn_clf.fit(X_train, y_train)\n",
    "print('KNN accuracy: %s' % knn_clf.score(X_test, y_test))\n",
    "\n",
    "base_classifiers = [lr, knn_clf]\n",
    "stacking_clf = StackingClassifier(base_classifiers)\n",
    "stacking_clf.fit(X_train, y_train)\n",
    "print('Stacking classifier accuracy: %s' % stacking_clf.score(X_test, y_test))"
   ]
  }
 ],
 "metadata": {
  "kernelspec": {
   "display_name": "Python 3",
   "language": "python",
   "name": "python3"
  },
  "language_info": {
   "codemirror_mode": {
    "name": "ipython",
    "version": 3
   },
   "file_extension": ".py",
   "mimetype": "text/x-python",
   "name": "python",
   "nbconvert_exporter": "python",
   "pygments_lexer": "ipython3",
   "version": "3.8.3"
  }
 },
 "nbformat": 4,
 "nbformat_minor": 4
}
