{
 "cells": [
  {
   "cell_type": "code",
   "execution_count": null,
   "metadata": {},
   "outputs": [],
   "source": [
    "# 2020-10-20 created by Akson"
   ]
  },
  {
   "cell_type": "code",
   "execution_count": null,
   "metadata": {},
   "outputs": [],
   "source": [
    "# code13.1\n",
    "# 肘部算法\n",
    "\n",
    "import numpy as np\n",
    "from sklearn.cluster import KMeans\n",
    "from scipy.spatial.distance import cdist\n",
    "import matplotlib.pyplot as plt\n",
    "\n",
    "c1x = np.random.uniform(0.5, 1.5, (1, 10))\n",
    "c1y = np.random.uniform(0.5, 1.5, (1, 10))\n",
    "c2x = np.random.uniform(3.5, 4.5, (1, 10))\n",
    "c2y = np.random.uniform(3.5, 4.5, (1, 10))\n",
    "\n",
    "x = np.hstack((c1x, c2x))\n",
    "y = np.hstack((c1y, c2y))\n",
    "\n",
    "X = np.vstack((x, y)).T\n",
    "\n",
    "K = range(1, 10)\n",
    "meanDispersions = []\n",
    "for k in K:\n",
    "    kmeans = KMeans(n_clusters = k)\n",
    "    kmeans.fit(X)\n",
    "    meanDispersions.append(sum(np.min(cdist(X, kmeans.cluster_centers_, 'euclidean'), axis = 1)) / X.shape[0])\n",
    "\n",
    "plt.plot(K, meanDispersions, 'bx-')\n",
    "plt.xlabel('k')\n",
    "plt.ylabel('Average Dispersion')\n",
    "plt.title('Selecting k with the Elbow Method')\n",
    "plt.show()"
   ]
  },
  {
   "cell_type": "code",
   "execution_count": null,
   "metadata": {},
   "outputs": [],
   "source": [
    "# code13.2\n",
    "\n",
    "from sklearn import metrics\n",
    "\n",
    "plt.subplot(3, 2, 1)\n",
    "x1 = np.array([1, 2, 3, 1, 5, 6, 5, 5, 6, 7, 8, 9, 7, 9])\n",
    "x2 = np.array([1, 3, 2, 2, 8, 6, 7, 6, 7, 1, 2, 1, 1, 3])\n",
    "X = np.array(list(zip(x1, x2))).reshape(len(x1), 2)\n",
    "\n",
    "plt.xlim([0, 10])\n",
    "plt.ylim([0, 10])\n",
    "plt.title('Instances')\n",
    "plt.scatter(x1, x2)\n",
    "colors = ['b', 'g', 'r', 'c', 'm', 'y', 'k', 'b']\n",
    "markers = ['o', 's', 'D', 'v', '^', 'p', '*', '+']\n",
    "tests = [2, 3, 4, 5, 8]\n",
    "\n",
    "subplot_counter = 1\n",
    "for t in tests:\n",
    "    subplot_counter += 1\n",
    "    plt.subplot(3, 2, subplot_counter)\n",
    "    kmeans_model = KMeans(n_clusters = t).fit(X)\n",
    "    for i, l in enumerate(kmeans_model.labels_):\n",
    "        plt.plot(x1[i], x2[i], color = colors[l], marker = markers[l], ls = 'None')\n",
    "    plt.xlim([0, 10])\n",
    "    plt.ylim([0, 10])\n",
    "    plt.title('K = %s, Silhouette Coefficient = %.03f' % (t, metrics.silhouette_score(X, kmeans_model.labels_, metric = 'euclidean')))\n",
    "    \n",
    "plt.show()"
   ]
  },
  {
   "cell_type": "code",
   "execution_count": null,
   "metadata": {},
   "outputs": [],
   "source": [
    "# code13.3\n",
    "# 图像量化\n",
    "\n",
    "from sklearn.utils import shuffle\n",
    "from PIL import Image\n",
    "\n",
    "original_img = np.array(Image.open('tree.jpg'), dtype = np.float64) / 255\n",
    "original_dimensions = tuple(original_img.shape)\n",
    "print(np.shape(original_dimensions))\n",
    "print(original_dimensions)\n",
    "width, height, depth = tuple(original_img.shape)\n",
    "image_flattened = np.reshape(original_img, (width * height, depth))\n",
    "print(np.shape(image_flattened))"
   ]
  },
  {
   "cell_type": "code",
   "execution_count": null,
   "metadata": {},
   "outputs": [],
   "source": [
    "# code13.4\n",
    "\n",
    "image_array_sample = shuffle(image_flattened, random_state = 0)[: 1000]\n",
    "estimator = KMeans(n_clusters = 64, random_state = 0)  # 可以调整这里的n_clusters的值，方便的修改压缩程度\n",
    "estimator.fit(image_array_sample)"
   ]
  },
  {
   "cell_type": "code",
   "execution_count": null,
   "metadata": {},
   "outputs": [],
   "source": [
    "# code13.5\n",
    "\n",
    "cluster_assignments = estimator.predict(image_flattened)"
   ]
  },
  {
   "cell_type": "code",
   "execution_count": null,
   "metadata": {},
   "outputs": [],
   "source": [
    "# code13.6\n",
    "\n",
    "compressed_palette = estimator.cluster_centers_\n",
    "compressed_img = np.zeros((width, height, compressed_palette.shape[1]))\n",
    "label_idx = 0\n",
    "for i in range(width):\n",
    "    for j in range(height):\n",
    "        compressed_img[i][j] = compressed_palette[cluster_assignments[label_idx]]\n",
    "        label_idx += 1\n",
    "\n",
    "plt.subplot(121)\n",
    "plt.title('Original Image', fontsize = 15)\n",
    "plt.imshow(original_img)\n",
    "plt.axis('off')\n",
    "plt.subplot(122)\n",
    "plt.title('Compressed Image', fontsize = 15)\n",
    "plt.imshow(compressed_img)\n",
    "plt.axis('off')\n",
    "plt.show()\n"
   ]
  },
  {
   "cell_type": "code",
   "execution_count": null,
   "metadata": {},
   "outputs": [],
   "source": [
    "# code13.7\n",
    "# 猫狗比赛\n",
    "\n",
    "import os\n",
    "import numpy as np\n",
    "import mahotas as mh   # 在当前python中输入'pip3 install mahotas'安装\n",
    "from mahotas.features import surf\n",
    "from sklearn.linear_model import LogisticRegression\n",
    "from sklearn.metrics import *\n",
    "from sklearn.cluster import MiniBatchKMeans\n",
    "import glob"
   ]
  },
  {
   "cell_type": "code",
   "execution_count": null,
   "metadata": {},
   "outputs": [],
   "source": [
    "# code13.8\n",
    "all_instance_filenames = []\n",
    "all_instance_targets = []\n",
    "\n",
    "# 这个数据集还请在以下网址自行下载\n",
    "# https://www.kaggle.com/c/dogs-vs-cats/data?select=train.zip\n",
    "for f in glob.glob('train/*.jpg'):\n",
    "    # print(os.path.split(f)[1])\n",
    "    target = 1 if 'cat' in os.path.split(f)[1] else 0\n",
    "    all_instance_filenames.append(f)\n",
    "    all_instance_targets.append(target)\n",
    "\n",
    "surf_features = []\n",
    "for f in all_instance_filenames:\n",
    "    image = mh.imread(f, as_grey = True)\n",
    "    surf_features.append(surf.surf(image)[:, 5:])\n",
    "\n",
    "train_len = int(len(all_instance_filenames) * 0.6)\n",
    "X_train_surf_features = np.concatenate(surf_features[: train_len])\n",
    "X_test_surf_features = np.concatenate(surf_features[train_len: ])\n",
    "y_train = all_instance_targets[: train_len]\n",
    "t_test = all_instance_targets[train_len: ]\n",
    "print(X_train_surf_features[0])"
   ]
  },
  {
   "cell_type": "code",
   "execution_count": null,
   "metadata": {},
   "outputs": [],
   "source": [
    "# code13.9\n",
    "\n",
    "n_clusters = 300\n",
    "estimator = MiniBatchKMeans(n_clusters = n_clusters)\n",
    "estimator.fit_form(X_train_surf_features)"
   ]
  },
  {
   "cell_type": "code",
   "execution_count": null,
   "metadata": {},
   "outputs": [],
   "source": [
    "# code13.10\n",
    "\n",
    "X_train = []\n",
    "for instance in surf_features[: train_len]:\n",
    "    clusters = estimator.predict(instance)\n",
    "    features = np.bincount(clusters)\n",
    "    if len(features) < n_clusters:\n",
    "        features = np.append(features, np.zeros((1, n_clusters - len(fearures))))\n",
    "    X_train.append(features)\n",
    "    \n",
    "X_test = []\n",
    "for instance in surf_features[train_len: ]:\n",
    "    clusters = estimator.predict(instance)\n",
    "    features = np.bincount(clusters)\n",
    "    if len(features) < n_clusters:\n",
    "        features = np.append(features, np.zeros((1, n_clusters - len(fearures))))\n",
    "    X_test.append(features)"
   ]
  },
  {
   "cell_type": "code",
   "execution_count": null,
   "metadata": {},
   "outputs": [],
   "source": [
    "# code13.11\n",
    "\n",
    "clf = LogisticRegression(C = 0.001, penalty = 'l2')\n",
    "clf.fit(X_train, y_train)\n",
    "predictions = clf.predict(X_test)\n",
    "print(classification_report(y_test, predictions))"
   ]
  }
 ],
 "metadata": {
  "kernelspec": {
   "display_name": "Python 3",
   "language": "python",
   "name": "python3"
  },
  "language_info": {
   "codemirror_mode": {
    "name": "ipython",
    "version": 3
   },
   "file_extension": ".py",
   "mimetype": "text/x-python",
   "name": "python",
   "nbconvert_exporter": "python",
   "pygments_lexer": "ipython3",
   "version": "3.8.3"
  }
 },
 "nbformat": 4,
 "nbformat_minor": 4
}
