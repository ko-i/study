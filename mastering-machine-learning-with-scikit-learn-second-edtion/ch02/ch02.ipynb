{
 "cells": [
  {
   "cell_type": "code",
   "execution_count": 1,
   "metadata": {},
   "outputs": [],
   "source": [
    "# 2020-10-17 created by Akson"
   ]
  },
  {
   "cell_type": "code",
   "execution_count": 3,
   "metadata": {},
   "outputs": [
    {
     "data": {
      "image/png": "[encoded data removed]",
      "text/plain": [
       "<Figure size 432x288 with 1 Axes>"
      ]
     },
     "metadata": {
      "needs_background": "light"
     },
     "output_type": "display_data"
    }
   ],
   "source": [
    "# code2.1\n",
    "\n",
    "import numpy as np\n",
    "import matplotlib.pyplot as plt\n",
    "\n",
    "\n",
    "# 生成有关披萨的数据集，这里的.reshape(-1, 1)是为了将数据变为一列，-1表示不管行有多少，同理还有(1, -1)表示变成一行\n",
    "X = np.array([[6], [8], [10], [14], [18]]).reshape(-1, 1)  # 披萨直径\n",
    "y = [7, 9, 13, 17.5, 18] # 对应的价格\n",
    "\n",
    "# 绘制\n",
    "plt.figure()\n",
    "plt.title('Pizza price plotted against diameter')\n",
    "plt.xlabel('Diameter in inches')\n",
    "plt.ylabel('Price in dollars')\n",
    "plt.plot(X, y, 'k.')\n",
    "plt.axis([0, 25, 0, 25])\n",
    "plt.grid(True)\n",
    "plt.show()"
   ]
  },
  {
   "cell_type": "code",
   "execution_count": 6,
   "metadata": {},
   "outputs": [
    {
     "name": "stdout",
     "output_type": "stream",
     "text": [
      "[13.68103448]\n",
      "A 12\" pizza should cost: $13.68\n"
     ]
    }
   ],
   "source": [
    "# code2.2\n",
    "\n",
    "from sklearn.linear_model import LinearRegression\n",
    "\n",
    "# 新建一个线性回归估计器实例\n",
    "model = LinearRegression()\n",
    "# 拟合数据只用一句代码\n",
    "model.fit(X, y)\n",
    "\n",
    "# 一个测试用数据\n",
    "test_pizza = np.array([[12]])\n",
    "# 预测价格\n",
    "predicted_price = model.predict(test_pizza)[0]  # 返回是一个结果列表，所以要用索引来取值\n",
    "print('A 12\" pizza should cost: $%.2f' % predicted_price)"
   ]
  },
  {
   "cell_type": "code",
   "execution_count": 7,
   "metadata": {},
   "outputs": [
    {
     "name": "stdout",
     "output_type": "stream",
     "text": [
      "Residual sum of squares: 1.75\n"
     ]
    }
   ],
   "source": [
    "# code2.3\n",
    "\n",
    "print('Residual sum of squares: %.2f' % np.mean((model.predict(X) - y) ** 2))"
   ]
  },
  {
   "cell_type": "code",
   "execution_count": 25,
   "metadata": {},
   "outputs": [
    {
     "name": "stdout",
     "output_type": "stream",
     "text": [
      "X_bar =  11.2\n",
      "variance =  23.2\n"
     ]
    }
   ],
   "source": [
    "# code2.4\n",
    "# 计算方差\n",
    "\n",
    "x_bar = X.mean()\n",
    "print('X_bar = ', x_bar)\n",
    "variance = ((X - x_bar) ** 2).sum() / (X.shape[0] - 1)\n",
    "print('variance = ', variance)\n",
    "\n",
    "# 直接用numpy计算方差的方法就在下面code2.5（这书有毒）"
   ]
  },
  {
   "cell_type": "code",
   "execution_count": 26,
   "metadata": {},
   "outputs": [
    {
     "name": "stdout",
     "output_type": "stream",
     "text": [
      "23.2\n"
     ]
    }
   ],
   "source": [
    "# code2.5\n",
    "\n",
    "# numpy计算方差的方法，ddof参数值设置贝塞尔矫正\n",
    "print(np.var(X, ddof = 1))"
   ]
  },
  {
   "cell_type": "code",
   "execution_count": 27,
   "metadata": {},
   "outputs": [
    {
     "name": "stdout",
     "output_type": "stream",
     "text": [
      "22.65\n",
      "22.650000000000002\n"
     ]
    }
   ],
   "source": [
    "# code2.6\n",
    "y = np.array([7, 9, 13, 17.5, 18])\n",
    "\n",
    "y_bar = y.mean()\n",
    "\n",
    "convariance = np.multiply((X - x_bar).transpose(), y - y_bar).sum() / (X.shape[0] - 1)\n",
    "print(convariance)\n",
    "\n",
    "# 或者直接用numpy.cov()\n",
    "# 因为其返回结果是这两维数据的协方差矩阵，所以还需要加索引[0][1]，[1][0]是一样的\n",
    "print(np.cov(X.transpose(), y)[0][1])"
   ]
  },
  {
   "cell_type": "code",
   "execution_count": 29,
   "metadata": {},
   "outputs": [
    {
     "name": "stdout",
     "output_type": "stream",
     "text": [
      "alpha = 1.97\n",
      "beta = 0.98\n"
     ]
    }
   ],
   "source": [
    "# 额外代码\n",
    "beta = convariance / variance\n",
    "alpha = y_bar - beta * x_bar\n",
    "print('alpha = %.2f' % alpha)\n",
    "print('beta = %.2f' % beta)"
   ]
  },
  {
   "cell_type": "code",
   "execution_count": 30,
   "metadata": {},
   "outputs": [
    {
     "name": "stdout",
     "output_type": "stream",
     "text": [
      "0.6620052929422553\n"
     ]
    }
   ],
   "source": [
    "# code2.7\n",
    "# 计算R方（决定系数）\n",
    "X_train = np.array([6, 8, 10, 14, 18]).reshape(-1, 1)\n",
    "y_train = [7, 9, 13, 17.5, 18]\n",
    "\n",
    "X_test = np.array([8, 9, 11, 16, 12]).reshape(-1, 1)\n",
    "y_test = [11, 8.5, 15, 18, 11]\n",
    "\n",
    "model = LinearRegression()\n",
    "model.fit(X_train, y_train)\n",
    "r_squared = model.score(X_test, y_test)\n",
    "\n",
    "print(r_squared)"
   ]
  }
 ],
 "metadata": {
  "kernelspec": {
   "display_name": "Python 3",
   "language": "python",
   "name": "python3"
  },
  "language_info": {
   "codemirror_mode": {
    "name": "ipython",
    "version": 3
   },
   "file_extension": ".py",
   "mimetype": "text/x-python",
   "name": "python",
   "nbconvert_exporter": "python",
   "pygments_lexer": "ipython3",
   "version": "3.8.3"
  }
 },
 "nbformat": 4,
 "nbformat_minor": 4
}
