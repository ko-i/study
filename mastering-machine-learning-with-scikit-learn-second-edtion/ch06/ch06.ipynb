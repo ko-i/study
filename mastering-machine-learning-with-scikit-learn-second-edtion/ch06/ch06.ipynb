{
 "cells": [
  {
   "cell_type": "code",
   "execution_count": 1,
   "metadata": {},
   "outputs": [],
   "source": [
    "# 2020-10-19 created by Akson"
   ]
  },
  {
   "cell_type": "code",
   "execution_count": 12,
   "metadata": {},
   "outputs": [
    {
     "name": "stdout",
     "output_type": "stream",
     "text": [
      "         0                                                  1\n",
      "0      ham  Go until jurong point, crazy.. Available only ...\n",
      "1      ham                      Ok lar... Joking wif u oni...\n",
      "2     spam  Free entry in 2 a wkly comp to win FA Cup fina...\n",
      "3      ham  U dun say so early hor... U c already then say...\n",
      "4      ham  Nah I don't think he goes to usf, he lives aro...\n",
      "...    ...                                                ...\n",
      "5567  spam  This is the 2nd time we have tried 2 contact u...\n",
      "5568   ham               Will ü b going to esplanade fr home?\n",
      "5569   ham  Pity, * was in mood for that. So...any other s...\n",
      "5570   ham  The guy did some bitching but I acted like i'd...\n",
      "5571   ham                         Rofl. Its true to its name\n",
      "\n",
      "[5572 rows x 2 columns]\n",
      "Number of spam message: 747\n",
      "Number of ham message: 4825\n"
     ]
    }
   ],
   "source": [
    "# code6.1\n",
    "\n",
    "import pandas as pd\n",
    "\n",
    "df = pd.read_csv('./SMSSpamCollection', delimiter = '\\t', header = None) # 书上的分割标签是‘t’，坑爷\n",
    "print(df)\n",
    "\n",
    "print('Number of spam message: %s' % df[df[0] == 'spam'][0].count())\n",
    "print('Number of ham message: %s' % df[df[0] == 'ham'][0].count())"
   ]
  },
  {
   "cell_type": "code",
   "execution_count": 22,
   "metadata": {},
   "outputs": [
    {
     "name": "stdout",
     "output_type": "stream",
     "text": [
      "predicted: ham, label: ham, Message: Where are you ? What are you doing ? Are yuou working on getting the pc to your mom's ? Did you find a spot that it would work ? I need you\n",
      "predicted: ham, label: ham, Message: I'm not smoking while people use \"wylie smokes too much\" to justify ruining my shit\n",
      "predicted: ham, label: ham, Message: Good afternon, my love. How are today? I hope your good and maybe have some interviews. I wake and miss you babe. A passionate kiss from across the sea\n",
      "predicted: ham, label: ham, Message: You'll never believe this but i have actually got off at taunton. Wow\n",
      "predicted: ham, label: spam, Message: Adult 18 Content Your video will be with you shortly\n"
     ]
    }
   ],
   "source": [
    "# code6.2\n",
    "# 基于逻辑回归的垃圾短信分类\n",
    "\n",
    "import numpy as np\n",
    "from sklearn.feature_extraction.text import TfidfVectorizer\n",
    "from sklearn.linear_model.logistic import LogisticRegression\n",
    "from sklearn.model_selection import train_test_split, cross_val_score\n",
    "\n",
    "X = df[1].values\n",
    "y = df[0].values\n",
    "\n",
    "X_train_raw, X_test_raw, y_train, y_test = train_test_split(X, y)\n",
    "# print(X_train_raw.todense())\n",
    "\n",
    "vectorizer = TfidfVectorizer()\n",
    "X_train = vectorizer.fit_transform(X_train_raw)\n",
    "X_test = vectorizer.transform(X_test_raw)\n",
    "# print(X_train.todense())\n",
    "\n",
    "classifier = LogisticRegression()\n",
    "classifier.fit(X_train, y_train)\n",
    "predictions = classifier.predict(X_test)\n",
    "for i, prediction in enumerate(predictions[: 5]):\n",
    "    print('predicted: %s, label: %s, Message: %s' % (prediction, y_test[i], X_test_raw[i]))"
   ]
  },
  {
   "cell_type": "code",
   "execution_count": 25,
   "metadata": {},
   "outputs": [
    {
     "name": "stdout",
     "output_type": "stream",
     "text": [
      "[[4 1]\n",
      " [2 3]]\n"
     ]
    },
    {
     "data": {
      "image/png": "[encoded data removed]",
      "text/plain": [
       "<Figure size 288x288 with 2 Axes>"
      ]
     },
     "metadata": {
      "needs_background": "light"
     },
     "output_type": "display_data"
    }
   ],
   "source": [
    "# code6.3\n",
    "# 混淆矩阵测试\n",
    "\n",
    "from sklearn.metrics import confusion_matrix\n",
    "import matplotlib.pyplot as plt\n",
    "\n",
    "y_test = [0, 0, 0, 0, 0, 1, 1, 1, 1, 1]\n",
    "y_pred = [0, 1, 0, 0, 0, 0, 0, 1, 1, 1]\n",
    "\n",
    "confusion_matrix = confusion_matrix(y_test, y_pred)\n",
    "print(confusion_matrix)\n",
    "\n",
    "# 画矩阵\n",
    "plt.matshow(confusion_matrix)\n",
    "plt.title('Confusion matrix')\n",
    "plt.colorbar()\n",
    "plt.ylabel('True label')\n",
    "plt.xlabel('Predicted label')\n",
    "plt.show()"
   ]
  },
  {
   "cell_type": "code",
   "execution_count": 27,
   "metadata": {},
   "outputs": [
    {
     "name": "stdout",
     "output_type": "stream",
     "text": [
      "Accuracies: [0.95215311 0.95454545 0.96291866 0.96052632 0.94856459]\n",
      "Mean accuracy: 0.9557416267942583\n"
     ]
    }
   ],
   "source": [
    "# code6.4\n",
    "# 准确率\n",
    "\n",
    "from sklearn.metrics import roc_curve, auc\n",
    "\n",
    "df = pd.read_csv('./sms.csv')\n",
    "\n",
    "X_train_raw, X_test_raw, y_train, y_test = train_test_split(df['message'], df['label'], random_state = 11)\n",
    "vectorizer = TfidfVectorizer()\n",
    "X_train = vectorizer.fit_transform(X_train_raw)\n",
    "X_test = vectorizer.transform(X_test_raw)\n",
    "\n",
    "classifier = LogisticRegression()\n",
    "classifier.fit(X_train, y_train)\n",
    "scores = cross_val_score(classifier, X_train, y_train, cv = 5)\n",
    "print('Accuracies: %s' % scores)\n",
    "print('Mean accuracy: %s' % np.mean(scores))"
   ]
  },
  {
   "cell_type": "code",
   "execution_count": 28,
   "metadata": {},
   "outputs": [
    {
     "name": "stdout",
     "output_type": "stream",
     "text": [
      "Precision: 0.9924976942419154\n",
      "Recall: 0.6800807328054649\n"
     ]
    }
   ],
   "source": [
    "# code6.5\n",
    "# 计算精准率与召回率\n",
    "\n",
    "# 精准率（真阳 / （真阳 + 假阳））\n",
    "precisions = cross_val_score(classifier, X_train, y_train, cv = 5, scoring = 'precision')\n",
    "print('Precision: %s' % np.mean(precisions))\n",
    "\n",
    "# 召回率（真阳 / （真阳 + 假阴））\n",
    "recalls = cross_val_score(classifier, X_train, y_train, cv = 5, scoring = 'recall')\n",
    "print('Recall: %s' % np.mean(recalls))"
   ]
  },
  {
   "cell_type": "code",
   "execution_count": 29,
   "metadata": {},
   "outputs": [
    {
     "name": "stdout",
     "output_type": "stream",
     "text": [
      "F1: 0.8063416255334556\n"
     ]
    }
   ],
   "source": [
    "# code6.6\n",
    "# 计算F1值（综合评价精准率与召回率）\n",
    "\n",
    "f1s = cross_val_score(classifier, X_train, y_train, cv = 5, scoring = 'f1')\n",
    "print('F1: %s' % np.mean(f1s))"
   ]
  },
  {
   "cell_type": "code",
   "execution_count": 31,
   "metadata": {},
   "outputs": [
    {
     "data": {
      "image/png": "[encoded data removed]",
      "text/plain": [
       "<Figure size 432x288 with 1 Axes>"
      ]
     },
     "metadata": {
      "needs_background": "light"
     },
     "output_type": "display_data"
    }
   ],
   "source": [
    "# code6.7\n",
    "# 绘制ROC（受试者操作特征）曲线\n",
    "\n",
    "# 这个标签的预测概率分别是多少\n",
    "predictions = classifier.predict_proba(X_test)\n",
    "# print(predictions)\n",
    "false_positive_rate, recall, thresholds = roc_curve(y_test, predictions[:, 1]) # 设置第二列为反例\n",
    "roc_auc = auc(false_positive_rate, recall)\n",
    "\n",
    "plt.title('Receiver Operation Characteristic')\n",
    "plt.plot(false_positive_rate, recall, 'b', label = 'AUC = %0.2f' % roc_auc)\n",
    "plt.legend(loc = 'lower right')\n",
    "plt.plot([0, 1], [0, 1], 'r--')\n",
    "plt.xlim([0.0, 1.0])\n",
    "plt.ylim([0.0, 1.0])\n",
    "plt.xlabel('False positive rate')\n",
    "plt.ylabel('Recall')\n",
    "plt.show()"
   ]
  },
  {
   "cell_type": "code",
   "execution_count": 46,
   "metadata": {},
   "outputs": [
    {
     "name": "stdout",
     "output_type": "stream",
     "text": [
      "Fitting 3 folds for each of 1536 candidates, totalling 4608 fits\n"
     ]
    },
    {
     "name": "stderr",
     "output_type": "stream",
     "text": [
      "[Parallel(n_jobs=-1)]: Using backend LokyBackend with 8 concurrent workers.\n",
      "[Parallel(n_jobs=-1)]: Done  52 tasks      | elapsed:    2.0s\n",
      "[Parallel(n_jobs=-1)]: Done 352 tasks      | elapsed:    9.3s\n",
      "[Parallel(n_jobs=-1)]: Done 852 tasks      | elapsed:   23.9s\n",
      "[Parallel(n_jobs=-1)]: Done 1552 tasks      | elapsed:   43.0s\n",
      "[Parallel(n_jobs=-1)]: Done 2452 tasks      | elapsed:  1.2min\n",
      "[Parallel(n_jobs=-1)]: Done 3552 tasks      | elapsed:  1.7min\n",
      "[Parallel(n_jobs=-1)]: Done 4554 tasks      | elapsed:  2.4min\n",
      "[Parallel(n_jobs=-1)]: Done 4608 out of 4608 | elapsed:  2.4min finished\n"
     ]
    },
    {
     "name": "stdout",
     "output_type": "stream",
     "text": [
      "Best score: 0.985\n",
      "Best parameters set:\n",
      "\tclf__C: 10\n",
      "\tclf__penalty: 'l2'\n",
      "\tvect__max_df: 0.5\n",
      "\tvect__max_features: 5000\n",
      "\tvect__ngram_range: (1, 2)\n",
      "\tvect__norm: 'l2'\n",
      "\tvect__stop_words: None\n",
      "\tvect__use_idf: True\n",
      "Accuracy: 0.9856424982053122\n",
      "Precision: 0.9887640449438202\n",
      "Recall: 0.9072164948453608\n"
     ]
    }
   ],
   "source": [
    "# code6.8\n",
    "# 使用网格搜索微调模型\n",
    "\n",
    "from sklearn.preprocessing import LabelEncoder\n",
    "from sklearn.model_selection import GridSearchCV\n",
    "from sklearn.pipeline import Pipeline\n",
    "from sklearn.metrics import precision_score, recall_score, accuracy_score\n",
    "\n",
    "# 需要调整的参数\n",
    "pipeline = Pipeline([\n",
    "    ('vect', TfidfVectorizer(stop_words = 'english')),\n",
    "    ('clf', LogisticRegression())\n",
    "])\n",
    "\n",
    "parameters = {\n",
    "    'vect__max_df': (0.25, 0.5, 0.75),\n",
    "    'vect__stop_words': ('english', None),\n",
    "    'vect__max_features': (2500, 5000, 10000, None),\n",
    "    'vect__ngram_range': ((1, 1), (1, 2)),\n",
    "    'vect__use_idf': (True, False),\n",
    "    'vect__norm': ('l1', 'l2'),\n",
    "    'clf__penalty': ('l1', 'l2'),\n",
    "    'clf__C': (0.01, 0.1, 1, 10),\n",
    "    \n",
    "}\n",
    "\n",
    "df = pd.read_csv('./SMSSpamCollection', delimiter = '\\t', header = None)\n",
    "\n",
    "X = df[1].values\n",
    "y = df[0].values\n",
    "\n",
    "label_encoder = LabelEncoder()\n",
    "y = label_encoder.fit_transform(y)\n",
    "\n",
    "X_train, X_test, y_train, y_test = train_test_split(X, y)\n",
    "\n",
    "grid_search = GridSearchCV(pipeline, parameters, n_jobs = -1, verbose = 1, scoring = 'accuracy', cv = 3)\n",
    "grid_search.fit(X_train, y_train)\n",
    "print('Best score: %0.3f' % grid_search.best_score_)\n",
    "print('Best parameters set:')\n",
    "best_parameters = grid_search.best_estimator_.get_params()\n",
    "for param_name in sorted(parameters.keys()):\n",
    "    print('\\t%s: %r' % (param_name, best_parameters[param_name]))\n",
    "    predictions = grid_search.predict(X_test)\n",
    "print('Accuracy:', accuracy_score(y_test, predictions))\n",
    "print('Precision:', precision_score(y_test, predictions))\n",
    "print('Recall:', recall_score(y_test, predictions))"
   ]
  },
  {
   "cell_type": "code",
   "execution_count": 49,
   "metadata": {},
   "outputs": [
    {
     "name": "stdout",
     "output_type": "stream",
     "text": [
      "PhraseId      156060\n",
      "SentenceId    156060\n",
      "Phrase        156060\n",
      "Sentiment     156060\n",
      "dtype: int64\n",
      "   PhraseId  SentenceId                                             Phrase  \\\n",
      "0         1           1  A series of escapades demonstrating the adage ...   \n",
      "1         2           1  A series of escapades demonstrating the adage ...   \n",
      "2         3           1                                           A series   \n",
      "3         4           1                                                  A   \n",
      "4         5           1                                             series   \n",
      "\n",
      "   Sentiment  \n",
      "0          1  \n",
      "1          2  \n",
      "2          2  \n",
      "3          2  \n",
      "4          2  \n"
     ]
    }
   ],
   "source": [
    "# code6.9\n",
    "# 引入多分类影评数据集\n",
    "\n",
    "df = pd.read_csv('./train.tsv', header = 0, delimiter = '\\t')\n",
    "print(df.count())\n",
    "\n",
    "print(df.head())"
   ]
  },
  {
   "cell_type": "code",
   "execution_count": 50,
   "metadata": {},
   "outputs": [
    {
     "name": "stdout",
     "output_type": "stream",
     "text": [
      "0    A series of escapades demonstrating the adage ...\n",
      "1    A series of escapades demonstrating the adage ...\n",
      "2                                             A series\n",
      "3                                                    A\n",
      "4                                               series\n",
      "5    of escapades demonstrating the adage that what...\n",
      "6                                                   of\n",
      "7    escapades demonstrating the adage that what is...\n",
      "8                                            escapades\n",
      "9    demonstrating the adage that what is good for ...\n",
      "Name: Phrase, dtype: object\n"
     ]
    }
   ],
   "source": [
    "# code6.10\n",
    "# 数据集解析\n",
    "\n",
    "print(df['Phrase'].head(10))"
   ]
  },
  {
   "cell_type": "code",
   "execution_count": 54,
   "metadata": {},
   "outputs": [
    {
     "name": "stdout",
     "output_type": "stream",
     "text": [
      "count    156060.000000\n",
      "mean          2.063578\n",
      "std           0.893832\n",
      "min           0.000000\n",
      "25%           2.000000\n",
      "50%           2.000000\n",
      "75%           3.000000\n",
      "max           4.000000\n",
      "Name: Sentiment, dtype: float64\n",
      "2    79582\n",
      "3    32927\n",
      "1    27273\n",
      "4     9206\n",
      "0     7072\n",
      "Name: Sentiment, dtype: int64\n",
      "2    0.509945\n",
      "3    0.210989\n",
      "1    0.174760\n",
      "4    0.058990\n",
      "0    0.045316\n",
      "Name: Sentiment, dtype: float64\n"
     ]
    }
   ],
   "source": [
    "# code6.11\n",
    "# 检验目标类\n",
    "\n",
    "print(df['Sentiment'].describe())\n",
    "print(df['Sentiment'].value_counts())\n",
    "print(df['Sentiment'].value_counts() / df['Sentiment'].count())"
   ]
  },
  {
   "cell_type": "code",
   "execution_count": 63,
   "metadata": {},
   "outputs": [
    {
     "name": "stdout",
     "output_type": "stream",
     "text": [
      "Fitting 2 folds for each of 24 candidates, totalling 48 fits\n"
     ]
    },
    {
     "name": "stderr",
     "output_type": "stream",
     "text": [
      "[Parallel(n_jobs=-1)]: Using backend LokyBackend with 8 concurrent workers.\n",
      "[Parallel(n_jobs=-1)]: Done  25 tasks      | elapsed:  1.3min\n",
      "[Parallel(n_jobs=-1)]: Done  48 out of  48 | elapsed:  4.6min finished\n"
     ]
    },
    {
     "name": "stdout",
     "output_type": "stream",
     "text": [
      "Best score: 0.609\n",
      "Best parameters set:\n",
      "\tclf__C: 10\n",
      "\tvect__max_df: 0.25\n",
      "\tvect__ngram_range: (1, 2)\n",
      "\tvect__use_idf: False\n"
     ]
    }
   ],
   "source": [
    "# code6.12\n",
    "# 多分类测试\n",
    "\n",
    "from sklearn.metrics import classification_report, accuracy_score, confusion_matrix\n",
    "\n",
    "X = df['Phrase']\n",
    "y = df['Sentiment'].values\n",
    "X_train, X_test, y_train, y_test = train_test_split(X, y, train_size = 0.5)\n",
    "\n",
    "# 需要调整的参数\n",
    "pipeline = Pipeline([\n",
    "    ('vect', TfidfVectorizer(stop_words = 'english')),\n",
    "    ('clf', LogisticRegression(max_iter = 10000))\n",
    "])\n",
    "\n",
    "parameters = {\n",
    "    'vect__max_df': (0.25, 0.5),\n",
    "    'vect__ngram_range': ((1, 1), (1, 2)),\n",
    "    'vect__use_idf': (True, False),\n",
    "    'clf__C': (0.1, 1, 10),\n",
    "}\n",
    "\n",
    "grid_search = GridSearchCV(pipeline, parameters, n_jobs = -1, verbose = 2, scoring = 'accuracy', cv = 2)\n",
    "grid_search.fit(X_train, y_train)\n",
    "print('Best score: %0.3f' % grid_search.best_score_)\n",
    "print('Best parameters set:')\n",
    "best_parameters = grid_search.best_estimator_.get_params()\n",
    "for param_name in sorted(parameters.keys()):\n",
    "    print('\\t%s: %r' % (param_name, best_parameters[param_name]))"
   ]
  },
  {
   "cell_type": "code",
   "execution_count": 64,
   "metadata": {},
   "outputs": [
    {
     "name": "stdout",
     "output_type": "stream",
     "text": [
      "Accuracy: 0.6312443931821095\n",
      "Confusion Matrix:\n",
      "[[ 1202  1662   578    73     5]\n",
      " [ 1125  6195  5740   520    37]\n",
      " [  249  3549 31788  3973   174]\n",
      " [   21   468  6353  8308  1474]\n",
      " [    7    28   418  2320  1763]]\n",
      "Classification Report:\n",
      "              precision    recall  f1-score   support\n",
      "\n",
      "           0       0.46      0.34      0.39      3520\n",
      "           1       0.52      0.45      0.49     13617\n",
      "           2       0.71      0.80      0.75     39733\n",
      "           3       0.55      0.50      0.52     16624\n",
      "           4       0.51      0.39      0.44      4536\n",
      "\n",
      "    accuracy                           0.63     78030\n",
      "   macro avg       0.55      0.50      0.52     78030\n",
      "weighted avg       0.62      0.63      0.62     78030\n",
      "\n"
     ]
    }
   ],
   "source": [
    "# code6.13\n",
    "# 评估\n",
    "\n",
    "predictions = grid_search.predict(X_test)\n",
    "print('Accuracy: %s' % accuracy_score(y_test, predictions))\n",
    "print('Confusion Matrix:')\n",
    "print(confusion_matrix(y_test, predictions))\n",
    "print('Classification Report:')\n",
    "print(classification_report(y_test, predictions))"
   ]
  },
  {
   "cell_type": "code",
   "execution_count": 76,
   "metadata": {},
   "outputs": [
    {
     "name": "stdout",
     "output_type": "stream",
     "text": [
      "0.0\n",
      "1.0\n",
      "0.25\n",
      "0.75\n",
      "0.5\n",
      "0.5\n"
     ]
    }
   ],
   "source": [
    "# code6.14\n",
    "# 汉明损失与杰卡德相似系数 \n",
    "\n",
    "from sklearn.metrics import hamming_loss, jaccard_score\n",
    "\n",
    "arrayA = np.array([[0.0, 1.0], [1.0, 1.0]])\n",
    "arrayB = np.array([[0.0, 1.0], [1.0, 1.0]])\n",
    "print(hamming_loss(arrayA, arrayB))\n",
    "print(jaccard_score(arrayA, arrayB, average = 'macro'))\n",
    "\n",
    "arrayA = np.array([[0.0, 1.0], [1.0, 1.0]])\n",
    "arrayB = np.array([[1.0, 1.0], [1.0, 1.0]])\n",
    "print(hamming_loss(arrayA, arrayB))\n",
    "print(jaccard_score(arrayA, arrayB, average = 'macro'))\n",
    "\n",
    "arrayA = np.array([[0.0, 1.0], [1.0, 1.0]])\n",
    "arrayB = np.array([[1.0, 1.0], [0.0, 1.0]])\n",
    "print(hamming_loss(arrayA, arrayB))\n",
    "print(jaccard_score(arrayA, arrayB, average = 'macro'))"
   ]
  }
 ],
 "metadata": {
  "kernelspec": {
   "display_name": "Python 3",
   "language": "python",
   "name": "python3"
  },
  "language_info": {
   "codemirror_mode": {
    "name": "ipython",
    "version": 3
   },
   "file_extension": ".py",
   "mimetype": "text/x-python",
   "name": "python",
   "nbconvert_exporter": "python",
   "pygments_lexer": "ipython3",
   "version": "3.8.3"
  }
 },
 "nbformat": 4,
 "nbformat_minor": 4
}
