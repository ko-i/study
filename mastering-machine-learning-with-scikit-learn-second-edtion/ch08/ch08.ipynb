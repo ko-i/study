{
 "cells": [
  {
   "cell_type": "code",
   "execution_count": 1,
   "metadata": {},
   "outputs": [],
   "source": [
    "# 2020-10-19 created by Akson"
   ]
  },
  {
   "cell_type": "code",
   "execution_count": 3,
   "metadata": {},
   "outputs": [],
   "source": [
    "# code8.1\n",
    "\n",
    "import pandas as pd\n",
    "from sklearn.tree import DecisionTreeClassifier\n",
    "from sklearn.model_selection import train_test_split\n",
    "from sklearn.metrics import classification_report\n",
    "from sklearn.pipeline import Pipeline\n",
    "from sklearn.model_selection import GridSearchCV\n",
    "\n",
    "# 为了避免测试多次引入，就将本块代码拆分了"
   ]
  },
  {
   "cell_type": "code",
   "execution_count": 11,
   "metadata": {},
   "outputs": [
    {
     "name": "stdout",
     "output_type": "stream",
     "text": [
      "Fitting 5 folds for each of 18 candidates, totalling 90 fits\n"
     ]
    },
    {
     "name": "stderr",
     "output_type": "stream",
     "text": [
      "[Parallel(n_jobs=-1)]: Using backend LokyBackend with 8 concurrent workers.\n",
      "[Parallel(n_jobs=-1)]: Done  34 tasks      | elapsed:    5.0s\n",
      "[Parallel(n_jobs=-1)]: Done  90 out of  90 | elapsed:    7.7s finished\n"
     ]
    },
    {
     "name": "stdout",
     "output_type": "stream",
     "text": [
      "Best score: 0.885\n",
      "Best parameters set:\n",
      "\tclf__max_depth: 150\n",
      "\tclf__min_samples_leaf: 1\n",
      "\tclf__min_samples_split: 3\n",
      "              precision    recall  f1-score   support\n",
      "\n",
      "           0       0.98      0.99      0.99       704\n",
      "           1       0.94      0.90      0.92       116\n",
      "\n",
      "    accuracy                           0.98       820\n",
      "   macro avg       0.96      0.94      0.95       820\n",
      "weighted avg       0.98      0.98      0.98       820\n",
      "\n"
     ]
    }
   ],
   "source": [
    "# 接上\n",
    "\n",
    "df = pd.read_csv('./ad.data', header = None)\n",
    "\n",
    "# 获得数据集除了最后一列的数据, 作为解释变量\n",
    "explanatory_variable_columns = set(df.columns.values)\n",
    "# print(explanatory_variable_columns)\n",
    "explanatory_variable_columns.remove(len(df.columns.values) - 1)\n",
    "# print(explanatory_variable_columns)\n",
    "\n",
    "# 获得数据集最后一列数据作为应答变量\n",
    "response_variable_column = df[len(df.columns.values) - 1]\n",
    "\n",
    "# 转换为二值标签数据，1表示是广告，0表示其它\n",
    "y = [1 if e == 'ad.' else 0 for e in response_variable_column]\n",
    "X = df[list(explanatory_variable_columns)].copy()\n",
    "\n",
    "X.replace(to_replace = ' *?', value = -1, regex = True, inplace = True)\n",
    "X_train, X_test, y_train, y_test = train_test_split(X, y)\n",
    "\n",
    "pipeline = Pipeline([\n",
    "    ('clf', DecisionTreeClassifier(criterion = 'entropy'))\n",
    "])\n",
    "\n",
    "parameters = {\n",
    "    'clf__max_depth': (150, 155, 160),\n",
    "    'clf__min_samples_split': (2, 3),\n",
    "    'clf__min_samples_leaf': (1, 2, 3)\n",
    "}\n",
    "\n",
    "grid_search = GridSearchCV(pipeline, parameters, n_jobs = -1, verbose = 1, scoring = 'f1')\n",
    "grid_search.fit(X_train, y_train)\n",
    "\n",
    "best_parameters = grid_search.best_estimator_.get_params()\n",
    "print('Best score: %0.3f' % grid_search.best_score_)\n",
    "print('Best parameters set:')\n",
    "for param_name in sorted(parameters.keys()):\n",
    "    print('\\t%s: %r' % (param_name, best_parameters[param_name]))\n",
    "\n",
    "predictions = grid_search.predict(X_test)\n",
    "print(classification_report(y_test, predictions))"
   ]
  }
 ],
 "metadata": {
  "kernelspec": {
   "display_name": "Python 3",
   "language": "python",
   "name": "python3"
  },
  "language_info": {
   "codemirror_mode": {
    "name": "ipython",
    "version": 3
   },
   "file_extension": ".py",
   "mimetype": "text/x-python",
   "name": "python",
   "nbconvert_exporter": "python",
   "pygments_lexer": "ipython3",
   "version": "3.8.3"
  }
 },
 "nbformat": 4,
 "nbformat_minor": 4
}
