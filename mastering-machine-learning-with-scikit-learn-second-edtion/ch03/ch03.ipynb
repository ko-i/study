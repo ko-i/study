{
 "cells": [
  {
   "cell_type": "code",
   "execution_count": 1,
   "metadata": {},
   "outputs": [],
   "source": [
    "# 2020-10-17 created by Akson"
   ]
  },
  {
   "cell_type": "code",
   "execution_count": 3,
   "metadata": {},
   "outputs": [
    {
     "data": {
      "image/png": "[encoded data removed]",
      "text/plain": [
       "<Figure size 432x288 with 1 Axes>"
      ]
     },
     "metadata": {
      "needs_background": "light"
     },
     "output_type": "display_data"
    }
   ],
   "source": [
    "# code3.1\n",
    "\n",
    "import numpy as np\n",
    "import matplotlib.pyplot as plt\n",
    "\n",
    "X_train = np.array([[158, 64], [170, 86], [183, 84], [191, 80], [155, 49], [163, 59], [180, 67], [158,54], [170, 67]])\n",
    "y_train = ['male', 'male', 'male', 'male', 'female', 'female', 'female', 'female', 'female']\n",
    "\n",
    "plt.figure()\n",
    "plt.title('Human heights and weights by sex')\n",
    "plt.xlabel('height in cm')\n",
    "plt.ylabel('weight in kg')\n",
    "\n",
    "for i, x in enumerate(X_train):\n",
    "    plt.scatter(x[0], x[1], c = 'k', marker = 'x' if y_train[i] == 'male' else 'D')\n",
    "\n",
    "plt.grid(True)\n",
    "plt.show()"
   ]
  },
  {
   "cell_type": "code",
   "execution_count": 15,
   "metadata": {},
   "outputs": [
    {
     "name": "stdout",
     "output_type": "stream",
     "text": [
      "[ 6.70820393 21.9317122  31.30495168 37.36308338 21.         13.60147051\n",
      " 25.17935662 16.2788206  15.29705854]\n",
      "['male' 'female' 'female']\n"
     ]
    },
    {
     "data": {
      "text/plain": [
       "'female'"
      ]
     },
     "execution_count": 15,
     "metadata": {},
     "output_type": "execute_result"
    }
   ],
   "source": [
    "# code3.2\n",
    "# 手动实现KNN算法\n",
    "\n",
    "x = np.array([[155, 70]])\n",
    "distances = np.sqrt(np.sum((X_train - x) ** 2, axis = 1))\n",
    "print(distances)\n",
    "\n",
    "nearest_neighbor_indices = distances.argsort()[: 3]\n",
    "# print(nearest_neighbor_indices)\n",
    "nearest_neighbor_genders = np.take(y_train, nearest_neighbor_indices)\n",
    "print(nearest_neighbor_genders)\n",
    "\n",
    "from collections import Counter\n",
    "b = Counter(nearest_neighbor_genders)\n",
    "b.most_common(1)[0][0]"
   ]
  },
  {
   "cell_type": "code",
   "execution_count": 27,
   "metadata": {},
   "outputs": [
    {
     "name": "stdout",
     "output_type": "stream",
     "text": [
      "[[1]\n",
      " [1]\n",
      " [1]\n",
      " [1]\n",
      " [0]\n",
      " [0]\n",
      " [0]\n",
      " [0]\n",
      " [0]]\n",
      "['female']\n"
     ]
    }
   ],
   "source": [
    "# code3.3\n",
    "# 使用scikit-learn实现KNN\n",
    "\n",
    "from sklearn.preprocessing import LabelBinarizer\n",
    "from sklearn.neighbors import KNeighborsClassifier\n",
    "\n",
    "# 将‘male’与‘female’转换为二值的‘1’和‘0’\n",
    "lb = LabelBinarizer()\n",
    "y_train_binarized = lb.fit_transform(y_train)\n",
    "print(y_train_binarized)\n",
    "\n",
    "K = 3\n",
    "clf = KNeighborsClassifier(n_neighbors = K)\n",
    "clf.fit(X_train, y_train_binarized.reshape(-1))  # 这里用reshape(-1)是为了将原本的二维向量变成一维的\n",
    "# print(y_train_binarized.reshape(-1))\n",
    "prediction_binarized = clf.predict(np.array([155, 70]).reshape(1, -1)) # 注意预测结果都是array，如果测试数据只有一个的话，记得要取[0]索引，也可不加\n",
    "\n",
    "# 这里还需要将二值0，1的结果转换为‘male’和‘female’\n",
    "prediction_label = lb.inverse_transform(prediction_binarized)\n",
    "print(prediction_label)"
   ]
  },
  {
   "cell_type": "code",
   "execution_count": 34,
   "metadata": {},
   "outputs": [
    {
     "name": "stdout",
     "output_type": "stream",
     "text": [
      "Binarized labels: [1 1 0 0]\n",
      "Binarized predictions: [0 1 0 0]\n",
      "Predicted labels: ['female' 'male' 'female' 'female']\n"
     ]
    }
   ],
   "source": [
    "# code3.4\n",
    "# 使用测试数据集来测试KNN\n",
    "\n",
    "X_test = np.array([[168, 65], [180, 96], [160, 52], [169, 67]])\n",
    "y_test = ['male', 'male', 'female', 'female']\n",
    "y_test_binarized = lb.transform(y_test)\n",
    "print('Binarized labels: %s' % y_test_binarized.T[0])\n",
    "predictions_binarized = clf.predict(X_test)\n",
    "print('Binarized predictions: %s' % predictions_binarized)\n",
    "print('Predicted labels: %s' % lb.inverse_transform(predictions_binarized))"
   ]
  },
  {
   "cell_type": "code",
   "execution_count": 35,
   "metadata": {},
   "outputs": [
    {
     "name": "stdout",
     "output_type": "stream",
     "text": [
      "Accuracy: 0.75\n"
     ]
    }
   ],
   "source": [
    "# code3.5\n",
    "# 测试准确率\n",
    "\n",
    "from sklearn.metrics import accuracy_score\n",
    "\n",
    "print('Accuracy: %s' % accuracy_score(y_test_binarized, predictions_binarized))"
   ]
  },
  {
   "cell_type": "code",
   "execution_count": 36,
   "metadata": {},
   "outputs": [
    {
     "name": "stdout",
     "output_type": "stream",
     "text": [
      "Precision: 1.0\n"
     ]
    }
   ],
   "source": [
    "# code3.6\n",
    "# 测试精确率（真阳 / 真阳 + 假阳）（这个例子可男可女，但现在是把1当男，所以男作阳性）\n",
    "\n",
    "from sklearn.metrics import precision_score\n",
    "\n",
    "print('Precision: %s' % precision_score(y_test_binarized, predictions_binarized))"
   ]
  },
  {
   "cell_type": "code",
   "execution_count": 37,
   "metadata": {},
   "outputs": [
    {
     "name": "stdout",
     "output_type": "stream",
     "text": [
      "Recall: 0.5\n"
     ]
    }
   ],
   "source": [
    "# code3.7\n",
    "# 测试召回率（真阳 / 真阳 + 假阴）\n",
    "\n",
    "from sklearn.metrics import recall_score\n",
    "\n",
    "print('Recall: %s' % recall_score(y_test_binarized, predictions_binarized))"
   ]
  },
  {
   "cell_type": "code",
   "execution_count": 38,
   "metadata": {},
   "outputs": [
    {
     "name": "stdout",
     "output_type": "stream",
     "text": [
      "F1 score: 0.6666666666666666\n"
     ]
    }
   ],
   "source": [
    "# code3.8\n",
    "# 测试F1得分（精准率与召回率的调和平均值）\n",
    "\n",
    "from sklearn.metrics import f1_score\n",
    "\n",
    "print('F1 score: %s' % f1_score(y_test_binarized, predictions_binarized))"
   ]
  },
  {
   "cell_type": "code",
   "execution_count": 39,
   "metadata": {},
   "outputs": [
    {
     "name": "stdout",
     "output_type": "stream",
     "text": [
      "Matthews corrcoef: 0.5773502691896258\n"
     ]
    }
   ],
   "source": [
    "# code3.9\n",
    "# 测试马修斯相关系数（MCC）\n",
    "\n",
    "from sklearn.metrics import matthews_corrcoef\n",
    "\n",
    "print('Matthews corrcoef: %s' % matthews_corrcoef(y_test_binarized, predictions_binarized))"
   ]
  },
  {
   "cell_type": "code",
   "execution_count": 44,
   "metadata": {},
   "outputs": [
    {
     "name": "stdout",
     "output_type": "stream",
     "text": [
      "              precision    recall  f1-score   support\n",
      "\n",
      "        male       1.00      0.50      0.67         2\n",
      "\n",
      "   micro avg       1.00      0.50      0.67         2\n",
      "   macro avg       1.00      0.50      0.67         2\n",
      "weighted avg       1.00      0.50      0.67         2\n",
      "\n"
     ]
    }
   ],
   "source": [
    "# code3.10\n",
    "# 测试的分类评分报告（精准率，召回率，F1得分）\n",
    "\n",
    "from sklearn.metrics import classification_report\n",
    "\n",
    "# 对男性测试评分结果\n",
    "print(classification_report(y_test_binarized, predictions_binarized, target_names = ['male'], labels = [1]))\n",
    "# 对女性测试评分结果\n",
    "# print(classification_report(y_test_binarized, predictions_binarized, target_names = ['female'], labels = [0]))\n",
    "# 对男女一起的评分结果\n",
    "# print(classification_report(y_test_binarized, predictions_binarized, target_names = ['male', 'female'], labels = [1, 0]))"
   ]
  },
  {
   "cell_type": "code",
   "execution_count": 46,
   "metadata": {},
   "outputs": [
    {
     "name": "stdout",
     "output_type": "stream",
     "text": [
      "Predicted weights: [70.66666667 79.         59.         70.66666667]\n",
      "Coefficient of determination: 0.6290565226735438\n",
      "Mean absolute error: 8.333333333333336\n",
      "Mean squared error: 95.8888888888889\n"
     ]
    }
   ],
   "source": [
    "# code3.11\n",
    "# 回归模型测试，已知身高和性别，预测体重\n",
    "\n",
    "from sklearn.neighbors import KNeighborsRegressor\n",
    "from sklearn.metrics import mean_absolute_error, mean_squared_error, r2_score\n",
    "\n",
    "X_train = np.array([[158, 1], [170, 1], [183, 1], [191, 1], [155, 0], [163, 0], [180, 0], [158, 0], [170, 0]])\n",
    "y_train = [64, 86, 84, 80, 49, 59, 67, 54, 67]\n",
    "\n",
    "X_test = np.array([[168, 1], [180, 1], [160, 0], [169, 0]])\n",
    "y_test = [65, 96, 52, 67]\n",
    "\n",
    "K = 3\n",
    "clf = KNeighborsRegressor(n_neighbors = K)\n",
    "clf.fit(X_train, y_train)\n",
    "predictions = clf.predict(X_test)\n",
    "print('Predicted weights: %s' % predictions)\n",
    "print('Coefficient of determination: %s' % r2_score(y_test, predictions))\n",
    "print('Mean absolute error: %s' % mean_absolute_error(y_test, predictions))\n",
    "print('Mean squared error: %s' % mean_squared_error(y_test, predictions))"
   ]
  },
  {
   "cell_type": "code",
   "execution_count": 48,
   "metadata": {},
   "outputs": [
    {
     "name": "stdout",
     "output_type": "stream",
     "text": [
      "6.0\n",
      "4.123105625617661\n",
      "0.06000000000000005\n",
      "1.0007996802557442\n"
     ]
    }
   ],
   "source": [
    "# code3.12\n",
    "# 数据取值的不同范围的影响\n",
    "from scipy.spatial.distance import euclidean\n",
    "\n",
    "# 当身高单位为厘米时\n",
    "X_train = np.array([[170, 1], [160, 0]])\n",
    "x_test = np.array([164, 1]).reshape(1, -1)\n",
    "print(euclidean(X_train[0, :], x_test))\n",
    "print(euclidean(X_train[1, :], x_test))\n",
    "\n",
    "\n",
    "# 当身高单位为米时\n",
    "X_train = np.array([[1.7, 1], [1.6, 0]])\n",
    "x_test = np.array([1.64, 1]).reshape(1, -1)\n",
    "print(euclidean(X_train[0, :], x_test))\n",
    "print(euclidean(X_train[1, :], x_test))"
   ]
  },
  {
   "cell_type": "code",
   "execution_count": 52,
   "metadata": {},
   "outputs": [
    {
     "name": "stdout",
     "output_type": "stream",
     "text": [
      "[[158   1]\n",
      " [170   1]\n",
      " [183   1]\n",
      " [191   1]\n",
      " [155   0]\n",
      " [163   0]\n",
      " [180   0]\n",
      " [158   0]\n",
      " [170   0]]\n",
      "[[-0.9908706   1.11803399]\n",
      " [ 0.01869567  1.11803399]\n",
      " [ 1.11239246  1.11803399]\n",
      " [ 1.78543664  1.11803399]\n",
      " [-1.24326216 -0.89442719]\n",
      " [-0.57021798 -0.89442719]\n",
      " [ 0.86000089 -0.89442719]\n",
      " [-0.9908706  -0.89442719]\n",
      " [ 0.01869567 -0.89442719]]\n",
      "Predicted weights: [78.         83.33333333 54.         64.33333333]\n",
      "Coefficient of determination: 0.6706425961745109\n",
      "Mean absolute error: 7.583333333333336\n",
      "Mean squared error: 85.13888888888893\n"
     ]
    }
   ],
   "source": [
    "# code3.13\n",
    "# 特征的标准化转换\n",
    "\n",
    "from sklearn.preprocessing import StandardScaler\n",
    "\n",
    "X_train = np.array([[158, 1], [170, 1], [183, 1], [191, 1], [155, 0], [163, 0], [180, 0], [158, 0], [170, 0]])\n",
    "y_train = [64, 86, 84, 80, 49, 59, 67, 54, 67]\n",
    "ss = StandardScaler()\n",
    "X_train_scaled = ss.fit_transform(X_train)\n",
    "\n",
    "print(X_train)\n",
    "print(X_train_scaled)\n",
    "\n",
    "X_test = np.array([[168, 1], [180, 1], [160, 0], [169, 0]])\n",
    "y_test = [65, 96, 52, 67]\n",
    "X_test_scaled = ss.transform(X_test)\n",
    "\n",
    "clf.fit(X_train_scaled, y_train)\n",
    "predictions = clf.predict(X_test_scaled)\n",
    "\n",
    "print('Predicted weights: %s' % predictions)\n",
    "print('Coefficient of determination: %s' % r2_score(y_test, predictions))\n",
    "print('Mean absolute error: %s' % mean_absolute_error(y_test, predictions))\n",
    "print('Mean squared error: %s' % mean_squared_error(y_test, predictions))"
   ]
  },
  {
   "cell_type": "code",
   "execution_count": null,
   "metadata": {},
   "outputs": [],
   "source": []
  }
 ],
 "metadata": {
  "kernelspec": {
   "display_name": "Python 3",
   "language": "python",
   "name": "python3"
  },
  "language_info": {
   "codemirror_mode": {
    "name": "ipython",
    "version": 3
   },
   "file_extension": ".py",
   "mimetype": "text/x-python",
   "name": "python",
   "nbconvert_exporter": "python",
   "pygments_lexer": "ipython3",
   "version": "3.8.3"
  }
 },
 "nbformat": 4,
 "nbformat_minor": 4
}
