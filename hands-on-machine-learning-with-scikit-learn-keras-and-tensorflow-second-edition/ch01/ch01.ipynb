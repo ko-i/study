{
  "nbformat": 4,
  "nbformat_minor": 0,
  "metadata": {
    "kernelspec": {
      "display_name": "Python 3",
      "language": "python",
      "name": "python3"
    },
    "language_info": {
      "codemirror_mode": {
        "name": "ipython",
        "version": 3
      },
      "file_extension": ".py",
      "mimetype": "text/x-python",
      "name": "python",
      "nbconvert_exporter": "python",
      "pygments_lexer": "ipython3",
      "version": "3.8.3"
    },
    "colab": {
      "name": "ch01.ipynb",
      "provenance": []
    }
  },
  "cells": [
    {
      "cell_type": "code",
      "metadata": {
        "id": "mB_Hjqh6M6cE"
      },
      "source": [
        "# 2020-10-21 created by Akson\n",
        "# 2021-01-10 edit"
      ],
      "execution_count": null,
      "outputs": []
    },
    {
      "cell_type": "code",
      "metadata": {
        "id": "JCeita5WM6cL"
      },
      "source": [
        "# Code1-1\n",
        "# 本书第一段代码，预测塞浦路斯人有多幸福\n",
        "\n",
        "# 引入基本的依赖包\n",
        "import numpy as np\n",
        "import pandas as pd\n",
        "import matplotlib.pyplot as plt\n",
        "\n",
        "# 引入所需要的模型包\n",
        "from sklearn.linear_model import LinearRegression  # 线性回归\n",
        "from sklearn.neighbors import KNeighborsRegressor  # KNN"
      ],
      "execution_count": null,
      "outputs": []
    },
    {
      "cell_type": "code",
      "metadata": {
        "id": "uRBcrQZCM6cM"
      },
      "source": [
        "# Code1-2\n",
        "# 加载数据\n",
        "\n",
        "# 这里使用了放在google硬盘里的数据\n",
        "oecd_bli = pd.read_csv('/content/drive/MyDrive/datasets/lifesat/oecd_bli_2015.csv', thousands = ',')\n",
        "gdp_per_capita = pd.read_csv('/content/drive/MyDrive/datasets/lifesat/gdp_per_capita.csv', thousands = ',', delimiter = '\\t', encoding = 'latin1', na_values = 'n/a')"
      ],
      "execution_count": null,
      "outputs": []
    },
    {
      "cell_type": "code",
      "metadata": {
        "id": "LhId5h_YM6cM"
      },
      "source": [
        "# Code1-3\n",
        "# 数据准备工作\n",
        "\n",
        "# 从两组数据中分别提取出GDP，幸福指数与其对应的国家信息\n",
        "def prepare_country_states(oecd_bli, gdp_per_capita):\n",
        "    # print(oecd_bli)\n",
        "    # print(gdp_per_capita)\n",
        "    oecd_bli = oecd_bli[oecd_bli['INEQUALITY'] == 'TOT']\n",
        "    # print(oecd_bli)\n",
        "    oecd_bli = oecd_bli.pivot(index = 'Country', columns = 'Indicator', values = 'Value')\n",
        "    gdp_per_capita.rename(columns = {'2015': 'GDP per capita'}, inplace = True)\n",
        "    # print(gdp_per_capita.index)\n",
        "    gdp_per_capita.set_index('Country', inplace = True)  # 有时会发生加载的数据本来就是以Country作为索引的情况，所以这行得视情况注释\n",
        "    \n",
        "    full_country_stats = pd.merge(left = oecd_bli, right = gdp_per_capita, left_index = True, right_index = True)\n",
        "    full_country_stats.sort_values(by = 'GDP per capita', inplace = True)\n",
        "    remove_indices = [0, 1, 6, 8, 33, 34, 35]\n",
        "    keep_indices = list(set(range(36)) - set(remove_indices))\n",
        "    \n",
        "    # print(full_country_stats[['GDP per capita', 'Life satisfaction']].iloc[keep_indices])\n",
        "    return full_country_stats[['GDP per capita', 'Life satisfaction']].iloc[keep_indices]\n"
      ],
      "execution_count": null,
      "outputs": []
    },
    {
      "cell_type": "code",
      "metadata": {
        "id": "EO054JNWM6cN"
      },
      "source": [
        "# Code1-4\n",
        "# 数据准备工作\n",
        "\n",
        "country_stats = prepare_country_states(oecd_bli, gdp_per_capita)\n",
        "\n",
        "# 将数据拆分为适合训练模型的形式（n行m（这里是1）列）\n",
        "# 这是书上的写法\n",
        "# X_train = np.c_[country_stats['GDP per capita']]\n",
        "# y_train = np.c_[country_stats['Life satisfaction']]\n",
        "# 这是我自己的写法\n",
        "X_train = np.array(country_stats['GDP per capita']).reshape((-1, 1))\n",
        "y_train = np.array(country_stats['Life satisfaction']).reshape((-1, 1))\n",
        "\n",
        "# 这里也可以把对应的国家名称也变成numpy数组的形式\n",
        "country_name = np.array(country_stats.index)"
      ],
      "execution_count": null,
      "outputs": []
    },
    {
      "cell_type": "code",
      "metadata": {
        "id": "XwhpSw3XM6cN"
      },
      "source": [
        "# Code1-5\n",
        "# 将获得的数据可视化\n",
        "\n",
        "country_stats.plot(kind = 'scatter', x = 'GDP per capita', y = 'Life satisfaction')\n",
        "plt.show()"
      ],
      "execution_count": null,
      "outputs": []
    },
    {
      "cell_type": "code",
      "metadata": {
        "id": "5J81I1L5M6cO"
      },
      "source": [
        "# Code1-6\n",
        "# 选择一种模型并且训练它，不，我还是两种模型都试试吧！\n",
        "\n",
        "model_LR = LinearRegression()\n",
        "model_KNN = KNeighborsRegressor()\n",
        "\n",
        "model_LR.fit(X_train, y_train)\n",
        "model_KNN.fit(X_train, y_train)\n",
        "\n",
        "# 这个是待预测塞浦路斯人GDP数据\n",
        "X_test = [[22587]]\n",
        "\n",
        "print('Life satisfaction with LR: %s' % model_LR.predict(X_test))\n",
        "print('Life satisfaction with KNN: %s' % model_KNN.predict(X_test))\n",
        "\n",
        "# 从结果中可以看出，用LR预测幸福指数是比较高的，以后我们就多用LR"
      ],
      "execution_count": null,
      "outputs": []
    }
  ]
}