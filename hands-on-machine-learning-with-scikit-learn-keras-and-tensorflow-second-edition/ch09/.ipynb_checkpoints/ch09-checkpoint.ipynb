{
 "cells": [
  {
   "cell_type": "code",
   "execution_count": null,
   "metadata": {},
   "outputs": [],
   "source": [
    "# 2020-10-25 created by Akson"
   ]
  },
  {
   "cell_type": "code",
   "execution_count": null,
   "metadata": {},
   "outputs": [],
   "source": [
    "# Code9.1\n",
    "# 准备数据\n",
    "\n",
    "import numpy as np\n",
    "import matplotlib.pyplot as plt\n",
    "from sklearn.datasets import make_blobs\n",
    "\n",
    "blob_centers = np.array(\n",
    "    [[ 0.2,  2.3],\n",
    "     [-1.5 ,  2.3],\n",
    "     [-2.8,  1.8],\n",
    "     [-2.8,  2.8],\n",
    "     [-2.8,  1.3]])\n",
    "blob_std = np.array([0.4, 0.3, 0.1, 0.1, 0.1])\n",
    "\n",
    "X, y = make_blobs(n_samples = 2000, centers = blob_centers, cluster_std = blob_std, random_state = 7)\n",
    "\n",
    "plt.scatter(X[:, 0], X[:, 1], c = y, s = 1)\n",
    "plt.show()"
   ]
  },
  {
   "cell_type": "code",
   "execution_count": null,
   "metadata": {},
   "outputs": [],
   "source": [
    "# Code9.2\n",
    "# 使用K-means聚类\n",
    "\n",
    "from sklearn.cluster import KMeans\n",
    "\n",
    "k = 5\n",
    "kmeans = KMeans(n_clusters = k)\n",
    "y_pred = kmeans.fit_predict(X)\n",
    "\n",
    "print(y_pred)\n",
    "print(y_pred is kmeans.labels_)\n",
    "print(kmeans.cluster_centers_)\n",
    "print()"
   ]
  },
  {
   "cell_type": "code",
   "execution_count": null,
   "metadata": {},
   "outputs": [],
   "source": [
    "# Code9.3\n",
    "# 使用小批量k-means\n",
    "\n",
    "from sklearn.cluster import MiniBatchKMeans\n",
    "\n",
    "minibatch_kmeans = MiniBatchKMeans(n_clusters = 5)\n",
    "minibatch_kmeans.fit(X)"
   ]
  },
  {
   "cell_type": "code",
   "execution_count": null,
   "metadata": {},
   "outputs": [],
   "source": [
    "# Code9.4\n",
    "# 引入图片素材\n",
    "\n",
    "from matplotlib.image import imread\n",
    "\n",
    "image = imread('../image/ladybug/ladybug.png')\n",
    "plt.imshow(image)\n",
    "plt.show()\n",
    "print(image.shape)"
   ]
  },
  {
   "cell_type": "code",
   "execution_count": null,
   "metadata": {},
   "outputs": [],
   "source": [
    "# Code9.5\n",
    "# 使用K-means压缩图像\n",
    "\n",
    "X = image.reshape(-1, 3)\n",
    "kmeans = KMeans(n_clusters = 5).fit(X)\n",
    "segmented_img = kmeans.cluster_centers_[kmeans.labels_]\n",
    "segmented_img = segmented_img.reshape(image.shape)\n",
    "\n",
    "plt.imshow(segmented_img)\n",
    "plt.show()"
   ]
  },
  {
   "cell_type": "code",
   "execution_count": null,
   "metadata": {},
   "outputs": [],
   "source": [
    "# Code9.6\n",
    "# 运用kmeans预处理数据\n",
    "\n",
    "from sklearn.datasets import load_digits\n",
    "from sklearn.model_selection import train_test_split\n",
    "\n",
    "X_digits, y_digits = load_digits(return_X_y = True)\n",
    "X_train, X_test, y_train, y_test = train_test_split(X_digits, y_digits)"
   ]
  },
  {
   "cell_type": "code",
   "execution_count": null,
   "metadata": {},
   "outputs": [],
   "source": [
    "# Code9.7\n",
    "# 与传统逻辑回归方法对比\n",
    "\n",
    "from sklearn.linear_model import LogisticRegression\n",
    "from sklearn.pipeline import Pipeline\n",
    "\n",
    "log_reg = LogisticRegression(multi_class = \"ovr\", solver = \"lbfgs\", max_iter = 5000, random_state = 42)\n",
    "log_reg.fit(X_train, y_train)\n",
    "print('Logistic score: %s' % log_reg.score(X_test, y_test))\n",
    "\n",
    "pipeline = Pipeline([\n",
    "    ('kmeans', KMeans(n_clusters = 50)),\n",
    "    ('log_reg', LogisticRegression(multi_class = \"ovr\", solver = \"lbfgs\", max_iter = 5000, random_state = 42)),\n",
    "])\n",
    "\n",
    "pipeline.fit(X_train, y_train)\n",
    "print('With kmeans score: %s' % pipeline.score(X_test, y_test))\n"
   ]
  },
  {
   "cell_type": "code",
   "execution_count": null,
   "metadata": {},
   "outputs": [],
   "source": [
    "# Code9.8\n",
    "# 寻找最优聚类数\n",
    "\n",
    "from sklearn.model_selection import GridSearchCV\n",
    "\n",
    "param_grid = dict(kmeans__n_clusters = range(2, 100))\n",
    "grid_clf = GridSearchCV(pipeline, param_grid, cv = 3, verbose = 2, n_jobs = -1)\n",
    "grid_clf.fit(X_train, y_train)\n",
    "\n",
    "print(grid_clf.best_params_)\n",
    "print(grid_clf.score(X_test, y_test))"
   ]
  },
  {
   "cell_type": "code",
   "execution_count": null,
   "metadata": {},
   "outputs": [],
   "source": [
    "# Code9.9\n",
    "# 使用半监督学习\n",
    "\n",
    "# 只用前五十个数据\n",
    "n_labeled = 50\n",
    "log_reg = LogisticRegression(multi_class = \"ovr\", solver = \"lbfgs\", max_iter = 5000, random_state = 42)\n",
    "log_reg.fit(X_train[:n_labeled], y_train[:n_labeled])\n",
    "print('Only use 50 digit to train: %s' % log_reg.score(X_test, y_test))\n",
    "\n",
    "# 将数据分成50个聚类\n",
    "k = 50\n",
    "kmeans = KMeans(n_clusters = k, random_state = 42)\n",
    "X_digits_dist = kmeans.fit_transform(X_train)\n",
    "# print(X_train[0, 2])\n",
    "# print(X_digits_dist.shape)\n",
    "representative_digit_idx = np.argmin(X_digits_dist, axis = 0)\n",
    "X_representative_digits = X_train[representative_digit_idx]\n",
    "\n",
    "plt.figure(figsize=(8, 2))\n",
    "for index, X_representative_digit in enumerate(X_representative_digits):\n",
    "    plt.subplot(k // 10, 10, index + 1)\n",
    "    plt.imshow(X_representative_digit.reshape(8, 8), cmap=\"binary\", interpolation=\"bilinear\")\n",
    "    plt.axis('off')\n",
    "plt.show()\n",
    "\n",
    "# 根据选出的代表图片人工标记\n",
    "y_representative_digits = np.array([\n",
    "    8, 0, 3, 1, 6, 7, 4, 2, 2, 9,\n",
    "    4, 9, 2, 5, 5, 7, 4, 2, 1, 8, \n",
    "    9, 6, 1, 4, 2, 3, 3, 5, 9, 8,\n",
    "    5, 7, 7, 9, 9, 9, 4, 3, 8, 4,\n",
    "    3, 0, 7, 5, 0, 6, 6, 7, 1, 8\n",
    "])\n",
    "\n",
    "log_reg = LogisticRegression(multi_class = \"ovr\", solver = \"lbfgs\", max_iter = 5000, random_state = 42)\n",
    "log_reg.fit(X_representative_digits, y_representative_digits)\n",
    "print('with kmeans labeld: %s' % log_reg.score(X_test, y_test))\n",
    "\n",
    "# 标签传播\n",
    "y_train_propagated = np.empty(len(X_train), dtype = np.int32)\n",
    "for i in range(k):\n",
    "    y_train_propagated[kmeans.labels_ == i] = y_representative_digits[i]\n",
    "    \n",
    "log_reg = LogisticRegression(multi_class = \"ovr\", solver = \"lbfgs\", max_iter = 5000, random_state = 42)\n",
    "log_reg.fit(X_train, y_train_propagated)\n",
    "print('with kmeans propagated: %s' % log_reg.score(X_test, y_test))"
   ]
  },
  {
   "cell_type": "code",
   "execution_count": null,
   "metadata": {},
   "outputs": [],
   "source": [
    "# Code9.10\n",
    "# DBSCAN\n",
    "\n",
    "from sklearn.cluster import DBSCAN\n",
    "from sklearn.datasets import make_moons\n",
    "\n",
    "X, y = make_moons(n_samples = 1000, noise = 0.05)\n",
    "dbscan = DBSCAN(eps = 0.2, min_samples = 5)\n",
    "dbscan.fit(X)\n",
    "\n",
    "print(dbscan.labels_)\n",
    "print(len(dbscan.core_sample_indices_))\n",
    "# print(dbscan.core_sample_indices_)\n",
    "print(dbscan.components_)\n",
    "\n"
   ]
  },
  {
   "cell_type": "code",
   "execution_count": null,
   "metadata": {},
   "outputs": [],
   "source": [
    "# Code9.11\n",
    "# 数据准备\n",
    "\n",
    "X1, y1 = make_blobs(n_samples = 1000, centers = ((4, -4), (0, 0)), random_state = 42)\n",
    "X1 = X1.dot(np.array([[0.374, 0.95], [0.732, 0.598]]))\n",
    "X2, y2 = make_blobs(n_samples = 250, centers = 1, random_state = 42)\n",
    "X2 = X2 + [6, -8]\n",
    "X = np.r_[X1, X2]\n",
    "y = np.r_[y1, y2]"
   ]
  },
  {
   "cell_type": "code",
   "execution_count": null,
   "metadata": {},
   "outputs": [],
   "source": [
    "# Code9.12\n",
    "# 高斯混合模型\n",
    "\n",
    "from sklearn.mixture import GaussianMixture\n",
    "\n",
    "gm = GaussianMixture(n_components = 3, n_init = 10)\n",
    "gm.fit(X)\n",
    "\n",
    "# 基于高式混合模型输出的权重\n",
    "print(gm.weights_)\n",
    "print(gm.means_)\n",
    "print(gm.covariances_)\n",
    "\n",
    "# 检查算法是否收敛\n",
    "print(gm.converged_)\n",
    "# 迭代次数\n",
    "print(gm.n_iter_)\n",
    "# 对原数据集聚类（硬）\n",
    "print(gm.predict(X))\n",
    "# 对原数据集聚类（软）\n",
    "print(gm.predict_proba(X))\n",
    "\n",
    "# 可以使用这个模型来生成新实例\n",
    "X_new, y_new = gm.sample(6)\n",
    "print(X_new)\n",
    "print(y_new)"
   ]
  },
  {
   "cell_type": "code",
   "execution_count": null,
   "metadata": {},
   "outputs": [],
   "source": [
    "# Code9.13\n",
    "# 异常值检测\n",
    "\n",
    "densities = gm.score_samples(X)\n",
    "print(densities)\n",
    "density_threshold = np.percentile(densities, 4)\n",
    "print(density_threshold)\n",
    "anomalies = X[densities < density_threshold]\n",
    "print(anomalies)"
   ]
  },
  {
   "cell_type": "code",
   "execution_count": null,
   "metadata": {},
   "outputs": [],
   "source": [
    "# Code9.14\n",
    "\n",
    "print(gm.bic(X))\n",
    "print(gm.aic(X))"
   ]
  },
  {
   "cell_type": "code",
   "execution_count": null,
   "metadata": {},
   "outputs": [],
   "source": [
    "# Code9.15\n",
    "# 使用贝叶斯高斯混合模型\n",
    "\n",
    "from sklearn.mixture import BayesianGaussianMixture\n",
    "\n",
    "bgm = BayesianGaussianMixture(n_components = 10, n_init = 10)\n",
    "bgm.fit(X)\n",
    "\n",
    "print(np.round(bgm.weights_, 2))"
   ]
  }
 ],
 "metadata": {
  "kernelspec": {
   "display_name": "Python 3",
   "language": "python",
   "name": "python3"
  },
  "language_info": {
   "codemirror_mode": {
    "name": "ipython",
    "version": 3
   },
   "file_extension": ".py",
   "mimetype": "text/x-python",
   "name": "python",
   "nbconvert_exporter": "python",
   "pygments_lexer": "ipython3",
   "version": "3.8.3"
  }
 },
 "nbformat": 4,
 "nbformat_minor": 4
}
