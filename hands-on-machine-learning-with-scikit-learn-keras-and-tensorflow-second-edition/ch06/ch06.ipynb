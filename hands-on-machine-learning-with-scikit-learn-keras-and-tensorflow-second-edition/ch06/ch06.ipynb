{
  "nbformat": 4,
  "nbformat_minor": 0,
  "metadata": {
    "kernelspec": {
      "display_name": "Python 3",
      "language": "python",
      "name": "python3"
    },
    "language_info": {
      "codemirror_mode": {
        "name": "ipython",
        "version": 3
      },
      "file_extension": ".py",
      "mimetype": "text/x-python",
      "name": "python",
      "nbconvert_exporter": "python",
      "pygments_lexer": "ipython3",
      "version": "3.8.3"
    },
    "colab": {
      "name": "ch06.ipynb",
      "provenance": []
    }
  },
  "cells": [
    {
      "cell_type": "code",
      "metadata": {
        "id": "UcqnCysDUqFf"
      },
      "source": [
        "# 2020-10-23 created by Akson"
      ],
      "execution_count": null,
      "outputs": []
    },
    {
      "cell_type": "code",
      "metadata": {
        "id": "RqelhyfzUqFo"
      },
      "source": [
        "# Code6.1\n",
        "# 训练一个决策树\n",
        "\n",
        "from sklearn.datasets import load_iris\n",
        "from sklearn.tree import DecisionTreeClassifier\n",
        "\n",
        "iris = load_iris()\n",
        "\n",
        "X = iris.data[:, 2 :]\n",
        "y = iris.target\n",
        "\n",
        "tree_clf = DecisionTreeClassifier(max_depth = 2)\n",
        "tree_clf.fit(X, y)"
      ],
      "execution_count": null,
      "outputs": []
    },
    {
      "cell_type": "code",
      "metadata": {
        "id": "inpZ3T5oUqFo"
      },
      "source": [
        "# Code6.2\n",
        "# 输出估计概率\n",
        "\n",
        "print(tree_clf.predict_proba([[5, 1.5]]))\n",
        "print(tree_clf.predict([[5, 1.5]]))"
      ],
      "execution_count": null,
      "outputs": []
    },
    {
      "cell_type": "code",
      "metadata": {
        "id": "dFi2fUZSUqFp"
      },
      "source": [
        "# Code6.3\n",
        "# 决策树回归\n",
        "\n",
        "from sklearn.tree import DecisionTreeRegressor\n",
        "\n",
        "tree_reg = DecisionTreeRegressor(max_depth = 2)\n",
        "tree_reg.fit(X, y)"
      ],
      "execution_count": null,
      "outputs": []
    }
  ]
}