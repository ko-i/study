{
  "nbformat": 4,
  "nbformat_minor": 0,
  "metadata": {
    "kernelspec": {
      "display_name": "Python 3",
      "language": "python",
      "name": "python3"
    },
    "language_info": {
      "codemirror_mode": {
        "name": "ipython",
        "version": 3
      },
      "file_extension": ".py",
      "mimetype": "text/x-python",
      "name": "python",
      "nbconvert_exporter": "python",
      "pygments_lexer": "ipython3",
      "version": "3.8.5"
    },
    "colab": {
      "name": "ch14.ipynb",
      "provenance": []
    },
    "accelerator": "GPU"
  },
  "cells": [
    {
      "cell_type": "code",
      "metadata": {
        "id": "G4yESbJUagKT"
      },
      "source": [
        "# 2020-10-28 created by Akson"
      ],
      "execution_count": null,
      "outputs": []
    },
    {
      "cell_type": "code",
      "metadata": {
        "id": "g4IdoqjUagKX"
      },
      "source": [
        "# Code 14.1\n",
        "\n",
        "import tensorflow as tf\n",
        "import numpy as np\n",
        "import matplotlib.pyplot as plt\n",
        "from sklearn.datasets import load_sample_image\n",
        "\n",
        "# load image\n",
        "china = load_sample_image('china.jpg') / 255\n",
        "flower = load_sample_image('flower.jpg') / 255\n",
        "images = np.array([china, flower])\n",
        "batch_size, height, width, channels = images.shape\n",
        "\n",
        "# create 2 filters\n",
        "filters = np.zeros(shape = (7, 7, channels, 2), dtype = np.float32)\n",
        "filters[:, 3, :, 0] = 1\n",
        "filters[3, :, :, 1] = 1\n",
        "print(filters.shape)\n",
        "\n",
        "outputs = tf.nn.conv2d(images, filters, strides = 1, padding = 'SAME')\n",
        "\n",
        "plt.imshow(outputs[0, :, :, 1], cmap = 'gray')\n",
        "plt.show()\n",
        "plt.imshow(outputs[1, :, :, 1], cmap = 'gray')\n",
        "plt.show()"
      ],
      "execution_count": null,
      "outputs": []
    },
    {
      "cell_type": "code",
      "metadata": {
        "id": "0uqUCmr1agKb"
      },
      "source": [
        "# Code 14.2\n",
        "# 画出滤波器\n",
        "\n",
        "def plot_image(image):\n",
        "    plt.imshow(image, cmap=\"gray\", interpolation=\"nearest\")\n",
        "    plt.axis(\"off\")\n",
        "\n",
        "def plot_color_image(image):\n",
        "    plt.imshow(image, interpolation=\"nearest\")\n",
        "    plt.axis(\"off\")\n",
        "    \n",
        "plot_image(filters[:, :, 0, 0])\n",
        "plt.show()\n",
        "plot_image(filters[:, :, 0, 1])\n",
        "plt.show()"
      ],
      "execution_count": null,
      "outputs": []
    },
    {
      "cell_type": "code",
      "metadata": {
        "id": "iQgKjvpSagKf"
      },
      "source": [
        "# Code14.3\n",
        "# 加载Fashion MNIST数据集\n",
        "\n",
        "import tensorflow.keras as keras\n",
        "\n",
        "# 加载全部数据\n",
        "(X_train_full, y_train_full), (X_test, y_test) = keras.datasets.fashion_mnist.load_data()\n",
        "\n",
        "# 将一部分训练集作为验证集\n",
        "X_train = X_train_full[:-5000]\n",
        "X_valid = X_train_full[-5000:]\n",
        "y_train = y_train_full[:-5000]\n",
        "y_valid = y_train_full[-5000:]\n",
        "# print(X_train.shape)\n",
        "\n",
        "# 标准化\n",
        "X_mean = X_train.mean(axis = 0, keepdims = True)\n",
        "#print(X_mean.shape)\n",
        "X_std = X_train.std(axis = 0, keepdims = True)\n",
        "\n",
        "X_train = (X_train - X_mean) / (X_std + 1e-7)\n",
        "X_valid = (X_valid - X_mean) / (X_std + 1e-7)\n",
        "X_test = (X_test - X_mean) / (X_std + 1e-7)\n",
        "\n",
        "X_train = X_train[..., np.newaxis]\n",
        "X_valid = X_valid[..., np.newaxis]\n",
        "X_test = X_test[..., np.newaxis]"
      ],
      "execution_count": null,
      "outputs": []
    },
    {
      "cell_type": "code",
      "metadata": {
        "id": "8CWqHtNlagKi"
      },
      "source": [
        "# Code14.4\n",
        "# 建立模型来训练\n",
        "\n",
        "model = keras.models.Sequential([\n",
        "    keras.layers.Conv2D(64, 7, activation = 'relu', padding = 'same', input_shape = [28, 28, 1]),\n",
        "    keras.layers.MaxPooling2D(2),\n",
        "    keras.layers.Conv2D(128, 3, activation = 'relu', padding = 'same'),\n",
        "    keras.layers.Conv2D(128, 3, activation = 'relu', padding = 'same'),\n",
        "    keras.layers.MaxPooling2D(2),\n",
        "    keras.layers.Conv2D(256, 3, activation = 'relu', padding = 'same'),\n",
        "    keras.layers.Conv2D(256, 3, activation = 'relu', padding = 'same'),\n",
        "    keras.layers.Flatten(),\n",
        "    keras.layers.Dense(128, activation = 'relu'),\n",
        "    keras.layers.Dropout(0.5),\n",
        "    keras.layers.Dense(64, activation = 'relu'),\n",
        "    keras.layers.Dropout(0.5),\n",
        "    keras.layers.Dense(10, activation = 'softmax')\n",
        "])\n",
        "\n",
        "model.compile(loss = 'sparse_categorical_crossentropy', optimizer = 'nadam', metrics = ['accuracy'])\n",
        "history = model.fit(X_train, y_train, epochs = 10, validation_data = (X_valid, y_valid))\n",
        "\n",
        "y_pred = model.predict(X_test[:10])\n",
        "print(y_test[:10])\n",
        "print(y_pred)"
      ],
      "execution_count": null,
      "outputs": []
    },
    {
      "cell_type": "code",
      "metadata": {
        "id": "vHw1ept2agKl"
      },
      "source": [
        "# Code14.5\n",
        "# ResNet-34\n",
        "\n",
        "# create RU\n",
        "class ResidualUnit(keras.layers.Layer):\n",
        "    def __init__(self, filters, strides = 1, activation = 'relu', **kwargs):\n",
        "        super().__init__(**kwargs)\n",
        "        self.activation = keras.activations.get(activation)\n",
        "        self.main_layers = [\n",
        "            keras.layers.Conv2D(filters, 3, strides = strides, padding = 'same', use_bias = False),\n",
        "            keras.layers.BatchNormalization(),\n",
        "            self.activation,\n",
        "            keras.layers.Conv2D(filters, 3, strides = 1, padding = 'same', use_bias = False),\n",
        "            keras.layers.BatchNormalization()\n",
        "        ]\n",
        "        \n",
        "        self.skip_layers = []\n",
        "        if strides > 1:\n",
        "            self.skip_layers = [\n",
        "                keras.layers.Conv2D(filters, 1, strides = strides, padding = 'same', use_bias = False),\n",
        "                keras.layers.BatchNormalization()\n",
        "            ]\n",
        "    \n",
        "    def call(self, inputs):\n",
        "        Z = inputs\n",
        "        for layer in self.main_layers:\n",
        "            Z = layer(Z)\n",
        "        skip_Z = inputs\n",
        "        for layer in self.skip_layers:\n",
        "            skip_Z = layer(skip_Z)\n",
        "        return self.activation(Z + skip_Z)"
      ],
      "execution_count": null,
      "outputs": []
    },
    {
      "cell_type": "code",
      "metadata": {
        "id": "5rOAma1NagKo"
      },
      "source": [
        "# Code14.6\n",
        "# create ResNet-34\n",
        "\n",
        "model = keras.models.Sequential()\n",
        "model.add(keras.layers.Conv2D(64, 7, strides = 2, input_shape = [224, 224, 3], padding = 'same', use_bias = False))\n",
        "model.add(keras.layers.BatchNormalization())\n",
        "model.add(keras.layers.Activation('relu'))\n",
        "model.add(keras.layers.MaxPool2D(pool_size = 3, strides = 2, padding = 'same'))\n",
        "prev_filters = 64\n",
        "\n",
        "# add RUs\n",
        "for filters in [64] * 3 + [128] * 4 + [256] * 6 + [512] * 3:\n",
        "    strides = 1 if filters == prev_filters else 2\n",
        "    model.add(ResidualUnit(filters, strides = strides))\n",
        "    pre_filters = filters\n",
        "\n",
        "model.add(keras.layers.GlobalAvgPool2D())\n",
        "model.add(keras.layers.Flatten())\n",
        "model.add(keras.layers.Dense(10, activation = 'softmax'))"
      ],
      "execution_count": null,
      "outputs": []
    },
    {
      "cell_type": "code",
      "metadata": {
        "id": "zVHeU-ozagKs"
      },
      "source": [
        "# Code14.7\n",
        "# 使用现成的模型\n",
        "\n",
        "model = keras.applications.resnet50.ResNet50(weights = 'imagenet')\n",
        "\n",
        "# 改变图片大小\n",
        "images_resized = tf.image.resize(images, [224, 224])\n",
        "inputs = keras.applications.resnet50.preprocess_input(images_resized * 255)\n",
        "Y_proba = model.predict(inputs)\n",
        "\n",
        "topK = keras.applications.resnet50.decode_predictions(Y_proba, top = 3)\n",
        "for image_index in range(len(images)):\n",
        "    print('Image #{}'.format(image_index))\n",
        "    for class_id, name, y_proba in topK[image_index]:\n",
        "        print('  {} - {:12s}{:.2f}'.format(class_id, name, y_proba * 100))"
      ],
      "execution_count": null,
      "outputs": []
    },
    {
      "cell_type": "code",
      "metadata": {
        "id": "WOvCJByNagKv"
      },
      "source": [
        "# Code14.8\n",
        "# loadDataset\n",
        "\n",
        "import tensorflow_datasets as tfds\n",
        "\n",
        "# 在Mac平台用这个\n",
        "# dataset, info = tfds.load('tf_flowers', data_dir = '../dataset/', as_supervised = True, with_info = True)\n",
        "\n",
        "# 在windows平台上用这个\n",
        "# dataset, info = tfds.load('tf_flowers', as_supervised = True, with_info = True)\n",
        "\n",
        "#  在colab上用这个\n",
        "dataset, info = tfds.load('tf_flowers', as_supervised = True, with_info = True, try_gcs = True)\n",
        "\n",
        "dataset_size = info.splits['train'].num_examples\n",
        "class_names = info.features['label'].names\n",
        "n_classes = info.features['label'].num_classes\n",
        "\n",
        "print('dataset_size: ', dataset_size)\n",
        "print('class_names: ', class_names)\n",
        "print('n_classes: ', n_classes)"
      ],
      "execution_count": null,
      "outputs": []
    },
    {
      "cell_type": "code",
      "metadata": {
        "id": "ZfcPzESAagKz"
      },
      "source": [
        "# Code14.9\n",
        "# 拆分训练数据集\n",
        "\n",
        "# 在Mac平台用这个\n",
        "# test_set = tfds.load('tf_flowers', split = 'train[:10%]', data_dir = '../dataset/', as_supervised = True)\n",
        "# valid_set = tfds.load('tf_flowers', split = 'train[10%:25%]', data_dir = '../dataset/', as_supervised = True)\n",
        "# train_set = tfds.load('tf_flowers', split = 'train[25%:]', data_dir = '../dataset/', as_supervised = True)\n",
        "\n",
        "# 在windows平台上用这个\n",
        "# test_set = tfds.load('tf_flowers', split = 'train[:10%]', as_supervised = True)\n",
        "# valid_set = tfds.load('tf_flowers', split = 'train[10%:25%]', as_supervised = True)\n",
        "# train_set = tfds.load('tf_flowers', split = 'train[25%:]', as_supervised = True)\n",
        "\n",
        "#  在colab上用这个\n",
        "test_set = tfds.load('tf_flowers', split = 'train[:10%]', as_supervised = True, try_gcs = True)\n",
        "valid_set = tfds.load('tf_flowers', split = 'train[10%:25%]', as_supervised = True, try_gcs = True)\n",
        "train_set = tfds.load('tf_flowers', split = 'train[25%:]', as_supervised = True, try_gcs = True)"
      ],
      "execution_count": null,
      "outputs": []
    },
    {
      "cell_type": "code",
      "metadata": {
        "id": "ZZ-j0F75agK1"
      },
      "source": [
        "# Code14.10\n",
        "# preprocess\n",
        "\n",
        "def preprocess(image, label):\n",
        "    resized_image = tf.image.resize(image, [224, 224])\n",
        "    final_image = keras.applications.xception.preprocess_input(resized_image)\n",
        "    return final_image, label\n",
        "    \n",
        "batch_size = 32\n",
        "train_set = train_set.shuffle(1000)\n",
        "train_set = train_set.map(preprocess).batch(batch_size).prefetch(1)\n",
        "valid_set = valid_set.map(preprocess).batch(batch_size).prefetch(1)\n",
        "test_set = test_set.map(preprocess).batch(batch_size).prefetch(1)"
      ],
      "execution_count": null,
      "outputs": []
    },
    {
      "cell_type": "code",
      "metadata": {
        "id": "R_8id8cWagK4"
      },
      "source": [
        "# Code14.11\n",
        "# load model and train\n",
        "\n",
        "base_model = keras.applications.xception.Xception(weights = 'imagenet', include_top = False)\n",
        "avg = keras.layers.GlobalAveragePooling2D()(base_model.output)\n",
        "output = keras.layers.Dense(n_classes, activation = 'softmax')(avg)\n",
        "model = keras.Model(inputs = base_model.input, outputs = output)\n",
        "\n",
        "for layer in base_model.layers:\n",
        "    layer.trainable = False\n",
        "\n",
        "optimizer = keras.optimizers.SGD(lr = 0.2, momentum = 0.9, decay = 0.01)\n",
        "model.compile(loss = 'sparse_categorical_crossentropy', optimizer = optimizer, metrics = ['accuracy'])\n",
        "history = model.fit(train_set, epochs = 5, validation_data = valid_set)"
      ],
      "execution_count": null,
      "outputs": []
    },
    {
      "cell_type": "code",
      "metadata": {
        "id": "wUmWzTdzagK7"
      },
      "source": [
        "# Code14.12\n",
        "# \n",
        "\n",
        "for layer in base_model.layers:\n",
        "    layer.trainable = True\n",
        "\n",
        "optimizer = keras.optimizers.SGD(learning_rate = 0.01, momentum = 0.9, nesterov = True, decay = 0.001)\n",
        "model.compile(loss = 'sparse_categorical_crossentropy', optimizer = optimizer, metrics = ['accuracy'])\n",
        "history = model.fit(train_set, steps_per_epoch = int(0.75 * dataset_size / batch_size), validation_data = valid_set, validation_steps = int(0.15 * dataset_size / batch_size), epochs = 40)"
      ],
      "execution_count": null,
      "outputs": []
    }
  ]
}