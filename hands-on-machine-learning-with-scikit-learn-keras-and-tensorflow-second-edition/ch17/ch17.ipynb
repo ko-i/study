{
  "nbformat": 4,
  "nbformat_minor": 0,
  "metadata": {
    "orig_nbformat": 2,
    "colab": {
      "name": "ch17.ipynb",
      "provenance": []
    },
    "kernelspec": {
      "name": "python3",
      "display_name": "Python 3"
    },
    "accelerator": "GPU"
  },
  "cells": [
    {
      "cell_type": "code",
      "metadata": {
        "id": "BG0RBdKDtppY"
      },
      "source": [
        "# 2020-11-1 created by Akson"
      ],
      "execution_count": null,
      "outputs": []
    },
    {
      "cell_type": "code",
      "metadata": {
        "id": "lS0-c6RJwDp3"
      },
      "source": [
        "# Code17.1\n",
        "# import\n",
        "\n",
        "import tensorflow as tf\n",
        "from tensorflow import keras\n",
        "import numpy as np\n",
        "import matplotlib.pyplot as plt"
      ],
      "execution_count": null,
      "outputs": []
    },
    {
      "cell_type": "code",
      "metadata": {
        "id": "lO_GTMnMwVxe"
      },
      "source": [
        "# Code17.2\n",
        "# generate 3-d data function\n",
        "\n",
        "def generate_3d_data(m, w1 = 0.1, w2 = 0.3, noise = 0.1):\n",
        "    angles = np.random.rand(m) * 3 * np.pi / 2 - 0.5\n",
        "    data = np.empty((m, 3))\n",
        "    data[:, 0] = np.cos(angles) + np.sin(angles) / 2 + noise * np.random.randn(m) / 2\n",
        "    data[:, 1] = np.sin(angles) * 0.7 + noise * np.random.randn(m) / 2\n",
        "    data[:, 2] = data[:, 0] * w1 + data[:, 1] * w2 + noise * np.random.randn(m)\n",
        "\n",
        "    return data"
      ],
      "execution_count": null,
      "outputs": []
    },
    {
      "cell_type": "code",
      "metadata": {
        "id": "wPj-ZHlFxVgR"
      },
      "source": [
        "# Code17.3\n",
        "# create train dataset\n",
        "\n",
        "X_train = generate_3d_data(60)\n",
        "X_train = X_train - X_train.mean(axis = 0, keepdims = 0)"
      ],
      "execution_count": null,
      "outputs": []
    },
    {
      "cell_type": "code",
      "metadata": {
        "id": "Wxi7tysaxxbp"
      },
      "source": [
        "# Code17.4\n",
        "# create model and train\n",
        "\n",
        "# simple encoder network\n",
        "encoder = keras.models.Sequential([keras.layers.Dense(2, input_shape = [3])])\n",
        "# simple decoder network\n",
        "decoder = keras.models.Sequential([keras.layers.Dense(3, input_shape = [2])])\n",
        "# group\n",
        "autoencoder = keras.models.Sequential([encoder, decoder])\n",
        "\n",
        "autoencoder.compile(loss = 'mse', optimizer = keras.optimizers.SGD(lr = 1.5))\n",
        "# 用整个网络来拟合训练数据\n",
        "history = autoencoder.fit(X_train, X_train, epochs = 20)"
      ],
      "execution_count": null,
      "outputs": []
    },
    {
      "cell_type": "code",
      "metadata": {
        "id": "ttTT3z7XwLIa"
      },
      "source": [
        "# Code17.5\n",
        "# only use encoder \n",
        "\n",
        "codings = encoder.predict(X_train)"
      ],
      "execution_count": null,
      "outputs": []
    },
    {
      "cell_type": "code",
      "metadata": {
        "id": "FF-rG99PzN-Y"
      },
      "source": [
        "# Code17.6\n",
        "# load fashion mnist for stack-autoencoder\n",
        "\n",
        "(X_train_full, y_train_full), (X_test, y_test) = keras.datasets.fashion_mnist.load_data()\n",
        "# standard data\n",
        "X_train_full = X_train_full.astype(np.float32) / 255\n",
        "X_test = X_test.astype(np.float32) / 255\n",
        "X_train = X_train_full[: -5000]\n",
        "X_valid = X_train_full[-5000: ]\n",
        "y_train = y_train_full[: -5000]\n",
        "y_valid = y_train_full[-5000: ]"
      ],
      "execution_count": null,
      "outputs": []
    },
    {
      "cell_type": "code",
      "metadata": {
        "id": "BqVeWVLu2fBm"
      },
      "source": [
        "# Code17.7\n",
        "# create stack-autoencoder model\n",
        "\n",
        "stacked_encoder = keras.models.Sequential([\n",
        "    keras.layers.Flatten(input_shape = [28, 28]),\n",
        "    keras.layers.Dense(100, activation = 'selu'),\n",
        "    keras.layers.Dense(30, activation = 'selu')\n",
        "])\n",
        "\n",
        "stacked_decoder = keras.models.Sequential([\n",
        "    keras.layers.Dense(100, activation = 'selu', input_shape = [30]),\n",
        "    keras.layers.Dense(28 * 28, activation = 'sigmoid'),\n",
        "    keras.layers.Reshape([28, 28])\n",
        "])\n",
        "\n",
        "stacked_autoencoder = keras.models.Sequential([stacked_encoder, stacked_decoder])"
      ],
      "execution_count": null,
      "outputs": []
    },
    {
      "cell_type": "code",
      "metadata": {
        "id": "MBBX1QPb6WY_"
      },
      "source": [
        "# Code17.8\n",
        "# train model\n",
        "\n",
        "def rounded_accuracy(y_true, y_pred):\n",
        "    return keras.metrics.binary_accuracy(tf.round(y_true), tf.round(y_pred))\n",
        "\n",
        "stacked_autoencoder.compile(loss = 'binary_crossentropy', optimizer = keras.optimizers.SGD(lr = 1.5), metrics = [rounded_accuracy])\n",
        "history = stacked_autoencoder.fit(X_train, X_train, epochs = 20, validation_data = (X_valid, X_valid))"
      ],
      "execution_count": null,
      "outputs": []
    },
    {
      "cell_type": "code",
      "metadata": {
        "id": "STg4xtQJ7Wut"
      },
      "source": [
        "# Code17.9\n",
        "# draw result\n",
        "\n",
        "def plot_image(image):\n",
        "    plt.imshow(image, cmap = 'binary')\n",
        "    plt.axis('off')\n",
        "\n",
        "def show_reconstructions(model, images = X_valid, n_images = 5):\n",
        "    reconstructions = model.predict(images[:n_images])\n",
        "    fig = plt.figure(figsize = (n_images * 1.5, 3))\n",
        "    for image_index in range(n_images):\n",
        "        plt.subplot(2, n_images, 1 + image_index)\n",
        "        plot_image(images[image_index])\n",
        "        plt.subplot(2, n_images, 1 + n_images + image_index)\n",
        "        plot_image(reconstructions[image_index])\n",
        "\n",
        "show_reconstructions(stacked_autoencoder)"
      ],
      "execution_count": null,
      "outputs": []
    },
    {
      "cell_type": "code",
      "metadata": {
        "id": "26QLaynfzOgb"
      },
      "source": [
        "# Code17.10\n",
        "# visualization 2d result\n",
        "\n",
        "from sklearn.manifold import TSNE\n",
        "\n",
        "X_valid_compressed = stacked_encoder.predict(X_valid)\n",
        "tsne = TSNE()\n",
        "X_valid_2D = tsne.fit_transform(X_valid_compressed)\n",
        "X_valid_2D = (X_valid_2D - X_valid_2D.min()) / (X_valid_2D.max() - X_valid_2D.min())\n",
        "\n",
        "plt.scatter(X_valid_2D[:, 0], X_valid_2D[:, 1], c = y_valid, s = 10, cmap = 'tab10')\n",
        "plt.axis('off')\n",
        "plt.show()"
      ],
      "execution_count": null,
      "outputs": []
    },
    {
      "cell_type": "code",
      "metadata": {
        "id": "W4PfgJEEzOnT"
      },
      "source": [
        "# Code17.11\n",
        "# Tinying weights model\n",
        "\n",
        "class DenseTranspose(keras.layers.Layer):\n",
        "    def __init__(self, dense, activation = None, **kwargs):\n",
        "        self.dense = dense\n",
        "        self.activation = keras.activations.get(activation)\n",
        "        super().__init__(**kwargs)\n",
        "    \n",
        "    def build(self, batch_input_shape):\n",
        "        self.biases = self.add_weight(name = 'bias', shape = [self.dense.input_shape[-1]], initializer = 'zeros')\n",
        "        super().build(batch_input_shape)\n",
        "    \n",
        "    def call(self, inputs):\n",
        "        z = tf.matmul(inputs, self.dense.weights[0], transpose_b = True)\n",
        "\n",
        "        return self.activation(z + self.biases)\n",
        "\n",
        "dense_1 = keras.layers.Dense(100, activation = 'selu')\n",
        "dense_2 = keras.layers.Dense(30, activation = 'selu')\n",
        "\n",
        "tied_encoder = keras.models.Sequential([\n",
        "    keras.layers.Flatten(input_shape = [28, 28]),\n",
        "    dense_1,\n",
        "    dense_2\n",
        "])\n",
        "\n",
        "tied_decoder = keras.models.Sequential([\n",
        "    DenseTranspose(dense_2, activation = 'selu'),\n",
        "    DenseTranspose(dense_1, activation = 'sigmoid'),\n",
        "    keras.layers.Reshape([28, 28])\n",
        "])\n",
        "\n",
        "tied_autoencoder = keras.models.Sequential([tied_encoder, tied_decoder])\n"
      ],
      "execution_count": null,
      "outputs": []
    },
    {
      "cell_type": "code",
      "metadata": {
        "id": "UbR4nG1qzOs1"
      },
      "source": [
        "# Code17.12\n",
        "# tied model train\n",
        "\n",
        "tied_autoencoder.compile(loss = 'binary_crossentropy', optimizer = keras.optimizers.SGD(lr = 1.5), metrics = [rounded_accuracy])\n",
        "history = tied_autoencoder.fit(X_train, X_train, epochs = 10, validation_data = (X_valid, X_valid))"
      ],
      "execution_count": null,
      "outputs": []
    },
    {
      "cell_type": "code",
      "metadata": {
        "id": "BFs_WcNqzOyo"
      },
      "source": [
        "# Code17.13\n",
        "# draw result\n",
        "\n",
        "show_reconstructions(tied_autoencoder)\n",
        "plt.show()"
      ],
      "execution_count": null,
      "outputs": []
    },
    {
      "cell_type": "code",
      "metadata": {
        "id": "wxa5QvGyzO4U"
      },
      "source": [
        "# Code17.14\n",
        "# 一次构建一个单层自动编码器，然后再将这些堆叠\n",
        "\n",
        "def train_autoencoder(n_neurons, X_train, X_valid, loss, optimizer, n_epochs = 10, output_activation = None, metrics = None):\n",
        "    n_inputs = X_train.shape[-1]\n",
        "    \n",
        "    encoder = keras.models.Sequential([\n",
        "        keras.layers.Dense(n_neurons, activation = 'selu', input_shape = [n_inputs])              \n",
        "    ])\n",
        "\n",
        "    decoder = keras.models.Sequential([\n",
        "        keras.layers.Dense(n_inputs, activation = output_activation)\n",
        "    ])\n",
        "\n",
        "    autoencoder = keras.models.Sequential([encoder, decoder])\n",
        "    autoencoder.compile(optimizer, loss, metrics = metrics)\n",
        "    autoencoder.fit(X_train, X_train, epochs = n_epochs, validation_data = (X_valid, X_valid))\n",
        "\n",
        "    return encoder, decoder, encoder(X_train), encoder(X_valid)"
      ],
      "execution_count": null,
      "outputs": []
    },
    {
      "cell_type": "code",
      "metadata": {
        "id": "_4Yo1LjMHqUI"
      },
      "source": [
        "# Code17.15\n",
        "# train\n",
        "\n",
        "K = keras.backend\n",
        "X_train_flat = K.batch_flatten(X_train)\n",
        "X_valid_flat = K.batch_flatten(X_valid)\n",
        "\n",
        "# 训练第一个\n",
        "enc1, dec1, X_train_enc1, X_valid_enc1 = train_autoencoder(100, X_train_flat, X_valid_flat, 'binary_crossentropy', keras.optimizers.SGD(lr = 1.5), output_activation = 'sigmoid', metrics = [rounded_accuracy])\n",
        "# 训练第二个\n",
        "enc2, dec2, _, _ = train_autoencoder(30, X_train_enc1, X_valid_enc1, 'mse', keras.optimizers.SGD(lr = 0.05), output_activation = 'selu')\n",
        "# 堆叠这两个\n",
        "stacked_autoencoder_1_by_1 = keras.models.Sequential([\n",
        "    keras.layers.Flatten(input_shape = [28, 28]),\n",
        "    enc1,\n",
        "    enc2,\n",
        "    dec2,\n",
        "    dec1,\n",
        "    keras.layers.Reshape([28, 28])\n",
        "])"
      ],
      "execution_count": null,
      "outputs": []
    },
    {
      "cell_type": "code",
      "metadata": {
        "id": "TPNzP4bTKQuf"
      },
      "source": [
        "# Code17.16\n",
        "# 画一下\n",
        "show_reconstructions(stacked_autoencoder_1_by_1)\n",
        "plt.show()"
      ],
      "execution_count": null,
      "outputs": []
    },
    {
      "cell_type": "code",
      "metadata": {
        "id": "Efj6ShUhJp7R"
      },
      "source": [
        "# Code17.17\n",
        "# 将最终模型再训练一下\n",
        "\n",
        "stacked_autoencoder_1_by_1.compile(loss = 'binary_crossentropy', optimizer = keras.optimizers.SGD(lr = 0.1), metrics = [rounded_accuracy])\n",
        "history = stacked_autoencoder_1_by_1.fit(X_train, X_train, epochs = 10, validation_data = (X_valid, X_valid))"
      ],
      "execution_count": null,
      "outputs": []
    },
    {
      "cell_type": "code",
      "metadata": {
        "id": "RmSUlWwjK7V7"
      },
      "source": [
        "# Code17.18\n",
        "# 再画一下\n",
        "\n",
        "show_reconstructions(stacked_autoencoder_1_by_1)\n",
        "plt.show()"
      ],
      "execution_count": null,
      "outputs": []
    },
    {
      "cell_type": "code",
      "metadata": {
        "id": "yHCy554AEXOz"
      },
      "source": [
        "# Code17.19\n",
        "# an simple Conv-autoencoder for mnist\n",
        "\n",
        "conv_encoder = keras.models.Sequential([\n",
        "    keras.layers.Reshape([28, 28, 1], input_shape = [28, 28]),\n",
        "    keras.layers.Conv2D(16, kernel_size = 3, padding = 'SAME', activation = 'selu'),\n",
        "    keras.layers.MaxPool2D(pool_size = 2),\n",
        "    keras.layers.Conv2D(32, kernel_size = 3, padding = 'SAME', activation = 'selu'),\n",
        "    keras.layers.MaxPool2D(pool_size = 2),\n",
        "    keras.layers.Conv2D(64, kernel_size = 3, padding = 'SAME', activation = 'selu'),\n",
        "    keras.layers.MaxPool2D(pool_size = 2)\n",
        "])\n",
        "\n",
        "conv_decoder = keras.models.Sequential([\n",
        "    keras.layers.Conv2DTranspose(32, kernel_size = 3, strides = 2, padding = 'VALID', activation = 'selu', input_shape = [3, 3, 64]),\n",
        "    keras.layers.Conv2DTranspose(16, kernel_size = 3, strides = 2, padding = 'SAME', activation = 'selu'),\n",
        "    keras.layers.Conv2DTranspose(1, kernel_size = 3, strides = 2, padding = 'SAME', activation = 'sigmoid'),\n",
        "    keras.layers.Reshape([28, 28])\n",
        "])\n",
        "\n",
        "conv_autoencoder = keras.models.Sequential([conv_encoder, conv_decoder])\n",
        "conv_autoencoder.compile(loss = 'binary_crossentropy', optimizer = keras.optimizers.SGD(lr = 1.0), metrics = [rounded_accuracy])\n",
        "history = conv_autoencoder.fit(X_train, X_train, epochs = 5, validation_data = (X_valid, X_valid))\n"
      ],
      "execution_count": null,
      "outputs": []
    },
    {
      "cell_type": "code",
      "metadata": {
        "id": "TC7jLp2zOjdg"
      },
      "source": [
        "# Code17.20\n",
        "# browser summary\n",
        "\n",
        "print(conv_encoder.summary())\n",
        "print(conv_decoder.summary())"
      ],
      "execution_count": null,
      "outputs": []
    },
    {
      "cell_type": "code",
      "metadata": {
        "id": "s46sTPssOkDA"
      },
      "source": [
        "# Code17.21\n",
        "# 画一下\n",
        "\n",
        "show_reconstructions(conv_autoencoder)\n",
        "plt.show()"
      ],
      "execution_count": null,
      "outputs": []
    },
    {
      "cell_type": "code",
      "metadata": {
        "id": "AzcFyRF-EX--"
      },
      "source": [
        "# Code17.22\n",
        "# 循环自动编码器\n",
        "\n",
        "recurrent_encoder = keras.models.Sequential([\n",
        "    keras.layers.LSTM(100, return_sequences = True, input_shape = [28, 28]),\n",
        "    keras.layers.LSTM(30)\n",
        "])\n",
        "\n",
        "recurrent_decoder = keras.models.Sequential([\n",
        "    keras.layers.RepeatVector(28, input_shape = [30]),\n",
        "    keras.layers.LSTM(100, return_sequences = True),\n",
        "    keras.layers.TimeDistributed(keras.layers.Dense(28, activation = 'sigmoid'))\n",
        "])\n",
        "\n",
        "recurrent_autoencoder = keras.models.Sequential([recurrent_encoder, recurrent_decoder])\n",
        "recurrent_autoencoder.compile(loss = 'binary_crossentropy', optimizer = keras.optimizers.SGD(lr = 0.1), metrics = [rounded_accuracy])\n",
        "history = recurrent_autoencoder.fit(X_train, X_train, epochs = 10, validation_data = (X_valid, X_valid))\n"
      ],
      "execution_count": null,
      "outputs": []
    },
    {
      "cell_type": "code",
      "metadata": {
        "id": "ioq-srAiS20r"
      },
      "source": [
        "# Code17.23\n",
        "# 画一下\n",
        "\n",
        "show_reconstructions(recurrent_autoencoder)\n",
        "plt.show()"
      ],
      "execution_count": null,
      "outputs": []
    },
    {
      "cell_type": "code",
      "metadata": {
        "id": "T5xnxXAYEYFz"
      },
      "source": [
        "# Code17.24\n",
        "# denoise autoencoder\n",
        "\n",
        "denoising_encoder = keras.models.Sequential([\n",
        "    keras.layers.Flatten(input_shape = [28, 28]),\n",
        "    keras.layers.GaussianNoise(0.2),\n",
        "    keras.layers.Dense(100, activation = 'selu'),\n",
        "    keras.layers.Dense(30, activation = 'selu')\n",
        "])\n",
        "\n",
        "denoising_decoder = keras.models.Sequential([\n",
        "    keras.layers.Dense(100, activation = 'selu', input_shape = [30]),\n",
        "    keras.layers.Dense(28 * 28, activation = 'sigmoid'),\n",
        "    keras.layers.Reshape([28, 28])\n",
        "])\n",
        "\n",
        "denoising_autoencoder = keras.models.Sequential([denoising_encoder, denoising_decoder])\n",
        "denoising_autoencoder.compile(loss = 'binary_crossentropy', optimizer = keras.optimizers.SGD(lr = 1.0), metrics = [rounded_accuracy])\n",
        "history = denoising_autoencoder.fit(X_train, X_train, epochs = 10, validation_data = (X_valid, X_valid))\n"
      ],
      "execution_count": null,
      "outputs": []
    },
    {
      "cell_type": "code",
      "metadata": {
        "id": "zF6Gfab9V9yu"
      },
      "source": [
        "# Code17.25\n",
        "# 画一下\n",
        "\n",
        "noise = keras.layers.GaussianNoise(0.2)\n",
        "show_reconstructions(denoising_autoencoder, noise(X_valid, training = True))\n",
        "plt.show()"
      ],
      "execution_count": null,
      "outputs": []
    },
    {
      "cell_type": "code",
      "metadata": {
        "id": "IYEKxMxjTLeG"
      },
      "source": [
        "# Code17.26\n",
        "# use dropout\n",
        "\n",
        "dropout_encoder = keras.models.Sequential([\n",
        "    keras.layers.Flatten(input_shape = [28, 28]),\n",
        "    keras.layers.Dropout(0.5),\n",
        "    keras.layers.Dense(100, activation = 'selu'),\n",
        "    keras.layers.Dense(30, activation = 'selu')\n",
        "])\n",
        "\n",
        "dropout_decoder = keras.models.Sequential([\n",
        "    keras.layers.Dense(100, activation = 'selu', input_shape = [30]),\n",
        "    keras.layers.Dense(28 * 28, activation = 'sigmoid'),\n",
        "    keras.layers.Reshape([28, 28])\n",
        "])\n",
        "\n",
        "dropout_autoencoder = keras.models.Sequential([dropout_encoder, dropout_decoder])\n",
        "dropout_autoencoder.compile(loss = 'binary_crossentropy', optimizer = keras.optimizers.SGD(lr = 1.0), metrics = [rounded_accuracy])\n",
        "history = dropout_autoencoder.fit(X_train, X_train, epochs = 10, validation_data = (X_valid, X_valid))"
      ],
      "execution_count": null,
      "outputs": []
    },
    {
      "cell_type": "code",
      "metadata": {
        "id": "wI-YhxOgZTMN"
      },
      "source": [
        "# Code17.27\n",
        "# draw it\n",
        "\n",
        "dropout = keras.layers.Dropout(0.5)\n",
        "show_reconstructions(dropout_autoencoder, dropout(X_valid, training = True))"
      ],
      "execution_count": null,
      "outputs": []
    },
    {
      "cell_type": "code",
      "metadata": {
        "id": "VkUSZ-AnZtye"
      },
      "source": [
        "# Code17.28\n",
        "# Sparse autoencoder\n",
        "# an simple example\n",
        "\n",
        "simple_encoder = keras.models.Sequential([\n",
        "    keras.layers.Flatten(input_shape = [28, 28]),\n",
        "    keras.layers.Dense(100, activation = 'selu'),\n",
        "    keras.layers.Dense(30, activation = 'sigmoid')\n",
        "])\n",
        "\n",
        "simple_decoder = keras.models.Sequential([\n",
        "    keras.layers.Dense(100, activation = 'selu', input_shape = [30]),\n",
        "    keras.layers.Dense(28 * 28, activation = 'sigmoid'),\n",
        "    keras.layers.Reshape([28, 28])\n",
        "])\n",
        "\n",
        "simple_autoencoder = keras.models.Sequential([simple_encoder, simple_decoder])\n",
        "simple_autoencoder.compile(loss = 'binary_crossentropy', optimizer = keras.optimizers.SGD(lr = 1.0), metrics = [rounded_accuracy])\n",
        "history = simple_autoencoder.fit(X_train, X_train, epochs = 10, validation_data = (X_valid, X_valid))"
      ],
      "execution_count": null,
      "outputs": []
    },
    {
      "cell_type": "code",
      "metadata": {
        "id": "38-t0b9UdEz9"
      },
      "source": [
        "# Code17.29\n",
        "# draw it\n",
        "\n",
        "show_reconstructions(simple_autoencoder)\n",
        "plt.show()"
      ],
      "execution_count": null,
      "outputs": []
    },
    {
      "cell_type": "code",
      "metadata": {
        "id": "5y-sLYzdTLst"
      },
      "source": [
        "# Code17.30\n",
        "# use l1 regularization\n",
        "\n",
        "sparse_l1_encoder = keras.models.Sequential([\n",
        "    keras.layers.Flatten(input_shape = [28, 28]),\n",
        "    keras.layers.Dense(100, activation = 'selu'),\n",
        "    keras.layers.Dense(300, activation = 'sigmoid'),\n",
        "    keras.layers.ActivityRegularization(l1 = 1e-3)\n",
        "])\n",
        "\n",
        "sparse_l1_decoder = keras.models.Sequential([\n",
        "    keras.layers.Dense(100, activation = 'selu', input_shape = [300]),\n",
        "    keras.layers.Dense(28 * 28, activation = 'sigmoid'),\n",
        "    keras.layers.Reshape([28, 28])\n",
        "])\n",
        "\n",
        "sparse_l1_autoencoder = keras.models.Sequential([sparse_l1_encoder, sparse_l1_decoder])\n",
        "sparse_l1_autoencoder.compile(loss = 'binary_crossentropy', optimizer = keras.optimizers.SGD(lr = 1.0), metrics = [rounded_accuracy])\n",
        "history = sparse_l1_autoencoder.fit(X_train, X_train, epochs = 10, validation_data = (X_valid, X_valid))"
      ],
      "execution_count": null,
      "outputs": []
    },
    {
      "cell_type": "code",
      "metadata": {
        "id": "JEIxE9YXexm4"
      },
      "source": [
        "# Code17.31\n",
        "# draw it\n",
        "\n",
        "show_reconstructions(sparse_l1_autoencoder)\n",
        "plt.show()"
      ],
      "execution_count": null,
      "outputs": []
    },
    {
      "cell_type": "code",
      "metadata": {
        "id": "p6XavIvATLyM"
      },
      "source": [
        "# Code17.32\n",
        "# KL autoencoder\n",
        "\n",
        "K = keras.backend\n",
        "kl_divergence = keras.losses.kullback_leibler_divergence\n",
        "\n",
        "class KLDivergenceRegularizer(keras.regularizers.Regularizer):\n",
        "    def __init__(self, weight, target = 0.1):\n",
        "        self.weight = weight\n",
        "        self.target = target\n",
        "    def __call__(self, inputs):\n",
        "        mean_activities = K.mean(inputs, axis = 0)\n",
        "        \n",
        "        return self.weight * (kl_divergence(self.target, mean_activities) + kl_divergence(1. - self.target, 1. - mean_activities))\n",
        "\n",
        "kld_reg = KLDivergenceRegularizer(weight = 0.05, target = 0.1)\n",
        "sparse_kl_encoder = keras.models.Sequential([\n",
        "    keras.layers.Flatten(input_shape = [28, 28]),\n",
        "    keras.layers.Dense(100, activation = 'selu'),\n",
        "    keras.layers.Dense(300, activation = 'sigmoid', activity_regularizer = kld_reg)\n",
        "])\n",
        "sparse_kl_decoder = keras.models.Sequential([\n",
        "    keras.layers.Dense(100, activation = 'selu', input_shape = [300]),\n",
        "    keras.layers.Dense(28 * 28, activation = 'sigmoid'),\n",
        "    keras.layers.Reshape([28, 28]) \n",
        "])\n",
        "\n",
        "sparse_kl_autoencoder = keras.models.Sequential([sparse_kl_encoder, sparse_kl_decoder])\n",
        "sparse_kl_autoencoder.compile(loss = 'binary_crossentropy', optimizer = keras.optimizers.SGD(lr = 1.0), metrics = [rounded_accuracy])\n",
        "history = sparse_kl_autoencoder.fit(X_train, X_train, epochs = 10, validation_data = (X_valid, X_valid))"
      ],
      "execution_count": null,
      "outputs": []
    },
    {
      "cell_type": "code",
      "metadata": {
        "id": "dIuHIJpMklrY"
      },
      "source": [
        " # Code17.33\n",
        " # draw it\n",
        "\n",
        " show_reconstructions(sparse_kl_autoencoder)\n",
        " plt.show()"
      ],
      "execution_count": null,
      "outputs": []
    },
    {
      "cell_type": "code",
      "metadata": {
        "id": "a77SRFS4e90n"
      },
      "source": [
        "# Code17.34\n",
        "# variational autoencoder\n",
        "\n",
        "class Sampling(keras.layers.Layer):\n",
        "    def call(self, inputs):\n",
        "        mean, log_var = inputs\n",
        "        return K.random_normal(tf.shape(log_var)) * K.exp(log_var / 2) + mean\n",
        "\n",
        "codings_size = 10\n",
        "\n",
        "# encoder\n",
        "inputs = keras.layers.Input(shape = [28, 28])\n",
        "z = keras.layers.Flatten()(inputs)\n",
        "z = keras.layers.Dense(150, activation = 'selu')(z)\n",
        "z = keras.layers.Dense(100, activation = 'selu')(z)\n",
        "codings_mean = keras.layers.Dense(codings_size)(z)\n",
        "codings_log_var = keras.layers.Dense(codings_size)(z)\n",
        "codings = Sampling()([codings_mean, codings_log_var])\n",
        "variational_encoder = keras.models.Model(inputs = [inputs], outputs = [codings_mean, codings_log_var, codings])\n",
        "\n",
        "# decoder\n",
        "decoder_inputs = keras.layers.Input(shape = [codings_size])\n",
        "x = keras.layers.Dense(100, activation = 'selu')(decoder_inputs)\n",
        "x = keras.layers.Dense(150, activation = 'selu')(x)\n",
        "x = keras.layers.Dense(28 * 28, activation = 'sigmoid')(x)\n",
        "outputs = keras.layers.Reshape([28, 28])(x)\n",
        "variational_decoder = keras.models.Model(inputs = [decoder_inputs], outputs = [outputs])\n",
        "\n",
        "_, _, codings = variational_encoder(inputs)\n",
        "reconstructions = variational_decoder(codings)\n",
        "variational_autoencoder = keras.models.Model(inputs = [inputs], outputs = [reconstructions])\n",
        "\n",
        "latent_loss = -0.5 * K.sum(1 + codings_log_var - K.exp(codings_log_var) - K.square(codings_mean), axis = -1)\n",
        "variational_autoencoder.add_loss(K.mean(latent_loss) / 784.0)\n",
        "variational_autoencoder.compile(loss = 'binary_crossentropy', optimizer = 'rmsprop', metrics = [rounded_accuracy])\n",
        "history = variational_autoencoder.fit(X_train, X_train, epochs = 25, batch_size = 128, validation_data = (X_valid, X_valid))"
      ],
      "execution_count": null,
      "outputs": []
    },
    {
      "cell_type": "code",
      "metadata": {
        "id": "AyTVBhrcsJ41"
      },
      "source": [
        "# Code17.35\n",
        "# draw it\n",
        "\n",
        "show_reconstructions(variational_autoencoder)\n",
        "plt.show()"
      ],
      "execution_count": null,
      "outputs": []
    },
    {
      "cell_type": "code",
      "metadata": {
        "id": "drlUgvcBe-D6"
      },
      "source": [
        "# Code17.36\n",
        "# draw images func\n",
        "\n",
        "def plot_mutiple_images(images, n_cols = None):\n",
        "    n_cols = n_cols or len(images)\n",
        "    n_rows = (len(images) - 1) // n_cols + 1\n",
        "    if images.shape[-1] == 1:\n",
        "        images = np.squeeze(images, axis = -1)\n",
        "    plt.figure(figsize = (n_cols, n_rows))\n",
        "    for index, image in enumerate(images):\n",
        "        plt.subplot(n_rows, n_cols, index + 1)\n",
        "        plt.imshow(image, cmap = 'binary')\n",
        "        plt.axis('off')"
      ],
      "execution_count": null,
      "outputs": []
    },
    {
      "cell_type": "code",
      "metadata": {
        "id": "gT3p2TNyzA2B"
      },
      "source": [
        "# Code17.37\n",
        "# generate some image\n",
        "\n",
        "codings = tf.random.normal(shape = [12, codings_size])\n",
        "images = variational_decoder(codings).numpy()\n",
        "plot_mutiple_images(images, 4)"
      ],
      "execution_count": null,
      "outputs": []
    },
    {
      "cell_type": "code",
      "metadata": {
        "id": "f0dHlAbHzlPC"
      },
      "source": [
        "# Code17.38\n",
        "#\n",
        "\n",
        "codings_grid = tf.reshape(codings, [1, 3, 4, codings_size])\n",
        "larger_grid = tf.image.resize(codings_grid, size = [5, 7])\n",
        "interpolated_codings = tf.reshape(larger_grid, [-1, codings_size])\n",
        "images = variational_decoder(interpolated_codings).numpy()\n",
        "\n",
        "plt.figure(figsize = (7, 5))\n",
        "for index, image in  enumerate(images):\n",
        "    plt.subplot(5, 7, index + 1)\n",
        "    if index % 7 % 2 == 0 and index // 7 % 2 == 0:\n",
        "        plt.gca().get_xaxis().set_visible(False)\n",
        "        plt.gca().get_yaxis().set_visible(False)\n",
        "    else:\n",
        "        plt.axis('off')\n",
        "    plt.imshow(image, cmap = 'binary')\n",
        "\n",
        "plt.show()"
      ],
      "execution_count": null,
      "outputs": []
    },
    {
      "cell_type": "code",
      "metadata": {
        "id": "wEVeUcWpxicS"
      },
      "source": [
        "# Code17.39\n",
        "# gan\n",
        "\n",
        "# 编码数量\n",
        "codings_size = 30\n",
        "\n",
        "#  生成器\n",
        "generator = keras.models.Sequential([\n",
        "    keras.layers.Dense(100, activation = 'selu', input_shape = [codings_size]),\n",
        "    keras.layers.Dense(150, activation = 'selu'),\n",
        "    keras.layers.Dense(28 * 28, activation = 'sigmoid'),\n",
        "    keras.layers.Reshape([28, 28])\n",
        "])\n",
        "\n",
        "# 判别器\n",
        "discriminator = keras.models.Sequential([\n",
        "    keras.layers.Flatten(input_shape = [28, 28]),\n",
        "    keras.layers.Dense(150, activation = 'selu'),\n",
        "    keras.layers.Dense(100, activation = 'selu'),\n",
        "    keras.layers.Dense(1, activation = 'sigmoid')\n",
        "])\n",
        "\n",
        "gan = keras.models.Sequential([generator, discriminator])\n",
        "\n",
        "discriminator.compile(loss = 'binary_crossentropy', optimizer = 'rmsprop')\n",
        "discriminator.trainable = False\n",
        "gan.compile(loss = 'binary_crossentropy', optimizer = 'rmsprop')"
      ],
      "execution_count": null,
      "outputs": []
    },
    {
      "cell_type": "code",
      "metadata": {
        "id": "JmsE3jRUBjBH"
      },
      "source": [
        "# Code17.40\n",
        "# customalized train func\n",
        "\n",
        "def train_gan(gan, dataset, batch_size, codings_size, n_epochs = 50):\n",
        "    generator, discriminator = gan.layers\n",
        "    for epoch in range(n_epochs):\n",
        "        print('Epoch{}/{}'.format(epoch + 1, n_epochs))\n",
        "        for X_batch in dataset:\n",
        "            # 训练判别器\n",
        "            noise = tf.random.normal(shape = [batch_size, codings_size])\n",
        "            generated_images = generator(noise)\n",
        "            X_fake_and_real = tf.concat([generated_images, X_batch], axis = 0)\n",
        "            y1 = tf.constant([[0.]] * batch_size + [[1.]] * batch_size)\n",
        "            discriminator.trainable = True\n",
        "            discriminator.train_on_batch(X_fake_and_real, y1)\n",
        "\n",
        "            # 训练生成器\n",
        "            noise = tf.random.normal(shape = [batch_size, codings_size])\n",
        "            y2 = tf.constant([[1.]] * batch_size)\n",
        "            discriminator.trainable = False\n",
        "            gan.train_on_batch(noise, y2)\n",
        "        \n",
        "        plot_mutiple_images(generated_images, 8)\n",
        "        plt.show()"
      ],
      "execution_count": null,
      "outputs": []
    },
    {
      "cell_type": "code",
      "metadata": {
        "id": "fV5qvR24Dp9I"
      },
      "source": [
        "# Code17.41\n",
        "# create train set\n",
        "\n",
        "batch_size = 32\n",
        "dataset = tf.data.Dataset.from_tensor_slices(X_train).shuffle(1000)\n",
        "dataset = dataset.batch(batch_size, drop_remainder = True).prefetch(1)"
      ],
      "execution_count": null,
      "outputs": []
    },
    {
      "cell_type": "code",
      "metadata": {
        "id": "qEDx4xfbEJQ8"
      },
      "source": [
        "# Code17.42\n",
        "# train 1 epochs\n",
        "\n",
        "train_gan(gan, dataset, batch_size, codings_size, n_epochs = 1)"
      ],
      "execution_count": null,
      "outputs": []
    },
    {
      "cell_type": "code",
      "metadata": {
        "id": "MvtM5hkxGWpO"
      },
      "source": [
        "# Code17.43\n",
        "# generate some picture\n",
        "\n",
        "noise = tf.random.normal(shape = [batch_size, codings_size])\n",
        "generated_images = generator(noise)\n",
        "plot_mutiple_images(generated_images, 8)"
      ],
      "execution_count": null,
      "outputs": []
    },
    {
      "cell_type": "code",
      "metadata": {
        "id": "eFsP3AKMGpRI"
      },
      "source": [
        "# Code17.44\n",
        "# train 50 epochs\n",
        "\n",
        "train_gan(gan, dataset, batch_size, codings_size)"
      ],
      "execution_count": null,
      "outputs": []
    },
    {
      "cell_type": "code",
      "metadata": {
        "id": "paW7qYZd3q26"
      },
      "source": [
        "# Code17.45\n",
        "# DCGAN\n",
        "\n",
        "codings_size = 100\n",
        "\n",
        "generator = keras.models.Sequential([\n",
        "    keras.layers.Dense(7 * 7 * 128, input_shape = [codings_size]),\n",
        "    keras.layers.Reshape([7, 7, 128]),\n",
        "    keras.layers.BatchNormalization(),\n",
        "    keras.layers.Conv2DTranspose(64, kernel_size = 5, strides = 2, padding = 'SAME', activation = 'selu'),\n",
        "    keras.layers.BatchNormalization(),\n",
        "    keras.layers.Conv2DTranspose(1, kernel_size = 5, strides = 2, padding = 'SAME', activation = 'tanh')\n",
        "])\n",
        "\n",
        "discriminator = keras.models.Sequential([\n",
        "    keras.layers.Conv2D(64, kernel_size = 5, strides = 2, padding = 'SAME', activation = keras.layers.LeakyReLU(0.2), input_shape = [28, 28, 1]),\n",
        "    keras.layers.Dropout(0.4),\n",
        "    keras.layers.Conv2D(128, kernel_size = 5, strides = 2, padding = 'SAME', activation = keras.layers.LeakyReLU(0.2)),\n",
        "    keras.layers.Dropout(0.4),\n",
        "    keras.layers.Flatten(),\n",
        "    keras.layers.Dense(1, activation = 'sigmoid')\n",
        "])\n",
        "\n",
        "gan = keras.models.Sequential([generator, discriminator])\n",
        "discriminator.compile(loss = 'binary_crossentropy', optimizer = 'rmsprop')\n",
        "discriminator.trainable = False\n",
        "gan.compile(loss = 'binary_crossentropy', optimizer = 'rmsprop')"
      ],
      "execution_count": null,
      "outputs": []
    },
    {
      "cell_type": "code",
      "metadata": {
        "id": "P5MJTStgNPwS"
      },
      "source": [
        "# Code17.46\n",
        "#  create dataset\n",
        "\n",
        "X_train_dcgan = X_train.reshape(-1, 28, 28, 1) * 2. - 1.\n",
        "\n",
        "batch_size = 32\n",
        "dataset = tf.data.Dataset.from_tensor_slices(X_train_dcgan)\n",
        "dataset = dataset.shuffle(1000)\n",
        "dataset = dataset.batch(batch_size, drop_remainder = True).prefetch(1)\n"
      ],
      "execution_count": null,
      "outputs": []
    },
    {
      "cell_type": "code",
      "metadata": {
        "id": "BPgRgdKcOS1M"
      },
      "source": [
        "# Code17.47\n",
        "# train \n",
        "\n",
        "train_gan(gan, dataset, batch_size, codings_size)"
      ],
      "execution_count": null,
      "outputs": []
    },
    {
      "cell_type": "code",
      "metadata": {
        "id": "mgkD1E7Pb-H1"
      },
      "source": [
        "# Code17.48\n",
        "# generate some images\n",
        "\n",
        "noise = tf.random.normal(shape = [batch_size,codings_size])\n",
        "generated_images = generator(noise)\n",
        "plot_mutiple_images(generated_images, 8)\n",
        "plt.show()"
      ],
      "execution_count": null,
      "outputs": []
    }
  ]
}