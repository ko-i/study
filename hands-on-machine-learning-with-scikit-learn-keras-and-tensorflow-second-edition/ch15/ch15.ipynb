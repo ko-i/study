{
  "nbformat": 4,
  "nbformat_minor": 0,
  "metadata": {
    "kernelspec": {
      "display_name": "Python 3",
      "language": "python",
      "name": "python3"
    },
    "language_info": {
      "codemirror_mode": {
        "name": "ipython",
        "version": 3
      },
      "file_extension": ".py",
      "mimetype": "text/x-python",
      "name": "python",
      "nbconvert_exporter": "python",
      "pygments_lexer": "ipython3",
      "version": "3.8.5"
    },
    "colab": {
      "name": "ch15.ipynb",
      "provenance": []
    },
    "accelerator": "GPU"
  },
  "cells": [
    {
      "cell_type": "code",
      "metadata": {
        "id": "JAa2yfLlSgZH"
      },
      "source": [
        "# 2020-10-28 created by Akson"
      ],
      "execution_count": null,
      "outputs": []
    },
    {
      "cell_type": "code",
      "metadata": {
        "id": "ACAK97H5YgyB"
      },
      "source": [
        "# Code15.1\n",
        "# import\n",
        "\n",
        "import numpy as np\n",
        "import tensorflow as tf\n",
        "import tensorflow.keras as keras\n",
        "import matplotlib.pyplot as plt"
      ],
      "execution_count": null,
      "outputs": []
    },
    {
      "cell_type": "code",
      "metadata": {
        "id": "FHaWQnJfSgZM"
      },
      "source": [
        "# Code15.2\n",
        "# generate time series dataset\n",
        "\n",
        "def generate_time_series(batch_size, n_steps):\n",
        "    freq1, freq2, offsets1, offsets2 = np.random.rand(4, batch_size, 1)\n",
        "    time = np.linspace(0, 1, n_steps)\n",
        "    series = 0.5 * np.sin((time - offsets1) * (freq1 * 10 + 10))\n",
        "    series += 0.2 * np.sin((time - offsets2) * (freq2 * 20 + 20))\n",
        "    series += 0.1 * (np.random.rand(batch_size, n_steps) - 0.5)\n",
        "\n",
        "    return series[..., np.newaxis].astype(np.float32)\n",
        "\n",
        "n_steps = 50\n",
        "series = generate_time_series(10000, n_steps + 1)\n",
        "X_train = series[:7000, :n_steps]\n",
        "y_train = series[:7000, -1]\n",
        "X_valid = series[7000: 9000, :n_steps]\n",
        "y_valid = series[7000: 9000, -1]\n",
        "X_test = series[9000:, :n_steps]\n",
        "y_test = series[9000:, -1]"
      ],
      "execution_count": null,
      "outputs": []
    },
    {
      "cell_type": "code",
      "metadata": {
        "id": "q9GwfJxFWBFC"
      },
      "source": [
        "# Code15.3\n",
        "# some model?\n",
        "\n",
        "# ?\n",
        "y_pred = X_test[:, -1]\n",
        "print(np.mean(keras.losses.mean_squared_error(y_test, y_pred)))\n",
        "\n",
        "# use dnn\n",
        "model = keras.models.Sequential([\n",
        "    keras.layers.Flatten(input_shape = [50, 1]),\n",
        "    keras.layers.Dense(1)\n",
        "])\n",
        "\n",
        "model.compile(loss = 'mse', optimizer = 'adam')\n",
        "model.fit(X_train, y_train, epochs = 20, validation_data = (X_valid, y_valid))\n",
        "model.evaluate(X_test, y_test)"
      ],
      "execution_count": null,
      "outputs": []
    },
    {
      "cell_type": "code",
      "metadata": {
        "id": "P67h7FPCbZV2"
      },
      "source": [
        "# Code15.4\n",
        "# simple RNN\n",
        "\n",
        "model = keras.models.Sequential([\n",
        "    keras.layers.SimpleRNN(1, input_shape = [None, 1])\n",
        "])\n",
        "\n",
        "model.compile(loss = 'mse', optimizer = 'adam')\n",
        "model.fit(X_train, y_train, epochs = 20, validation_data = (X_valid, y_valid))\n",
        "model.evaluate(X_test, y_test)"
      ],
      "execution_count": null,
      "outputs": []
    },
    {
      "cell_type": "code",
      "metadata": {
        "id": "5bZRjBVtc9Dm"
      },
      "source": [
        "# Code15.5\n",
        "# normal RNN\n",
        "\n",
        "model = keras.models.Sequential([\n",
        "    keras.layers.SimpleRNN(20, return_sequences = True, input_shape = [None, 1]),\n",
        "    keras.layers.SimpleRNN(20, return_sequences = True),\n",
        "    keras.layers.SimpleRNN(1)\n",
        "])\n",
        "\n",
        "model.compile(loss = 'mse', optimizer = 'adam')\n",
        "model.fit(X_train, y_train, epochs = 10, validation_data = (X_valid, y_valid))\n",
        "model.evaluate(X_test, y_test)"
      ],
      "execution_count": null,
      "outputs": []
    },
    {
      "cell_type": "code",
      "metadata": {
        "id": "h-fgZIh2ILF3"
      },
      "source": [
        "# Code15.6\n",
        "# change last layer\n",
        "\n",
        "model = keras.models.Sequential([\n",
        "    keras.layers.SimpleRNN(20, return_sequences = True, input_shape = [None, 1]),\n",
        "    keras.layers.SimpleRNN(20),\n",
        "    keras.layers.Dense(1)\n",
        "])\n",
        "\n",
        "model.compile(loss = 'mse', optimizer = 'adam')\n",
        "model.fit(X_train, y_train, epochs = 10, validation_data = (X_valid, y_valid))\n",
        "model.evaluate(X_test, y_test)"
      ],
      "execution_count": null,
      "outputs": []
    },
    {
      "cell_type": "code",
      "metadata": {
        "id": "Tg-hEb7oIpmx"
      },
      "source": [
        "# Code15.7\n",
        "# more far-1\n",
        "\n",
        "series = generate_time_series(1, n_steps + 10)\n",
        "X_new = series[:, :n_steps]\n",
        "y_new = series[:, n_steps:]\n",
        "X = X_new\n",
        "\n",
        "for step_ahead in range(10):\n",
        "    y_pred_one = model.predict(X[:, step_ahead:])[:, np.newaxis, :]\n",
        "    X = np.concatenate([X, y_pred_one], axis = 1)\n",
        "\n",
        "y_pred = X[:, n_steps:]\n",
        "\n",
        "def plot_series(series, y = None, y_pred = None, x_label = '$t$', y_label = '$x(t)$'):\n",
        "    plt.plot(series, '.-')\n",
        "    if y is not None:\n",
        "        plt.plot(n_steps, y, 'bx', markersize = 10)\n",
        "    if y_pred is not None:\n",
        "        plt.plot(n_steps, y_pred, 'ro')\n",
        "    plt.grid(True)\n",
        "\n",
        "    if x_label:\n",
        "        plt.xlabel(x_label, fontsize = 16)\n",
        "    if y_label:\n",
        "        plt.ylabel(y_label, fontsize = 16, rotation = 0)\n",
        "    plt.hlines(0, 0, 100, linewidth = 1)\n",
        "    plt.axis([0, n_steps + 1, -1, 1])\n",
        "    \n",
        "\n",
        "def plot_multiple_forecasts(X, y, y_pred):\n",
        "    n_steps = X.shape[1]\n",
        "    ahead = y.shape[1]\n",
        "    plot_series(X[0, :, 0])\n",
        "    plt.plot(np.arange(n_steps, n_steps + ahead), y[0, :, 0], 'ro-', label = 'Actual')\n",
        "    plt.plot(np.arange(n_steps, n_steps + ahead), y_pred[0, :, 0], 'bx-', label = 'Forecast', markersize = 10)\n",
        "    plt.axis([0, n_steps + ahead, -1, 1])\n",
        "    plt.legend(fontsize = 14)\n",
        "\n",
        "plot_multiple_forecasts(X_new, y_new, y_pred)\n",
        "plt.show()"
      ],
      "execution_count": null,
      "outputs": []
    },
    {
      "cell_type": "code",
      "metadata": {
        "id": "Q7UC4oiaLH2e"
      },
      "source": [
        "# Code15.8\n",
        "#\n",
        "\n",
        "series = generate_time_series(10000, n_steps + 10)\n",
        "X_train = series[:7000, :n_steps]\n",
        "y_train = series[:7000, n_steps:]\n",
        "X_valid = series[7000::, :n_steps]\n",
        "y_valid = series[7000:, n_steps:]\n",
        "\n",
        "model = keras.models.Sequential([\n",
        "    keras.layers.SimpleRNN(20, return_sequences = True, input_shape = [None, 1]),\n",
        "    keras.layers.SimpleRNN(20),\n",
        "    keras.layers.Dense(10)\n",
        "])\n",
        "\n",
        "model.compile(loss = 'mse', optimizer = 'adam')\n",
        "model.fit(X_train, y_train, batch_size = 10, validation_data = (X_valid, y_valid))\n",
        "\n",
        "series = generate_time_series(1, 50 + 10)\n",
        "X_new = series[:, :50, :]\n",
        "y_new = series[:, -10:, :]\n",
        "y_pred = model.predict(X_new)[..., np.newaxis]\n",
        "\n",
        "plot_multiple_forecasts(X_new, y_new, y_pred)\n",
        "plt.show()"
      ],
      "execution_count": null,
      "outputs": []
    },
    {
      "cell_type": "code",
      "metadata": {
        "id": "vOJi-zG7UasU"
      },
      "source": [
        "# Code15.9\n",
        "\n",
        "n_steps = 50\n",
        "series = generate_time_series(10000, n_steps + 10)\n",
        "X_train = series[:7000, :n_steps]\n",
        "X_valid = series[7000:9000, :n_steps]\n",
        "X_test = series[9000:, :n_steps]\n",
        "\n",
        "y = np.empty((10000, n_steps, 10))\n",
        "for step_ahead in range(1, 10 + 1):\n",
        "    y[..., step_ahead - 1] = series[..., step_ahead:step_ahead + n_steps, 0]\n",
        "y_train = y[:7000]\n",
        "y_valid = y[7000:9000]\n",
        "y_test = y[9000:]\n",
        "\n",
        "model = keras.models.Sequential([\n",
        "    keras.layers.SimpleRNN(20, return_sequences = True, input_shape = [None, 1]),\n",
        "    keras.layers.SimpleRNN(20, return_sequences = True),\n",
        "    keras.layers.TimeDistributed(keras.layers.Dense(10))\n",
        "])\n",
        "\n",
        "def last_time_step_mse(y_true, y_pred):\n",
        "    return keras.metrics.mean_squared_error(y_true[:, -1], y_pred[:, -1])\n",
        "\n",
        "model.compile(loss = 'mse', optimizer = keras.optimizers.Adam(lr = 0.01), metrics = [last_time_step_mse])\n",
        "history = model.fit(X_train, y_train, epochs =20, validation_data = (X_valid, y_valid))\n",
        "\n",
        "series = generate_time_series(1, 50 + 10)\n",
        "X_new = series[:, :50, :]\n",
        "y_new = series[:, 50:, :]\n",
        "\n",
        "y_pred = model.predict(X_new)[:, -1][..., np.newaxis]\n",
        "\n",
        "plot_multiple_forecasts(X_new, y_new, y_pred)\n",
        "plt.show()"
      ],
      "execution_count": null,
      "outputs": []
    },
    {
      "cell_type": "code",
      "metadata": {
        "id": "6FOmRhd6VArj"
      },
      "source": [
        "# Code15.10\n",
        "\n",
        "class LNSimpleRNNCell(keras.layers.Layer):\n",
        "    def __init__(self, units, activation = 'tanh', **kwargs):\n",
        "        super().__init__(**kwargs)\n",
        "        self.state_size = units\n",
        "        self.output_size = units\n",
        "        self.simple_rnn_cell = keras.layers.SimpleRNNCell(units, activation = None)\n",
        "        self.layer_norm = keras.layers.LayerNormalization()\n",
        "        self.activation = keras.activations.get(activation)\n",
        "\n",
        "    def call(self, inputs, states):\n",
        "        outputs, new_states = self.simple_rnn_cell(inputs, states)\n",
        "        norm_outputs = self.activation(self.layer_norm(outputs))\n",
        "        return norm_outputs, [norm_outputs]\n",
        "\n",
        "model = keras.models.Sequential([\n",
        "    keras.layers.RNN(LNSimpleRNNCell(20), return_sequences = True, input_shape = [None, 1]),\n",
        "    keras.layers.RNN(LNSimpleRNNCell(20), return_sequences = True),\n",
        "    keras.layers.TimeDistributed(keras.layers.Dense(10))\n",
        "])\n",
        "\n",
        "model.compile(loss = 'mse', optimizer = 'adam', metrics = [last_time_step_mse])\n",
        "history = model.fit(X_train, y_train, epochs = 10, validation_data = (X_valid, y_valid))"
      ],
      "execution_count": null,
      "outputs": []
    },
    {
      "cell_type": "code",
      "metadata": {
        "id": "kOpQZth1f8Er"
      },
      "source": [
        "# Code15.11\n",
        "# LSTM\n",
        "\n",
        "model = keras.models.Sequential([\n",
        "    keras.layers.LSTM(20, return_sequences = True, input_shape = [None, 1]),\n",
        "    keras.layers.LSTM(20, return_sequences = True),\n",
        "    keras.layers.TimeDistributed(keras.layers.Dense(10))\n",
        "])\n",
        "\n",
        "model.compile(loss = 'mse', optimizer = 'adam', metrics = [last_time_step_mse])\n",
        "history = model.fit(X_train, y_train, epochs = 10, validation_data = (X_valid, y_valid))"
      ],
      "execution_count": null,
      "outputs": []
    },
    {
      "cell_type": "code",
      "metadata": {
        "id": "x7GDFkBCkp_k"
      },
      "source": [
        "# Code15.12\n",
        "# GRU\n",
        "\n",
        "model = keras.models.Sequential([\n",
        "    keras.layers.GRU(20, return_sequences = True, input_shape = [None, 1]),\n",
        "    keras.layers.GRU(20, return_sequences = True),\n",
        "    keras.layers.TimeDistributed(keras.layers.Dense(10))\n",
        "])\n",
        "\n",
        "model.compile(loss = 'mse', optimizer = 'adam', metrics = [last_time_step_mse])\n",
        "history = model.fit(X_train, y_train, epochs = 10, validation_data = (X_valid, y_valid))"
      ],
      "execution_count": null,
      "outputs": []
    },
    {
      "cell_type": "code",
      "metadata": {
        "id": "2BybJf9PsIF7"
      },
      "source": [
        "# Code15.13\n",
        "# 1-D Conv\n",
        "\n",
        "model = keras.models.Sequential([\n",
        "    keras.layers.Conv1D(filters = 20, kernel_size = 4, strides = 2, padding = 'valid', input_shape = [None, 1]),\n",
        "    keras.layers.GRU(20, return_sequences = True),\n",
        "    keras.layers.GRU(20, return_sequences = True),\n",
        "    keras.layers.TimeDistributed(keras.layers.Dense(10))\n",
        "])\n",
        "\n",
        "model.compile(loss = 'mse', optimizer = 'adam', metrics = [last_time_step_mse])\n",
        "history = model.fit(X_train, y_train[:, 3::2], epochs = 10, validation_data = (X_valid, y_valid[:, 3::2]))"
      ],
      "execution_count": null,
      "outputs": []
    },
    {
      "cell_type": "code",
      "metadata": {
        "id": "GuNIdqLTsIQf"
      },
      "source": [
        "# Code15.14\n",
        "# Simple WaveNet\n",
        "\n",
        "model = keras.models.Sequential()\n",
        "model.add(keras.layers.InputLayer(input_shape = [None, 1]))\n",
        "for rate in (1, 2, 4, 8) * 2:\n",
        "    model.add(keras.layers.Conv1D(filters = 20, kernel_size = 2, padding = 'causal', activation = 'relu', dilation_rate = rate))\n",
        "model.add(keras.layers.Conv1D(filters = 10, kernel_size = 1))\n",
        "\n",
        "model.compile(loss = 'mse', optimizer = 'adam', metrics = [last_time_step_mse])\n",
        "history = model.fit(X_train, y_train, epochs = 20, validation_data = (X_valid, y_valid), verbose = 1)"
      ],
      "execution_count": null,
      "outputs": []
    }
  ]
}