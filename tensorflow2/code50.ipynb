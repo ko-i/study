{
  "nbformat": 4,
  "nbformat_minor": 0,
  "metadata": {
    "colab": {
      "name": "Untitled0.ipynb",
      "provenance": [],
      "authorship_tag": "ABX9TyPTEUogDNOJw/oZ7ihztevU"
    },
    "kernelspec": {
      "display_name": "Python 3",
      "name": "python3"
    },
    "language_info": {
      "name": "python"
    },
    "accelerator": "GPU"
  },
  "cells": [
    {
      "cell_type": "code",
      "metadata": {
        "id": "xGjNYGGxm4Ic"
      },
      "source": [
        "import numpy as np\n",
        "import tensorflow as tf\n",
        "from tensorflow import keras"
      ],
      "execution_count": null,
      "outputs": []
    },
    {
      "cell_type": "code",
      "metadata": {
        "id": "e6dW3yoVm8r-"
      },
      "source": [
        "layer = keras.layers.Dense(3)\n",
        "layer.build((None, 4))\n",
        "\n",
        "print('weights: ', len(layer.weights))\n",
        "print('trainable weights: ', len(layer.trainable_weights))\n",
        "print('non trainable weights: ', len(layer.non_trainable_weights))"
      ],
      "execution_count": null,
      "outputs": []
    },
    {
      "cell_type": "code",
      "metadata": {
        "id": "m5gd3K3bpDKp"
      },
      "source": [
        "layer = keras.layers.Dense(3)\n",
        "layer.build((None, 4))\n",
        "layer.trainable = False\n",
        "\n",
        "print('weights: ', len(layer.weights))\n",
        "print('trainable weights: ', len(layer.trainable_weights))\n",
        "print('non trainable weights: ', len(layer.non_trainable_weights))"
      ],
      "execution_count": null,
      "outputs": []
    },
    {
      "cell_type": "code",
      "metadata": {
        "id": "4QT2KT9tpgAs"
      },
      "source": [
        "layer1 = keras.layers.Dense(3, activation='relu')\n",
        "layer2 = keras.layers.Dense(3, activation='sigmoid')\n",
        "model = keras.Sequential([keras.Input(shape=(3, )), layer1, layer2])\n",
        "\n",
        "layer1.trainable = False\n",
        "initial_layer1_weights_values = layer1.get_weights()\n",
        "\n",
        "model.compile(optimizer='adam', loss='mse')\n",
        "model.fit(np.random.random((2, 3)), np.random.random((2, 3)))\n",
        "\n",
        "final_layer1_weights_values = layer1.get_weights()\n",
        "\n",
        "np.testing.assert_allclose(\n",
        "    initial_layer1_weights_values[0], final_layer1_weights_values[0]\n",
        ")\n",
        "\n",
        "np.testing.assert_allclose(\n",
        "    initial_layer1_weights_values[1], final_layer1_weights_values[1]\n",
        ")"
      ],
      "execution_count": null,
      "outputs": []
    },
    {
      "cell_type": "code",
      "metadata": {
        "id": "u96z7gQYrneX"
      },
      "source": [
        "inner_model = keras.Sequential([\n",
        "    keras.Input(shape=(3, )),\n",
        "    keras.layers.Dense(3, activation='relu'),\n",
        "    keras.layers.Dense(3, activation='relu'),\n",
        "])\n",
        "\n",
        "model = keras.Sequential([\n",
        "    keras.Input(shape=(3, )),\n",
        "    inner_model,\n",
        "    keras.layers.Dense(3, activation='sigmoid')\n",
        "])\n",
        "\n",
        "model.trainable = False\n",
        "print(inner_model.trainable)\n",
        "print(inner_model.layers[0].trainable)"
      ],
      "execution_count": null,
      "outputs": []
    },
    {
      "cell_type": "code",
      "metadata": {
        "id": "br42AZtnuRsN"
      },
      "source": [
        "base_model = keras.applications.Xception(weights='imagenet', input_shape=(150, 150, 3), include_top=False)"
      ],
      "execution_count": null,
      "outputs": []
    },
    {
      "cell_type": "code",
      "metadata": {
        "id": "yNUWcoOiwKHO"
      },
      "source": [
        "base_model.trainable = False"
      ],
      "execution_count": null,
      "outputs": []
    },
    {
      "cell_type": "code",
      "metadata": {
        "id": "KxEsCXmvwOUl"
      },
      "source": [
        "inputs = keras.Input(shape=(150, 150, 3))\n",
        "x = base_model(inputs, training=False)\n",
        "x = keras.layers.GlobalAveragePooling2D()(x)\n",
        "outputs = keras.layers.Dense(1)(x)\n",
        "\n",
        "model = keras.Model(inputs, outputs)"
      ],
      "execution_count": null,
      "outputs": []
    },
    {
      "cell_type": "code",
      "metadata": {
        "id": "RVwBlVlGwi7_"
      },
      "source": [
        "model.compile(optimizer='adam', loss=keras.losses.BinaryCrossentropy(from_logits=True), metrics=[keras.metrics.BinaryAccuracy()])\n",
        "\n",
        "# model.fit(new_dataset, epochs=20, callbacks=..., validation_data=...)"
      ],
      "execution_count": null,
      "outputs": []
    },
    {
      "cell_type": "code",
      "metadata": {
        "id": "ApLcbSqBxAum"
      },
      "source": [
        "base_model.trainable = True\n",
        "\n",
        "model.compile(optimizer=keras.optimizers.Adam(1e-5), loss=keras.losses.BinaryCrossentropy(from_logits=True), metrics=[keras.metrics.BinaryAccuracy()])\n",
        "\n",
        "# model.fit(new_dataset, epochs=10, callbacks=..., validation_data=...)"
      ],
      "execution_count": null,
      "outputs": []
    },
    {
      "cell_type": "code",
      "metadata": {
        "id": "Sr0fDDrb0itE"
      },
      "source": [
        "base_model = keras.applications.Xception(weights='imagenet', input_shape=(150, 150, 3), include_top=False)\n",
        "base_model.trainable = False\n",
        "\n",
        "inputs = keras.Input(shape=(150, 150, 3))\n",
        "x = base_model(inputs, training=False)\n",
        "x = keras.layers.GlobalAveragePooling2D()(x)\n",
        "outputs = keras.layers.Dense(1)(x)\n",
        "model = keras.Model(inputs, outputs)\n",
        "\n",
        "loss_fn = keras.losses.BinaryCrossentropy(from_logits=True)\n",
        "optimizer = keras.optimizers.Adam()\n",
        "\n",
        "for inputs, targets in new_dataset:\n",
        "    with tf.GradientTape() as tape:\n",
        "        predictions = model(inputs)\n",
        "        loss_value = loss_fn(targets, predictions)\n",
        "    grads = tape.gradient(loss_value, model.trainable_weights)\n",
        "    optimizer.apply_gradients(zip(grads, model.trainable_weights))"
      ],
      "execution_count": null,
      "outputs": []
    },
    {
      "cell_type": "code",
      "metadata": {
        "id": "V6j8ke4v1imm"
      },
      "source": [
        "import tensorflow_datasets as tfds"
      ],
      "execution_count": null,
      "outputs": []
    },
    {
      "cell_type": "code",
      "metadata": {
        "id": "NzpsZ_XD2emj"
      },
      "source": [
        "tfds.disable_progress_bar()\n",
        "\n",
        "train_ds, validation_ds, test_ds = tfds.load('cats_vs_dogs', split=['train[:40%]', 'train[40%:50%]', 'train[50%:60%]'], as_supervised=True)\n",
        "\n",
        "print('Number of training samples: %d' % (tf.data.experimental.cardinality(train_ds)))\n",
        "print('Number of validation samples: %d' % (tf.data.experimental.cardinality(validation_ds)))\n",
        "print('Number of testing samples: %d' % (tf.data.experimental.cardinality(test_ds)))"
      ],
      "execution_count": null,
      "outputs": []
    },
    {
      "cell_type": "code",
      "metadata": {
        "id": "colOXZ9x3VQe"
      },
      "source": [
        "import matplotlib.pyplot as plt\n",
        "\n",
        "plt.figure(figsize=(10, 10))\n",
        "for i, (image, label) in enumerate(train_ds.take(9)):\n",
        "    ax = plt.subplot(3, 3, i+1)\n",
        "    plt.imshow(image)\n",
        "    plt.title(int(label))\n",
        "    plt.axis('off')"
      ],
      "execution_count": null,
      "outputs": []
    },
    {
      "cell_type": "code",
      "metadata": {
        "id": "D9wCRB0wukVi"
      },
      "source": [
        "size = (150, 150)\n",
        "\n",
        "train_ds = train_ds.map(lambda x, y: (tf.image.resize(x, size), y))\n",
        "validation_ds = validation_ds.map(lambda x, y: (tf.image.resize(x, size), y))\n",
        "test_ds = test_ds.map(lambda x, y: (tf.image.resize(x, size), y))"
      ],
      "execution_count": null,
      "outputs": []
    },
    {
      "cell_type": "code",
      "metadata": {
        "id": "UhDD2wEQv2m8"
      },
      "source": [
        "batch_size = 32\n",
        "\n",
        "train_ds = train_ds.cache().batch(batch_size).prefetch(buffer_size=10)\n",
        "validation_ds = validation_ds.cache().batch(batch_size).prefetch(buffer_size=10)\n",
        "test_ds = test_ds.cache().batch(batch_size).prefetch(buffer_size=10)"
      ],
      "execution_count": null,
      "outputs": []
    },
    {
      "cell_type": "code",
      "metadata": {
        "id": "HxoagTY7wTcK"
      },
      "source": [
        "from tensorflow import keras\n",
        "from tensorflow.keras import layers\n",
        "\n",
        "data_augmentation = keras.Sequential([\n",
        "    layers.experimental.preprocessing.RandomFlip('horizontal'),\n",
        "    layers.experimental.preprocessing.RandomRotation(0.1)\n",
        "])"
      ],
      "execution_count": null,
      "outputs": []
    },
    {
      "cell_type": "code",
      "metadata": {
        "id": "9TMYdo66xAm8"
      },
      "source": [
        "import numpy as np\n",
        "\n",
        "for images, labels in train_ds.take(1):\n",
        "    plt.figure(figsize=(10, 10))\n",
        "    first_image = images[0]\n",
        "\n",
        "    for i in range(9):\n",
        "        ax = plt.subplot(3, 3, i+1)\n",
        "        augmented_image = data_augmentation(tf.expand_dims(first_image, 0), training=True)\n",
        "        plt.imshow(augmented_image[0].numpy().astype('int32'))\n",
        "        plt.title(int(labels[0]))\n",
        "        plt.axis('off')"
      ],
      "execution_count": null,
      "outputs": []
    },
    {
      "cell_type": "code",
      "metadata": {
        "id": "YAUK2hpkx1q2"
      },
      "source": [
        "base_model = keras.applications.Xception(weights='imagenet', input_shape=(150, 150, 3), include_top=False)\n",
        "base_model.trainable = False\n",
        "\n",
        "inputs = keras.Input(shape=(150, 150, 3))\n",
        "x = data_augmentation(inputs)\n",
        "\n",
        "norm_layer = keras.layers.experimental.preprocessing.Normalization()\n",
        "mean = np.array([127.5] * 3)\n",
        "var = mean ** 2\n",
        "\n",
        "x = norm_layer(x)\n",
        "norm_layer.set_weights([mean, var])\n",
        "\n",
        "x = base_model(x, training=False)\n",
        "x = keras.layers.GlobalMaxPooling2D()(x)\n",
        "x = keras.layers.Dropout(0.2)(x)\n",
        "outputs = keras.layers.Dense(1)(x)\n",
        "\n",
        "model = keras.Model(inputs, outputs)\n",
        "model.summary()"
      ],
      "execution_count": null,
      "outputs": []
    },
    {
      "cell_type": "code",
      "metadata": {
        "id": "CUQEXAek1BUw"
      },
      "source": [
        "model.compile(optimizer='adam', loss=keras.losses.BinaryCrossentropy(from_logits=True), metrics=[keras.metrics.BinaryAccuracy()])\n",
        "\n",
        "history = model.fit(train_ds, epochs=20, validation_data=validation_ds)"
      ],
      "execution_count": null,
      "outputs": []
    },
    {
      "cell_type": "code",
      "metadata": {
        "id": "oYSNOelA1e5Q"
      },
      "source": [
        "base_model.trainable = True\n",
        "model.summary()"
      ],
      "execution_count": null,
      "outputs": []
    },
    {
      "cell_type": "code",
      "metadata": {
        "id": "BmnHHJNr2ERx"
      },
      "source": [
        "model.compile(optimizer=keras.optimizers.Adam(1e-5), loss=keras.losses.BinaryCrossentropy(from_logits=True), metrics=[keras.metrics.BinaryAccuracy()])\n",
        "model.fit(train_ds, epochs=10, validation_data=validation_ds)"
      ],
      "execution_count": null,
      "outputs": []
    }
  ]
}