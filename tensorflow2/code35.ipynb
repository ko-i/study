{
  "nbformat": 4,
  "nbformat_minor": 0,
  "metadata": {
    "colab": {
      "name": "Untitled0.ipynb",
      "provenance": [],
      "authorship_tag": "ABX9TyNzk8aEzdZVKokcXH8qv8RK"
    },
    "kernelspec": {
      "display_name": "Python 3",
      "name": "python3"
    },
    "language_info": {
      "name": "python"
    }
  },
  "cells": [
    {
      "cell_type": "code",
      "metadata": {
        "id": "-K2Kh3EJL61b"
      },
      "source": [
        "import math\n",
        "import tensorflow as tf"
      ],
      "execution_count": null,
      "outputs": []
    },
    {
      "cell_type": "code",
      "metadata": {
        "id": "MtChEtaNMLWB"
      },
      "source": [
        "digits = tf.ragged.constant([[3,1,3,4], [], [5,9,2], [6], []])\n",
        "words = tf.ragged.constant([['So', 'long'], ['thanks', 'for', 'all', 'the', 'fish']])\n",
        "\n",
        "print(tf.add(digits, 3))"
      ],
      "execution_count": null,
      "outputs": []
    },
    {
      "cell_type": "code",
      "metadata": {
        "id": "IcGFYk9vP9Wh"
      },
      "source": [
        "print(tf.reduce_mean(digits, axis=1))"
      ],
      "execution_count": null,
      "outputs": []
    },
    {
      "cell_type": "code",
      "metadata": {
        "id": "Tuh_eJyqQDCc"
      },
      "source": [
        "print(tf.concat([digits, [[5,3]]], axis=0))"
      ],
      "execution_count": null,
      "outputs": []
    },
    {
      "cell_type": "code",
      "metadata": {
        "id": "uJV8ZfBpQtQn"
      },
      "source": [
        "print(tf.tile(digits, [1, 2]))"
      ],
      "execution_count": null,
      "outputs": []
    },
    {
      "cell_type": "code",
      "metadata": {
        "id": "atPoEse_ROpw"
      },
      "source": [
        "print(tf.tile(digits, [2, 1]))"
      ],
      "execution_count": null,
      "outputs": []
    },
    {
      "cell_type": "code",
      "metadata": {
        "id": "E7vw8vaPRBQx"
      },
      "source": [
        "print(tf.strings.substr(words, 0, 2))"
      ],
      "execution_count": null,
      "outputs": []
    },
    {
      "cell_type": "code",
      "metadata": {
        "id": "e2rnEtXXSNYH"
      },
      "source": [
        "print(tf.map_fn(tf.math.square, digits))"
      ],
      "execution_count": null,
      "outputs": []
    },
    {
      "cell_type": "code",
      "metadata": {
        "id": "Yc6ZtBo1ST9L"
      },
      "source": [
        "print(digits[0])"
      ],
      "execution_count": null,
      "outputs": []
    },
    {
      "cell_type": "code",
      "metadata": {
        "id": "PubJw7_UUDed"
      },
      "source": [
        "print(digits[:, :2])"
      ],
      "execution_count": null,
      "outputs": []
    },
    {
      "cell_type": "code",
      "metadata": {
        "id": "idwRTixbUHQd"
      },
      "source": [
        "print(digits[:, -2:])"
      ],
      "execution_count": null,
      "outputs": []
    },
    {
      "cell_type": "code",
      "metadata": {
        "id": "8i40HnMvULmK"
      },
      "source": [
        "print(digits + 3)"
      ],
      "execution_count": null,
      "outputs": []
    },
    {
      "cell_type": "code",
      "metadata": {
        "id": "aH8uvw_oUWbh"
      },
      "source": [
        "print(tf.ragged.map_flat_values(lambda x: x*2 + 1, digits))"
      ],
      "execution_count": null,
      "outputs": []
    },
    {
      "cell_type": "code",
      "metadata": {
        "id": "JYi0tqPbY7UG"
      },
      "source": [
        "digits.to_list()"
      ],
      "execution_count": null,
      "outputs": []
    },
    {
      "cell_type": "code",
      "metadata": {
        "id": "2FnCbJRCZCmW"
      },
      "source": [
        "digits.numpy()"
      ],
      "execution_count": null,
      "outputs": []
    },
    {
      "cell_type": "code",
      "metadata": {
        "id": "Aeoj0_qLZHL1"
      },
      "source": [
        "sentences = tf.ragged.constant([\n",
        "    [\"Let's\", \"build\", \"some\", \"ragged\", \"tensors\", \"!\"],\n",
        "    [\"We\", \"can\", \"use\", \"tf.ragged.constant\", \".\"],\n",
        "])\n",
        "\n",
        "print(sentences)"
      ],
      "execution_count": null,
      "outputs": []
    },
    {
      "cell_type": "code",
      "metadata": {
        "id": "1sVK8M9-Zg9e"
      },
      "source": [
        "paragraphs = tf.ragged.constant([\n",
        "    [['I', 'have', 'a', 'cat'], ['His', 'name', 'is', 'Mat']],\n",
        "    [['Do', 'you', 'want', 'to', 'come', 'visit'], [\"I'm\", 'free', 'tomorrow']],\n",
        "])\n",
        "print(paragraphs)"
      ],
      "execution_count": null,
      "outputs": []
    },
    {
      "cell_type": "code",
      "metadata": {
        "id": "Z1gSu2IdZ2O0"
      },
      "source": [
        "print(tf.RaggedTensor.from_value_rowids(\n",
        "    values = [3,1,4,1,5,9,2],\n",
        "    value_rowids = [0,0,0,0,2,2,3]\n",
        "))"
      ],
      "execution_count": null,
      "outputs": []
    },
    {
      "cell_type": "code",
      "metadata": {
        "id": "9OaYarM4a1oZ"
      },
      "source": [
        "print(tf.RaggedTensor.from_row_lengths(\n",
        "    values=[3,1,4,1,5,9,2],\n",
        "    row_lengths=[4,0,2,1]\n",
        "))"
      ],
      "execution_count": null,
      "outputs": []
    },
    {
      "cell_type": "code",
      "metadata": {
        "id": "92CEAx1XbF-Q"
      },
      "source": [
        "print(tf.RaggedTensor.from_row_splits(\n",
        "    values=[3,1,4,1,5,9,2],\n",
        "    row_splits=[0,4,4,6,7]\n",
        "))"
      ],
      "execution_count": null,
      "outputs": []
    },
    {
      "cell_type": "code",
      "metadata": {
        "id": "Os8msjd8bdgb"
      },
      "source": [
        "print(tf.ragged.constant([['Hi!'], ['How', 'are', 'you']]))"
      ],
      "execution_count": null,
      "outputs": []
    },
    {
      "cell_type": "code",
      "metadata": {
        "id": "hu2SFIjEdUkv"
      },
      "source": [
        "print(tf.ragged.constant([[[1, 2], [3]], [[4, 5]]]))"
      ],
      "execution_count": null,
      "outputs": []
    },
    {
      "cell_type": "code",
      "metadata": {
        "id": "VuK5ToRqdjlI"
      },
      "source": [
        "try:\n",
        "    tf.ragged.constant([['one', 'two'], [3, 4]])\n",
        "except ValueError as e:\n",
        "    print(e)"
      ],
      "execution_count": null,
      "outputs": []
    },
    {
      "cell_type": "code",
      "metadata": {
        "id": "6h6gZ4BddyGi"
      },
      "source": [
        "try:\n",
        "    tf.ragged.constant([\"A\", [\"B\", \"C\"]])\n",
        "except ValueError as e:\n",
        "    print(e)"
      ],
      "execution_count": null,
      "outputs": []
    },
    {
      "cell_type": "code",
      "metadata": {
        "id": "YpTXOrKHg0Cu"
      },
      "source": [
        "queries = tf.ragged.constant([\n",
        "    ['Who', 'is', 'Dan', 'Smith'],\n",
        "    ['Pause'],\n",
        "    ['Will', 'it', 'rain', 'later', 'day'],\n",
        "])"
      ],
      "execution_count": null,
      "outputs": []
    },
    {
      "cell_type": "code",
      "metadata": {
        "id": "jiYOptuJk8dc"
      },
      "source": [
        "num_buckets = 1024\n",
        "embedding_size = 4\n",
        "embedding_table = tf.Variable(\n",
        "    tf.random.truncated_normal(\n",
        "        [num_buckets, embedding_size], stddev = 1.0 / math.sqrt(embedding_size)\n",
        "    )\n",
        ")"
      ],
      "execution_count": null,
      "outputs": []
    },
    {
      "cell_type": "code",
      "metadata": {
        "id": "iqq7fhy3lgzy"
      },
      "source": [
        "word_buckets = tf.strings.to_hash_bucket_fast(queries, num_buckets)\n",
        "word_buckets"
      ],
      "execution_count": null,
      "outputs": []
    },
    {
      "cell_type": "code",
      "metadata": {
        "id": "KJglNjr1mW8o"
      },
      "source": [
        "word_embeddings = tf.nn.embedding_lookup(embedding_table, word_buckets)\n",
        "word_embeddings.shape"
      ],
      "execution_count": null,
      "outputs": []
    },
    {
      "cell_type": "code",
      "metadata": {
        "id": "D0xic5gsmkGl"
      },
      "source": [
        "marker = tf.fill([queries.nrows(), 1], '#')\n",
        "marker"
      ],
      "execution_count": null,
      "outputs": []
    },
    {
      "cell_type": "code",
      "metadata": {
        "id": "q3H9dwUxp4ZY"
      },
      "source": [
        "padded = tf.concat([marker, queries, marker], axis=1)\n",
        "print(padded)"
      ],
      "execution_count": null,
      "outputs": []
    },
    {
      "cell_type": "code",
      "metadata": {
        "id": "RyugdsJ-raJg"
      },
      "source": [
        "bigrams = tf.strings.join([padded[:, :-1], padded[:, 1:]], separator='+')\n",
        "bigrams"
      ],
      "execution_count": null,
      "outputs": []
    },
    {
      "cell_type": "code",
      "metadata": {
        "id": "wiNqs7DEsIPY"
      },
      "source": [
        "bigram_buckets = tf.strings.to_hash_bucket_fast(bigrams, num_buckets)\n",
        "bigram_buckets"
      ],
      "execution_count": null,
      "outputs": []
    },
    {
      "cell_type": "code",
      "metadata": {
        "id": "lk2VAOtwuNSt"
      },
      "source": [
        "bigram_embeddings = tf.nn.embedding_lookup(embedding_table, bigram_buckets)\n",
        "bigram_embeddings"
      ],
      "execution_count": null,
      "outputs": []
    },
    {
      "cell_type": "code",
      "metadata": {
        "id": "TEy9Ks6Fuudb"
      },
      "source": [
        "all_embeddings = tf.concat([word_embeddings, bigram_embeddings], axis=1)\n",
        "all_embeddings.shape"
      ],
      "execution_count": null,
      "outputs": []
    },
    {
      "cell_type": "code",
      "metadata": {
        "id": "Ysc65QoIvL0q"
      },
      "source": [
        "avg_embedding = tf.reduce_mean(all_embeddings, axis=1)\n",
        "avg_embedding"
      ],
      "execution_count": null,
      "outputs": []
    },
    {
      "cell_type": "code",
      "metadata": {
        "id": "LmNUZjV5vl41"
      },
      "source": [
        "tf.ragged.constant([[\"Hi\"], [\"How\", \"are\", \"you\"]]).shape"
      ],
      "execution_count": null,
      "outputs": []
    },
    {
      "cell_type": "code",
      "metadata": {
        "id": "FLmuPoVGz4VB"
      },
      "source": [
        "print(tf.ragged.constant([['Hi'], ['How', 'are', 'you']]).bounding_shape())"
      ],
      "execution_count": null,
      "outputs": []
    },
    {
      "cell_type": "code",
      "metadata": {
        "id": "oP8vrdOV2ibm"
      },
      "source": [
        "ragged_x = tf.ragged.constant([['John'], ['a', 'big', 'dog'], ['my', 'cat']])\n",
        "ragged_y = tf.ragged.constant([['fell', 'asleep'], ['barked'], ['is', 'fuzzy']])\n",
        "print(tf.concat([ragged_x, ragged_y], axis=1))"
      ],
      "execution_count": null,
      "outputs": []
    },
    {
      "cell_type": "code",
      "metadata": {
        "id": "cvUm3K4o3nRo"
      },
      "source": [
        "sparse_x = ragged_x.to_sparse()\n",
        "sparse_y = ragged_y.to_sparse()\n",
        "sparse_result = tf.sparse.concat(sp_inputs=[sparse_x, sparse_y], axis=1)\n",
        "print(tf.sparse.to_dense(sparse_result, ' '))"
      ],
      "execution_count": null,
      "outputs": []
    },
    {
      "cell_type": "code",
      "metadata": {
        "id": "FhzaQti04F5x"
      },
      "source": [
        "sentences = tf.constant([\n",
        "    'What makes you think she is a witch?',\n",
        "    'She turned me into a newt.',\n",
        "    'A newt?',\n",
        "    'Well, I got better.'\n",
        "])\n",
        "\n",
        "is_question = tf.constant([True, False, True, False])\n",
        "\n",
        "hash_buckets = 1000\n",
        "words = tf.strings.split(sentences, ' ')\n",
        "hashed_words = tf.strings.to_hash_bucket_fast(words, hash_buckets)\n",
        "\n",
        "keras_model = tf.keras.Sequential([\n",
        "    tf.keras.layers.Input([None], dtype=tf.int64, ragged=True),\n",
        "    tf.keras.layers.Embedding(hash_buckets, 16),\n",
        "    tf.keras.layers.LSTM(32, use_bias=False),\n",
        "    tf.keras.layers.Dense(32, activation='relu'),\n",
        "    tf.keras.layers.Dense(1)\n",
        "])\n",
        "\n",
        "keras_model.compile(loss='binary_crossentropy', optimizer='rmsprop')\n",
        "keras_model.fit(hashed_words, is_question, epochs=5)\n",
        "print(keras_model.predict(hashed_words))"
      ],
      "execution_count": null,
      "outputs": []
    },
    {
      "cell_type": "code",
      "metadata": {
        "id": "V-Hvq6O8EQJj"
      },
      "source": [
        "import google.protobuf.text_format as pbtext\n",
        "\n",
        "def build_tf_example(s):\n",
        "    return pbtext.Merge(s, tf.train.Example()).SerializeToString()"
      ],
      "execution_count": null,
      "outputs": []
    },
    {
      "cell_type": "code",
      "metadata": {
        "id": "39WJBuKNGqv4"
      },
      "source": [
        "example_batch = [\n",
        "  build_tf_example(r'''\n",
        "    features {\n",
        "      feature {key: \"colors\" value {bytes_list {value: [\"red\", \"blue\"]} } }\n",
        "      feature {key: \"lengths\" value {int64_list {value: [7]} } } }'''),\n",
        "  build_tf_example(r'''\n",
        "    features {\n",
        "      feature {key: \"colors\" value {bytes_list {value: [\"orange\"]} } }\n",
        "      feature {key: \"lengths\" value {int64_list {value: []} } } }'''),\n",
        "  build_tf_example(r'''\n",
        "    features {\n",
        "      feature {key: \"colors\" value {bytes_list {value: [\"black\", \"yellow\"]} } }\n",
        "      feature {key: \"lengths\" value {int64_list {value: [1, 3]} } } }'''),\n",
        "  build_tf_example(r'''\n",
        "    features {\n",
        "      feature {key: \"colors\" value {bytes_list {value: [\"green\"]} } }\n",
        "      feature {key: \"lengths\" value {int64_list {value: [3, 5, 2]} } } }''')]"
      ],
      "execution_count": null,
      "outputs": []
    },
    {
      "cell_type": "code",
      "metadata": {
        "id": "o9iyMf3iGuAM"
      },
      "source": [
        "feature_specification = {\n",
        "    'colors': tf.io.RaggedFeature(tf.string),\n",
        "    'lengths': tf.io.RaggedFeature(tf.int64),\n",
        "}\n",
        "\n",
        "feature_tensors = tf.io.parse_example(example_batch, feature_specification)\n",
        "for name, value in feature_tensors.items():\n",
        "    print('{}={}'.format(name, value))"
      ],
      "execution_count": null,
      "outputs": []
    },
    {
      "cell_type": "code",
      "metadata": {
        "id": "Lcy2N0TeINg-"
      },
      "source": [
        "def print_dictionary_dataset(dataset):\n",
        "    for i, element in enumerate(dataset):\n",
        "        print('Element {}:'.format(i))\n",
        "        for (name, value) in element.items():\n",
        "            print('{:>14} = {}'.format(name, value))"
      ],
      "execution_count": null,
      "outputs": []
    },
    {
      "cell_type": "code",
      "metadata": {
        "id": "TEfRj_pYJ2sb"
      },
      "source": [
        "dataset = tf.data.Dataset.from_tensor_slices(feature_tensors)\n",
        "print_dictionary_dataset(dataset)"
      ],
      "execution_count": null,
      "outputs": []
    },
    {
      "cell_type": "code",
      "metadata": {
        "id": "9Hr13-VgKTz6"
      },
      "source": [
        "batch_dataset = dataset.batch(2)\n",
        "print_dictionary_dataset(batch_dataset)"
      ],
      "execution_count": null,
      "outputs": []
    },
    {
      "cell_type": "code",
      "metadata": {
        "id": "R6v-dSLfNuCR"
      },
      "source": [
        "unbatch_dataset = batch_dataset.unbatch()\n",
        "print_dictionary_dataset(unbatch_dataset)"
      ],
      "execution_count": null,
      "outputs": []
    },
    {
      "cell_type": "code",
      "metadata": {
        "id": "9mmpyx--N4ct"
      },
      "source": [
        "non_ragged_dataset = tf.data.Dataset.from_tensor_slices([1, 5, 3, 2, 8])\n",
        "non_ragged_dataset = non_ragged_dataset.map(tf.range)\n",
        "batched_non_ragged_dataset = non_ragged_dataset.apply(tf.data.experimental.dense_to_ragged_batch(2))\n",
        "for element in batched_non_ragged_dataset:\n",
        "    print(element)"
      ],
      "execution_count": null,
      "outputs": []
    },
    {
      "cell_type": "code",
      "metadata": {
        "id": "GbzuKh8KRQQW"
      },
      "source": [
        "def transform_lengths(features):\n",
        "    return {\n",
        "        'mean_length': tf.math.reduce_mean(features['lengths']),\n",
        "        'length_ranges': tf.ragged.range(features['lengths'])\n",
        "    }\n",
        "\n",
        "transformed_dataset = dataset.map(transform_lengths)\n",
        "print_dictionary_dataset(transformed_dataset)"
      ],
      "execution_count": null,
      "outputs": []
    },
    {
      "cell_type": "code",
      "metadata": {
        "id": "0TIIXfvTR2IW"
      },
      "source": [
        "@tf.function\n",
        "def make_palindrome(x, axis):\n",
        "    return tf.concat([x, tf.reverse(x, [axis])], axis)"
      ],
      "execution_count": null,
      "outputs": []
    },
    {
      "cell_type": "code",
      "metadata": {
        "id": "uioMr9XlT20x"
      },
      "source": [
        "make_palindrome(x=tf.constant([[1, 2], [3, 4], [5, 6]]), axis=1)"
      ],
      "execution_count": null,
      "outputs": []
    },
    {
      "cell_type": "code",
      "metadata": {
        "id": "Ea4aWqnQUGCL"
      },
      "source": [
        "make_palindrome(x=tf.ragged.constant([[1, 2], [3], [4, 5, 6]]), axis=1)"
      ],
      "execution_count": null,
      "outputs": []
    },
    {
      "cell_type": "code",
      "metadata": {
        "id": "Xzt4-y1oWtOH"
      },
      "source": [
        "@tf.function(input_signature=[tf.RaggedTensorSpec(shape=[None, None], dtype=tf.int32)])\n",
        "def max_and_min(rt):\n",
        "    return (tf.math.reduce_max(rt, axis=-1), tf.math.reduce_min(rt, axis=-1))\n",
        "\n",
        "max_and_min(tf.ragged.constant([[1, 2], [3], [4, 5, 6]]))"
      ],
      "execution_count": null,
      "outputs": []
    },
    {
      "cell_type": "code",
      "metadata": {
        "id": "fPXPHULnX4Vd"
      },
      "source": [
        "@tf.function\n",
        "def increment(x):\n",
        "    return x+1\n",
        "\n",
        "rt = tf.ragged.constant([[1, 2], [3], [4, 5, 6]])\n",
        "cf = increment.get_concrete_function(rt)\n",
        "print(cf(rt))"
      ],
      "execution_count": null,
      "outputs": []
    },
    {
      "cell_type": "code",
      "metadata": {
        "id": "RZhMNPIvYm-1"
      },
      "source": [
        "import tempfile\n",
        "\n",
        "keras_module_path = tempfile.mkdtemp()\n",
        "tf.saved_model.save(keras_model, keras_module_path)\n",
        "imported_model = tf.saved_model.load(keras_module_path)\n",
        "imported_model(hashed_words)"
      ],
      "execution_count": null,
      "outputs": []
    },
    {
      "cell_type": "code",
      "metadata": {
        "id": "WxzUdZzMZaFD"
      },
      "source": [
        "class CustomModule(tf.Module):\n",
        "    def __init__(self, variable_value):\n",
        "        super(CustomModule, self).__init__()\n",
        "        self.v = tf.Variable(variable_value)\n",
        "    \n",
        "    @tf.function\n",
        "    def grow(self, x):\n",
        "        return x * self.v\n",
        "\n",
        "module = CustomModule(100.0)\n",
        "module.grow.get_concrete_function(tf.RaggedTensorSpec(shape=[None, None], dtype=tf.float32))\n",
        "\n",
        "custom_module_path = tempfile.mkdtemp()\n",
        "tf.saved_model.save(module, custom_module_path)\n",
        "imported_model = tf.saved_model.load(custom_module_path)\n",
        "\n",
        "imported_model.grow(tf.ragged.constant([[1.0, 2.0], [3.0], [4.0, 5.0, 6.0]]))"
      ],
      "execution_count": null,
      "outputs": []
    },
    {
      "cell_type": "code",
      "metadata": {
        "id": "gOxitGOzbQ4b"
      },
      "source": [
        "x = tf.ragged.constant([[1, 2], [3], [4, 5, 6]])\n",
        "y = tf.ragged.constant([[1, 1], [2], [3, 3, 3]])\n",
        "x + y"
      ],
      "execution_count": null,
      "outputs": []
    },
    {
      "cell_type": "code",
      "metadata": {
        "id": "ihJzgAE-dG9B"
      },
      "source": [
        "x + 3"
      ],
      "execution_count": null,
      "outputs": []
    },
    {
      "cell_type": "code",
      "metadata": {
        "id": "n3G29xDSdNnt"
      },
      "source": [
        "queries = tf.ragged.constant(\n",
        "    [['Who', 'is', 'George', 'Washington'],\n",
        "     ['What', 'is', 'the', 'weather', 'tomorrow'],\n",
        "     ['Goodnight']])"
      ],
      "execution_count": null,
      "outputs": []
    },
    {
      "cell_type": "code",
      "metadata": {
        "id": "oukY9rp1etGF"
      },
      "source": [
        "queries[1]"
      ],
      "execution_count": null,
      "outputs": []
    },
    {
      "cell_type": "code",
      "metadata": {
        "id": "e6Jl97uieuBV"
      },
      "source": [
        "print(queries[1, 2])"
      ],
      "execution_count": null,
      "outputs": []
    },
    {
      "cell_type": "code",
      "metadata": {
        "id": "wyfg7eIEexv-"
      },
      "source": [
        "print(queries[1:])"
      ],
      "execution_count": null,
      "outputs": []
    },
    {
      "cell_type": "code",
      "metadata": {
        "id": "Q-4zCSTwe1UU"
      },
      "source": [
        "print(queries[:, :3])"
      ],
      "execution_count": null,
      "outputs": []
    },
    {
      "cell_type": "code",
      "metadata": {
        "id": "K8QyoPDCe4uk"
      },
      "source": [
        "print(queries[:, -2:])"
      ],
      "execution_count": null,
      "outputs": []
    },
    {
      "cell_type": "code",
      "metadata": {
        "id": "CBWRKJEhe96d"
      },
      "source": [
        "rt = tf.ragged.constant([[[1, 2, 3], [4]],\n",
        "                         [[5], [], [6]],\n",
        "                         [[7]],\n",
        "                         [[8, 9], [10]]])"
      ],
      "execution_count": null,
      "outputs": []
    },
    {
      "cell_type": "code",
      "metadata": {
        "id": "K5--ypeUfCAH"
      },
      "source": [
        "print(rt[1])"
      ],
      "execution_count": null,
      "outputs": []
    },
    {
      "cell_type": "code",
      "metadata": {
        "id": "jIuA0IuWfEuW"
      },
      "source": [
        "print(rt[3, 0])"
      ],
      "execution_count": null,
      "outputs": []
    },
    {
      "cell_type": "code",
      "metadata": {
        "id": "2NhwQcTJfJVj"
      },
      "source": [
        "print(rt[:, 1:3])"
      ],
      "execution_count": null,
      "outputs": []
    },
    {
      "cell_type": "code",
      "metadata": {
        "id": "cn3SEF4EfUBz"
      },
      "source": [
        "print(rt[:, -1:])"
      ],
      "execution_count": null,
      "outputs": []
    },
    {
      "cell_type": "code",
      "metadata": {
        "id": "04KYtIfjfXzw"
      },
      "source": [
        "ragged_sentences = tf.ragged.constant([\n",
        "    ['Hi'], ['Welcome', 'to', 'the', 'fair'], ['Have', 'fun']])"
      ],
      "execution_count": null,
      "outputs": []
    },
    {
      "cell_type": "code",
      "metadata": {
        "id": "WIyTYZargDdG"
      },
      "source": [
        "print(ragged_sentences.to_tensor(default_value=' '))"
      ],
      "execution_count": null,
      "outputs": []
    },
    {
      "cell_type": "code",
      "metadata": {
        "id": "Brt5yL6IgMzT"
      },
      "source": [
        "x = [[1, 3, -1, -1], [2, -1, -1, -1], [4, 5, 8, 9]]\n",
        "print(tf.RaggedTensor.from_tensor(x, padding=-1))"
      ],
      "execution_count": null,
      "outputs": []
    },
    {
      "cell_type": "code",
      "metadata": {
        "id": "tIJJId8igbXc"
      },
      "source": [
        "print(ragged_sentences.to_sparse())"
      ],
      "execution_count": null,
      "outputs": []
    },
    {
      "cell_type": "code",
      "metadata": {
        "id": "QEFDBL3rgkiX"
      },
      "source": [
        "st = tf.SparseTensor(indices=[[0,0], [2,0], [2,1]], values=['a', 'b', 'c'], dense_shape=[3,3])\n",
        "print(tf.RaggedTensor.from_sparse(st))"
      ],
      "execution_count": null,
      "outputs": []
    },
    {
      "cell_type": "code",
      "metadata": {
        "id": "G2nur9kAlRpe"
      },
      "source": [
        "rt = tf.ragged.constant([[1, 2], [3, 4, 5], [6], [], [7]])"
      ],
      "execution_count": null,
      "outputs": []
    },
    {
      "cell_type": "code",
      "metadata": {
        "id": "NJNfwa1CnDu_"
      },
      "source": [
        "print('python list: ', rt.to_list())"
      ],
      "execution_count": null,
      "outputs": []
    },
    {
      "cell_type": "code",
      "metadata": {
        "id": "cYn4eAoonHcf"
      },
      "source": [
        "print('numpy array: ', rt.numpy())"
      ],
      "execution_count": null,
      "outputs": []
    },
    {
      "cell_type": "code",
      "metadata": {
        "id": "ulyXXNi1nK6b"
      },
      "source": [
        "print('values: ', rt.values.numpy())"
      ],
      "execution_count": null,
      "outputs": []
    },
    {
      "cell_type": "code",
      "metadata": {
        "id": "h5ov74pJnR3p"
      },
      "source": [
        "print('splits: ', rt.row_splits.numpy())"
      ],
      "execution_count": null,
      "outputs": []
    },
    {
      "cell_type": "code",
      "metadata": {
        "id": "Idm7OgThnY1l"
      },
      "source": [
        "print('index value: ', rt[1].numpy())"
      ],
      "execution_count": null,
      "outputs": []
    },
    {
      "cell_type": "code",
      "metadata": {
        "id": "dMF93Cb2nfF6"
      },
      "source": [
        "x = tf.ragged.constant([[1, 2], [3]])\n",
        "y = 3\n",
        "\n",
        "x + y"
      ],
      "execution_count": null,
      "outputs": []
    },
    {
      "cell_type": "code",
      "metadata": {
        "id": "6wkwmivfp01A"
      },
      "source": [
        "x = tf.ragged.constant(\n",
        "   [[10, 87, 12],\n",
        "    [19, 53],\n",
        "    [12, 32]])\n",
        "y = [[1000], [2000], [3000]]\n",
        "print(x + y)"
      ],
      "execution_count": null,
      "outputs": []
    },
    {
      "cell_type": "code",
      "metadata": {
        "id": "41eGzTeLqWDT"
      },
      "source": [
        "x = tf.ragged.constant(\n",
        "    [[[1, 2], [3, 4], [5, 6]],\n",
        "     [[7, 8]]],\n",
        "    ragged_rank=1)\n",
        "y = tf.constant([[10]])\n",
        "print(x + y)"
      ],
      "execution_count": null,
      "outputs": []
    },
    {
      "cell_type": "code",
      "metadata": {
        "id": "qVUsrcZkqdsv"
      },
      "source": [
        "x = tf.ragged.constant(\n",
        "    [\n",
        "        [\n",
        "            [[1], [2]],\n",
        "            [],\n",
        "            [[3]],\n",
        "            [[4]],\n",
        "        ],\n",
        "        [\n",
        "            [[5], [6]],\n",
        "            [[7]]\n",
        "        ]\n",
        "    ],\n",
        "    ragged_rank=2)\n",
        "y = tf.constant([10, 20, 30])\n",
        "print(x + y)"
      ],
      "execution_count": null,
      "outputs": []
    },
    {
      "cell_type": "code",
      "metadata": {
        "id": "gv8jW-x0qhUQ"
      },
      "source": [
        "x = tf.ragged.constant([[1, 2], [3, 4, 5, 6], [7]])\n",
        "y = tf.constant([[1, 2, 3, 4], [5, 6, 7, 8], [9, 10, 11, 12]])\n",
        "try:\n",
        "  x + y\n",
        "except tf.errors.InvalidArgumentError as exception:\n",
        "  print(exception)"
      ],
      "execution_count": null,
      "outputs": []
    },
    {
      "cell_type": "code",
      "metadata": {
        "id": "z13NWTocqmEd"
      },
      "source": [
        "x = tf.ragged.constant([[1, 2, 3], [4], [5, 6]])\n",
        "y = tf.ragged.constant([[10, 20], [30, 40], [50]])\n",
        "try:\n",
        "  x + y\n",
        "except tf.errors.InvalidArgumentError as exception:\n",
        "  print(exception)"
      ],
      "execution_count": null,
      "outputs": []
    },
    {
      "cell_type": "code",
      "metadata": {
        "id": "oRX_AXZEqqCe"
      },
      "source": [
        "x = tf.ragged.constant([[[1, 2], [3, 4], [5, 6]],\n",
        "                        [[7, 8], [9, 10]]])\n",
        "y = tf.ragged.constant([[[1, 2, 0], [3, 4, 0], [5, 6, 0]],\n",
        "                        [[7, 8, 0], [9, 10, 0]]])\n",
        "try:\n",
        "  x + y\n",
        "except tf.errors.InvalidArgumentError as exception:\n",
        "  print(exception)"
      ],
      "execution_count": null,
      "outputs": []
    },
    {
      "cell_type": "code",
      "metadata": {
        "id": "f5WrUOq6qtiN"
      },
      "source": [
        "rt = tf.RaggedTensor.from_row_splits(\n",
        "    values=[3, 1, 4, 1, 5, 9, 2],\n",
        "    row_splits=[0, 4, 4, 6, 7])\n",
        "print(rt)"
      ],
      "execution_count": null,
      "outputs": []
    },
    {
      "cell_type": "code",
      "metadata": {
        "id": "U_CQ-_CXrEAW"
      },
      "source": [
        "rt = tf.RaggedTensor.from_row_splits(\n",
        "    values=tf.RaggedTensor.from_row_splits(\n",
        "        values=[10, 11, 12, 13, 14, 15, 16, 17, 18, 19],\n",
        "        row_splits=[0, 3, 3, 5, 9, 10]\n",
        "    ),\n",
        "    row_splits=[0, 1, 1, 5]\n",
        ")\n",
        "\n",
        "print(rt)\n",
        "print(\"Shape: \", rt.shape)\n",
        "print(\"Number of partitioned dimensions: \", rt.ragged_rank)"
      ],
      "execution_count": null,
      "outputs": []
    },
    {
      "cell_type": "code",
      "metadata": {
        "id": "PUmu3O7HyTO3"
      },
      "source": [
        "rt = tf.RaggedTensor.from_nested_row_splits(\n",
        "    flat_values = [10, 11, 12, 13, 14, 15, 16, 17, 18, 19],\n",
        "    nested_row_splits = ([0, 1, 1, 5], [0, 3, 3, 5, 9, 10])\n",
        ")\n",
        "\n",
        "print(rt)"
      ],
      "execution_count": null,
      "outputs": []
    },
    {
      "cell_type": "code",
      "metadata": {
        "id": "kg84QOGfy4Wg"
      },
      "source": [
        "conversations = tf.ragged.constant(\n",
        "    [[[[\"I\", \"like\", \"ragged\", \"tensors.\"]],\n",
        "      [[\"Oh\", \"yeah?\"], [\"What\", \"can\", \"you\", \"use\", \"them\", \"for?\"]],\n",
        "      [[\"Processing\", \"variable\", \"length\", \"data!\"]]],\n",
        "     [[[\"I\", \"like\", \"cheese.\"], [\"Do\", \"you?\"]],\n",
        "      [[\"Yes.\"], [\"I\", \"do.\"]]]])\n",
        "\n",
        "conversations.shape"
      ],
      "execution_count": null,
      "outputs": []
    },
    {
      "cell_type": "code",
      "metadata": {
        "id": "W4gKJWIR0Bfx"
      },
      "source": [
        "conversations.ragged_rank"
      ],
      "execution_count": null,
      "outputs": []
    },
    {
      "cell_type": "code",
      "metadata": {
        "id": "ZijPn2HR0IcL"
      },
      "source": [
        "conversations.nested_row_splits"
      ],
      "execution_count": null,
      "outputs": []
    },
    {
      "cell_type": "code",
      "metadata": {
        "id": "5E3Gf1rl0Mol"
      },
      "source": [
        "conversations.flat_values.numpy()"
      ],
      "execution_count": null,
      "outputs": []
    },
    {
      "cell_type": "code",
      "metadata": {
        "id": "TfCHe3KY0QZS"
      },
      "source": [
        "rt = tf.RaggedTensor.from_row_splits(\n",
        "    values=[[1, 3], [0, 0], [1, 3], [5, 3], [3, 3], [1, 2]],\n",
        "    row_splits=[0, 3, 4, 6])\n",
        "print(rt)\n",
        "print(\"Shape: {}\".format(rt.shape))\n",
        "print(\"Number of partitioned dimensions: {}\".format(rt.ragged_rank))\n",
        "print(\"Flat values shape: {}\".format(rt.flat_values.shape))\n",
        "print(\"Flat values:\\n{}\".format(rt.flat_values))"
      ],
      "execution_count": null,
      "outputs": []
    },
    {
      "cell_type": "code",
      "metadata": {
        "id": "f-BbswoX3HYd"
      },
      "source": [
        "rt = tf.RaggedTensor.from_uniform_row_length(\n",
        "    values=tf.RaggedTensor.from_row_splits(\n",
        "        values=[10, 11, 12, 13, 14, 15, 16, 17, 18, 19],\n",
        "        row_splits=[0, 3, 5, 9, 10]),\n",
        "    uniform_row_length=2)\n",
        "print(rt)\n",
        "print(\"Shape: {}\".format(rt.shape))\n",
        "print(\"Number of partitioned dimensions: {}\".format(rt.ragged_rank))"
      ],
      "execution_count": null,
      "outputs": []
    }
  ]
}