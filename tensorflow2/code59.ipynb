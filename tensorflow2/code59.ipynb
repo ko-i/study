{
  "nbformat": 4,
  "nbformat_minor": 0,
  "metadata": {
    "colab": {
      "name": "Untitled0.ipynb",
      "provenance": [],
      "authorship_tag": "ABX9TyOcRSQPIq3M/2wb6DrQTO8q"
    },
    "kernelspec": {
      "display_name": "Python 3",
      "name": "python3"
    },
    "language_info": {
      "name": "python"
    }
  },
  "cells": [
    {
      "cell_type": "code",
      "metadata": {
        "id": "XDOI2zcSOR15"
      },
      "source": [
        "import matplotlib.pyplot as plt\n",
        "import numpy as np\n",
        "import pandas as pd\n",
        "import tensorflow as tf\n",
        "\n",
        "from sklearn.metrics import accuracy_score, precision_score, recall_score\n",
        "from sklearn.model_selection import train_test_split\n",
        "from tensorflow.keras import layers, losses\n",
        "from tensorflow.keras.datasets import fashion_mnist\n",
        "from tensorflow.keras.models import Model"
      ],
      "execution_count": null,
      "outputs": []
    },
    {
      "cell_type": "code",
      "metadata": {
        "id": "a6bRfWlsRFyU"
      },
      "source": [
        "(x_train, _), (x_test, _) = fashion_mnist.load_data()\n",
        "\n",
        "x_train = x_train.astype('float32') / 255.0\n",
        "x_test = x_test.astype('float32') / 255.0\n",
        "\n",
        "print(x_train.shape)\n",
        "print(x_test.shape)"
      ],
      "execution_count": null,
      "outputs": []
    },
    {
      "cell_type": "code",
      "metadata": {
        "id": "wOoAkwYvRZyF"
      },
      "source": [
        "latent_dim = 64\n",
        "\n",
        "class AutoEncoder(Model):\n",
        "    def __init__(self, latent_dim):\n",
        "        super(AutoEncoder, self).__init__()\n",
        "        self.latent_dim = latent_dim\n",
        "\n",
        "        self.encoder = tf.keras.Sequential([\n",
        "            layers.Flatten(),\n",
        "            layers.Dense(self.latent_dim, activation='relu')\n",
        "        ])\n",
        "\n",
        "        self.decoder = tf.keras.Sequential([\n",
        "            layers.Dense(784, activation='sigmoid'),\n",
        "            layers.Reshape((28, 28))\n",
        "        ])\n",
        "\n",
        "    def call(self, inputs):\n",
        "        encoded = self.encoder(inputs)\n",
        "        decoded = self.decoder(encoded)\n",
        "\n",
        "        return decoded\n",
        "\n",
        "autoencoder = AutoEncoder(latent_dim)"
      ],
      "execution_count": null,
      "outputs": []
    },
    {
      "cell_type": "code",
      "metadata": {
        "id": "4kH7AOZt9hRu"
      },
      "source": [
        "autoencoder.compile('adam', 'mse')"
      ],
      "execution_count": null,
      "outputs": []
    },
    {
      "cell_type": "code",
      "metadata": {
        "id": "DJD57OsT9ojg"
      },
      "source": [
        "autoencoder.fit(x_train, x_train, epochs=10, shuffle=True, validation_data=(x_test, x_test))"
      ],
      "execution_count": null,
      "outputs": []
    },
    {
      "cell_type": "code",
      "metadata": {
        "id": "DHl7Dbpk90Db"
      },
      "source": [
        "encoded_imgs = autoencoder.encoder(x_test).numpy()\n",
        "decoded_imgs = autoencoder.decoder(encoded_imgs).numpy()"
      ],
      "execution_count": null,
      "outputs": []
    },
    {
      "cell_type": "code",
      "metadata": {
        "id": "p_Zhk6jO-FSI"
      },
      "source": [
        "n = 10\n",
        "\n",
        "plt.figure(figsize=(20, 6))\n",
        "for i in range(n):\n",
        "    ax = plt.subplot(2, n, i+1)\n",
        "    plt.imshow(x_test[i])\n",
        "    plt.title('original')\n",
        "    plt.gray()\n",
        "    \n",
        "    ax = plt.subplot(2, n, i+1+n)\n",
        "    plt.imshow(decoded_imgs[i])\n",
        "    plt.title('decoded')\n",
        "    plt.gray()"
      ],
      "execution_count": null,
      "outputs": []
    },
    {
      "cell_type": "code",
      "metadata": {
        "id": "REr-ZT9Q_huZ"
      },
      "source": [
        "(x_train, _), (x_test, _) = fashion_mnist.load_data()"
      ],
      "execution_count": null,
      "outputs": []
    },
    {
      "cell_type": "code",
      "metadata": {
        "id": "pLalyHmvAjW2"
      },
      "source": [
        "print(x_train.shape)"
      ],
      "execution_count": null,
      "outputs": []
    },
    {
      "cell_type": "code",
      "metadata": {
        "id": "_omIo2SyAk6K"
      },
      "source": [
        "print(x_train[0])"
      ],
      "execution_count": null,
      "outputs": []
    },
    {
      "cell_type": "code",
      "metadata": {
        "id": "sW5RrDNBArQ9"
      },
      "source": [
        "x_train = x_train.astype('float32') / 255.0\n",
        "x_test = x_test.astype('float32') / 255.0"
      ],
      "execution_count": null,
      "outputs": []
    },
    {
      "cell_type": "code",
      "metadata": {
        "id": "1ej0iyPoA4Vx"
      },
      "source": [
        "x_train = x_train[..., tf.newaxis]\n",
        "x_test = x_test[..., tf.newaxis]"
      ],
      "execution_count": null,
      "outputs": []
    },
    {
      "cell_type": "code",
      "metadata": {
        "id": "XKNn4fi8BABD"
      },
      "source": [
        "print(x_train.shape)"
      ],
      "execution_count": null,
      "outputs": []
    },
    {
      "cell_type": "code",
      "metadata": {
        "id": "P3DWF4KHBBkE"
      },
      "source": [
        "print(x_train[0])"
      ],
      "execution_count": null,
      "outputs": []
    },
    {
      "cell_type": "code",
      "metadata": {
        "id": "olIzFe0VBC5T"
      },
      "source": [
        "noise_factor = 0.2\n",
        "\n",
        "x_train_noisy = x_train + noise_factor * tf.random.normal(shape=x_train.shape)\n",
        "x_test_noisy = x_test + noise_factor * tf.random.normal(shape=x_test.shape)\n",
        "\n",
        "x_train_noisy = tf.clip_by_value(x_train_noisy, clip_value_min=0.0, clip_value_max=1.0)\n",
        "x_test_noisy = tf.clip_by_value(x_test_noisy, clip_value_min=0.0, clip_value_max=1.0)"
      ],
      "execution_count": null,
      "outputs": []
    },
    {
      "cell_type": "code",
      "metadata": {
        "id": "ROcp8pq7BuLe"
      },
      "source": [
        "n = 10\n",
        "plt.figure(figsize=(20, 2))\n",
        "for i in range(n):\n",
        "    ax = plt.subplot(1, n, i+1)\n",
        "    plt.title('original + noise')\n",
        "    plt.imshow(tf.squeeze(x_test_noisy[i]))\n",
        "    plt.gray()\n",
        "plt.show()"
      ],
      "execution_count": null,
      "outputs": []
    },
    {
      "cell_type": "code",
      "metadata": {
        "id": "5rJkq7N-CYIX"
      },
      "source": [
        "class Denoise(Model):\n",
        "    def __init__(self):\n",
        "        super(Denoise, self).__init__()\n",
        "        \n",
        "        self.encoder = tf.keras.Sequential([\n",
        "            layers.Input(shape=[28, 28, 1]),\n",
        "            layers.Conv2D(16, (3, 3), activation='relu', padding='same', strides=2),\n",
        "            layers.Conv2D(8, (3, 3), activation='relu', padding='same', strides=2)\n",
        "        ])\n",
        "\n",
        "        self.decoder = tf.keras.Sequential([\n",
        "            layers.Conv2DTranspose(8, kernel_size=3, strides=2, activation='relu', padding='same'),\n",
        "            layers.Conv2DTranspose(16, kernel_size=3, strides=2, activation='relu', padding='same'),\n",
        "            layers.Conv2D(1, kernel_size=(3, 3), activation='sigmoid', padding='same')\n",
        "        ])\n",
        "    \n",
        "    def call(self, x):\n",
        "        encoded = self.encoder(x)\n",
        "        decoded = self.decoder(encoded)\n",
        "\n",
        "        return decoded"
      ],
      "execution_count": null,
      "outputs": []
    },
    {
      "cell_type": "code",
      "metadata": {
        "id": "2h0Dwm36FRph"
      },
      "source": [
        "autoencoder = Denoise()"
      ],
      "execution_count": null,
      "outputs": []
    },
    {
      "cell_type": "code",
      "metadata": {
        "id": "LvY63lX5FUvB"
      },
      "source": [
        "autoencoder.compile(optimizer='adam', loss='mse')"
      ],
      "execution_count": null,
      "outputs": []
    },
    {
      "cell_type": "code",
      "metadata": {
        "id": "ybqFKKAtFl7g"
      },
      "source": [
        "autoencoder.fit(x_train_noisy, x_train, epochs=10, shuffle=True, validation_data=(x_test_noisy, x_test))"
      ],
      "execution_count": null,
      "outputs": []
    },
    {
      "cell_type": "code",
      "metadata": {
        "id": "ZlgsesM0Fyj_"
      },
      "source": [
        "autoencoder.encoder.summary()"
      ],
      "execution_count": null,
      "outputs": []
    },
    {
      "cell_type": "code",
      "metadata": {
        "id": "JGQsXlhVF9w_"
      },
      "source": [
        "autoencoder.decoder.summary()"
      ],
      "execution_count": null,
      "outputs": []
    },
    {
      "cell_type": "code",
      "metadata": {
        "id": "09eZkDEjGAhF"
      },
      "source": [
        "encoded_noisy_imgs = autoencoder.encoder(x_test_noisy)\n",
        "decoded_noisy_imgs = autoencoder.decoder(encoded_noisy_imgs)\n",
        "\n",
        "encoded_imgs = autoencoder.encoder(x_test)\n",
        "decoded_imgs = autoencoder.decoder(encoded_imgs)"
      ],
      "execution_count": null,
      "outputs": []
    },
    {
      "cell_type": "code",
      "metadata": {
        "id": "it33kPJuIQJ2"
      },
      "source": [
        "n = 10\n",
        "plt.figure(figsize=(20, 8))\n",
        "\n",
        "for i in range(n):\n",
        "    ax = plt.subplot(4, n, i+1)\n",
        "    plt.title('original')\n",
        "    plt.imshow(tf.squeeze(x_test[i]))\n",
        "    plt.gray()\n",
        "    plt.axis('off')\n",
        "\n",
        "    ax = plt.subplot(4, n, i+1+n)\n",
        "    plt.title('original decoded')\n",
        "    plt.imshow(tf.squeeze(decoded_imgs[i]))\n",
        "    plt.gray()\n",
        "    plt.axis('off')\n",
        "\n",
        "    ax = plt.subplot(4, n, i+1+2*n)\n",
        "    plt.title('original + noisy')\n",
        "    plt.imshow(tf.squeeze(x_test_noisy[i]))\n",
        "    plt.gray()\n",
        "    plt.axis('off')\n",
        "\n",
        "    ax = plt.subplot(4, n, i+1+3*n)\n",
        "    plt.title('original + noisy decoded')\n",
        "    plt.imshow(tf.squeeze(decoded_noisy_imgs[i]))\n",
        "    plt.gray()\n",
        "    plt.axis('off')\n",
        "\n",
        "plt.show()"
      ],
      "execution_count": null,
      "outputs": []
    },
    {
      "cell_type": "code",
      "metadata": {
        "id": "Tk32hzlQMCds"
      },
      "source": [
        "dataframe = pd.read_csv('http://storage.googleapis.com/download.tensorflow.org/data/ecg.csv', header=None)\n",
        "raw_data = dataframe.values\n",
        "dataframe.head()"
      ],
      "execution_count": null,
      "outputs": []
    },
    {
      "cell_type": "code",
      "metadata": {
        "id": "bsiShAO-N_tP"
      },
      "source": [
        "labels = raw_data[:, -1]\n",
        "data = raw_data[:, 0:-1]\n",
        "\n",
        "train_data, test_data, train_label, test_label = train_test_split(data, labels, test_size=0.2, random_state=21)"
      ],
      "execution_count": null,
      "outputs": []
    },
    {
      "cell_type": "code",
      "metadata": {
        "id": "jCvXDKADOoOf"
      },
      "source": [
        "min_val = tf.reduce_min(train_data)\n",
        "max_val = tf.reduce_max(train_data)\n",
        "\n",
        "train_data = (train_data - min_val) / (max_val - min_val)\n",
        "test_data = (test_data - min_val) / (max_val - min_val)\n",
        "\n",
        "train_data = tf.cast(train_data, tf.float32)\n",
        "test_data = tf.cast(test_data, tf.float32)"
      ],
      "execution_count": null,
      "outputs": []
    },
    {
      "cell_type": "code",
      "metadata": {
        "id": "R-Cl-7qTPczt"
      },
      "source": [
        "train_label = train_label.astype(bool)\n",
        "test_label = test_label.astype(bool)\n",
        "\n",
        "normal_train_data = train_data[train_label]\n",
        "normal_test_data = test_data[test_label]\n",
        "\n",
        "anormalous_train_data = train_data[~train_label]\n",
        "anormalous_test_data = test_data[~test_label]"
      ],
      "execution_count": null,
      "outputs": []
    },
    {
      "cell_type": "code",
      "metadata": {
        "id": "MtKQRdHkQvf-"
      },
      "source": [
        "plt.grid()\n",
        "plt.plot(np.arange(140), normal_train_data[0])\n",
        "plt.title('A Normal ECG')\n",
        "plt.show()"
      ],
      "execution_count": null,
      "outputs": []
    },
    {
      "cell_type": "code",
      "metadata": {
        "id": "E65Gwg5zRJpy"
      },
      "source": [
        "plt.grid()\n",
        "plt.plot(np.arange(140), anormalous_train_data[0])\n",
        "plt.title('A Anormalous ECG')\n",
        "plt.show()"
      ],
      "execution_count": null,
      "outputs": []
    },
    {
      "cell_type": "code",
      "metadata": {
        "id": "Z4M6z5TfRkDK"
      },
      "source": [
        "class AnormalyDetector(Model):\n",
        "    def __init__(self):\n",
        "        super(AnormalyDetector, self).__init__()\n",
        "\n",
        "        self.encoder = tf.keras.Sequential([\n",
        "            layers.Dense(32, activation='relu'),\n",
        "            layers.Dense(16, activation='relu'),\n",
        "            layers.Dense(8, activation='relu'),\n",
        "        ])\n",
        "\n",
        "        self.decoder = tf.keras.Sequential([\n",
        "            layers.Dense(16, activation='relu'),\n",
        "            layers.Dense(32, activation='relu'),\n",
        "            layers.Dense(140, activation='sigmoid')\n",
        "        ])\n",
        "\n",
        "    def call(self, inputs):\n",
        "        encoded = self.encoder(inputs)\n",
        "        decoded = self.decoder(encoded)\n",
        "        return decoded\n",
        "\n",
        "autoencoder = AnormalyDetector()"
      ],
      "execution_count": null,
      "outputs": []
    },
    {
      "cell_type": "code",
      "metadata": {
        "id": "fqQ4Ic25Ulti"
      },
      "source": [
        "autoencoder.compile('adam', 'mae')"
      ],
      "execution_count": null,
      "outputs": []
    },
    {
      "cell_type": "code",
      "metadata": {
        "id": "kAi9rxCuUsl0"
      },
      "source": [
        "history = autoencoder.fit(normal_train_data, normal_train_data, epochs=20, batch_size=512, validation_data=(test_data, test_data), shuffle=True)"
      ],
      "execution_count": null,
      "outputs": []
    },
    {
      "cell_type": "code",
      "metadata": {
        "id": "Q2d2ROtaVVN-"
      },
      "source": [
        "plt.plot(history.history['loss'], label='Train loss')\n",
        "plt.plot(history.history['val_loss'], label='Validation loss')\n",
        "plt.legend()\n",
        "plt.show()"
      ],
      "execution_count": null,
      "outputs": []
    },
    {
      "cell_type": "code",
      "metadata": {
        "id": "nuHh1IjeVm4t"
      },
      "source": [
        "encoded_imgs = autoencoder.encoder(normal_test_data).numpy()\n",
        "decoded_imgs = autoencoder.decoder(encoded_imgs).numpy()\n",
        "\n",
        "plt.plot(normal_test_data[0], 'b')\n",
        "plt.plot(decoded_imgs[0], 'r')\n",
        "plt.fill_between(np.arange(140), decoded_imgs[0], normal_test_data[0], color='lightcoral')\n",
        "plt.legend(labels=['Labels', 'Reconstruction', 'Error'])\n",
        "plt.show()"
      ],
      "execution_count": null,
      "outputs": []
    },
    {
      "cell_type": "code",
      "metadata": {
        "id": "BDzFqwJgZOfz"
      },
      "source": [
        "encoded_imgs = autoencoder.encoder(anormalous_test_data).numpy()\n",
        "decoded_imgs = autoencoder.decoder(encoded_imgs).numpy()\n",
        "\n",
        "plt.plot(anormalous_test_data[0], 'b')\n",
        "plt.plot(decoded_imgs[0], 'r')\n",
        "plt.fill_between(np.arange(140), decoded_imgs[0], anormalous_test_data[0], color='lightcoral')\n",
        "plt.legend(labels=['Labels', 'Reconstruction', 'Error'])"
      ],
      "execution_count": null,
      "outputs": []
    },
    {
      "cell_type": "code",
      "metadata": {
        "id": "WBwyv9JDan4j"
      },
      "source": [
        "reconstructions = autoencoder.predict(normal_train_data)\n",
        "train_loss = tf.keras.losses.mae(reconstructions, normal_train_data)\n",
        "\n",
        "plt.hist(train_loss[None, :], bins=50)\n",
        "plt.xlabel('Train loss')\n",
        "plt.ylabel('No of examples')\n",
        "plt.show()"
      ],
      "execution_count": null,
      "outputs": []
    },
    {
      "cell_type": "code",
      "metadata": {
        "id": "l1-QkxR1bUrh"
      },
      "source": [
        "threshold = np.mean(train_loss) + np.std(train_loss)\n",
        "print('Threshold: {}'.format(threshold))"
      ],
      "execution_count": null,
      "outputs": []
    },
    {
      "cell_type": "code",
      "metadata": {
        "id": "2aEgBSBbbqHw"
      },
      "source": [
        "reconstructions = autoencoder.predict(anormalous_test_data)\n",
        "test_loss = tf.keras.losses.mae(reconstructions, anormalous_test_data)\n",
        "\n",
        "plt.hist(test_loss[None, :], bins=50)\n",
        "plt.xlabel('Test loss')\n",
        "plt.ylabel('No of examples')\n",
        "plt.show()"
      ],
      "execution_count": null,
      "outputs": []
    },
    {
      "cell_type": "code",
      "metadata": {
        "id": "YjsJDEuCcfJB"
      },
      "source": [
        "def predict(model, data, threshold):\n",
        "    reconstructions = model(data)\n",
        "    loss = tf.keras.losses.mae(reconstructions, data)\n",
        "    return tf.math.less(loss, threshold)"
      ],
      "execution_count": null,
      "outputs": []
    },
    {
      "cell_type": "code",
      "metadata": {
        "id": "XnfwixHcdMLc"
      },
      "source": [
        "def print_status(preds, labels):\n",
        "    print('Accuracy = {}'.format(accuracy_score(labels, preds)))\n",
        "    print('Precision = {}'.format(precision_score(labels, preds)))\n",
        "    print('Recall = {}'.format(recall_score(labels, preds)))"
      ],
      "execution_count": null,
      "outputs": []
    },
    {
      "cell_type": "code",
      "metadata": {
        "id": "GUcS8B0edwiL"
      },
      "source": [
        "preds = predict(autoencoder, test_data, threshold)\n",
        "print_status(preds, test_label)"
      ],
      "execution_count": null,
      "outputs": []
    },
    {
      "cell_type": "code",
      "metadata": {
        "id": "6QOssN5dd9MG"
      },
      "source": [
        ""
      ],
      "execution_count": null,
      "outputs": []
    }
  ]
}