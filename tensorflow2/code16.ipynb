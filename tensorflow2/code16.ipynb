{
  "nbformat": 4,
  "nbformat_minor": 0,
  "metadata": {
    "colab": {
      "name": "Untitled0.ipynb",
      "provenance": [],
      "collapsed_sections": [],
      "authorship_tag": "ABX9TyMCDQl1EJ0AxkWwvtdkmUIz"
    },
    "kernelspec": {
      "name": "python3",
      "display_name": "Python 3"
    }
  },
  "cells": [
    {
      "cell_type": "code",
      "metadata": {
        "id": "eI7bZ3_Ny2r1"
      },
      "source": [
        "import numpy as np\n",
        "import tensorflow as tf\n",
        "import tensorflow_datasets as tfds\n",
        "import matplotlib.pyplot as plt"
      ],
      "execution_count": null,
      "outputs": []
    },
    {
      "cell_type": "code",
      "metadata": {
        "id": "OrSkg-1Zzx_p"
      },
      "source": [
        "(train_ds, val_ds, test_ds), metadata = tfds.load('tf_flowers', split=['train[:80%]', 'train[80%:90%]', 'train[90%:]'], with_info=True, as_supervised=True)"
      ],
      "execution_count": null,
      "outputs": []
    },
    {
      "cell_type": "code",
      "metadata": {
        "id": "i0V0IjVX0XAI"
      },
      "source": [
        "num_classes = metadata.features['label'].num_classes\n",
        "num_classes"
      ],
      "execution_count": null,
      "outputs": []
    },
    {
      "cell_type": "code",
      "metadata": {
        "id": "myDNIexG01dT"
      },
      "source": [
        "get_label_name = metadata.features['label'].int2str"
      ],
      "execution_count": null,
      "outputs": []
    },
    {
      "cell_type": "code",
      "metadata": {
        "id": "D2tKgP8X0o2J"
      },
      "source": [
        "image, label = next(iter(train_ds))"
      ],
      "execution_count": null,
      "outputs": []
    },
    {
      "cell_type": "code",
      "metadata": {
        "id": "HOWBpwaC1sZ_"
      },
      "source": [
        "_ = plt.imshow(image)\n",
        "_ = plt.title(get_label_name(label))"
      ],
      "execution_count": null,
      "outputs": []
    },
    {
      "cell_type": "code",
      "metadata": {
        "id": "MIsYgJz-1waK"
      },
      "source": [
        "image.shape"
      ],
      "execution_count": null,
      "outputs": []
    },
    {
      "cell_type": "code",
      "metadata": {
        "id": "Mlv_4iXS2JnR"
      },
      "source": [
        "IMG_SIZE = 180\n",
        "\n",
        "resize_and_rescale = tf.keras.Sequential([\n",
        "    tf.keras.layers.experimental.preprocessing.Resizing(IMG_SIZE, IMG_SIZE),\n",
        "    tf.keras.layers.experimental.preprocessing.Rescaling(1./255)\n",
        "])"
      ],
      "execution_count": null,
      "outputs": []
    },
    {
      "cell_type": "code",
      "metadata": {
        "id": "Mr7sA9yT3gxn"
      },
      "source": [
        "result = resize_and_rescale(image)"
      ],
      "execution_count": null,
      "outputs": []
    },
    {
      "cell_type": "code",
      "metadata": {
        "id": "eb6tYTiv3mFC"
      },
      "source": [
        "_ = plt.imshow(result)"
      ],
      "execution_count": null,
      "outputs": []
    },
    {
      "cell_type": "code",
      "metadata": {
        "id": "Ec3-0oFW3pC9"
      },
      "source": [
        "print(\"Min and Max of image: {}, {}\".format(np.min(result), np.max(result)))"
      ],
      "execution_count": null,
      "outputs": []
    },
    {
      "cell_type": "code",
      "metadata": {
        "id": "GWrjKcta31p_"
      },
      "source": [
        "data_augmentation = tf.keras.Sequential([\n",
        "    tf.keras.layers.experimental.preprocessing.RandomFlip(),\n",
        "    tf.keras.layers.experimental.preprocessing.RandomRotation(0.2)\n",
        "])"
      ],
      "execution_count": null,
      "outputs": []
    },
    {
      "cell_type": "code",
      "metadata": {
        "id": "UjOa5Cfz5tZO"
      },
      "source": [
        "image = tf.expand_dims(image, 0)"
      ],
      "execution_count": null,
      "outputs": []
    },
    {
      "cell_type": "code",
      "metadata": {
        "id": "E2jnM3vf5y_S"
      },
      "source": [
        "plt.figure(figsize=(10, 10))\n",
        "for i in range(9):\n",
        "    augmented_image = data_augmentation(image)\n",
        "    ax = plt.subplot(3, 3, i + 1)\n",
        "    plt.imshow(augmented_image[0])"
      ],
      "execution_count": null,
      "outputs": []
    },
    {
      "cell_type": "code",
      "metadata": {
        "id": "3lt7JCLV6OpF"
      },
      "source": [
        "model = tf.keras.Sequential([\n",
        "    resize_and_rescale,\n",
        "    data_augmentation,\n",
        "    tf.keras.layers.Conv2D(16, 3, padding='same', activation='relu'),\n",
        "    tf.keras.layers.MaxPooling2D(),\n",
        "])"
      ],
      "execution_count": null,
      "outputs": []
    },
    {
      "cell_type": "code",
      "metadata": {
        "id": "Fr4jNO1a7iyd"
      },
      "source": [
        "aug_ds = train_ds.map(lambda x, y: (resize_and_rescale(x, training=True), y))"
      ],
      "execution_count": null,
      "outputs": []
    },
    {
      "cell_type": "code",
      "metadata": {
        "id": "DS0CKx7c8DjM"
      },
      "source": [
        "batch_size = 32\n",
        "AUTOTUNE = tf.data.AUTOTUNE\n",
        "\n",
        "def prepare(ds, shuffle=False, augment=False):\n",
        "    ds = ds.map(lambda x, y: (resize_and_rescale(x), y), num_parallel_calls=AUTOTUNE)\n",
        "\n",
        "    if shuffle:\n",
        "        ds = ds.shuffle(1000)\n",
        "    \n",
        "    ds = ds.batch(batch_size)\n",
        "\n",
        "    if augment:\n",
        "        ds = ds.map(lambda x, y: (data_augmentation(x, training=True), y), num_parallel_calls=AUTOTUNE)\n",
        "    \n",
        "    return ds.prefetch(AUTOTUNE)"
      ],
      "execution_count": null,
      "outputs": []
    },
    {
      "cell_type": "code",
      "metadata": {
        "id": "2Oc7PZHa-mrT"
      },
      "source": [
        "train_ds = prepare(train_ds, True, True)\n",
        "val_ds = prepare(val_ds)\n",
        "test_ds = prepare(test_ds)"
      ],
      "execution_count": null,
      "outputs": []
    },
    {
      "cell_type": "code",
      "metadata": {
        "id": "Ser7yETV-vwx"
      },
      "source": [
        "model = tf.keras.Sequential([\n",
        "    tf.keras.layers.Conv2D(16, 3, padding='same', activation='relu'),\n",
        "    tf.keras.layers.MaxPooling2D(),\n",
        "    tf.keras.layers.Conv2D(32, 3, padding='same', activation='relu'),\n",
        "    tf.keras.layers.MaxPooling2D(),\n",
        "    tf.keras.layers.Conv2D(64, 3, padding='same', activation='relu'),\n",
        "    tf.keras.layers.MaxPooling2D(),\n",
        "    tf.keras.layers.Flatten(),\n",
        "    tf.keras.layers.Dense(128, activation='relu'),\n",
        "    tf.keras.layers.Dense(num_classes)\n",
        "])\n",
        "\n",
        "model.compile('adam', loss=tf.keras.losses.SparseCategoricalCrossentropy(True), metrics=['accuracy'])\n",
        "\n",
        "epochs = 10\n",
        "history = model.fit(train_ds, validation_data=val_ds, epochs=epochs)"
      ],
      "execution_count": null,
      "outputs": []
    },
    {
      "cell_type": "code",
      "metadata": {
        "id": "1y17j8UKALTO"
      },
      "source": [
        "loss, acc = model.evaluate(test_ds)\n",
        "acc"
      ],
      "execution_count": null,
      "outputs": []
    },
    {
      "cell_type": "code",
      "metadata": {
        "id": "IaDtY9xWASRC"
      },
      "source": [
        "def random_invert_img(x, p = 0.5):\n",
        "    if tf.random.uniform([]) < 0.5:\n",
        "        x = (255 - x)\n",
        "    else:\n",
        "        x\n",
        "    return x"
      ],
      "execution_count": null,
      "outputs": []
    },
    {
      "cell_type": "code",
      "metadata": {
        "id": "6I4ATkj7CCKm"
      },
      "source": [
        "def random_invert(factor=0.5):\n",
        "    return tf.keras.layers.Lambda(lambda x: random_invert_img(x, factor))\n",
        "\n",
        "random_invert = random_invert()"
      ],
      "execution_count": null,
      "outputs": []
    },
    {
      "cell_type": "code",
      "metadata": {
        "id": "viXJ2C-LCdsC"
      },
      "source": [
        "plt.figure(figsize=(10,10))\n",
        "for i in range(9):\n",
        "    augmented_image = random_invert(image)\n",
        "    ax = plt.subplot(3, 3, i + 1)\n",
        "    plt.imshow(augmented_image[0].numpy().astype('uint8'))"
      ],
      "execution_count": null,
      "outputs": []
    },
    {
      "cell_type": "code",
      "metadata": {
        "id": "gVsCtYB8D7nT"
      },
      "source": [
        "class RandomInvert(tf.keras.layers.Layer):\n",
        "    def __init__(self, factor=0.5, **kwargs):\n",
        "        super().__init__(**kwargs)\n",
        "        self.factor = factor\n",
        "    \n",
        "    def call(self, x):\n",
        "        return random_invert_img(x)"
      ],
      "execution_count": null,
      "outputs": []
    },
    {
      "cell_type": "code",
      "metadata": {
        "id": "ufmsfO4CEqgy"
      },
      "source": [
        "_ = plt.imshow(RandomInvert()(image)[0])"
      ],
      "execution_count": null,
      "outputs": []
    },
    {
      "cell_type": "code",
      "metadata": {
        "id": "iH8xMPK3EvMa"
      },
      "source": [
        "(train_ds, val_ds, test_ds), metadata = tfds.load('tf_flowers', split=['train[:80%]', 'train[80%:90%]', 'train[90%:]'], with_info=True, as_supervised=True)"
      ],
      "execution_count": null,
      "outputs": []
    },
    {
      "cell_type": "code",
      "metadata": {
        "id": "MIMLtoQhFW5k"
      },
      "source": [
        "image, label = next(iter(train_ds))\n",
        "_ = plt.imshow(image)\n",
        "_ = plt.title(get_label_name(label))"
      ],
      "execution_count": null,
      "outputs": []
    },
    {
      "cell_type": "code",
      "metadata": {
        "id": "lxob5_PSFgIe"
      },
      "source": [
        "def visualize(original, augmented):\n",
        "    fig = plt.figure()\n",
        "    plt.subplot(1, 2, 1)\n",
        "    plt.title('Origin image')\n",
        "    plt.imshow(original)\n",
        "\n",
        "    plt.subplot(1, 2, 2)\n",
        "    plt.title('Augmented')\n",
        "    plt.imshow(augmented)"
      ],
      "execution_count": null,
      "outputs": []
    },
    {
      "cell_type": "code",
      "metadata": {
        "id": "X7o7RFvMGkIi"
      },
      "source": [
        "flipped = tf.image.flip_left_right(image)\n",
        "visualize(image, flipped)"
      ],
      "execution_count": null,
      "outputs": []
    },
    {
      "cell_type": "code",
      "metadata": {
        "id": "fDvC6LLnGxEv"
      },
      "source": [
        "grayscaled = tf.image.rgb_to_grayscale(image)\n",
        "visualize(image, tf.squeeze(grayscaled))\n",
        "_ = plt.colorbar()"
      ],
      "execution_count": null,
      "outputs": []
    },
    {
      "cell_type": "code",
      "metadata": {
        "id": "k0-fQqoTG8wQ"
      },
      "source": [
        "saturated = tf.image.adjust_saturation(image, 3)\n",
        "visualize(image, saturated)"
      ],
      "execution_count": null,
      "outputs": []
    },
    {
      "cell_type": "code",
      "metadata": {
        "id": "ASd0zLCmHoGW"
      },
      "source": [
        "brighted = tf.image.adjust_brightness(image, 0.4)\n",
        "visualize(image, brighted)"
      ],
      "execution_count": null,
      "outputs": []
    },
    {
      "cell_type": "code",
      "metadata": {
        "id": "QJ_hyMv9H3Ng"
      },
      "source": [
        "croped = tf.image.central_crop(image, 0.5)\n",
        "visualize(image, croped)"
      ],
      "execution_count": null,
      "outputs": []
    },
    {
      "cell_type": "code",
      "metadata": {
        "id": "n5FrhAuBIECV"
      },
      "source": [
        "rotated = tf.image.rot90(image)\n",
        "visualize(image, rotated)"
      ],
      "execution_count": null,
      "outputs": []
    },
    {
      "cell_type": "code",
      "metadata": {
        "id": "ys_ovmEpIPW6"
      },
      "source": [
        "for i in range(3):\n",
        "    seed = (i, 0)\n",
        "    stateless_random_brightness = tf.image.stateless_random_brightness(image, 0.95, seed)\n",
        "    visualize(image, stateless_random_brightness)"
      ],
      "execution_count": null,
      "outputs": []
    },
    {
      "cell_type": "code",
      "metadata": {
        "id": "UBj7wUzoKYS4"
      },
      "source": [
        "for i in range(3):\n",
        "    seed = (i, 0)\n",
        "    stateless_random_contrast = tf.image.stateless_random_contrast(image, 0.1, 0.9, seed)\n",
        "    visualize(image, stateless_random_contrast)"
      ],
      "execution_count": null,
      "outputs": []
    },
    {
      "cell_type": "code",
      "metadata": {
        "id": "ymNJhMeZLvcG"
      },
      "source": [
        "for i in range(3):\n",
        "    seed = (i, 0)\n",
        "    stateless_random_crop = tf.image.stateless_random_crop(image, [210, 300, 3], seed)\n",
        "    visualize(image, stateless_random_crop)"
      ],
      "execution_count": null,
      "outputs": []
    },
    {
      "cell_type": "code",
      "metadata": {
        "id": "lb8Nu2syNMuZ"
      },
      "source": [
        "(train_datasets, val_ds, test_ds), metadata = tfds.load('tf_flowers', split=['train[:80%]', 'train[80%:90%]', 'train[90%:]'], with_info=True, as_supervised=True)"
      ],
      "execution_count": null,
      "outputs": []
    },
    {
      "cell_type": "code",
      "metadata": {
        "id": "5fVLse8tORSo"
      },
      "source": [
        "def resize_and_rescale(image, label):\n",
        "    image = tf.cast(image, tf.float32)\n",
        "    image = tf.image.resize(image, [IMG_SIZE, IMG_SIZE])\n",
        "    image = (image / 255.0)\n",
        "    return image, label"
      ],
      "execution_count": null,
      "outputs": []
    },
    {
      "cell_type": "code",
      "metadata": {
        "id": "oKLJtb6-Oq_f"
      },
      "source": [
        "def augment(image_label, seed):\n",
        "    image, label = image_label\n",
        "    image, label = resize_and_rescale(image, label)\n",
        "    image = tf.image.resize_with_crop_or_pad(image, IMG_SIZE + 6, IMG_SIZE + 6)\n",
        "\n",
        "    new_seed = tf.random.experimental.stateless_split(seed, 1)[0, :]\n",
        "\n",
        "    image = tf.image.stateless_random_crop(image, [IMG_SIZE, IMG_SIZE, 3], seed)\n",
        "\n",
        "    image = tf.image.stateless_random_brightness(image, 0.5, new_seed)\n",
        "\n",
        "    image = tf.clip_by_value(image, 0, 1)\n",
        "\n",
        "    return image, label"
      ],
      "execution_count": null,
      "outputs": []
    },
    {
      "cell_type": "code",
      "metadata": {
        "id": "k8anQMGTRPDS"
      },
      "source": [
        "counter = tf.data.experimental.Counter()\n",
        "train_ds = tf.data.Dataset.zip((train_datasets, (counter, counter)))"
      ],
      "execution_count": null,
      "outputs": []
    },
    {
      "cell_type": "code",
      "metadata": {
        "id": "7Bk--XnvTwUI"
      },
      "source": [
        "train_ds = train_ds.shuffle(1000).map(augment, num_parallel_calls = AUTOTUNE).batch(batch_size).prefetch(AUTOTUNE)"
      ],
      "execution_count": null,
      "outputs": []
    },
    {
      "cell_type": "code",
      "metadata": {
        "id": "GLxK3t2dUFvl"
      },
      "source": [
        "val_ds = val_ds.map(resize_and_rescale, num_parallel_calls=AUTOTUNE).batch(batch_size).prefetch(AUTOTUNE)"
      ],
      "execution_count": null,
      "outputs": []
    },
    {
      "cell_type": "code",
      "metadata": {
        "id": "2UZtqwvNUVGm"
      },
      "source": [
        "test_ds = test_ds.map(resize_and_rescale, num_parallel_calls=AUTOTUNE).batch(batch_size).prefetch(AUTOTUNE)"
      ],
      "execution_count": null,
      "outputs": []
    },
    {
      "cell_type": "code",
      "metadata": {
        "id": "3Eut2ftsUd5i"
      },
      "source": [
        "rng = tf.random.Generator.from_seed(123, alg='philox')"
      ],
      "execution_count": null,
      "outputs": []
    },
    {
      "cell_type": "code",
      "metadata": {
        "id": "fl5AOOHcVZji"
      },
      "source": [
        "def f(x, y):\n",
        "    seed = rng.make_seeds(2)[0]\n",
        "    image, label = augment((x, y), seed)\n",
        "    return image, label"
      ],
      "execution_count": null,
      "outputs": []
    },
    {
      "cell_type": "code",
      "metadata": {
        "id": "Cm1z03q8VoUg"
      },
      "source": [
        "train_ds = train_datasets.shuffle(1000).map(f, num_parallel_calls=AUTOTUNE).batch(batch_size).prefetch(AUTOTUNE)"
      ],
      "execution_count": null,
      "outputs": []
    },
    {
      "cell_type": "code",
      "metadata": {
        "id": "S3TMUy8kWA4t"
      },
      "source": [
        "val_ds = val_ds.map(resize_and_rescale, num_parallel_calls=AUTOTUNE).batch(batch_size).prefetch(AUTOTUNE)"
      ],
      "execution_count": null,
      "outputs": []
    },
    {
      "cell_type": "code",
      "metadata": {
        "id": "XZZX-Y5bWQj5"
      },
      "source": [
        "test_ds = test_ds.map(resize_and_rescale, num_parallel_calls=AUTOTUNE).batch(batch_size).prefetch(AUTOTUNE)"
      ],
      "execution_count": null,
      "outputs": []
    },
    {
      "cell_type": "code",
      "metadata": {
        "id": "3yPb4awOWZPD"
      },
      "source": [
        ""
      ],
      "execution_count": null,
      "outputs": []
    }
  ]
}