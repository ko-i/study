{
  "nbformat": 4,
  "nbformat_minor": 0,
  "metadata": {
    "colab": {
      "name": "Untitled0.ipynb",
      "provenance": [],
      "collapsed_sections": [],
      "authorship_tag": "ABX9TyMOD5Mr+rFPTNHvnKjNJv/B"
    },
    "kernelspec": {
      "name": "python3",
      "display_name": "Python 3"
    }
  },
  "cells": [
    {
      "cell_type": "code",
      "metadata": {
        "id": "Dee78hCk5Fjg"
      },
      "source": [
        "import tensorflow as tf"
      ],
      "execution_count": null,
      "outputs": []
    },
    {
      "cell_type": "code",
      "metadata": {
        "id": "y722NnkR5Khc"
      },
      "source": [
        "print(tf.config.list_physical_devices('GPU'))"
      ],
      "execution_count": null,
      "outputs": []
    },
    {
      "cell_type": "code",
      "metadata": {
        "id": "CLoKQJxD5OHk"
      },
      "source": [
        "layer = tf.keras.layers.Dense(10)\n",
        "layer = tf.keras.layers.Dense(10, input_shape=(None, 5))"
      ],
      "execution_count": null,
      "outputs": []
    },
    {
      "cell_type": "code",
      "metadata": {
        "id": "BnQ2IG4X6GAv"
      },
      "source": [
        "layer(tf.zeros([10, 5]))"
      ],
      "execution_count": null,
      "outputs": []
    },
    {
      "cell_type": "code",
      "metadata": {
        "id": "KDkMeHZw6O5-"
      },
      "source": [
        "layer.variables"
      ],
      "execution_count": null,
      "outputs": []
    },
    {
      "cell_type": "code",
      "metadata": {
        "id": "xCFCsGPT6akX"
      },
      "source": [
        "layer.weights"
      ],
      "execution_count": null,
      "outputs": []
    },
    {
      "cell_type": "code",
      "metadata": {
        "id": "S8mKJqpD6eVx"
      },
      "source": [
        "layer.kernel"
      ],
      "execution_count": null,
      "outputs": []
    },
    {
      "cell_type": "code",
      "metadata": {
        "id": "2Y-64Vmg6lwz"
      },
      "source": [
        "layer.bias"
      ],
      "execution_count": null,
      "outputs": []
    },
    {
      "cell_type": "code",
      "metadata": {
        "id": "DS91OpW86oY5"
      },
      "source": [
        "class MyDenseLayer(tf.keras.layers.Layer):\n",
        "    def __init__(self, num_outputs):\n",
        "        super(MyDenseLayer, self).__init__()\n",
        "        self.num_outputs = num_outputs\n",
        "\n",
        "    def build(self, input_shape):\n",
        "        self.kernel = self.add_weight(\"kernel\", shape = [int(input_shape[-1]), self.num_outputs])\n",
        "    \n",
        "    def call(self, inputs):\n",
        "        return tf.matmul(inputs, self.kernel)"
      ],
      "execution_count": null,
      "outputs": []
    },
    {
      "cell_type": "code",
      "metadata": {
        "id": "LK8BkdX48alA"
      },
      "source": [
        "layer = MyDenseLayer(10)"
      ],
      "execution_count": null,
      "outputs": []
    },
    {
      "cell_type": "code",
      "metadata": {
        "id": "9et1RZDt8rZY"
      },
      "source": [
        "print([var.name for var in layer.trainable_variables])"
      ],
      "execution_count": null,
      "outputs": []
    },
    {
      "cell_type": "code",
      "metadata": {
        "id": "YSYrmC9x8cUi"
      },
      "source": [
        "_ = layer(tf.zeros([10, 5]))"
      ],
      "execution_count": null,
      "outputs": []
    },
    {
      "cell_type": "code",
      "metadata": {
        "id": "BX862pUy8h9F"
      },
      "source": [
        "print([var.name for var in layer.trainable_variables])"
      ],
      "execution_count": null,
      "outputs": []
    },
    {
      "cell_type": "code",
      "metadata": {
        "id": "xLcwpTVr8pzb"
      },
      "source": [
        "class ResnetIdentityBlock(tf.keras.Model):\n",
        "    # 残差块组件，自定义参数有第二个滤波器的size和三个滤波器的数量\n",
        "    def __init__(self, kernel_size, filters):\n",
        "        # 调用父类构造函数\n",
        "        super(ResnetIdentityBlock, self).__init__(name='')\n",
        "\n",
        "        # 提取三个滤波器的数量\n",
        "        filters1, filters2, filters3 = filters\n",
        "        \n",
        "        # Model的一般init方法里主要是构造所需要的层\n",
        "        self.conv2a = tf.keras.layers.Conv2D(filters1, (1, 1));\n",
        "        self.bn2a = tf.keras.layers.BatchNormalization()\n",
        "\n",
        "        self.conv2b = tf.keras.layers.Conv2D(filters2, kernel_size, padding='same')\n",
        "        self.bn2b = tf.keras.layers.BatchNormalization()\n",
        "\n",
        "        self.conv2c = tf.keras.layers.Conv2D(filters3, (1, 1));\n",
        "        self.bn2c = tf.keras.layers.BatchNormalization()\n",
        "    \n",
        "    def call(self, input_tensor, training = False):\n",
        "        # 让输入张量流经各个层\n",
        "        x = self.conv2a(input_tensor)\n",
        "        x = self.bn2a(x, training = training)\n",
        "        x = tf.nn.relu(x)\n",
        "\n",
        "        x = self.conv2b(x)\n",
        "        x = self.bn2b(x, training = training)\n",
        "        x = tf.nn.relu(x)\n",
        "\n",
        "        x = self.conv2c(x)\n",
        "        x = self.bn2c(x, training = training)\n",
        "\n",
        "        x += input_tensor\n",
        "        x = tf.nn.relu(x)\n",
        "    \n",
        "        return x"
      ],
      "execution_count": null,
      "outputs": []
    },
    {
      "cell_type": "code",
      "metadata": {
        "id": "kExBAeadCMg8"
      },
      "source": [
        "block = ResnetIdentityBlock(1, [1, 2, 3])"
      ],
      "execution_count": null,
      "outputs": []
    },
    {
      "cell_type": "code",
      "metadata": {
        "id": "hh3eo-5kCUyL"
      },
      "source": [
        "_ = block(tf.zeros([1, 2, 3, 3]))"
      ],
      "execution_count": null,
      "outputs": []
    },
    {
      "cell_type": "code",
      "metadata": {
        "id": "M5VGFRbmCdzu"
      },
      "source": [
        "block.trainable_variables"
      ],
      "execution_count": null,
      "outputs": []
    },
    {
      "cell_type": "code",
      "metadata": {
        "id": "GDvmrZbbCkDo"
      },
      "source": [
        "block.layers"
      ],
      "execution_count": null,
      "outputs": []
    },
    {
      "cell_type": "code",
      "metadata": {
        "id": "19VYuhT2CmX3"
      },
      "source": [
        "len(block.variables)"
      ],
      "execution_count": null,
      "outputs": []
    },
    {
      "cell_type": "code",
      "metadata": {
        "id": "SbqoShkKCr40"
      },
      "source": [
        "block.summary()"
      ],
      "execution_count": null,
      "outputs": []
    },
    {
      "cell_type": "code",
      "metadata": {
        "id": "ciX4vW7sCuCC"
      },
      "source": [
        "my_seq = tf.keras.Sequential([\n",
        "    tf.keras.layers.Conv2D(1, (1, 1), input_shape = (None, None, 3)),\n",
        "    tf.keras.layers.BatchNormalization(),\n",
        "    tf.keras.layers.Conv2D(2, (1, 1), padding='same'),\n",
        "    tf.keras.layers.BatchNormalization(),\n",
        "    tf.keras.layers.Conv2D(3, (1, 1)),\n",
        "    tf.keras.layers.BatchNormalization(),\n",
        "])"
      ],
      "execution_count": null,
      "outputs": []
    },
    {
      "cell_type": "code",
      "metadata": {
        "id": "_E3HJeOVFfy9"
      },
      "source": [
        "my_seq(tf.zeros([1, 2, 3, 3]))"
      ],
      "execution_count": null,
      "outputs": []
    },
    {
      "cell_type": "code",
      "metadata": {
        "id": "RJfSApSmFq7U"
      },
      "source": [
        "my_seq.summary()"
      ],
      "execution_count": null,
      "outputs": []
    },
    {
      "cell_type": "code",
      "metadata": {
        "id": "EZqmeGOAFuXz"
      },
      "source": [
        ""
      ],
      "execution_count": null,
      "outputs": []
    }
  ]
}