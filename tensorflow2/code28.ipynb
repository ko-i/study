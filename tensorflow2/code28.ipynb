{
  "nbformat": 4,
  "nbformat_minor": 0,
  "metadata": {
    "colab": {
      "name": "Untitled0.ipynb",
      "provenance": [],
      "authorship_tag": "ABX9TyN27RaSOfx5HGS+1B9bdzb2"
    },
    "kernelspec": {
      "name": "python3",
      "display_name": "Python 3"
    },
    "language_info": {
      "name": "python"
    }
  },
  "cells": [
    {
      "cell_type": "code",
      "metadata": {
        "id": "bksCdpIMWyyY"
      },
      "source": [
        "import tensorflow as tf\n",
        "import numpy as np"
      ],
      "execution_count": null,
      "outputs": []
    },
    {
      "cell_type": "code",
      "metadata": {
        "id": "t9DJaAyEXBIn"
      },
      "source": [
        "rank_0_tensor = tf.constant(4)\n",
        "print(rank_0_tensor)"
      ],
      "execution_count": null,
      "outputs": []
    },
    {
      "cell_type": "code",
      "metadata": {
        "id": "17NfedO9XTTe"
      },
      "source": [
        "rank_1_tensor = tf.constant([2.0, 3.0, 4.0])\n",
        "print(rank_1_tensor)"
      ],
      "execution_count": null,
      "outputs": []
    },
    {
      "cell_type": "code",
      "metadata": {
        "id": "5PV_ulgPXwio"
      },
      "source": [
        "rank_2_tensor = tf.constant([[1, 2],\n",
        "                             [3, 4],\n",
        "                             [5, 6]], dtype=tf.float16)\n",
        "print(rank_2_tensor)"
      ],
      "execution_count": null,
      "outputs": []
    },
    {
      "cell_type": "code",
      "metadata": {
        "id": "Izs9GLS1YMtd"
      },
      "source": [
        "rank_3_tensor = tf.constant([\n",
        "  [[0, 1, 2, 3, 4],\n",
        "   [5, 6, 7, 8, 9]],\n",
        "  [[10, 11, 12, 13, 14],\n",
        "   [15, 16, 17, 18, 19]],\n",
        "  [[20, 21, 22, 23, 24],\n",
        "   [25, 26, 27, 28, 29]],])\n",
        "\n",
        "print(rank_3_tensor)"
      ],
      "execution_count": null,
      "outputs": []
    },
    {
      "cell_type": "code",
      "metadata": {
        "id": "wrmsITsVYYkL"
      },
      "source": [
        "np.array(rank_2_tensor)"
      ],
      "execution_count": null,
      "outputs": []
    },
    {
      "cell_type": "code",
      "metadata": {
        "id": "_4MxFR4OYxuA"
      },
      "source": [
        "rank_2_tensor.numpy()"
      ],
      "execution_count": null,
      "outputs": []
    },
    {
      "cell_type": "code",
      "metadata": {
        "id": "fEdRksbIYzjt"
      },
      "source": [
        "a = tf.constant([[1, 2], [3, 4]])\n",
        "b = tf.constant([[1, 1], [1, 1]])\n",
        "\n",
        "print(tf.add(a, b), '\\n')\n",
        "print(tf.multiply(a, b), '\\n')\n",
        "print(tf.matmul(a, b), '\\n')"
      ],
      "execution_count": null,
      "outputs": []
    },
    {
      "cell_type": "code",
      "metadata": {
        "id": "hkXXwf7hZogW"
      },
      "source": [
        "print(a + b)\n",
        "print(a * b)\n",
        "print(a @ b)"
      ],
      "execution_count": null,
      "outputs": []
    },
    {
      "cell_type": "code",
      "metadata": {
        "id": "CFTbjbnqZ4f6"
      },
      "source": [
        "c = tf.constant([[4.0, 5.0], [10.0, 1.0]])\n",
        "\n",
        "print(tf.reduce_max(c))\n",
        "print(tf.argmax(c))\n",
        "print(tf.argmax(c, axis=0))\n",
        "print(tf.argmax(c, axis=1))\n",
        "print(tf.nn.softmax(c))"
      ],
      "execution_count": null,
      "outputs": []
    },
    {
      "cell_type": "code",
      "metadata": {
        "id": "Vzkvc2J6dAwJ"
      },
      "source": [
        "rank_4_tensor = tf.zeros((3, 2, 4, 5))\n",
        "print(rank_4_tensor)"
      ],
      "execution_count": null,
      "outputs": []
    },
    {
      "cell_type": "code",
      "metadata": {
        "id": "maFbRLMYfP35"
      },
      "source": [
        "print(\"Type of every element: \", rank_4_tensor.dtype)\n",
        "print(\"Number of axis: \", rank_4_tensor.ndim)\n",
        "print(\"Shape of tensor: \", rank_4_tensor.shape)\n",
        "print(\"Elements along axis 0 of tensor: \", rank_4_tensor.shape[0])\n",
        "print(\"Elements along the last axis of tensor: \", rank_4_tensor.shape[-1])\n",
        "print(\"Total number of elements: \", tf.size(rank_4_tensor).numpy())"
      ],
      "execution_count": null,
      "outputs": []
    },
    {
      "cell_type": "code",
      "metadata": {
        "id": "yhiDJM-ngVgd"
      },
      "source": [
        "rank_1_tensor = tf.constant([0, 1, 1, 2, 3, 5, 8, 13, 21, 34])\n",
        "print(rank_1_tensor.numpy())"
      ],
      "execution_count": null,
      "outputs": []
    },
    {
      "cell_type": "code",
      "metadata": {
        "id": "fkrQz8_th8Fw"
      },
      "source": [
        "print(\"First: \", rank_1_tensor[0])\n",
        "print(\"First: \", rank_1_tensor[0].numpy())\n",
        "print(\"Second: \", rank_1_tensor[1])\n",
        "print(\"Second: \", rank_1_tensor[1].numpy())\n",
        "print(\"Last: \", rank_1_tensor[2])\n",
        "print(\"Last: \", rank_1_tensor[2].numpy())"
      ],
      "execution_count": null,
      "outputs": []
    },
    {
      "cell_type": "code",
      "metadata": {
        "id": "5m2HHW8diS8s"
      },
      "source": [
        "print(\"Everthing: \", rank_1_tensor[:].numpy())\n",
        "print(\"Before 4: \", rank_1_tensor[:4].numpy())\n",
        "print(\"After 4: \", rank_1_tensor[4:].numpy())\n",
        "print(\"After 2, before 7: \", rank_1_tensor[2:7].numpy())\n",
        "print(\"Every other thing: \", rank_1_tensor[::2].numpy())\n",
        "print(\"Reserve: \", rank_1_tensor[::-1].numpy())\n"
      ],
      "execution_count": null,
      "outputs": []
    },
    {
      "cell_type": "code",
      "metadata": {
        "id": "GTcDfPT4k24z"
      },
      "source": [
        "print(rank_2_tensor)"
      ],
      "execution_count": null,
      "outputs": []
    },
    {
      "cell_type": "code",
      "metadata": {
        "id": "yv-BhWA4k-03"
      },
      "source": [
        "print(rank_2_tensor[1, 1].numpy())"
      ],
      "execution_count": null,
      "outputs": []
    },
    {
      "cell_type": "code",
      "metadata": {
        "id": "LfWy_lUflQWf"
      },
      "source": [
        "print(\"Second row: \", rank_2_tensor[1, :].numpy())"
      ],
      "execution_count": null,
      "outputs": []
    },
    {
      "cell_type": "code",
      "metadata": {
        "id": "nZx3dRQTmRdb"
      },
      "source": [
        "print(\"Second col: \", rank_2_tensor[:, 1].numpy())"
      ],
      "execution_count": null,
      "outputs": []
    },
    {
      "cell_type": "code",
      "metadata": {
        "id": "hJIiYkobmZm5"
      },
      "source": [
        "print(\"Last row: \", rank_2_tensor[-1, :].numpy())"
      ],
      "execution_count": null,
      "outputs": []
    },
    {
      "cell_type": "code",
      "metadata": {
        "id": "Mb4UktXfmgSN"
      },
      "source": [
        "print(\"First item in last row: \", rank_2_tensor[-1, 0].numpy())"
      ],
      "execution_count": null,
      "outputs": []
    },
    {
      "cell_type": "code",
      "metadata": {
        "id": "GIz606Rgmut8"
      },
      "source": [
        "print(\"Skip the first row: \\n\", rank_2_tensor[1:, :].numpy())"
      ],
      "execution_count": null,
      "outputs": []
    },
    {
      "cell_type": "code",
      "metadata": {
        "id": "5Yp-n_Fpm7WK"
      },
      "source": [
        "print(rank_3_tensor.numpy())"
      ],
      "execution_count": null,
      "outputs": []
    },
    {
      "cell_type": "code",
      "metadata": {
        "id": "ZNe2keTJoVFD"
      },
      "source": [
        "print(rank_3_tensor[:, :, 4].numpy())"
      ],
      "execution_count": null,
      "outputs": []
    },
    {
      "cell_type": "code",
      "metadata": {
        "id": "f0c2HMfIoeN0"
      },
      "source": [
        "print(rank_3_tensor[:, :, 2: 4].numpy())"
      ],
      "execution_count": null,
      "outputs": []
    },
    {
      "cell_type": "code",
      "metadata": {
        "id": "tKmSkiodoodo"
      },
      "source": [
        "x = tf.constant([[1], [2], [3]])\n",
        "print(x.shape)"
      ],
      "execution_count": null,
      "outputs": []
    },
    {
      "cell_type": "code",
      "metadata": {
        "id": "-9amIJdxpFce"
      },
      "source": [
        "print(x.shape.as_list())"
      ],
      "execution_count": null,
      "outputs": []
    },
    {
      "cell_type": "code",
      "metadata": {
        "id": "CSAFlfMKpLyd"
      },
      "source": [
        "reshaped = tf.reshape(x, [1, 3])"
      ],
      "execution_count": null,
      "outputs": []
    },
    {
      "cell_type": "code",
      "metadata": {
        "id": "oPhUwej1pWOe"
      },
      "source": [
        "print(x.shape)\n",
        "print(reshaped.shape)\n",
        "print(x)\n",
        "print(reshaped)"
      ],
      "execution_count": null,
      "outputs": []
    },
    {
      "cell_type": "code",
      "metadata": {
        "id": "YbJFjoHKpbpV"
      },
      "source": [
        "print(rank_3_tensor)"
      ],
      "execution_count": null,
      "outputs": []
    },
    {
      "cell_type": "code",
      "metadata": {
        "id": "em9tDg38p5fn"
      },
      "source": [
        "print(tf.reshape(rank_3_tensor, [-1]))"
      ],
      "execution_count": null,
      "outputs": []
    },
    {
      "cell_type": "code",
      "metadata": {
        "id": "fbylmz2qqDXy"
      },
      "source": [
        "print(tf.reshape(rank_3_tensor, (-1)))"
      ],
      "execution_count": null,
      "outputs": []
    },
    {
      "cell_type": "code",
      "metadata": {
        "id": "O9r7S99gqS36"
      },
      "source": [
        "print(tf.reshape(rank_3_tensor, [2,-1]))"
      ],
      "execution_count": null,
      "outputs": []
    },
    {
      "cell_type": "code",
      "metadata": {
        "id": "JMduCZ7IqWUb"
      },
      "source": [
        "print(tf.reshape(rank_3_tensor, [3 * 2, 5]))"
      ],
      "execution_count": null,
      "outputs": []
    },
    {
      "cell_type": "code",
      "metadata": {
        "id": "YuCiltMCt_oA"
      },
      "source": [
        "try:\n",
        "    tf.reshape(rank_3_tensor, [7, -1])\n",
        "except Exception as e:\n",
        "    print(f'{type(e).__name__}: {e}')"
      ],
      "execution_count": null,
      "outputs": []
    },
    {
      "cell_type": "code",
      "metadata": {
        "id": "EDvTGNgUo5bM"
      },
      "source": [
        "the_f64_tensor = tf.constant([2.2, 3.3, 4.4], dtype=tf.float64)\n",
        "the_f16_tensor = tf.cast(the_f64_tensor, dtype=tf.float16)\n",
        "the_u8_tensor = tf.cast(the_f16_tensor, dtype=tf.uint8)\n",
        "print(the_f64_tensor)\n",
        "print(the_f16_tensor)\n",
        "print(the_u8_tensor)"
      ],
      "execution_count": null,
      "outputs": []
    },
    {
      "cell_type": "code",
      "metadata": {
        "id": "tkxJm3GeqGfi"
      },
      "source": [
        "x = tf.constant([1, 2, 3])\n",
        "\n",
        "y = tf.constant(2)\n",
        "z = tf.constant([2, 2, 2])\n",
        "\n",
        "print(x * 2)\n",
        "print(x * y)\n",
        "print(x * z)"
      ],
      "execution_count": null,
      "outputs": []
    },
    {
      "cell_type": "code",
      "metadata": {
        "id": "Da_2XwXxtFWK"
      },
      "source": [
        "x = tf.reshape(x, [3, 1])\n",
        "y = tf.range(1, 5)\n",
        "\n",
        "print(x, \"\\n\")\n",
        "print(y, \"\\n\")\n",
        "print(x * y, '\\n')\n",
        "print(tf.multiply(x, y), '\\n')\n",
        "print(tf.matmul(x, [y]))"
      ],
      "execution_count": null,
      "outputs": []
    },
    {
      "cell_type": "code",
      "metadata": {
        "id": "8frAmEWMtsby"
      },
      "source": [
        "x_scretch = tf.constant([[1, 1, 1, 1],\n",
        "                         [2, 2, 2, 2],\n",
        "                         [3, 3, 3, 3],\n",
        "                         [4, 4, 4, 4]])\n",
        "y_scretch = tf.constant([[1, 2, 3, 4],\n",
        "                         [1, 2, 3, 4],\n",
        "                         [1, 2, 3, 4],\n",
        "                         [1, 2, 3, 4]])\n",
        "\n",
        "print(x_scretch * y_scretch)"
      ],
      "execution_count": null,
      "outputs": []
    },
    {
      "cell_type": "code",
      "metadata": {
        "id": "PyvG9VbMugRo"
      },
      "source": [
        "print(tf.broadcast_to(tf.constant([1, 2, 3]), [3, 3]))"
      ],
      "execution_count": null,
      "outputs": []
    },
    {
      "cell_type": "code",
      "metadata": {
        "id": "f-G4So25vEH0"
      },
      "source": [
        "print(tf.broadcast_to(tf.constant([1, 2, 3]), [4, 3]))"
      ],
      "execution_count": null,
      "outputs": []
    },
    {
      "cell_type": "code",
      "metadata": {
        "id": "Q73k7FlbvGGa"
      },
      "source": [
        "print(tf.broadcast_to(tf.constant([1, 2, 3]), [1, 1, 3]))"
      ],
      "execution_count": null,
      "outputs": []
    },
    {
      "cell_type": "code",
      "metadata": {
        "id": "WKbAaOEQvINl"
      },
      "source": [
        "ragged_list = [\n",
        "    [0, 1, 2, 3],\n",
        "    [4, 5],\n",
        "    [6, 7, 8],\n",
        "    [9]\n",
        "]"
      ],
      "execution_count": null,
      "outputs": []
    },
    {
      "cell_type": "code",
      "metadata": {
        "id": "FZNZDaQAw8s2"
      },
      "source": [
        "try:\n",
        "    tensor = tf.constant(ragged_list)\n",
        "except Exception as e:\n",
        "    print(f'{type(e).__name__}: {e}')"
      ],
      "execution_count": null,
      "outputs": []
    },
    {
      "cell_type": "code",
      "metadata": {
        "id": "4dIsUfb6xMxN"
      },
      "source": [
        "ragged_tensor = tf.ragged.constant(ragged_list)\n",
        "print(ragged_tensor)"
      ],
      "execution_count": null,
      "outputs": []
    },
    {
      "cell_type": "code",
      "metadata": {
        "id": "RdKRGp5CxYAg"
      },
      "source": [
        "print(ragged_tensor.shape)"
      ],
      "execution_count": null,
      "outputs": []
    },
    {
      "cell_type": "code",
      "metadata": {
        "id": "jF3aCYshxcMU"
      },
      "source": [
        "scalar_string_tensor = tf.constant('Gray Wolf')\n",
        "print(scalar_string_tensor)"
      ],
      "execution_count": null,
      "outputs": []
    },
    {
      "cell_type": "code",
      "metadata": {
        "id": "OhQuUOEyxqen"
      },
      "source": [
        "tensor_of_strings = tf.constant([\n",
        "    'Gray Wolf',\n",
        "    'Quick brown fox',\n",
        "    'Lazy dog'\n",
        "])\n",
        "\n",
        "print(tensor_of_strings)"
      ],
      "execution_count": null,
      "outputs": []
    },
    {
      "cell_type": "code",
      "metadata": {
        "id": "uqyoHdbhx8y0"
      },
      "source": [
        "tf.constant(\"🥳👍\")"
      ],
      "execution_count": null,
      "outputs": []
    },
    {
      "cell_type": "code",
      "metadata": {
        "id": "xbHiABoJyEJ_"
      },
      "source": [
        "print(tf.strings.split(tensor_of_strings, sep=' '))"
      ],
      "execution_count": null,
      "outputs": []
    },
    {
      "cell_type": "code",
      "metadata": {
        "id": "M4XBwqY30MMC"
      },
      "source": [
        "print(tf.strings.split(scalar_string_tensor, sep=' '))"
      ],
      "execution_count": null,
      "outputs": []
    },
    {
      "cell_type": "code",
      "metadata": {
        "id": "slwtrzwZ0TQW"
      },
      "source": [
        "text = tf.constant('1 10 100')\n",
        "print(tf.strings.split(text))"
      ],
      "execution_count": null,
      "outputs": []
    },
    {
      "cell_type": "code",
      "metadata": {
        "id": "7u1fr9O01GnL"
      },
      "source": [
        "print(tf.strings.to_number(tf.strings.split(text)))"
      ],
      "execution_count": null,
      "outputs": []
    },
    {
      "cell_type": "code",
      "metadata": {
        "id": "XhpHxOdr1Qa_"
      },
      "source": [
        "byte_strings = tf.strings.bytes_split(tf.constant('Duck'))\n",
        "byte_ints = tf.io.decode_raw(tf.constant('Duck'), tf.uint8)\n",
        "print(byte_strings)\n",
        "print(byte_ints)"
      ],
      "execution_count": null,
      "outputs": []
    },
    {
      "cell_type": "code",
      "metadata": {
        "id": "6uyENXmv1t3h"
      },
      "source": [
        "unicode_bytes = tf.constant(\"アヒル 🦆\")\n",
        "unicode_char_bytes = tf.strings.unicode_split(unicode_bytes, 'UTF-8')\n",
        "unicode_values = tf.strings.unicode_decode(unicode_bytes, 'UTF-8')\n",
        "\n",
        "print(\"Unicode bytes: \", unicode_bytes)\n",
        "print(\"Unicode chars: \", unicode_char_bytes)\n",
        "print(\"Unicode values: \", unicode_values)"
      ],
      "execution_count": null,
      "outputs": []
    },
    {
      "cell_type": "code",
      "metadata": {
        "id": "sZY-3U4D5Xwh"
      },
      "source": [
        "sparse_tensor = tf.sparse.SparseTensor(indices=[[0, 0], [1, 2]], values=[1, 2], dense_shape=[3, 4])\n",
        "print(sparse_tensor, '\\n')"
      ],
      "execution_count": null,
      "outputs": []
    },
    {
      "cell_type": "code",
      "metadata": {
        "id": "S2BqE2016MrA"
      },
      "source": [
        "print(tf.sparse.to_dense(sparse_tensor))"
      ],
      "execution_count": null,
      "outputs": []
    },
    {
      "cell_type": "code",
      "metadata": {
        "id": "QCJj6Yo86UQ4"
      },
      "source": [
        ""
      ],
      "execution_count": null,
      "outputs": []
    }
  ]
}