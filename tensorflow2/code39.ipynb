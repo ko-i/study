{
  "nbformat": 4,
  "nbformat_minor": 0,
  "metadata": {
    "colab": {
      "name": "Untitled0.ipynb",
      "provenance": [],
      "authorship_tag": "ABX9TyO43fvFGzf4UP+XilKoFU8Z"
    },
    "kernelspec": {
      "display_name": "Python 3",
      "name": "python3"
    },
    "language_info": {
      "name": "python"
    }
  },
  "cells": [
    {
      "cell_type": "code",
      "metadata": {
        "id": "KS2LNH9xTeAY"
      },
      "source": [
        "import tensorflow as tf"
      ],
      "execution_count": null,
      "outputs": []
    },
    {
      "cell_type": "code",
      "metadata": {
        "id": "MyAB31TiTigw"
      },
      "source": [
        "model = tf.keras.Sequential([\n",
        "    tf.keras.layers.Dense(2, activation='relu', name='layer1'),\n",
        "    tf.keras.layers.Dense(3, activation='relu', name='layer2'),\n",
        "    tf.keras.layers.Dense(4, name='layer3')\n",
        "])\n",
        "\n",
        "x = tf.ones([3, 3])\n",
        "y = model(x)"
      ],
      "execution_count": null,
      "outputs": []
    },
    {
      "cell_type": "code",
      "metadata": {
        "id": "0LJFnfVdT_ct"
      },
      "source": [
        "print(y)"
      ],
      "execution_count": null,
      "outputs": []
    },
    {
      "cell_type": "code",
      "metadata": {
        "id": "O9cZhLgRUE1u"
      },
      "source": [
        "layer1 = tf.keras.layers.Dense(2, activation='relu', name='layer1')\n",
        "layer2 = tf.keras.layers.Dense(3, activation='relu', name='layer2')\n",
        "layer3 = tf.keras.layers.Dense(4, name='layer3')\n",
        "\n",
        "x = tf.ones((3, 3))\n",
        "y = layer3(layer2(layer1(x)))"
      ],
      "execution_count": null,
      "outputs": []
    },
    {
      "cell_type": "code",
      "metadata": {
        "id": "BgF7WsphURrk"
      },
      "source": [
        "model = tf.keras.Sequential(\n",
        "    [\n",
        "        tf.keras.layers.Dense(2, activation=\"relu\"),\n",
        "        tf.keras.layers.Dense(3, activation=\"relu\"),\n",
        "        tf.keras.layers.Dense(4),\n",
        "    ]\n",
        ")"
      ],
      "execution_count": null,
      "outputs": []
    },
    {
      "cell_type": "code",
      "metadata": {
        "id": "DAxZnbHHVPKh"
      },
      "source": [
        "model.layers"
      ],
      "execution_count": null,
      "outputs": []
    },
    {
      "cell_type": "code",
      "metadata": {
        "id": "1XyrSz1hVVmZ"
      },
      "source": [
        "model = tf.keras.Sequential()\n",
        "model.add(tf.keras.layers.Dense(2, 'relu'))\n",
        "model.add(tf.keras.layers.Dense(3, 'relu'))\n",
        "model.add(tf.keras.layers.Dense(4, 'relu'))"
      ],
      "execution_count": null,
      "outputs": []
    },
    {
      "cell_type": "code",
      "metadata": {
        "id": "dSg67-_qVyjR"
      },
      "source": [
        "model.pop()\n",
        "model.layers"
      ],
      "execution_count": null,
      "outputs": []
    },
    {
      "cell_type": "code",
      "metadata": {
        "id": "6JiJfg_aV0wH"
      },
      "source": [
        "model = tf.keras.Sequential(name=\"my_sequential\")\n",
        "model.add(tf.keras.layers.Dense(2, activation=\"relu\", name=\"layer1\"))\n",
        "model.add(tf.keras.layers.Dense(3, activation=\"relu\", name=\"layer2\"))\n",
        "model.add(tf.keras.layers.Dense(4, name=\"layer3\"))"
      ],
      "execution_count": null,
      "outputs": []
    },
    {
      "cell_type": "code",
      "metadata": {
        "id": "M2z-vN8gV9MH"
      },
      "source": [
        "layer = tf.keras.layers.Dense(3)\n",
        "layer.weights"
      ],
      "execution_count": null,
      "outputs": []
    },
    {
      "cell_type": "code",
      "metadata": {
        "id": "TK0UdpC-WmKF"
      },
      "source": [
        "x = tf.ones((1, 4))\n",
        "y = layer(x)\n",
        "layer.weights"
      ],
      "execution_count": null,
      "outputs": []
    },
    {
      "cell_type": "code",
      "metadata": {
        "id": "mo6y3UivYpom"
      },
      "source": [
        "model = tf.keras.Sequential(\n",
        "    [\n",
        "        tf.keras.layers.Dense(2, activation=\"relu\"),\n",
        "        tf.keras.layers.Dense(3, activation=\"relu\"),\n",
        "        tf.keras.layers.Dense(4),\n",
        "    ]\n",
        ") "
      ],
      "execution_count": null,
      "outputs": []
    },
    {
      "cell_type": "code",
      "metadata": {
        "id": "RwqY0Rn0aEOd"
      },
      "source": [
        "x = tf.ones((1, 4))\n",
        "y = model(x)\n",
        "print(\"Number of weights after calling the model:\", len(model.weights))  # 6"
      ],
      "execution_count": null,
      "outputs": []
    },
    {
      "cell_type": "code",
      "metadata": {
        "id": "IEjRkioXaGe9"
      },
      "source": [
        "model.summary()"
      ],
      "execution_count": null,
      "outputs": []
    },
    {
      "cell_type": "code",
      "metadata": {
        "id": "0kAQx6YeaNSs"
      },
      "source": [
        "model = tf.keras.Sequential()\n",
        "model.add(tf.keras.Input(shape=(4, )))\n",
        "model.add(tf.keras.layers.Dense(2, 'relu'))\n",
        "\n",
        "model.summary()"
      ],
      "execution_count": null,
      "outputs": []
    },
    {
      "cell_type": "code",
      "metadata": {
        "id": "O2q9ItPrah7_"
      },
      "source": [
        "model.layers"
      ],
      "execution_count": null,
      "outputs": []
    },
    {
      "cell_type": "code",
      "metadata": {
        "id": "BJT8CjLAalyM"
      },
      "source": [
        "model = tf.keras.Sequential()\n",
        "model.add(tf.keras.layers.Dense(2, 'relu', input_shape=(4, )))\n",
        "model.summary()"
      ],
      "execution_count": null,
      "outputs": []
    },
    {
      "cell_type": "code",
      "metadata": {
        "id": "6pGMdhbja6du"
      },
      "source": [
        "model = tf.keras.Sequential()\n",
        "model.add(tf.keras.Input(shape=(250, 250, 3)))\n",
        "model.add(tf.keras.layers.Conv2D(32, 5, strides=2, activation='relu'))\n",
        "model.add(tf.keras.layers.Conv2D(32, 3, activation='relu'))\n",
        "model.add(tf.keras.layers.MaxPooling2D(3))\n",
        "\n",
        "model.summary()"
      ],
      "execution_count": null,
      "outputs": []
    },
    {
      "cell_type": "code",
      "metadata": {
        "id": "z8jYO2GNcryI"
      },
      "source": [
        "model.add(tf.keras.layers.Conv2D(32, 3, activation=\"relu\"))\n",
        "model.add(tf.keras.layers.Conv2D(32, 3, activation=\"relu\"))\n",
        "model.add(tf.keras.layers.MaxPooling2D(3))\n",
        "model.add(tf.keras.layers.Conv2D(32, 3, activation=\"relu\"))\n",
        "model.add(tf.keras.layers.Conv2D(32, 3, activation=\"relu\"))\n",
        "model.add(tf.keras.layers.MaxPooling2D(2))\n",
        "\n",
        "model.summary()"
      ],
      "execution_count": null,
      "outputs": []
    },
    {
      "cell_type": "code",
      "metadata": {
        "id": "pQHkEmIMc4Ds"
      },
      "source": [
        "model.add(tf.keras.layers.GlobalMaxPooling2D())\n",
        "model.summary()"
      ],
      "execution_count": null,
      "outputs": []
    },
    {
      "cell_type": "code",
      "metadata": {
        "id": "TJmgKocVdE-_"
      },
      "source": [
        "model.add(tf.keras.layers.Dense(10))\n",
        "model.summary()"
      ],
      "execution_count": null,
      "outputs": []
    },
    {
      "cell_type": "code",
      "metadata": {
        "id": "dWB_N4bQdMEa"
      },
      "source": [
        "initial_model = tf.keras.Sequential(\n",
        "    [\n",
        "        tf.keras.layers.InputLayer(input_shape=(250, 250, 3)),\n",
        "        tf.keras.layers.Conv2D(32, 5, strides=2, activation=\"relu\"),\n",
        "        tf.keras.layers.Conv2D(32, 3, activation=\"relu\"),\n",
        "        tf.keras.layers.Conv2D(32, 3, activation=\"relu\"),\n",
        "    ]\n",
        ")\n",
        "\n",
        "feature_extractor = tf.keras.Model(\n",
        "    inputs=initial_model.inputs,\n",
        "    outputs=[layer.output for layer in initial_model.layers],\n",
        ")\n",
        "\n",
        "# Call feature extractor on test input.\n",
        "x = tf.ones((1, 250, 250, 3))\n",
        "features = feature_extractor(x)"
      ],
      "execution_count": null,
      "outputs": []
    },
    {
      "cell_type": "code",
      "metadata": {
        "id": "iRUda9-aegev"
      },
      "source": [
        "initial_model = tf.keras.Sequential(\n",
        "    [\n",
        "        tf.keras.layers.InputLayer(input_shape=(250, 250, 3)),\n",
        "        tf.keras.layers.Conv2D(32, 5, strides=2, activation=\"relu\"),\n",
        "        tf.keras.layers.Conv2D(32, 3, activation=\"relu\", name='layer2'),\n",
        "        tf.keras.layers.Conv2D(32, 3, activation=\"relu\"),\n",
        "    ]\n",
        ")\n",
        "\n",
        "feature_extractor = tf.keras.Model(\n",
        "    inputs=initial_model.inputs,\n",
        "    outputs=initial_model.get_layer(name='layer2').output\n",
        ")\n",
        "\n",
        "# Call feature extractor on test input.\n",
        "x = tf.ones((1, 250, 250, 3))\n",
        "features = feature_extractor(x)"
      ],
      "execution_count": null,
      "outputs": []
    },
    {
      "cell_type": "code",
      "metadata": {
        "id": "pccgCo6Qg7OV"
      },
      "source": [
        "model = tf.keras.Sequential([\n",
        "    tf.keras.Input(shape=(784)),\n",
        "    tf.keras.layers.Dense(32, activation='relu'),\n",
        "    tf.keras.layers.Dense(32, activation='relu'),\n",
        "    tf.keras.layers.Dense(32, activation='relu'),\n",
        "    tf.keras.layers.Dense(10),\n",
        "])\n",
        "\n",
        "for layer in model.layers[:-1]:\n",
        "    layer.trainable = False"
      ],
      "execution_count": null,
      "outputs": []
    },
    {
      "cell_type": "code",
      "metadata": {
        "id": "9BNPUf68izit"
      },
      "source": [
        "base_model = tf.keras.applications.Xception(weights='imagenet', include_top=False, pooling='avg')\n",
        "\n",
        "base_model.trainable = False\n",
        "\n",
        "model = tf.keras.Sequential([\n",
        "    base_model,\n",
        "    tf.keras.layers.Dense(10)\n",
        "])\n",
        "\n",
        "model.summary()"
      ],
      "execution_count": null,
      "outputs": []
    }
  ]
}