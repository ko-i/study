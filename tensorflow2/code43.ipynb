{
  "nbformat": 4,
  "nbformat_minor": 0,
  "metadata": {
    "colab": {
      "name": "Untitled0.ipynb",
      "provenance": [],
      "authorship_tag": "ABX9TyPpMhvAFlF6TthARmyscf3Z"
    },
    "kernelspec": {
      "display_name": "Python 3",
      "name": "python3"
    },
    "language_info": {
      "name": "python"
    }
  },
  "cells": [
    {
      "cell_type": "code",
      "metadata": {
        "id": "fx4gsj-Qggvs"
      },
      "source": [
        "import numpy as np\n",
        "import tensorflow as tf\n",
        "from tensorflow import keras"
      ],
      "execution_count": null,
      "outputs": []
    },
    {
      "cell_type": "code",
      "metadata": {
        "id": "8XKbVozTh4q-"
      },
      "source": [
        "def get_model():\n",
        "    inputs = keras.Input(shape=(32,))\n",
        "    outputs = keras.layers.Dense(1)(inputs)\n",
        "    model = keras.Model(inputs, outputs)\n",
        "    model.compile(optimizer='adam', loss='mean_squared_error')\n",
        "\n",
        "    return model"
      ],
      "execution_count": null,
      "outputs": []
    },
    {
      "cell_type": "code",
      "metadata": {
        "id": "TcudFj_3kkiJ"
      },
      "source": [
        "model = get_model()"
      ],
      "execution_count": null,
      "outputs": []
    },
    {
      "cell_type": "code",
      "metadata": {
        "id": "-jd-W2DVknow"
      },
      "source": [
        "test_input = np.random.random((128, 32))\n",
        "test_target = np.random.random((128, 1))\n",
        "model.fit(test_input, test_target)\n",
        "\n",
        "model.save('my_model')\n",
        "\n",
        "reconstructed_model = keras.models.load_model('my_model')\n",
        "\n",
        "np.testing.assert_allclose(\n",
        "    model.predict(test_input), reconstructed_model.predict(test_input)\n",
        ")\n",
        "\n",
        "reconstructed_model.fit(test_input, test_target)"
      ],
      "execution_count": null,
      "outputs": []
    },
    {
      "cell_type": "code",
      "metadata": {
        "id": "E68eDquDmsiT"
      },
      "source": [
        "!ls my_model"
      ],
      "execution_count": null,
      "outputs": []
    },
    {
      "cell_type": "code",
      "metadata": {
        "id": "Z0DTWoT3m2_4"
      },
      "source": [
        "class CustomModel(keras.Model):\n",
        "    def __init__(self, hidden_units):\n",
        "        super(CustomModel, self).__init__()\n",
        "        self.hidden_units = hidden_units\n",
        "        self.dense_layers = [keras.layers.Dense(u) for u in hidden_units]\n",
        "    \n",
        "    def call(self, inputs):\n",
        "        x = inputs\n",
        "        for layer in self.dense_layers:\n",
        "            x = layer(x)\n",
        "        return x\n",
        "    \n",
        "    def get_config(self):\n",
        "        return {'hidden_units': self.hidden_units}\n",
        "    \n",
        "    @classmethod\n",
        "    def from_config(cls, config):\n",
        "        return cls(**config)\n",
        "\n",
        "model = CustomModel([16, 16, 10])\n",
        "\n",
        "input_arr = tf.random.uniform((1, 5))\n",
        "\n",
        "outputs = model(input_arr)\n",
        "\n",
        "model.save('my_model')"
      ],
      "execution_count": null,
      "outputs": []
    },
    {
      "cell_type": "code",
      "metadata": {
        "id": "pqcAY2uckKla"
      },
      "source": [
        "loaded_1 = keras.models.load_model('my_model', custom_objects={'CustomModel': CustomModel})\n",
        "\n",
        "del CustomModel\n",
        "\n",
        "loaded_2 = keras.models.load_model('my_model')\n",
        "\n",
        "np.testing.assert_allclose(loaded_1(input_arr), outputs)\n",
        "np.testing.assert_allclose(loaded_2(input_arr), outputs)\n",
        "\n",
        "print(model)\n",
        "print(loaded_1)\n",
        "print(loaded_2)"
      ],
      "execution_count": null,
      "outputs": []
    },
    {
      "cell_type": "code",
      "metadata": {
        "id": "yFpWn87Rk-gD"
      },
      "source": [
        "model = get_model()\n",
        "\n",
        "test_input = np.random.random((128, 32))\n",
        "test_target = np.random.random((128, 1))\n",
        "model.fit(test_input, test_target)\n",
        "\n",
        "model.save('my_h5_model.h5')\n",
        "\n",
        "reconstructed_model = keras.models.load_model('my_h5_model.h5')\n",
        "\n",
        "np.testing.assert_allclose(model.predict(test_input), reconstructed_model.predict(test_input))\n",
        "\n",
        "reconstructed_model.fit(test_input, test_target)"
      ],
      "execution_count": null,
      "outputs": []
    },
    {
      "cell_type": "code",
      "metadata": {
        "id": "S66ZT3dEnk1t"
      },
      "source": [
        "layer = keras.layers.Dense(3, activation='relu')\n",
        "layer_config = layer.get_config()\n",
        "new_layer = keras.layers.Dense.from_config(layer_config)"
      ],
      "execution_count": null,
      "outputs": []
    },
    {
      "cell_type": "code",
      "metadata": {
        "id": "b1NNBIuQqkhM"
      },
      "source": [
        "model = keras.Sequential([\n",
        "    keras.Input(shape=(32,)),\n",
        "    keras.layers.Dense(1)\n",
        "])\n",
        "\n",
        "config = model.get_config()\n",
        "new_model = keras.Sequential.from_config(config)"
      ],
      "execution_count": null,
      "outputs": []
    },
    {
      "cell_type": "code",
      "metadata": {
        "id": "rSdNjGVaq51p"
      },
      "source": [
        "inputs = keras.Input(shape=(32,))\n",
        "outputs = keras.layers.Dense(1)(inputs)\n",
        "model = keras.Model(inputs, outputs)\n",
        "\n",
        "config = model.get_config()\n",
        "new_model = keras.Model.from_config(config)"
      ],
      "execution_count": null,
      "outputs": []
    },
    {
      "cell_type": "code",
      "metadata": {
        "id": "eJ9cfrBrrPYE"
      },
      "source": [
        "model = keras.Sequential([\n",
        "    keras.Input(shape=(32,)),\n",
        "    keras.layers.Dense(1)\n",
        "])\n",
        "\n",
        "json_config = model.to_json()\n",
        "new_model = keras.models.model_from_json(json_config)"
      ],
      "execution_count": null,
      "outputs": []
    },
    {
      "cell_type": "code",
      "metadata": {
        "id": "OK3zvxLWrrT1"
      },
      "source": [
        "model.save('my_model')\n",
        "tensorflow_graph = tf.saved_model.load('my_model')\n",
        "x = np.random.uniform(size=(4, 32)).astype('float32')\n",
        "predicted = tensorflow_graph(x)"
      ],
      "execution_count": null,
      "outputs": []
    },
    {
      "cell_type": "code",
      "metadata": {
        "id": "__yRniXHtE_Q"
      },
      "source": [
        "class CustomLayer(keras.layers.Layer):\n",
        "    def __init__(self, a):\n",
        "        self.var = tf.Variable(a, name='var_a')\n",
        "    \n",
        "    def call(self, inputs, training=False):\n",
        "        if training:\n",
        "            return inputs * self.var\n",
        "        else:\n",
        "            return inputs\n",
        "    \n",
        "    def get_config(self):\n",
        "        return {'a': self.var.numpy()}\n",
        "    \n",
        "    @classmethod\n",
        "    def from_config(cls, config):\n",
        "        return cls(**config)\n",
        "\n",
        "layer = CustomLayer(5)\n",
        "layer.var.assign(2)\n",
        "\n",
        "serialized_layer = keras.layers.serialize(layer)\n",
        "new_layer = keras.layers.deserialize(serialized_layer, custom_objects = {'CustomLayer': CustomLayer})"
      ],
      "execution_count": null,
      "outputs": []
    },
    {
      "cell_type": "code",
      "metadata": {
        "id": "hBneZ4fJ11lk"
      },
      "source": [
        "class CustomLayer(keras.layers.Layer):\n",
        "    def __init__(self, units=32, **kwargs):\n",
        "        super(CustomLayer, self).__init__(**kwargs)\n",
        "        self.units = units\n",
        "    \n",
        "    def build(self, input_shape):\n",
        "        self.w = self.add_weight(shape=(input_shape[-1], self.units), initializer='random_normal', trainable=True)\n",
        "        self.b = self.add_weight(shape=(self.units,), initializer='random_normal', trainable=True)\n",
        "\n",
        "    def call(self, inputs):\n",
        "        return tf.matmul(inputs, self.w) + self.b\n",
        "    \n",
        "    def get_config(self):\n",
        "        config = super(CustomLayer, self).get_config()\n",
        "        config.update({'units': self.units})\n",
        "        return config\n",
        "    \n",
        "def custom_activation(x):\n",
        "    return tf.nn.tanh(x) ** 2\n",
        "\n",
        "inputs = keras.Input((32, ))\n",
        "x = CustomLayer(32)(inputs)\n",
        "outputs = keras.layers.Activation(custom_activation)(x)\n",
        "model = keras.Model(inputs, outputs)\n",
        "\n",
        "config = model.get_config()\n",
        "\n",
        "custom_objects = {'CustomLayer': CustomLayer, 'custom_activation': custom_activation}\n",
        "\n",
        "with keras.utils.custom_object_scope(custom_objects):\n",
        "    new_model = keras.Model.from_config(config)"
      ],
      "execution_count": null,
      "outputs": []
    },
    {
      "cell_type": "code",
      "metadata": {
        "id": "ciaIUmOXAYOB"
      },
      "source": [
        "with keras.utils.custom_object_scope(custom_objects):\n",
        "    new_model = keras.models.clone_model(model)"
      ],
      "execution_count": null,
      "outputs": []
    },
    {
      "cell_type": "code",
      "metadata": {
        "id": "u0pC-XjHCGTH"
      },
      "source": [
        "def create_layer():\n",
        "    layer = keras.layers.Dense(64, activation='relu', name='dense_2')\n",
        "    layer.build((None, 784))\n",
        "    return layer\n",
        "\n",
        "layer_1 = create_layer()\n",
        "layer_2 = create_layer()\n",
        "\n",
        "layer_2.set_weights(layer_1.get_weights())"
      ],
      "execution_count": null,
      "outputs": []
    },
    {
      "cell_type": "code",
      "metadata": {
        "id": "3_-fLrKXDEV9"
      },
      "source": [
        "inputs = keras.Input((784,), name='digits')\n",
        "x = keras.layers.Dense(64, activation='relu', name='dense_1')(inputs)\n",
        "x = keras.layers.Dense(64, activation='relu', name='dense_2')(x)\n",
        "outputs = keras.layers.Dense(10, name='predictions')(x)\n",
        "functional_model = keras.Model(inputs=inputs, outputs=outputs, name='2_layer_mlp')\n",
        "\n",
        "class SubclassedModel(keras.Model):\n",
        "    def __init__(self, output_dim=10, name=None):\n",
        "        super(SubclassedModel, self).__init__(name=name)\n",
        "        self.output_dim = output_dim\n",
        "        self.dense_1 = keras.layers.Dense(64, activation='relu', name='dense_1')\n",
        "        self.dense_2 = keras.layers.Dense(64, activation='relu', name='dense_2')\n",
        "        self.dense_3 = keras.layers.Dense(self.output_dim, name='predictions')\n",
        "    \n",
        "    def call(self, inputs):\n",
        "        x = self.dense_1(inputs)\n",
        "        x = self.dense_2(x)\n",
        "        x = self.dense_3(x)\n",
        "        return x\n",
        "    \n",
        "    def get_config(self):\n",
        "        return {'output_dim': self.output_dim, 'name': self.name}\n",
        "\n",
        "subclassed_model = SubclassedModel(10)\n",
        "subclassed_model(tf.ones((1, 784)))\n",
        "\n",
        "subclassed_model.set_weights(functional_model.get_weights())\n",
        "assert len(subclassed_model.weights) == len(functional_model.weights)\n",
        "\n",
        "for a, b in zip(functional_model.weights, subclassed_model.weights):\n",
        "    np.testing.assert_allclose(a.numpy(), b.numpy())"
      ],
      "execution_count": null,
      "outputs": []
    },
    {
      "cell_type": "code",
      "metadata": {
        "id": "7mvyPOHNHYTO"
      },
      "source": [
        "inputs = keras.Input(shape=(784,), name='digits')\n",
        "x = keras.layers.Dense(64, activation='relu', name='dense_1')(inputs)\n",
        "x = keras.layers.Dense(64, activation='relu', name='dense_2')(x)\n",
        "outputs = keras.layers.Dense(10, name='predictions')(x)\n",
        "functional_model = keras.Model(inputs=inputs, outputs=outputs, name='3_layer_mlp')\n",
        "\n",
        "inputs = keras.Input(shape=(784,), name='digits')\n",
        "x = keras.layers.Dense(64, activation='relu', name='dense_1')(inputs)\n",
        "x = keras.layers.Dense(64, activation='relu', name='dense_2')(x)\n",
        "x = keras.layers.Dropout(0.5)(x)\n",
        "outputs = keras.layers.Dense(10, name='predictions')(x)\n",
        "functional_model_with_dropout = keras.Model(inputs=inputs, outputs=outputs, name='3_layer_mlp')\n",
        "\n",
        "functional_model_with_dropout.set_weights(functional_model.get_weights())"
      ],
      "execution_count": null,
      "outputs": []
    },
    {
      "cell_type": "code",
      "metadata": {
        "id": "GJekQQliKnW8"
      },
      "source": [
        "sequential_model = keras.Sequential([\n",
        "    keras.Input(shape=(784,), name='digits'),\n",
        "    keras.layers.Dense(64, activation='relu', name='dense_1'),\n",
        "    keras.layers.Dense(64, activation='relu', name='dense_2'),\n",
        "    keras.layers.Dense(10, name='predictions')\n",
        "])\n",
        "\n",
        "sequential_model.save_weights('ckpt')\n",
        "load_status = sequential_model.load_weights('ckpt')\n",
        "\n",
        "load_status.assert_consumed()"
      ],
      "execution_count": null,
      "outputs": []
    },
    {
      "cell_type": "code",
      "metadata": {
        "id": "Zz0NtbWEOObE"
      },
      "source": [
        "class CustomLayer(keras.layers.Layer):\n",
        "    def __init__(self, a):\n",
        "        self.var = tf.Variable(a, name='var_a')\n",
        "    \n",
        "layer = CustomLayer(5)\n",
        "layer_checkpoint = tf.train.Checkpoint(layer=layer).save('custom_layer')\n",
        "ckpt_reader = tf.train.load_checkpoint(layer_checkpoint)\n",
        "ckpt_reader.get_variable_to_dtype_map()\n"
      ],
      "execution_count": null,
      "outputs": []
    },
    {
      "cell_type": "code",
      "metadata": {
        "id": "f4lxVFB2Tlxc"
      },
      "source": [
        "inputs = keras.Input(shape=(784,), name='digits')\n",
        "x = keras.layers.Dense(64, activation='relu', name='dense_1')(inputs)\n",
        "x = keras.layers.Dense(64, activation='relu', name='dense_2')(x)\n",
        "outputs = keras.layers.Dense(10, name='predictions')(x)\n",
        "functional_model = keras.Model(inputs, outputs, name='3_layer_mlp')\n",
        "\n",
        "pretrained_model = keras.Model(functional_model.inputs, functional_model.layers[-1].input, name='pretrained_model')\n",
        "for w in pretrained_model.weights:\n",
        "    w.assign(tf.random.normal(w.shape))\n",
        "pretrained_model.save_weights('pretrained_ckpt')\n",
        "pretrained_model.summary()"
      ],
      "execution_count": null,
      "outputs": []
    },
    {
      "cell_type": "code",
      "metadata": {
        "id": "p24tIFUfYkuO"
      },
      "source": [
        "inputs = keras.Input(shape=(784, ), name='digits')\n",
        "x = keras.layers.Dense(64, activation='relu', name='dense_1')(inputs)\n",
        "x = keras.layers.Dense(64, activation='relu', name='dense_2')(x)\n",
        "outputs = keras.layers.Dense(5, name='predictions')(x)\n",
        "model = keras.Model(inputs, outputs, name='new_model')\n",
        "\n",
        "model.load_weights('pretrained_ckpt')\n",
        "\n",
        "for a, b in zip(pretrained_model.weights, model.weights):\n",
        "    np.testing.assert_allclose(a.numpy(), b.numpy())\n",
        "\n",
        "print('\\n', '_' * 50)\n",
        "model.summary()"
      ],
      "execution_count": null,
      "outputs": []
    },
    {
      "cell_type": "code",
      "metadata": {
        "id": "g2bi2vTjc7UY"
      },
      "source": [
        "inputs = keras.Input(shape=(784, ), name='digits')\n",
        "x = keras.layers.Dense(64, activation='relu', name='dense_1')(inputs)\n",
        "x = keras.layers.Dense(64, activation='relu', name='dense_2')(x)\n",
        "pretrained_model = keras.Model(inputs, x, name='pretrained')\n",
        "\n",
        "model = keras.Sequential([\n",
        "    pretrained_model,\n",
        "    keras.layers.Dense(5, name='predictions')\n",
        "])\n",
        "\n",
        "model.summary()"
      ],
      "execution_count": null,
      "outputs": []
    },
    {
      "cell_type": "code",
      "metadata": {
        "id": "VADn257ngmRQ"
      },
      "source": [
        "pretrained_model.load_weights('pretrained_ckpt')"
      ],
      "execution_count": null,
      "outputs": []
    },
    {
      "cell_type": "code",
      "metadata": {
        "id": "nNV5HqwJgywW"
      },
      "source": [
        "first_dense = functional_model.layers[1]\n",
        "last_dense = functional_model.layers[-1]\n",
        "\n",
        "ckpt_path = tf.train.Checkpoint(dense=first_dense, kernel=last_dense.kernel, bias=last_dense.bias).save('ckpt')\n",
        "\n",
        "class ContrivedModel(keras.Model):\n",
        "    def __init__(self):\n",
        "        super(ContrivedModel, self).__init__()\n",
        "        self.first_dense = keras.layers.Dense(64)\n",
        "        self.kernel = self.add_variable('kernel', shape=(64, 10))\n",
        "        self.bias = self.add_variable('bias', shape=(10, ))\n",
        "    \n",
        "    def call(self, inputs):\n",
        "        x = self.first_dense(inputs)\n",
        "        return tf.matmul(x, self.kernel) + self.bias\n",
        "\n",
        "model = ContrivedModel()\n",
        "_ = model(tf.ones((1, 784)))\n",
        "\n",
        "tf.train.Checkpoint(dense=model.first_dense, kernel=model.kernel, bias=model.bias).restore(ckpt_path).assert_consumed()"
      ],
      "execution_count": null,
      "outputs": []
    },
    {
      "cell_type": "code",
      "metadata": {
        "id": "Y9DHXOYCo8IE"
      },
      "source": [
        "sequential_model = keras.Sequential([\n",
        "    keras.Input(shape=(784, ), name='digits'),\n",
        "    keras.layers.Dense(64, activation='relu', name='dense_1'),\n",
        "    keras.layers.Dense(64, activation='relu', name='dense_2'),\n",
        "    keras.layers.Dense(10, name='predictions')\n",
        "])\n",
        "\n",
        "sequential_model.save_weights('weights.h5')\n",
        "sequential_model.load_weights('weights.h5')"
      ],
      "execution_count": null,
      "outputs": []
    },
    {
      "cell_type": "code",
      "metadata": {
        "id": "w8hMWyGbrfwa"
      },
      "source": [
        "class NestedDenseLayer(keras.layers.Layer):\n",
        "    def __init__(self, units, name=None):\n",
        "        super(NestedDenseLayer, self).__init__(name=name)\n",
        "        self.dense_1 = keras.layers.Dense(units, name='dense_1')\n",
        "        self.dense_2 = keras.layers.Dense(units, name='dense_2')\n",
        "    \n",
        "    def call(self, inputs):\n",
        "        return self.dense_2(self.dense_1(inputs))\n",
        "\n",
        "nested_model = keras.Sequential([\n",
        "    keras.Input(shape=(784,), name='digits'),\n",
        "    NestedDenseLayer(10, 'nested'),\n",
        "])\n",
        "variable_names = [v.name for v in nested_model.weights]\n",
        "print('Variables: {}'.format(variable_names))"
      ],
      "execution_count": null,
      "outputs": []
    },
    {
      "cell_type": "code",
      "metadata": {
        "id": "Sw2e9erMtS-g"
      },
      "source": [
        "print(\"\\nChanging trainable status of one of the nested layers...\")\n",
        "nested_model.get_layer('nested').dense_1.trainable = False\n",
        "variable_names_2 = [v.name for v in nested_model.weights]\n",
        "print('Variables: {}'.format(variable_names_2))\n",
        "print('Variable ordering changed: ', variable_names != variable_names_2)"
      ],
      "execution_count": null,
      "outputs": []
    },
    {
      "cell_type": "code",
      "metadata": {
        "id": "dqtKS1Jat1la"
      },
      "source": [
        "def create_functional_model():\n",
        "    inputs = keras.Input(shape=(784, ), name='digits')\n",
        "    x = keras.layers.Dense(64, activation='relu', name='dense_1')(inputs)\n",
        "    x = keras.layers.Dense(64, activation='relu', name='dense_2')(x)\n",
        "    outputs = keras.layers.Dense(10, name='predictions')(x)\n",
        "    return keras.Model(inputs, outputs)\n",
        "\n",
        "functional_model = create_functional_model()\n",
        "functional_model.save_weights('pretrained_weights.h5')\n",
        "\n",
        "pretrained_model = create_functional_model()\n",
        "pretrained_model.load_weights('pretrained_weights.h5')\n",
        "\n",
        "extracted_layers = pretrained_model.layers[:-1]\n",
        "extracted_layers.append(keras.layers.Dense(5, name='dense_3'))\n",
        "model = keras.Sequential(extracted_layers)\n",
        "model.summary()"
      ],
      "execution_count": null,
      "outputs": []
    }
  ]
}