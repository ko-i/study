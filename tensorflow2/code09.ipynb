{
  "nbformat": 4,
  "nbformat_minor": 0,
  "metadata": {
    "colab": {
      "name": "Untitled0.ipynb",
      "provenance": [],
      "collapsed_sections": [],
      "authorship_tag": "ABX9TyPFTEnRhaL3cQmrYZDiGDhK"
    },
    "kernelspec": {
      "name": "python3",
      "display_name": "Python 3"
    }
  },
  "cells": [
    {
      "cell_type": "code",
      "metadata": {
        "id": "caU_ceJ3BDU9"
      },
      "source": [
        "import tensorflow as tf"
      ],
      "execution_count": null,
      "outputs": []
    },
    {
      "cell_type": "code",
      "metadata": {
        "id": "RXyo4tEuBGcb"
      },
      "source": [
        "print(tf.add(1, 2))"
      ],
      "execution_count": null,
      "outputs": []
    },
    {
      "cell_type": "code",
      "metadata": {
        "id": "wao4IhzEBdZQ"
      },
      "source": [
        "print(tf.add([1, 2], [3, 4]))"
      ],
      "execution_count": null,
      "outputs": []
    },
    {
      "cell_type": "code",
      "metadata": {
        "id": "HGIFBI2eBhwj"
      },
      "source": [
        "print(tf.square(5))"
      ],
      "execution_count": null,
      "outputs": []
    },
    {
      "cell_type": "code",
      "metadata": {
        "id": "R2KpTeX7Bv6n"
      },
      "source": [
        "print(tf.reduce_sum([1, 2, 3]))"
      ],
      "execution_count": null,
      "outputs": []
    },
    {
      "cell_type": "code",
      "metadata": {
        "id": "2tHVGoR_B10U"
      },
      "source": [
        "print(tf.reduce_sum([[1, 2, 3], [4, 5, 6]], axis = 0))"
      ],
      "execution_count": null,
      "outputs": []
    },
    {
      "cell_type": "code",
      "metadata": {
        "id": "Hq6mE5hFB-qs"
      },
      "source": [
        "print(tf.reduce_sum([[1, 2, 3], [4, 5, 6]], axis = 1))"
      ],
      "execution_count": null,
      "outputs": []
    },
    {
      "cell_type": "code",
      "metadata": {
        "id": "Yqmd_kJUCATy"
      },
      "source": [
        "print(tf.square(2) + tf.square(3))"
      ],
      "execution_count": null,
      "outputs": []
    },
    {
      "cell_type": "code",
      "metadata": {
        "id": "oJTSTkaWCT_0"
      },
      "source": [
        "x = tf.matmul([[1]], [[2, 3]])\n",
        "\n",
        "print(x)\n",
        "print(x.shape)\n",
        "print(x.dtype)"
      ],
      "execution_count": null,
      "outputs": []
    },
    {
      "cell_type": "code",
      "metadata": {
        "id": "eo53ZTdjs_sl"
      },
      "source": [
        "import numpy as np\n",
        "\n",
        "ndarray = np.ones([3, 3])\n",
        "print(ndarray)"
      ],
      "execution_count": null,
      "outputs": []
    },
    {
      "cell_type": "code",
      "metadata": {
        "id": "Lm_srZDVtzgI"
      },
      "source": [
        "tensor = tf.multiply(ndarray, 42)\n",
        "print(tensor)"
      ],
      "execution_count": null,
      "outputs": []
    },
    {
      "cell_type": "code",
      "metadata": {
        "id": "csFqJZaEt86_"
      },
      "source": [
        "print(np.add(tensor, 1))"
      ],
      "execution_count": null,
      "outputs": []
    },
    {
      "cell_type": "code",
      "metadata": {
        "id": "FBLt_RpWuDoV"
      },
      "source": [
        "print(tensor.numpy())"
      ],
      "execution_count": null,
      "outputs": []
    },
    {
      "cell_type": "code",
      "metadata": {
        "id": "51D3UrYouGXL"
      },
      "source": [
        "x = tf.random.uniform([3, 3])\n",
        "\n",
        "print(\"Is there a GPU avaliable:\");\n",
        "print(tf.config.list_physical_devices('GPU'))"
      ],
      "execution_count": null,
      "outputs": []
    },
    {
      "cell_type": "code",
      "metadata": {
        "id": "knkHHA7SullC"
      },
      "source": [
        "print(\"Is the tensor on GPU #0:\")\n",
        "print(x.device.endswith('GPU:0'))"
      ],
      "execution_count": null,
      "outputs": []
    },
    {
      "cell_type": "code",
      "metadata": {
        "id": "iviQAOMlvImW"
      },
      "source": [
        "import time\n",
        "\n",
        "def time_matmul(x):\n",
        "    start = time.time()\n",
        "    for loop in range(10):\n",
        "        tf.matmul(x, x)\n",
        "    \n",
        "    result = time.time() - start\n",
        "\n",
        "    print(\"10 loops: {:0.2f}ms\".format(1000 * result))\n",
        "\n",
        "print(\"On CPU:\")\n",
        "with tf.device('CPU:0'):\n",
        "    x = tf.random.uniform([1000, 1000])\n",
        "    assert x.device.endswith(\"CPU:0\")\n",
        "    time_matmul(x)\n",
        "\n",
        "print(\"On GPU:\")\n",
        "with tf.device('GPU:0'):\n",
        "    x = tf.random.uniform([1000, 1000])\n",
        "    assert x.device.endswith(\"GPU:0\")\n",
        "    time_matmul(x)"
      ],
      "execution_count": null,
      "outputs": []
    },
    {
      "cell_type": "code",
      "metadata": {
        "id": "du1tPvAt0bLP"
      },
      "source": [
        "ds_tensors = tf.data.Dataset.from_tensor_slices([1, 2, 3, 4, 5, 6])\n",
        "\n",
        "import tempfile\n",
        "\n",
        "_, filename = tempfile.mkstemp()\n",
        "with open(filename, 'w') as f:\n",
        "    f.write(\"\"\"Line 1\n",
        "Line 2\n",
        "Line 3\n",
        "\"\"\")\n",
        "\n",
        "ds_file = tf.data.TextLineDataset(filename)"
      ],
      "execution_count": null,
      "outputs": []
    },
    {
      "cell_type": "code",
      "metadata": {
        "id": "7ecfg_SM2p3P"
      },
      "source": [
        "ds_file"
      ],
      "execution_count": null,
      "outputs": []
    },
    {
      "cell_type": "code",
      "metadata": {
        "id": "kdaXp5Ap3LWI"
      },
      "source": [
        "print(\"Element in ds_tensor\")\n",
        "for x in ds_tensors:\n",
        "    print(x)\n",
        "\n",
        "print(\"Element in ds_file\")\n",
        "for x in ds_file:\n",
        "    print(x)"
      ],
      "execution_count": null,
      "outputs": []
    },
    {
      "cell_type": "code",
      "metadata": {
        "id": "TVku0QfF2Zpk"
      },
      "source": [
        "ds_tensors = ds_tensors.map(tf.square).shuffle(2).batch(2)\n",
        "ds_file = ds_file.batch(2)"
      ],
      "execution_count": null,
      "outputs": []
    },
    {
      "cell_type": "code",
      "metadata": {
        "id": "taBHpO6e2s06"
      },
      "source": [
        "print(\"Element in ds_tensor\")\n",
        "for x in ds_tensors:\n",
        "    print(x)\n",
        "\n",
        "print(\"Element in ds_file\")\n",
        "for x in ds_file:\n",
        "    print(x)"
      ],
      "execution_count": null,
      "outputs": []
    },
    {
      "cell_type": "code",
      "metadata": {
        "id": "3mziRZso2551"
      },
      "source": [
        ""
      ],
      "execution_count": null,
      "outputs": []
    }
  ]
}