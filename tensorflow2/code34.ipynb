{
  "nbformat": 4,
  "nbformat_minor": 0,
  "metadata": {
    "colab": {
      "name": "Untitled0.ipynb",
      "provenance": [],
      "authorship_tag": "ABX9TyPeKjBmK7J0WxVlDbItPpQ2"
    },
    "kernelspec": {
      "display_name": "Python 3",
      "name": "python3"
    },
    "language_info": {
      "name": "python"
    }
  },
  "cells": [
    {
      "cell_type": "code",
      "metadata": {
        "id": "NqKMXpCu1mVC"
      },
      "source": [
        "import tensorflow as tf\n",
        "\n",
        "import matplotlib as mpl\n",
        "import matplotlib.pyplot as plt\n",
        "\n",
        "mpl.rcParams['figure.figsize'] = (8, 6)"
      ],
      "execution_count": null,
      "outputs": []
    },
    {
      "cell_type": "code",
      "metadata": {
        "id": "LYvV4IZc12s9"
      },
      "source": [
        "x = tf.Variable(2.0)\n",
        "y = tf.Variable(3.0)\n",
        "\n",
        "with tf.GradientTape() as t:\n",
        "    x_sq = x * x\n",
        "\n",
        "    with t.stop_recording():\n",
        "        y_sq = y * y\n",
        "    \n",
        "    z = x_sq + y_sq\n",
        "\n",
        "grad = t.gradient(z, {'x': x, 'y': y})\n",
        "print('dz/dx: ', grad['x'])\n",
        "print('dz/dy: ', grad['y'])"
      ],
      "execution_count": null,
      "outputs": []
    },
    {
      "cell_type": "code",
      "metadata": {
        "id": "_ly1FSYJ33KX"
      },
      "source": [
        "x = tf.Variable(2.0)\n",
        "y = tf.Variable(3.0)\n",
        "reset = True\n",
        "\n",
        "with tf.GradientTape() as t:\n",
        "    y_sq = y*y\n",
        "    \n",
        "    if reset:\n",
        "        t.reset()\n",
        "    \n",
        "    z = x*x + y_sq\n",
        "\n",
        "grad = t.gradient(z, {'x': x, 'y': y})\n",
        "print('dz/dx = ', grad['x'])\n",
        "print('dz/dy = ', grad['y'])"
      ],
      "execution_count": null,
      "outputs": []
    },
    {
      "cell_type": "code",
      "metadata": {
        "id": "WzQyOLNY4iuw"
      },
      "source": [
        "x = tf.Variable(2.0)\n",
        "y = tf.Variable(3.0)\n",
        "\n",
        "with tf.GradientTape() as t:\n",
        "    y_sq = y**2\n",
        "\n",
        "    z = x**2 + tf.stop_gradient(y_sq)\n",
        "\n",
        "grad = t.gradient(z, {'x': x, 'y': y})\n",
        "print('dz/dx: ', grad['x'])\n",
        "print('dz/dy: ', grad['y'])"
      ],
      "execution_count": null,
      "outputs": []
    },
    {
      "cell_type": "code",
      "metadata": {
        "id": "AyDRF-AF5toC"
      },
      "source": [
        "@tf.custom_gradient\n",
        "def clip_gradients(y):\n",
        "    def backward(dy):\n",
        "        return tf.clip_by_norm(dy, 0.5)\n",
        "    \n",
        "    return y, backward\n",
        "\n",
        "v = tf.Variable(2.0)\n",
        "with tf.GradientTape() as t:\n",
        "    output = clip_gradients(v*v)\n",
        "\n",
        "print(t.gradient(output, v))"
      ],
      "execution_count": null,
      "outputs": []
    },
    {
      "cell_type": "code",
      "metadata": {
        "id": "S3VC0ZZ59mrp"
      },
      "source": [
        "x0 = tf.constant(0.0)\n",
        "x1 = tf.constant(0.0)\n",
        "\n",
        "with tf.GradientTape() as tape0, tf.GradientTape() as tape1:\n",
        "    tape0.watch(x0)\n",
        "    tape1.watch(x1)\n",
        "\n",
        "    y0 = tf.math.sin(x0)\n",
        "    y1 = tf.nn.sigmoid(x1)\n",
        "\n",
        "    y = y0 + y1\n",
        "\n",
        "    ys = tf.reduce_sum(y)"
      ],
      "execution_count": null,
      "outputs": []
    },
    {
      "cell_type": "code",
      "metadata": {
        "id": "p-zu2qXo_xIO"
      },
      "source": [
        "tape0.gradient(ys, x0)"
      ],
      "execution_count": null,
      "outputs": []
    },
    {
      "cell_type": "code",
      "metadata": {
        "id": "EIRt3k8k_21w"
      },
      "source": [
        "tape1.gradient(ys, x1).numpy()"
      ],
      "execution_count": null,
      "outputs": []
    },
    {
      "cell_type": "code",
      "metadata": {
        "id": "XlGJ-YiT_8gl"
      },
      "source": [
        "x = tf.Variable(1.0)\n",
        "\n",
        "with tf.GradientTape() as t2:\n",
        "    with tf.GradientTape() as t1:\n",
        "        y = x*x*x\n",
        "\n",
        "    dy_dx = t1.gradient(y, x)\n",
        "dy2_dx2 = t2.gradient(dy_dx, x)\n",
        "\n",
        "print(dy_dx.numpy())\n",
        "print(dy2_dx2.numpy())"
      ],
      "execution_count": null,
      "outputs": []
    },
    {
      "cell_type": "code",
      "metadata": {
        "id": "cAHNKOEfx9jb"
      },
      "source": [
        "x = tf.random.normal([7,5])\n",
        "\n",
        "layer = tf.keras.layers.Dense(10, activation=tf.nn.relu)"
      ],
      "execution_count": null,
      "outputs": []
    },
    {
      "cell_type": "code",
      "metadata": {
        "id": "5BQJcQta0nw-"
      },
      "source": [
        "with tf.GradientTape() as t2:\n",
        "    with tf.GradientTape(watch_accessed_variables=False) as t1:\n",
        "        t1.watch(x)\n",
        "        y = layer(x)\n",
        "        out = tf.reduce_sum(layer(x)**2)\n",
        "    g1 = t1.gradient(out, x)\n",
        "    g1_mag = tf.norm(g1)\n",
        "\n",
        "dg1_mag = t2.gradient(g1_mag, layer.trainable_variables)"
      ],
      "execution_count": null,
      "outputs": []
    },
    {
      "cell_type": "code",
      "metadata": {
        "id": "-zTrjTDf3sBx"
      },
      "source": [
        "[var for var in dg1_mag]"
      ],
      "execution_count": null,
      "outputs": []
    },
    {
      "cell_type": "code",
      "metadata": {
        "id": "VY-jPpGG3wOh"
      },
      "source": [
        "x = tf.linspace(-10.0, 10.0, 200+1)\n",
        "delta = tf.Variable(0.0)\n",
        "\n",
        "with tf.GradientTape() as tape:\n",
        "    y = tf.nn.sigmoid(x+delta)\n",
        "\n",
        "dy_dx = tape.jacobian(y, delta)"
      ],
      "execution_count": null,
      "outputs": []
    },
    {
      "cell_type": "code",
      "metadata": {
        "id": "JjHcEuOX7CVI"
      },
      "source": [
        "print(y.shape)\n",
        "print(dy_dx)"
      ],
      "execution_count": null,
      "outputs": []
    },
    {
      "cell_type": "code",
      "metadata": {
        "id": "klc1bkq-_3Y0"
      },
      "source": [
        "plt.plot(x.numpy(), y, c='b', label='y')\n",
        "plt.plot(x.numpy(), dy_dx, c='r', label='dy/dx')\n",
        "plt.legend()\n",
        "plt.show()"
      ],
      "execution_count": null,
      "outputs": []
    },
    {
      "cell_type": "code",
      "metadata": {
        "id": "1hSzwi2YAOiv"
      },
      "source": [
        "x = tf.random.normal([7, 5])\n",
        "layer = tf.keras.layers.Dense(10, activation=tf.nn.relu)\n",
        "\n",
        "with tf.GradientTape(persistent=True) as tape:\n",
        "    y = layer(x)\n",
        "\n",
        "y.shape"
      ],
      "execution_count": null,
      "outputs": []
    },
    {
      "cell_type": "code",
      "metadata": {
        "id": "Tf8TbLhuHZAA"
      },
      "source": [
        "layer.kernel.shape"
      ],
      "execution_count": null,
      "outputs": []
    },
    {
      "cell_type": "code",
      "metadata": {
        "id": "BrGOhHZuHhKz"
      },
      "source": [
        "j = tape.jacobian(y, layer.kernel)\n",
        "j.shape"
      ],
      "execution_count": null,
      "outputs": []
    },
    {
      "cell_type": "code",
      "metadata": {
        "id": "nA5-5W_cJJlK"
      },
      "source": [
        "g = tape.gradient(y, layer.kernel)\n",
        "print('g.shape: ', g.shape)"
      ],
      "execution_count": null,
      "outputs": []
    },
    {
      "cell_type": "code",
      "metadata": {
        "id": "C83wwis6JnhS"
      },
      "source": [
        "j_sum = tf.reduce_sum(j, axis=[0,1])\n",
        "delta = tf.reduce_max(abs(g - j_sum)).numpy()\n",
        "\n",
        "assert delta < 1e-3\n",
        "print('delta: ', delta)"
      ],
      "execution_count": null,
      "outputs": []
    },
    {
      "cell_type": "code",
      "metadata": {
        "id": "1RwAM-xUKGNh"
      },
      "source": [
        ""
      ],
      "execution_count": null,
      "outputs": []
    }
  ]
}