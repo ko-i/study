{
  "nbformat": 4,
  "nbformat_minor": 0,
  "metadata": {
    "colab": {
      "name": "Untitled0.ipynb",
      "provenance": [],
      "authorship_tag": "ABX9TyPyPQMbORgfKHPYMbo95Xal"
    },
    "kernelspec": {
      "display_name": "Python 3",
      "name": "python3"
    },
    "language_info": {
      "name": "python"
    }
  },
  "cells": [
    {
      "cell_type": "code",
      "metadata": {
        "id": "Bxf28jyHi5ym"
      },
      "source": [
        "import tensorflow as tf"
      ],
      "execution_count": null,
      "outputs": []
    },
    {
      "cell_type": "code",
      "metadata": {
        "id": "5-x6wslhjDu3"
      },
      "source": [
        "TRUE_W = 3.0\n",
        "TRUE_B = 2.0\n",
        "\n",
        "NUM_EXAMPLES = 1000\n",
        "\n",
        "x = tf.random.normal(shape=[NUM_EXAMPLES])\n",
        "\n",
        "noise = tf.random.normal(shape=[NUM_EXAMPLES])\n",
        "\n",
        "y = TRUE_W * x + TRUE_B + noise"
      ],
      "execution_count": null,
      "outputs": []
    },
    {
      "cell_type": "code",
      "metadata": {
        "id": "vsjfZvH0kVcH"
      },
      "source": [
        "import matplotlib.pyplot as plt\n",
        "\n",
        "plt.scatter(x, y, c='b')\n",
        "plt.show()"
      ],
      "execution_count": null,
      "outputs": []
    },
    {
      "cell_type": "code",
      "metadata": {
        "id": "rfocsxzckgda"
      },
      "source": [
        "class MyModel(tf.Module):\n",
        "    def __init__(self, **kwargs):\n",
        "        super().__init__(**kwargs)\n",
        "\n",
        "        self.w = tf.Variable(5.0)\n",
        "        self.b = tf.Variable(0.0)\n",
        "    \n",
        "    def __call__(self, x):\n",
        "        return self.w * x + self.b\n",
        "\n",
        "model = MyModel()\n",
        "\n",
        "print(model.variables)\n",
        "print(model(tf.constant([3.0])).numpy())"
      ],
      "execution_count": null,
      "outputs": []
    },
    {
      "cell_type": "code",
      "metadata": {
        "id": "eFrOz45Fl5PQ"
      },
      "source": [
        "def loss(target_y, predicted_y):\n",
        "    return tf.reduce_mean(tf.square(target_y - predicted_y))"
      ],
      "execution_count": null,
      "outputs": []
    },
    {
      "cell_type": "code",
      "metadata": {
        "id": "oqCY4p4amo9Y"
      },
      "source": [
        "plt.scatter(x, y, c='b')\n",
        "plt.scatter(x, model(x), c='r')\n",
        "plt.show()"
      ],
      "execution_count": null,
      "outputs": []
    },
    {
      "cell_type": "code",
      "metadata": {
        "id": "ldYjmXTpm19Q"
      },
      "source": [
        "def train(model, x, y, learning_rate):\n",
        "    with tf.GradientTape() as t:\n",
        "        current_loss = loss(y, model(x))\n",
        "\n",
        "    dw, db = t.gradient(current_loss, [model.w, model.b])\n",
        "    model.w.assign_sub(learning_rate * dw)\n",
        "    model.b.assign_sub(learning_rate * db)"
      ],
      "execution_count": null,
      "outputs": []
    },
    {
      "cell_type": "code",
      "metadata": {
        "id": "Z2Csvh1-pVH6"
      },
      "source": [
        "model = MyModel()\n",
        "\n",
        "Ws, bs = [], []\n",
        "epochs = range(10)\n",
        "\n",
        "def training_loop(model, x, y):\n",
        "    for epoch in epochs:\n",
        "        train(model, x, y, learning_rate=0.1)\n",
        "\n",
        "        Ws.append(model.w.numpy())\n",
        "        bs.append(model.b.numpy())\n",
        "\n",
        "        current_loss = loss(y, model(x))\n",
        "\n",
        "        print(\"Epoch %2d: W=%1.2f b=%1.2f loss=%2.5f\" % (epoch, Ws[-1], bs[-1], current_loss))"
      ],
      "execution_count": null,
      "outputs": []
    },
    {
      "cell_type": "code",
      "metadata": {
        "id": "YwkVx1YBuBm_"
      },
      "source": [
        "print(\"Starting: W=%1.2f b=%1.2f loss=%2.5f\" % (model.w, model.b, loss(y, model(x))))\n",
        "\n",
        "training_loop(model, x, y)\n",
        "\n",
        "plt.plot(epochs, Ws, 'r')\n",
        "plt.plot(epochs, bs, 'b')\n",
        "\n",
        "plt.plot([TRUE_W] * len(epochs), 'r--')\n",
        "plt.plot([TRUE_B] * len(epochs), 'b--')\n",
        "plt.legend(['W', 'b', 'True W', 'True b'])\n",
        "plt.show()"
      ],
      "execution_count": null,
      "outputs": []
    },
    {
      "cell_type": "code",
      "metadata": {
        "id": "c9grmhMswL1v"
      },
      "source": [
        "plt.scatter(x, y, c='b')\n",
        "plt.scatter(x, model(x), c='r')\n",
        "plt.show()"
      ],
      "execution_count": null,
      "outputs": []
    },
    {
      "cell_type": "code",
      "metadata": {
        "id": "fuMn-5rVwjAw"
      },
      "source": [
        "class MyModelKeras(tf.keras.Model):\n",
        "    def __init__(self, **kwargs):\n",
        "        super().__init__(**kwargs)\n",
        "        \n",
        "        self.w = tf.Variable(5.0)\n",
        "        self.b = tf.Variable(0.0)\n",
        "    \n",
        "    def call(self, x):\n",
        "        return self.w * x + self.b\n",
        "\n",
        "keras_model = MyModelKeras()\n",
        "\n",
        "training_loop(keras_model, x, y)\n",
        "keras_model.save_weights('my_checkpoint')"
      ],
      "execution_count": null,
      "outputs": []
    },
    {
      "cell_type": "code",
      "metadata": {
        "id": "DOYem9PuzVzD"
      },
      "source": [
        "keras_model = MyModelKeras()\n",
        "\n",
        "keras_model.compile(optimizer=tf.keras.optimizers.SGD(0.1), loss=tf.keras.losses.mean_squared_error, run_eagerly=False)"
      ],
      "execution_count": null,
      "outputs": []
    },
    {
      "cell_type": "code",
      "metadata": {
        "id": "5QORxeuO09Vf"
      },
      "source": [
        "print(x.shape)\n",
        "\n",
        "keras_model.fit(x, y, epochs=10, batch_size=1000)"
      ],
      "execution_count": null,
      "outputs": []
    },
    {
      "cell_type": "code",
      "metadata": {
        "id": "3MsEDHQS1P9K"
      },
      "source": [
        ""
      ],
      "execution_count": null,
      "outputs": []
    }
  ]
}