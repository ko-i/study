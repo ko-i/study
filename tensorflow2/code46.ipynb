{
  "nbformat": 4,
  "nbformat_minor": 0,
  "metadata": {
    "colab": {
      "name": "Untitled0.ipynb",
      "provenance": [],
      "authorship_tag": "ABX9TyNkQfA+mBRdB8ERgxkCwA+c",
      "include_colab_link": true
    },
    "kernelspec": {
      "display_name": "Python 3",
      "name": "python3"
    },
    "language_info": {
      "name": "python"
    },
    "accelerator": "GPU"
  },
  "cells": [
    {
      "cell_type": "markdown",
      "metadata": {
        "id": "view-in-github",
        "colab_type": "text"
      },
      "source": [
        "<a href=\"https://colab.research.google.com/github/ko-i/study/blob/main/tensorflow2/code46.ipynb\" target=\"_parent\"><img src=\"https://colab.research.google.com/assets/colab-badge.svg\" alt=\"Open In Colab\"/></a>"
      ]
    },
    {
      "cell_type": "code",
      "metadata": {
        "id": "3neRDn2k2W12"
      },
      "source": [
        "import tensorflow as tf\n",
        "from tensorflow import keras\n",
        "from tensorflow.keras import layers\n",
        "import numpy as np"
      ],
      "execution_count": 2,
      "outputs": []
    },
    {
      "cell_type": "code",
      "metadata": {
        "id": "r7Gtkr6F23we"
      },
      "source": [
        "inputs = keras.Input(shape=(784,), name='digits')\n",
        "x1 = layers.Dense(64, activation='relu', name='dense_1')(inputs)\n",
        "x2 = layers.Dense(64, activation='relu', name='dense_2')(x1)\n",
        "outputs = layers.Dense(10, name='predictions')(x2)\n",
        "model = keras.Model(inputs, outputs)"
      ],
      "execution_count": 3,
      "outputs": []
    },
    {
      "cell_type": "code",
      "metadata": {
        "id": "i1QKQiWM5wZd",
        "outputId": "156831fb-6bcc-43f6-8a15-9a96d2d8dae0",
        "colab": {
          "base_uri": "https://localhost:8080/"
        }
      },
      "source": [
        "optimizer = keras.optimizers.SGD(learning_rate=1e-3)\n",
        "loss_fn = keras.losses.SparseCategoricalCrossentropy(from_logits=True)\n",
        "\n",
        "batch_size = 64\n",
        "(x_train, y_train), (x_test, y_test) = keras.datasets.mnist.load_data()\n",
        "x_train = np.reshape(x_train, (-1, 784))\n",
        "x_test = np.reshape(x_test, (-1, 784))\n",
        "\n",
        "x_val = x_train[-10000:]\n",
        "y_val = y_train[-10000:]\n",
        "x_train = x_train[:-10000]\n",
        "y_train = y_train[:-10000]\n",
        "\n",
        "train_dataset = tf.data.Dataset.from_tensor_slices((x_train, y_train))\n",
        "train_dataset = train_dataset.shuffle(buffer_size=1024).batch(batch_size)\n",
        "\n",
        "val_dataset = tf.data.Dataset.from_tensor_slices((x_val, y_val))\n",
        "val_dataset = val_dataset.batch(batch_size)"
      ],
      "execution_count": 4,
      "outputs": [
        {
          "output_type": "stream",
          "text": [
            "Downloading data from https://storage.googleapis.com/tensorflow/tf-keras-datasets/mnist.npz\n",
            "11493376/11490434 [==============================] - 0s 0us/step\n"
          ],
          "name": "stdout"
        }
      ]
    },
    {
      "cell_type": "code",
      "metadata": {
        "id": "5q_fReX18l9O",
        "outputId": "c8971b55-394c-4c60-de9f-bde6bf2e920e",
        "colab": {
          "base_uri": "https://localhost:8080/"
        }
      },
      "source": [
        "epochs = 2\n",
        "\n",
        "for epoch in range(epochs):\n",
        "    print('\\nStart of epoch %d' % (epoch,))\n",
        "\n",
        "    for step, (x_batch_train, y_batch_train) in enumerate(train_dataset):\n",
        "        with tf.GradientTape() as tape:\n",
        "            logits = model(x_batch_train, training=True)\n",
        "            loss_value = loss_fn(y_batch_train, logits)\n",
        "        \n",
        "        grads = tape.gradient(loss_value, model.trainable_weights)\n",
        "        optimizer.apply_gradients(zip(grads, model.trainable_weights))\n",
        "\n",
        "        if step % 200 == 0:\n",
        "            print('Training loss (for one batch) at step %d: %.4f' % (step, float(loss_value)))\n",
        "            print('Seen so far: %s samples' % ((step + 1) * batch_size))"
      ],
      "execution_count": 5,
      "outputs": [
        {
          "output_type": "stream",
          "text": [
            "\n",
            "Start of epoch 0\n",
            "Training loss (for one batch) at step 0: 72.6919\n",
            "Seen so far: 64 samples\n",
            "Training loss (for one batch) at step 200: 1.1963\n",
            "Seen so far: 12864 samples\n",
            "Training loss (for one batch) at step 400: 2.2432\n",
            "Seen so far: 25664 samples\n",
            "Training loss (for one batch) at step 600: 0.7934\n",
            "Seen so far: 38464 samples\n",
            "\n",
            "Start of epoch 1\n",
            "Training loss (for one batch) at step 0: 0.6322\n",
            "Seen so far: 64 samples\n",
            "Training loss (for one batch) at step 200: 0.7234\n",
            "Seen so far: 12864 samples\n",
            "Training loss (for one batch) at step 400: 0.5286\n",
            "Seen so far: 25664 samples\n",
            "Training loss (for one batch) at step 600: 0.3264\n",
            "Seen so far: 38464 samples\n"
          ],
          "name": "stdout"
        }
      ]
    },
    {
      "cell_type": "code",
      "metadata": {
        "id": "uJ6rSMQQIIc7"
      },
      "source": [
        "inputs = keras.Input(shape=(784,), name='digits')\n",
        "x = layers.Dense(64, activation='relu', name='dense_1')(inputs)\n",
        "x = layers.Dense(64, activation='relu', name='dense_2')(x)\n",
        "outputs = layers.Dense(10, name='predictions')(x)\n",
        "model = keras.Model(inputs, outputs)\n",
        "\n",
        "optimizer = keras.optimizers.SGD(learning_rate=1e-3)\n",
        "loss_fn = keras.losses.SparseCategoricalCrossentropy(from_logits=True)\n",
        "\n",
        "train_acc_metric = keras.metrics.SparseCategoricalAccuracy()\n",
        "val_acc_metric = keras.metrics.SparseCategoricalAccuracy()"
      ],
      "execution_count": 6,
      "outputs": []
    },
    {
      "cell_type": "code",
      "metadata": {
        "id": "_xXpEmKSsbHo",
        "outputId": "c8aa53ca-11c4-4c32-b407-0b6a9b7410c9",
        "colab": {
          "base_uri": "https://localhost:8080/"
        }
      },
      "source": [
        "import time\n",
        "\n",
        "epochs = 2\n",
        "for epoch in range(epochs):\n",
        "    print('\\nStart epoch: ', epoch)\n",
        "    start_time = time.time()\n",
        "\n",
        "    for step, (x_batch_train, y_batch_train) in enumerate(train_dataset):\n",
        "        with tf.GradientTape() as tape:\n",
        "            logits = model(x_batch_train, training=True)\n",
        "            loss_value = loss_fn(y_batch_train, logits)\n",
        "        grads = tape.gradient(loss_value, model.trainable_weights)\n",
        "        optimizer.apply_gradients(zip(grads, model.trainable_weights))\n",
        "\n",
        "        train_acc_metric.update_state(y_batch_train, logits)\n",
        "\n",
        "        if step % 200 == 0:\n",
        "            print('Training loss (for one batch) at step %d is %.4f' % (step, float(loss_value)))\n",
        "            print('Seen so far: %d samples' % ((step+1) * batch_size))\n",
        "        \n",
        "    train_acc = train_acc_metric.result()\n",
        "    print('Training acc over epoch: %.4f' % (float(train_acc)))\n",
        "    train_acc_metric.reset_states()\n",
        "\n",
        "    for x_batch_val, y_batch_val in val_dataset:\n",
        "        val_logits = model(x_batch_val, training=False)\n",
        "        val_acc_metric.update_state(y_batch_val, val_logits)\n",
        "        \n",
        "    val_acc = val_acc_metric.result()\n",
        "    print('Validation acc: %.4f' % (float(val_acc)))\n",
        "    val_acc_metric.reset_states()\n",
        "    print('Time taken: %.2fs' % (time.time() - start_time))"
      ],
      "execution_count": 7,
      "outputs": [
        {
          "output_type": "stream",
          "text": [
            "\n",
            "Start epoch:  0\n",
            "Training loss (for one batch) at step 0 is 112.0508\n",
            "Seen so far: 64 samples\n",
            "Training loss (for one batch) at step 200 is 1.3390\n",
            "Seen so far: 12864 samples\n",
            "Training loss (for one batch) at step 400 is 1.0645\n",
            "Seen so far: 25664 samples\n",
            "Training loss (for one batch) at step 600 is 0.9612\n",
            "Seen so far: 38464 samples\n",
            "Training acc over epoch: 0.7274\n",
            "Validation acc: 0.8428\n",
            "Time taken: 5.79s\n",
            "\n",
            "Start epoch:  1\n",
            "Training loss (for one batch) at step 0 is 1.0382\n",
            "Seen so far: 64 samples\n",
            "Training loss (for one batch) at step 200 is 0.4920\n",
            "Seen so far: 12864 samples\n",
            "Training loss (for one batch) at step 400 is 0.7480\n",
            "Seen so far: 25664 samples\n",
            "Training loss (for one batch) at step 600 is 0.5076\n",
            "Seen so far: 38464 samples\n",
            "Training acc over epoch: 0.8482\n",
            "Validation acc: 0.8560\n",
            "Time taken: 5.76s\n"
          ],
          "name": "stdout"
        }
      ]
    },
    {
      "cell_type": "code",
      "metadata": {
        "id": "dtlC_nlCvedh"
      },
      "source": [
        "@tf.function\n",
        "def train_step(x, y):\n",
        "    with tf.GradientTape() as tape:\n",
        "        logits = model(x, training=True)\n",
        "        loss_value = loss_fn(y, logits)\n",
        "    grads = tape.gradient(loss_value, model.trainable_weights)\n",
        "    optimizer.apply_gradients(zip(grads, model.trainable_weights))\n",
        "    \n",
        "    train_acc_metric.update_state(y, logits)\n",
        "    return loss_value"
      ],
      "execution_count": 8,
      "outputs": []
    },
    {
      "cell_type": "code",
      "metadata": {
        "id": "EB3G1WzdyrXz"
      },
      "source": [
        "@tf.function\n",
        "def test_step(x, y):\n",
        "    val_logits = model(x, training=False)\n",
        "    val_acc_metric.update_state(y, val_logits)"
      ],
      "execution_count": 9,
      "outputs": []
    },
    {
      "cell_type": "code",
      "metadata": {
        "id": "32TMjT_0y34E",
        "outputId": "3e584665-28d3-4fa6-cc6d-492f0234d9fd",
        "colab": {
          "base_uri": "https://localhost:8080/"
        }
      },
      "source": [
        "import time\n",
        "\n",
        "epochs = 2\n",
        "for epoch in range(epochs):\n",
        "    print('\\nStart epoch: %d' % (epoch))\n",
        "    start_time = time.time()\n",
        "\n",
        "    for step, (x_batch_train, y_batch_train) in enumerate(train_dataset):\n",
        "        loss_value = train_step(x_batch_train, y_batch_train)\n",
        "\n",
        "        if step % 200 == 0:\n",
        "            print('Training loss (for one batch) at step %d: %.4f' % (step, float(loss_value)))\n",
        "            print('Seen so far: %d samples' % ((step + 1) * batch_size))\n",
        "    \n",
        "    train_acc = train_acc_metric.result()\n",
        "    print('Training acc over epoch: %.4f' % (float(train_acc)))\n",
        "    train_acc_metric.reset_states()\n",
        "\n",
        "    for x_batch_val, y_batch_val in val_dataset:\n",
        "        test_step(x_batch_val, y_batch_val)\n",
        "    \n",
        "    val_acc = val_acc_metric.result()\n",
        "    print('Validation acc: %.4f' % (float(val_acc)))\n",
        "    val_acc_metric.reset_states()\n",
        "\n",
        "    print('Time taken: %.2fs' % (time.time() - start_time))"
      ],
      "execution_count": 10,
      "outputs": [
        {
          "output_type": "stream",
          "text": [
            "\n",
            "Start epoch: 0\n",
            "Training loss (for one batch) at step 0: 0.6392\n",
            "Seen so far: 64 samples\n",
            "Training loss (for one batch) at step 200: 0.5159\n",
            "Seen so far: 12864 samples\n",
            "Training loss (for one batch) at step 400: 0.4131\n",
            "Seen so far: 25664 samples\n",
            "Training loss (for one batch) at step 600: 0.7852\n",
            "Seen so far: 38464 samples\n",
            "Training acc over epoch: 0.8768\n",
            "Validation acc: 0.8901\n",
            "Time taken: 1.57s\n",
            "\n",
            "Start epoch: 1\n",
            "Training loss (for one batch) at step 0: 0.8146\n",
            "Seen so far: 64 samples\n",
            "Training loss (for one batch) at step 200: 0.4378\n",
            "Seen so far: 12864 samples\n",
            "Training loss (for one batch) at step 400: 0.2408\n",
            "Seen so far: 25664 samples\n",
            "Training loss (for one batch) at step 600: 0.4092\n",
            "Seen so far: 38464 samples\n",
            "Training acc over epoch: 0.8936\n",
            "Validation acc: 0.9016\n",
            "Time taken: 1.14s\n"
          ],
          "name": "stdout"
        }
      ]
    },
    {
      "cell_type": "code",
      "metadata": {
        "id": "1Yf2gP105LYX"
      },
      "source": [
        "class ActivityRegularizationLayer(keras.layers.Layer):\n",
        "    def call(self, inputs):\n",
        "        self.add_loss(1e-2 * tf.reduce_sum(inputs))\n",
        "        return inputs"
      ],
      "execution_count": 11,
      "outputs": []
    },
    {
      "cell_type": "code",
      "metadata": {
        "id": "jTQJ07TD7LUR"
      },
      "source": [
        "inputs = keras.Input(shape=(784, ), name='digits')\n",
        "x = layers.Dense(64, activation='relu', name='dense_1')(inputs)\n",
        "x = ActivityRegularizationLayer()(x)\n",
        "x = layers.Dense(64, activation='relu', name='dense_2')(x)\n",
        "outputs = layers.Dense(10, name='predictions')(x)\n",
        "model = keras.Model(inputs, outputs)"
      ],
      "execution_count": 12,
      "outputs": []
    },
    {
      "cell_type": "code",
      "metadata": {
        "id": "Fq9hUQN38WHK"
      },
      "source": [
        "@tf.function\n",
        "def train_step(x, y):\n",
        "    with tf.GradientTape() as tape:\n",
        "        logits = model(x, training=True)\n",
        "        loss_value = loss_fn(y, logits)\n",
        "        loss_value += sum(model.losses)\n",
        "    \n",
        "    grads = tape.gradient(loss_value, model.trainable_weights)\n",
        "    optimizer.apply_gradients(zip(grads, model.trainable_weights))\n",
        "    train_acc_metric.update_state(y, logits)\n",
        "\n",
        "    return loss_value"
      ],
      "execution_count": 13,
      "outputs": []
    },
    {
      "cell_type": "code",
      "metadata": {
        "id": "RrWamNPa894Q",
        "outputId": "d74b1597-ee77-4300-b2ab-5fd8a4413586",
        "colab": {
          "base_uri": "https://localhost:8080/"
        }
      },
      "source": [
        "discriminator = keras.Sequential([\n",
        "    layers.InputLayer(input_shape=(28, 28, 1)),\n",
        "    layers.Conv2D(64, (3, 3), strides=(2, 2), padding='same'),\n",
        "    layers.LeakyReLU(alpha=0.2),\n",
        "    layers.Conv2D(128, (3, 3), strides=(2, 2), padding='same'),\n",
        "    layers.LeakyReLU(alpha=0.2),\n",
        "    layers.GlobalMaxPooling2D(),\n",
        "    layers.Dense(1)\n",
        "], name='discriminator')\n",
        "\n",
        "discriminator.summary()"
      ],
      "execution_count": 14,
      "outputs": [
        {
          "output_type": "stream",
          "text": [
            "Model: \"discriminator\"\n",
            "_________________________________________________________________\n",
            "Layer (type)                 Output Shape              Param #   \n",
            "=================================================================\n",
            "conv2d (Conv2D)              (None, 14, 14, 64)        640       \n",
            "_________________________________________________________________\n",
            "leaky_re_lu (LeakyReLU)      (None, 14, 14, 64)        0         \n",
            "_________________________________________________________________\n",
            "conv2d_1 (Conv2D)            (None, 7, 7, 128)         73856     \n",
            "_________________________________________________________________\n",
            "leaky_re_lu_1 (LeakyReLU)    (None, 7, 7, 128)         0         \n",
            "_________________________________________________________________\n",
            "global_max_pooling2d (Global (None, 128)               0         \n",
            "_________________________________________________________________\n",
            "dense (Dense)                (None, 1)                 129       \n",
            "=================================================================\n",
            "Total params: 74,625\n",
            "Trainable params: 74,625\n",
            "Non-trainable params: 0\n",
            "_________________________________________________________________\n"
          ],
          "name": "stdout"
        }
      ]
    },
    {
      "cell_type": "code",
      "metadata": {
        "id": "IjA5m4h1B2G7",
        "outputId": "5b252cba-74e6-4ca9-f1a1-3a75ebd7dbc7",
        "colab": {
          "base_uri": "https://localhost:8080/"
        }
      },
      "source": [
        "latent_dim = 128\n",
        "\n",
        "generator = keras.Sequential([\n",
        "    layers.InputLayer(input_shape=(latent_dim,)),\n",
        "    layers.Dense(7*7*128),\n",
        "    layers.LeakyReLU(alpha=0.2),\n",
        "    layers.Reshape((7, 7, 128)),\n",
        "    layers.Conv2DTranspose(128, (4, 4), strides=(2, 2), padding='same'),\n",
        "    layers.LeakyReLU(alpha=0.2),\n",
        "    layers.Conv2DTranspose(128, (4, 4), strides=(2, 2), padding='same'),\n",
        "    layers.LeakyReLU(alpha=0.2),\n",
        "    layers.Conv2D(1, (7, 7), padding='same', activation='sigmoid')\n",
        "], name='generator')\n",
        "\n",
        "generator.summary()"
      ],
      "execution_count": 15,
      "outputs": [
        {
          "output_type": "stream",
          "text": [
            "Model: \"generator\"\n",
            "_________________________________________________________________\n",
            "Layer (type)                 Output Shape              Param #   \n",
            "=================================================================\n",
            "dense_1 (Dense)              (None, 6272)              809088    \n",
            "_________________________________________________________________\n",
            "leaky_re_lu_2 (LeakyReLU)    (None, 6272)              0         \n",
            "_________________________________________________________________\n",
            "reshape (Reshape)            (None, 7, 7, 128)         0         \n",
            "_________________________________________________________________\n",
            "conv2d_transpose (Conv2DTran (None, 14, 14, 128)       262272    \n",
            "_________________________________________________________________\n",
            "leaky_re_lu_3 (LeakyReLU)    (None, 14, 14, 128)       0         \n",
            "_________________________________________________________________\n",
            "conv2d_transpose_1 (Conv2DTr (None, 28, 28, 128)       262272    \n",
            "_________________________________________________________________\n",
            "leaky_re_lu_4 (LeakyReLU)    (None, 28, 28, 128)       0         \n",
            "_________________________________________________________________\n",
            "conv2d_2 (Conv2D)            (None, 28, 28, 1)         6273      \n",
            "=================================================================\n",
            "Total params: 1,339,905\n",
            "Trainable params: 1,339,905\n",
            "Non-trainable params: 0\n",
            "_________________________________________________________________\n"
          ],
          "name": "stdout"
        }
      ]
    },
    {
      "cell_type": "code",
      "metadata": {
        "id": "MCRYJQkFDWUI"
      },
      "source": [
        "d_optimizer = keras.optimizers.Adam(learning_rate=0.0003)\n",
        "g_optimizer = keras.optimizers.Adam(learning_rate=0.0004)\n",
        "\n",
        "loss_fn = keras.losses.BinaryCrossentropy(from_logits=True)\n",
        "\n",
        "@tf.function\n",
        "def train_step(real_images):\n",
        "    random_latent_vectors = tf.random.normal(shape=(batch_size, latent_dim))\n",
        "    generated_images = generator(random_latent_vectors)\n",
        "\n",
        "    combined_images = tf.concat([generated_images, real_images], axis=0)\n",
        "\n",
        "    labels = tf.concat([tf.ones(shape=(batch_size, 1)), tf.zeros(shape=(real_images.shape[0], 1))], axis=0)\n",
        "    labels += 0.05 * tf.random.uniform(labels.shape)\n",
        "\n",
        "    with tf.GradientTape() as tape:\n",
        "        predictions = discriminator(combined_images)\n",
        "        d_loss = loss_fn(labels, predictions)\n",
        "    grads = tape.gradient(d_loss, discriminator.trainable_weights)\n",
        "    d_optimizer.apply_gradients(zip(grads, discriminator.trainable_weights))\n",
        "\n",
        "    random_latent_vectors = tf.random.normal(shape=(batch_size, latent_dim))\n",
        "    misleading_labels = tf.zeros((batch_size, 1))\n",
        "\n",
        "    with tf.GradientTape() as tape:\n",
        "        predictions = discriminator(generator(random_latent_vectors))\n",
        "        g_loss = loss_fn(misleading_labels, predictions)\n",
        "    grads = tape.gradient(g_loss, generator.trainable_weights)\n",
        "    g_optimizer.apply_gradients(zip(grads, generator.trainable_weights))\n",
        "\n",
        "    return d_loss, g_loss, generated_images"
      ],
      "execution_count": 16,
      "outputs": []
    },
    {
      "cell_type": "code",
      "metadata": {
        "id": "NnMrED6RNEfk"
      },
      "source": [
        "batch_size = 64\n",
        "(x_train, _), (x_test, _) = keras.datasets.mnist.load_data()\n",
        "all_digits = np.concatenate([x_train, x_test])\n",
        "all_digits = all_digits.astype('float32') / 255.0\n",
        "all_digits = np.reshape(all_digits, (-1, 28, 28, 1))\n",
        "dataset = tf.data.Dataset.from_tensor_slices(all_digits)\n",
        "dataset = dataset.shuffle(buffer_size=1024).batch(batch_size)"
      ],
      "execution_count": 17,
      "outputs": []
    },
    {
      "cell_type": "code",
      "metadata": {
        "id": "DhDwUwYQOij0",
        "outputId": "31a5de00-945a-4421-bf45-4a53f940eaf0",
        "colab": {
          "base_uri": "https://localhost:8080/"
        }
      },
      "source": [
        "import os\n",
        "\n",
        "epochs = 20\n",
        "save_dir = './'\n",
        "\n",
        "my_images = []\n",
        "\n",
        "for epoch in range(epochs):\n",
        "    print('\\nStart epoch: {}'.format(epoch))\n",
        "\n",
        "    for step, real_images in enumerate(dataset):\n",
        "        d_loss, g_loss, generated_images = train_step(real_images)\n",
        "\n",
        "        if step % 200 == 0:\n",
        "            print(\"discriminator loss at step %d: %.2f\" % (step, d_loss))\n",
        "            print(\"adversarial loss at step %d: %.2f\" % (step, g_loss))\n",
        "\n",
        "            img = tf.keras.preprocessing.image.array_to_img(generated_images[0] * 255.0, scale=False)\n",
        "            img.save(os.path.join(save_dir, 'generated_img_' + str(epoch) + '_' + str(step) + '.png'))\n",
        "    \n",
        "    my_images.append(img)  "
      ],
      "execution_count": 22,
      "outputs": [
        {
          "output_type": "stream",
          "text": [
            "\n",
            "Start epoch: 0\n",
            "discriminator loss at step 0: 0.64\n",
            "adversarial loss at step 0: 1.04\n",
            "discriminator loss at step 200: 0.53\n",
            "adversarial loss at step 200: 0.86\n",
            "discriminator loss at step 400: 0.67\n",
            "adversarial loss at step 400: 1.05\n",
            "discriminator loss at step 600: 0.66\n",
            "adversarial loss at step 600: 0.89\n",
            "discriminator loss at step 800: 0.55\n",
            "adversarial loss at step 800: 1.00\n",
            "discriminator loss at step 1000: 0.67\n",
            "adversarial loss at step 1000: 0.75\n",
            "\n",
            "Start epoch: 1\n",
            "discriminator loss at step 0: 0.73\n",
            "adversarial loss at step 0: 1.03\n",
            "discriminator loss at step 200: 0.69\n",
            "adversarial loss at step 200: 0.83\n",
            "discriminator loss at step 400: 0.66\n",
            "adversarial loss at step 400: 0.77\n",
            "discriminator loss at step 600: 0.64\n",
            "adversarial loss at step 600: 0.87\n",
            "discriminator loss at step 800: 0.42\n",
            "adversarial loss at step 800: 1.34\n",
            "discriminator loss at step 1000: 0.52\n",
            "adversarial loss at step 1000: 1.20\n",
            "\n",
            "Start epoch: 2\n",
            "discriminator loss at step 0: 0.55\n",
            "adversarial loss at step 0: 1.26\n",
            "discriminator loss at step 200: 0.65\n",
            "adversarial loss at step 200: 0.86\n",
            "discriminator loss at step 400: 0.48\n",
            "adversarial loss at step 400: 1.03\n",
            "discriminator loss at step 600: 0.66\n",
            "adversarial loss at step 600: 1.02\n",
            "discriminator loss at step 800: 0.63\n",
            "adversarial loss at step 800: 0.88\n",
            "discriminator loss at step 1000: 0.65\n",
            "adversarial loss at step 1000: 0.82\n",
            "\n",
            "Start epoch: 3\n",
            "discriminator loss at step 0: 0.62\n",
            "adversarial loss at step 0: 1.27\n",
            "discriminator loss at step 200: 0.63\n",
            "adversarial loss at step 200: 1.02\n",
            "discriminator loss at step 400: 0.64\n",
            "adversarial loss at step 400: 0.91\n",
            "discriminator loss at step 600: 0.59\n",
            "adversarial loss at step 600: 1.00\n",
            "discriminator loss at step 800: 0.64\n",
            "adversarial loss at step 800: 0.87\n",
            "discriminator loss at step 1000: 0.57\n",
            "adversarial loss at step 1000: 1.03\n",
            "\n",
            "Start epoch: 4\n",
            "discriminator loss at step 0: 0.70\n",
            "adversarial loss at step 0: 0.97\n",
            "discriminator loss at step 200: 0.54\n",
            "adversarial loss at step 200: 1.23\n",
            "discriminator loss at step 400: 0.61\n",
            "adversarial loss at step 400: 1.09\n",
            "discriminator loss at step 600: 0.54\n",
            "adversarial loss at step 600: 1.01\n",
            "discriminator loss at step 800: 0.70\n",
            "adversarial loss at step 800: 0.79\n",
            "discriminator loss at step 1000: 0.53\n",
            "adversarial loss at step 1000: 1.04\n",
            "\n",
            "Start epoch: 5\n",
            "discriminator loss at step 0: 0.54\n",
            "adversarial loss at step 0: 1.07\n",
            "discriminator loss at step 200: 0.56\n",
            "adversarial loss at step 200: 1.02\n",
            "discriminator loss at step 400: 0.56\n",
            "adversarial loss at step 400: 1.15\n",
            "discriminator loss at step 600: 0.59\n",
            "adversarial loss at step 600: 0.85\n",
            "discriminator loss at step 800: 0.59\n",
            "adversarial loss at step 800: 0.86\n",
            "discriminator loss at step 1000: 0.57\n",
            "adversarial loss at step 1000: 1.04\n",
            "\n",
            "Start epoch: 6\n",
            "discriminator loss at step 0: 0.51\n",
            "adversarial loss at step 0: 1.44\n",
            "discriminator loss at step 200: 0.56\n",
            "adversarial loss at step 200: 0.87\n",
            "discriminator loss at step 400: 0.56\n",
            "adversarial loss at step 400: 1.05\n",
            "discriminator loss at step 600: 0.64\n",
            "adversarial loss at step 600: 0.92\n",
            "discriminator loss at step 800: 0.70\n",
            "adversarial loss at step 800: 0.84\n",
            "discriminator loss at step 1000: 0.57\n",
            "adversarial loss at step 1000: 1.10\n",
            "\n",
            "Start epoch: 7\n",
            "discriminator loss at step 0: 0.58\n",
            "adversarial loss at step 0: 1.15\n",
            "discriminator loss at step 200: 0.63\n",
            "adversarial loss at step 200: 1.14\n",
            "discriminator loss at step 400: 0.58\n",
            "adversarial loss at step 400: 1.06\n",
            "discriminator loss at step 600: 0.54\n",
            "adversarial loss at step 600: 1.15\n",
            "discriminator loss at step 800: 0.58\n",
            "adversarial loss at step 800: 0.89\n",
            "discriminator loss at step 1000: 0.54\n",
            "adversarial loss at step 1000: 0.93\n",
            "\n",
            "Start epoch: 8\n",
            "discriminator loss at step 0: 0.55\n",
            "adversarial loss at step 0: 1.26\n",
            "discriminator loss at step 200: 0.61\n",
            "adversarial loss at step 200: 1.19\n",
            "discriminator loss at step 400: 0.54\n",
            "adversarial loss at step 400: 1.33\n",
            "discriminator loss at step 600: 0.58\n",
            "adversarial loss at step 600: 1.02\n",
            "discriminator loss at step 800: 0.61\n",
            "adversarial loss at step 800: 1.19\n",
            "discriminator loss at step 1000: 0.55\n",
            "adversarial loss at step 1000: 1.03\n",
            "\n",
            "Start epoch: 9\n",
            "discriminator loss at step 0: 0.55\n",
            "adversarial loss at step 0: 1.10\n",
            "discriminator loss at step 200: 0.55\n",
            "adversarial loss at step 200: 1.15\n",
            "discriminator loss at step 400: 0.62\n",
            "adversarial loss at step 400: 1.19\n",
            "discriminator loss at step 600: 0.55\n",
            "adversarial loss at step 600: 1.03\n",
            "discriminator loss at step 800: 0.51\n",
            "adversarial loss at step 800: 1.20\n",
            "discriminator loss at step 1000: 0.56\n",
            "adversarial loss at step 1000: 1.05\n",
            "\n",
            "Start epoch: 10\n",
            "discriminator loss at step 0: 0.56\n",
            "adversarial loss at step 0: 1.29\n",
            "discriminator loss at step 200: 0.57\n",
            "adversarial loss at step 200: 1.09\n",
            "discriminator loss at step 400: 0.53\n",
            "adversarial loss at step 400: 1.16\n",
            "discriminator loss at step 600: 0.54\n",
            "adversarial loss at step 600: 0.98\n",
            "discriminator loss at step 800: 0.58\n",
            "adversarial loss at step 800: 0.85\n",
            "discriminator loss at step 1000: 0.58\n",
            "adversarial loss at step 1000: 1.02\n",
            "\n",
            "Start epoch: 11\n",
            "discriminator loss at step 0: 0.60\n",
            "adversarial loss at step 0: 1.33\n",
            "discriminator loss at step 200: 0.58\n",
            "adversarial loss at step 200: 1.12\n",
            "discriminator loss at step 400: 0.57\n",
            "adversarial loss at step 400: 1.29\n",
            "discriminator loss at step 600: 0.48\n",
            "adversarial loss at step 600: 1.01\n",
            "discriminator loss at step 800: 0.64\n",
            "adversarial loss at step 800: 0.93\n",
            "discriminator loss at step 1000: 0.47\n",
            "adversarial loss at step 1000: 0.94\n",
            "\n",
            "Start epoch: 12\n",
            "discriminator loss at step 0: 0.56\n",
            "adversarial loss at step 0: 1.23\n",
            "discriminator loss at step 200: 0.60\n",
            "adversarial loss at step 200: 0.88\n",
            "discriminator loss at step 400: 0.51\n",
            "adversarial loss at step 400: 0.93\n",
            "discriminator loss at step 600: 0.55\n",
            "adversarial loss at step 600: 0.95\n",
            "discriminator loss at step 800: 0.61\n",
            "adversarial loss at step 800: 0.99\n",
            "discriminator loss at step 1000: 0.59\n",
            "adversarial loss at step 1000: 0.93\n",
            "\n",
            "Start epoch: 13\n",
            "discriminator loss at step 0: 0.62\n",
            "adversarial loss at step 0: 1.43\n",
            "discriminator loss at step 200: 0.62\n",
            "adversarial loss at step 200: 0.88\n",
            "discriminator loss at step 400: 0.56\n",
            "adversarial loss at step 400: 0.98\n",
            "discriminator loss at step 600: 0.57\n",
            "adversarial loss at step 600: 1.12\n",
            "discriminator loss at step 800: 0.66\n",
            "adversarial loss at step 800: 1.02\n",
            "discriminator loss at step 1000: 0.63\n",
            "adversarial loss at step 1000: 0.93\n",
            "\n",
            "Start epoch: 14\n",
            "discriminator loss at step 0: 0.56\n",
            "adversarial loss at step 0: 1.20\n",
            "discriminator loss at step 200: 0.61\n",
            "adversarial loss at step 200: 0.95\n",
            "discriminator loss at step 400: 0.57\n",
            "adversarial loss at step 400: 0.88\n",
            "discriminator loss at step 600: 0.57\n",
            "adversarial loss at step 600: 1.18\n",
            "discriminator loss at step 800: 0.57\n",
            "adversarial loss at step 800: 0.99\n",
            "discriminator loss at step 1000: 0.57\n",
            "adversarial loss at step 1000: 1.11\n",
            "\n",
            "Start epoch: 15\n",
            "discriminator loss at step 0: 0.59\n",
            "adversarial loss at step 0: 1.39\n",
            "discriminator loss at step 200: 0.63\n",
            "adversarial loss at step 200: 1.19\n",
            "discriminator loss at step 400: 0.54\n",
            "adversarial loss at step 400: 1.00\n",
            "discriminator loss at step 600: 0.57\n",
            "adversarial loss at step 600: 1.07\n",
            "discriminator loss at step 800: 0.61\n",
            "adversarial loss at step 800: 1.16\n",
            "discriminator loss at step 1000: 0.59\n",
            "adversarial loss at step 1000: 0.91\n",
            "\n",
            "Start epoch: 16\n",
            "discriminator loss at step 0: 0.52\n",
            "adversarial loss at step 0: 1.25\n",
            "discriminator loss at step 200: 0.58\n",
            "adversarial loss at step 200: 0.80\n",
            "discriminator loss at step 400: 0.59\n",
            "adversarial loss at step 400: 0.94\n",
            "discriminator loss at step 600: 0.62\n",
            "adversarial loss at step 600: 1.02\n",
            "discriminator loss at step 800: 0.64\n",
            "adversarial loss at step 800: 1.04\n",
            "discriminator loss at step 1000: 0.62\n",
            "adversarial loss at step 1000: 1.09\n",
            "\n",
            "Start epoch: 17\n",
            "discriminator loss at step 0: 0.56\n",
            "adversarial loss at step 0: 0.95\n",
            "discriminator loss at step 200: 0.65\n",
            "adversarial loss at step 200: 0.97\n",
            "discriminator loss at step 400: 0.63\n",
            "adversarial loss at step 400: 1.16\n",
            "discriminator loss at step 600: 0.62\n",
            "adversarial loss at step 600: 1.04\n",
            "discriminator loss at step 800: 0.67\n",
            "adversarial loss at step 800: 0.97\n",
            "discriminator loss at step 1000: 0.51\n",
            "adversarial loss at step 1000: 0.94\n",
            "\n",
            "Start epoch: 18\n",
            "discriminator loss at step 0: 0.66\n",
            "adversarial loss at step 0: 1.29\n",
            "discriminator loss at step 200: 0.64\n",
            "adversarial loss at step 200: 1.07\n",
            "discriminator loss at step 400: 0.59\n",
            "adversarial loss at step 400: 0.79\n",
            "discriminator loss at step 600: 0.61\n",
            "adversarial loss at step 600: 1.08\n",
            "discriminator loss at step 800: 0.60\n",
            "adversarial loss at step 800: 1.00\n",
            "discriminator loss at step 1000: 0.59\n",
            "adversarial loss at step 1000: 0.97\n",
            "\n",
            "Start epoch: 19\n",
            "discriminator loss at step 0: 0.51\n",
            "adversarial loss at step 0: 1.17\n",
            "discriminator loss at step 200: 0.61\n",
            "adversarial loss at step 200: 1.05\n",
            "discriminator loss at step 400: 0.57\n",
            "adversarial loss at step 400: 1.04\n",
            "discriminator loss at step 600: 0.59\n",
            "adversarial loss at step 600: 1.02\n",
            "discriminator loss at step 800: 0.64\n",
            "adversarial loss at step 800: 0.99\n",
            "discriminator loss at step 1000: 0.56\n",
            "adversarial loss at step 1000: 1.00\n"
          ],
          "name": "stdout"
        }
      ]
    },
    {
      "cell_type": "code",
      "metadata": {
        "id": "gwju4zguSwhT",
        "outputId": "e41201b8-9a03-4438-9225-92db46893393",
        "colab": {
          "base_uri": "https://localhost:8080/",
          "height": 699
        }
      },
      "source": [
        "import matplotlib.pyplot as plt\n",
        "\n",
        "plt.figure(figsize=(16, 12))\n",
        "\n",
        "for i, img in enumerate(my_images):\n",
        "    ax = plt.subplot(5, 4, i+1)\n",
        "    plt.imshow(img)\n",
        "    plt.title('Epoch: {}'.format(i))\n",
        "    plt.axis(False)"
      ],
      "execution_count": 28,
      "outputs": [
        {
          "output_type": "display_data",
          "data": {
            "image/png": "[encoded data removed]",
            "text/plain": [
              "<Figure size 1152x864 with 20 Axes>"
            ]
          },
          "metadata": {
            "tags": [],
            "needs_background": "light"
          }
        }
      ]
    }
  ]
}