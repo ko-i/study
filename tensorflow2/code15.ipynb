{
  "nbformat": 4,
  "nbformat_minor": 0,
  "metadata": {
    "colab": {
      "name": "Untitled0.ipynb",
      "provenance": [],
      "collapsed_sections": [],
      "authorship_tag": "ABX9TyNQZ28T7201ul/IMCxmzX1s"
    },
    "kernelspec": {
      "name": "python3",
      "display_name": "Python 3"
    }
  },
  "cells": [
    {
      "cell_type": "code",
      "metadata": {
        "id": "NRmnDGWrfcZ7"
      },
      "source": [
        "import tensorflow as tf\n",
        "import tensorflow_hub as hub\n",
        "\n",
        "import numpy as np\n",
        "import time\n",
        "\n",
        "import PIL\n",
        "import matplotlib.pyplot as plt"
      ],
      "execution_count": null,
      "outputs": []
    },
    {
      "cell_type": "code",
      "metadata": {
        "id": "vyvc5N4RfrLc"
      },
      "source": [
        "classifier_model = \"https://hub.tensorflow.google.cn/google/tf2-preview/mobilenet_v2/classification/4\""
      ],
      "execution_count": null,
      "outputs": []
    },
    {
      "cell_type": "code",
      "metadata": {
        "id": "NUZKBJu3g-qp"
      },
      "source": [
        "IMAGE_SHAPE = (224, 224)\n",
        "\n",
        "classifier = tf.keras.Sequential([\n",
        "    hub.KerasLayer(classifier_model, input_shape = IMAGE_SHAPE + (3, ))\n",
        "])"
      ],
      "execution_count": null,
      "outputs": []
    },
    {
      "cell_type": "code",
      "metadata": {
        "id": "MMedhu5vhqgE"
      },
      "source": [
        "classifier.summary()"
      ],
      "execution_count": null,
      "outputs": []
    },
    {
      "cell_type": "code",
      "metadata": {
        "id": "kOPltNkEhuhu"
      },
      "source": [
        "grace_hopper = tf.keras.utils.get_file('image.jpg', 'https://storage.googleapis.com/download.tensorflow.org/example_images/grace_hopper.jpg')\n",
        "grace_hopper = PIL.Image.open(grace_hopper).resize(IMAGE_SHAPE)"
      ],
      "execution_count": null,
      "outputs": []
    },
    {
      "cell_type": "code",
      "metadata": {
        "id": "6s_LH78EiH3q"
      },
      "source": [
        "grace_hopper"
      ],
      "execution_count": null,
      "outputs": []
    },
    {
      "cell_type": "code",
      "metadata": {
        "id": "essS8HOyiJSi"
      },
      "source": [
        "grace_hopper = np.array(grace_hopper) / 255.0"
      ],
      "execution_count": null,
      "outputs": []
    },
    {
      "cell_type": "code",
      "metadata": {
        "id": "-a6U5yXgiUFn"
      },
      "source": [
        "grace_hopper.shape"
      ],
      "execution_count": null,
      "outputs": []
    },
    {
      "cell_type": "code",
      "metadata": {
        "id": "-OlGZ475iXG-"
      },
      "source": [
        "result = classifier.predict(grace_hopper[np.newaxis, ...])\n",
        "result.shape"
      ],
      "execution_count": null,
      "outputs": []
    },
    {
      "cell_type": "code",
      "metadata": {
        "id": "jx7mtVUkiVZx"
      },
      "source": [
        "predicted_class = np.argmax(result[0], axis=-1)\n",
        "predicted_class"
      ],
      "execution_count": null,
      "outputs": []
    },
    {
      "cell_type": "code",
      "metadata": {
        "id": "zG-y4H6ljyxc"
      },
      "source": [
        "labels_path = tf.keras.utils.get_file('ImageNetLabels.txt','https://storage.googleapis.com/download.tensorflow.org/data/ImageNetLabels.txt')\n",
        "imagenet_labels = np.array(open(labels_path).read().splitlines())\n",
        "imagenet_labels"
      ],
      "execution_count": null,
      "outputs": []
    },
    {
      "cell_type": "code",
      "metadata": {
        "id": "1lEaMwV3kQ0x"
      },
      "source": [
        "plt.imshow(grace_hopper)\n",
        "predicted_class_name = imagenet_labels[predicted_class]\n",
        "_ = plt.title('Prediction: ' + predicted_class_name)"
      ],
      "execution_count": null,
      "outputs": []
    },
    {
      "cell_type": "code",
      "metadata": {
        "id": "jvIlcAsZkq3Y"
      },
      "source": [
        "data_root = tf.keras.utils.get_file('flower_photos','https://storage.googleapis.com/download.tensorflow.org/example_images/flower_photos.tgz', untar=True)"
      ],
      "execution_count": null,
      "outputs": []
    },
    {
      "cell_type": "code",
      "metadata": {
        "id": "DJB3kqGKnD5B"
      },
      "source": [
        "batch_size = 32\n",
        "img_height = 224\n",
        "img_width = 224"
      ],
      "execution_count": null,
      "outputs": []
    },
    {
      "cell_type": "code",
      "metadata": {
        "id": "LKlwD2UhnOsx"
      },
      "source": [
        "train_ds = tf.keras.preprocessing.image_dataset_from_directory(str(data_root), validation_split=0.2, subset='training', seed=42, image_size=(img_height, img_width), batch_size=batch_size)"
      ],
      "execution_count": null,
      "outputs": []
    },
    {
      "cell_type": "code",
      "metadata": {
        "id": "cxtTotgsno41"
      },
      "source": [
        "class_names = np.array(train_ds.class_names)\n",
        "class_names"
      ],
      "execution_count": null,
      "outputs": []
    },
    {
      "cell_type": "code",
      "metadata": {
        "id": "vEOVPQCQp0hE"
      },
      "source": [
        "normalization_layer = tf.keras.layers.experimental.preprocessing.Rescaling(1.0/255)\n",
        "train_ds = train_ds.map(lambda x, y: (normalization_layer(x), y))"
      ],
      "execution_count": null,
      "outputs": []
    },
    {
      "cell_type": "code",
      "metadata": {
        "id": "mcsgKUeJqURI"
      },
      "source": [
        "train_ds"
      ],
      "execution_count": null,
      "outputs": []
    },
    {
      "cell_type": "code",
      "metadata": {
        "id": "LJVCK0sfqVRf"
      },
      "source": [
        "AUTOTUNE = tf.data.AUTOTUNE\n",
        "\n",
        "train_ds = train_ds.cache().prefetch(AUTOTUNE)"
      ],
      "execution_count": null,
      "outputs": []
    },
    {
      "cell_type": "code",
      "metadata": {
        "id": "wGv5fhdAqp0T"
      },
      "source": [
        "for image_batch, label_batch in train_ds:\n",
        "    print(image_batch)\n",
        "    print(image_batch.shape)\n",
        "    print(label_batch.shape)\n",
        "    break"
      ],
      "execution_count": null,
      "outputs": []
    },
    {
      "cell_type": "code",
      "metadata": {
        "id": "9mGxz-6aq06x"
      },
      "source": [
        "result_batch = classifier.predict(train_ds)"
      ],
      "execution_count": null,
      "outputs": []
    },
    {
      "cell_type": "code",
      "metadata": {
        "id": "HmSkIpIVriuj"
      },
      "source": [
        "predicted_class_names = imagenet_labels[np.argmax(result_batch, axis=-1)]\n",
        "predicted_class_names"
      ],
      "execution_count": null,
      "outputs": []
    },
    {
      "cell_type": "code",
      "metadata": {
        "id": "vuwe-lktsDpK"
      },
      "source": [
        "plt.figure(figsize=(12, 10))\n",
        "plt.subplots_adjust(hspace=0.5)\n",
        "\n",
        "for i in range(30):\n",
        "    plt.subplot(6, 5, i + 1)\n",
        "    plt.imshow(image_batch[i])\n",
        "    plt.title(predicted_class_names[i])\n",
        "_ = plt.suptitle('Imagenet prediction')"
      ],
      "execution_count": null,
      "outputs": []
    },
    {
      "cell_type": "code",
      "metadata": {
        "id": "wcD75-DrtLuz"
      },
      "source": [
        "feature_extrator_model = \"https://hub.tensorflow.google.cn/google/tf2-preview/mobilenet_v2/feature_vector/4\""
      ],
      "execution_count": null,
      "outputs": []
    },
    {
      "cell_type": "code",
      "metadata": {
        "id": "9lp4fuiLx8sS"
      },
      "source": [
        "feature_extrator_layer = hub.KerasLayer(feature_extrator_model, input_shape = (224, 224, 3), trainable = False)"
      ],
      "execution_count": null,
      "outputs": []
    },
    {
      "cell_type": "code",
      "metadata": {
        "id": "hQuqfbY5yXUC"
      },
      "source": [
        "feature_batch = feature_extrator_layer(image_batch)\n",
        "feature_batch.shape"
      ],
      "execution_count": null,
      "outputs": []
    },
    {
      "cell_type": "code",
      "metadata": {
        "id": "b_c6whbVydqb"
      },
      "source": [
        "num_classes = len(class_names)\n",
        "\n",
        "model = tf.keras.Sequential([\n",
        "    feature_extrator_layer,\n",
        "    tf.keras.layers.Dense(num_classes),\n",
        "])"
      ],
      "execution_count": null,
      "outputs": []
    },
    {
      "cell_type": "code",
      "metadata": {
        "id": "xJU03bmFywmC"
      },
      "source": [
        "model.summary()"
      ],
      "execution_count": null,
      "outputs": []
    },
    {
      "cell_type": "code",
      "metadata": {
        "id": "0d-icua1yxwV"
      },
      "source": [
        "predictions = model(image_batch)"
      ],
      "execution_count": null,
      "outputs": []
    },
    {
      "cell_type": "code",
      "metadata": {
        "id": "s_4vQitWzuah"
      },
      "source": [
        "predictions.shape"
      ],
      "execution_count": null,
      "outputs": []
    },
    {
      "cell_type": "code",
      "metadata": {
        "id": "WuxwT0qfzw0n"
      },
      "source": [
        "model.compile('adam', loss=tf.keras.losses.SparseCategoricalCrossentropy(True), metrics=['acc'])"
      ],
      "execution_count": null,
      "outputs": []
    },
    {
      "cell_type": "code",
      "metadata": {
        "id": "h_0-3hFzz71-"
      },
      "source": [
        "class CollectBatchStats(tf.keras.callbacks.Callback):\n",
        "    def __init__(self):\n",
        "        self.batch_losses = []\n",
        "        self.batch_acc = []\n",
        "    \n",
        "    def on_train_batch_end(self, batch, logs = None):\n",
        "        self.batch_losses.append(logs['loss'])\n",
        "        self.batch_acc.append(logs['acc'])\n",
        "        self.model.reset_metrics()"
      ],
      "execution_count": null,
      "outputs": []
    },
    {
      "cell_type": "code",
      "metadata": {
        "id": "lPQ0WMvQ2qcy"
      },
      "source": [
        "batch_stats_callback = CollectBatchStats()\n",
        "\n",
        "history = model.fit(train_ds, epochs=2, callbacks=[batch_stats_callback])"
      ],
      "execution_count": null,
      "outputs": []
    },
    {
      "cell_type": "code",
      "metadata": {
        "id": "mINbcLH5sTbd"
      },
      "source": [
        "plt.figure()\n",
        "plt.ylabel('Loss')\n",
        "plt.xlabel('Thain step')\n",
        "plt.ylim([0, 2])\n",
        "plt.plot(batch_stats_callback.batch_losses)\n",
        "plt.show()"
      ],
      "execution_count": null,
      "outputs": []
    },
    {
      "cell_type": "code",
      "metadata": {
        "id": "C9GO8oMfs5QD"
      },
      "source": [
        "plt.figure()\n",
        "plt.ylabel('Acc')\n",
        "plt.xlabel('Train step')\n",
        "plt.ylim([0, 1])\n",
        "plt.plot(batch_stats_callback.batch_acc)\n",
        "plt.show()"
      ],
      "execution_count": null,
      "outputs": []
    },
    {
      "cell_type": "code",
      "metadata": {
        "id": "bwqcoFjftJeS"
      },
      "source": [
        "predicted_batch = model.predict(image_batch)"
      ],
      "execution_count": null,
      "outputs": []
    },
    {
      "cell_type": "code",
      "metadata": {
        "id": "C4Y-LTe2ubFs"
      },
      "source": [
        "predicted_batch"
      ],
      "execution_count": null,
      "outputs": []
    },
    {
      "cell_type": "code",
      "metadata": {
        "id": "ZszjzQEcuctI"
      },
      "source": [
        "predicted_id = np.argmax(predicted_batch, axis = -1)\n",
        "predicted_id"
      ],
      "execution_count": null,
      "outputs": []
    },
    {
      "cell_type": "code",
      "metadata": {
        "id": "fRs33HJTuoJI"
      },
      "source": [
        "predicted_label_batch = class_names[predicted_id]\n",
        "predicted_label_batch"
      ],
      "execution_count": null,
      "outputs": []
    },
    {
      "cell_type": "code",
      "metadata": {
        "id": "upT9mE8Ou5mB"
      },
      "source": [
        "plt.figure(figsize=(12, 10))\n",
        "plt.subplots_adjust(hspace=0.5)\n",
        "for i in range(30):\n",
        "    plt.subplot(6, 5, i + 1)\n",
        "    plt.imshow(image_batch[i])\n",
        "    plt.title(predicted_label_batch[i])\n",
        "\n",
        "_ = plt.suptitle('Model prediction')"
      ],
      "execution_count": null,
      "outputs": []
    },
    {
      "cell_type": "code",
      "metadata": {
        "id": "JJHF36wcvafI"
      },
      "source": [
        "val_ds = tf.keras.preprocessing.image_dataset_from_directory(str(data_root), validation_split=0.2, subset='validation', seed=42, image_size=(img_height, img_width), batch_size=batch_size)\n",
        "val_ds = val_ds.map(lambda x, y: (normalization_layer(x), y))\n",
        "val_ds = val_ds.cache().prefetch(AUTOTUNE)"
      ],
      "execution_count": null,
      "outputs": []
    },
    {
      "cell_type": "code",
      "metadata": {
        "id": "TIj0EUdYw3T1"
      },
      "source": [
        "loss, acc = model.evaluate(val_ds)"
      ],
      "execution_count": null,
      "outputs": []
    },
    {
      "cell_type": "code",
      "metadata": {
        "id": "W6EXwJb-xARm"
      },
      "source": [
        "t = time.time()\n",
        "\n",
        "export_path = \"/tmp/saved_models/{}\".format(int(t))\n",
        "model.save(export_path)\n",
        "\n",
        "export_path"
      ],
      "execution_count": null,
      "outputs": []
    },
    {
      "cell_type": "code",
      "metadata": {
        "id": "LFataj-8xWxE"
      },
      "source": [
        "reloaded = tf.keras.models.load_model(export_path)\n",
        "\n",
        "loss, acc = reloaded.evaluate(val_ds)"
      ],
      "execution_count": null,
      "outputs": []
    }
  ]
}