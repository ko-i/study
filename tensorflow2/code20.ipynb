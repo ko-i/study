{
  "nbformat": 4,
  "nbformat_minor": 0,
  "metadata": {
    "colab": {
      "name": "Untitled0.ipynb",
      "provenance": [],
      "authorship_tag": "ABX9TyOQv8wbrvLiOWfdUz3gdqq0"
    },
    "kernelspec": {
      "name": "python3",
      "display_name": "Python 3"
    },
    "language_info": {
      "name": "python"
    },
    "accelerator": "GPU"
  },
  "cells": [
    {
      "cell_type": "code",
      "metadata": {
        "id": "1tQjB6ovXHlW"
      },
      "source": [
        "import numpy as np\n",
        "import tensorflow as tf\n",
        "import tensorflow_datasets as tfds\n",
        "\n",
        "tfds.disable_progress_bar()"
      ],
      "execution_count": null,
      "outputs": []
    },
    {
      "cell_type": "code",
      "metadata": {
        "id": "j9LOuCvEZ7y6"
      },
      "source": [
        "import matplotlib.pyplot as plt\n",
        "\n",
        "def plot_graphs(history, metric):\n",
        "    plt.plot(history.history[metric])\n",
        "    plt.plot(history.history['val_'+metric])\n",
        "    plt.xlabel('Epochs')\n",
        "    plt.ylabel(metric)\n",
        "    plt.legend([metric, 'val_'+metric])"
      ],
      "execution_count": null,
      "outputs": []
    },
    {
      "cell_type": "code",
      "metadata": {
        "id": "Jmbv5bQPbVlq"
      },
      "source": [
        "dataset, info = tfds.load('imdb_reviews', with_info=True, as_supervised=True)\n",
        "train_dataset, test_dataset = dataset['train'], dataset['test']\n",
        "train_dataset.element_spec"
      ],
      "execution_count": null,
      "outputs": []
    },
    {
      "cell_type": "code",
      "metadata": {
        "id": "0Si5aN6Nb4Dg"
      },
      "source": [
        "for example, label in train_dataset.take(1):\n",
        "    print('text: ', example.numpy())\n",
        "    print('label:', label.numpy())"
      ],
      "execution_count": null,
      "outputs": []
    },
    {
      "cell_type": "code",
      "metadata": {
        "id": "o-dGScjJcMrM"
      },
      "source": [
        "BUFFER_SIZE = 10000\n",
        "BATCH_SIZE = 64"
      ],
      "execution_count": null,
      "outputs": []
    },
    {
      "cell_type": "code",
      "metadata": {
        "id": "DGduv9gKcZp9"
      },
      "source": [
        "train_dataset = train_dataset.shuffle(BUFFER_SIZE).batch(BATCH_SIZE).prefetch(tf.data.AUTOTUNE)\n",
        "test_dataset = test_dataset.batch(BATCH_SIZE).prefetch(tf.data.AUTOTUNE)"
      ],
      "execution_count": null,
      "outputs": []
    },
    {
      "cell_type": "code",
      "metadata": {
        "id": "iVCjs9mFc8a3"
      },
      "source": [
        "for example, label in train_dataset.take(1):\n",
        "    print('texts: ', example[:3].numpy())\n",
        "    print()\n",
        "    print('labels: ', label[:3].numpy())"
      ],
      "execution_count": null,
      "outputs": []
    },
    {
      "cell_type": "code",
      "metadata": {
        "id": "bple29tcc4ui"
      },
      "source": [
        "VOCAB_SIZE=1000\n",
        "encoder=tf.keras.layers.experimental.preprocessing.TextVectorization(max_tokens=VOCAB_SIZE)\n",
        "encoder.adapt(train_dataset.map(lambda text, label: text))"
      ],
      "execution_count": null,
      "outputs": []
    },
    {
      "cell_type": "code",
      "metadata": {
        "id": "uhljLHzk9TgE"
      },
      "source": [
        "vocab = np.array(encoder.get_vocabulary())\n",
        "vocab[:50]"
      ],
      "execution_count": null,
      "outputs": []
    },
    {
      "cell_type": "code",
      "metadata": {
        "id": "7TDGC3_F9rLn"
      },
      "source": [
        "encoded_example = encoder(example)[:3].numpy()\n",
        "encoded_example"
      ],
      "execution_count": null,
      "outputs": []
    },
    {
      "cell_type": "code",
      "metadata": {
        "id": "FEBpnLou-Pm-"
      },
      "source": [
        "for n in range(3):\n",
        "    print(\"Original: \", example[n].numpy())\n",
        "    print(\"Round trip: \", \" \".join(vocab[encoded_example[n]]))"
      ],
      "execution_count": null,
      "outputs": []
    },
    {
      "cell_type": "code",
      "metadata": {
        "id": "CrvOApaq-zlx"
      },
      "source": [
        "model = tf.keras.Sequential([\n",
        "    encoder,\n",
        "    tf.keras.layers.Embedding(len(encoder.get_vocabulary()), 64, mask_zero=True),\n",
        "    tf.keras.layers.Bidirectional(tf.keras.layers.LSTM(64)),\n",
        "    tf.keras.layers.Dense(64, 'relu'),\n",
        "    tf.keras.layers.Dense(1)\n",
        "])"
      ],
      "execution_count": null,
      "outputs": []
    },
    {
      "cell_type": "code",
      "metadata": {
        "id": "PJDf2Jq0AZgz"
      },
      "source": [
        "print([layer.supports_masking for layer in model.layers])"
      ],
      "execution_count": null,
      "outputs": []
    },
    {
      "cell_type": "code",
      "metadata": {
        "id": "B2TvcskGmxbt"
      },
      "source": [
        "sample_text = ('The movie was cool. The animation and the graphics were out of this world. I would recommend this movie.')\n",
        "sample_text"
      ],
      "execution_count": null,
      "outputs": []
    },
    {
      "cell_type": "code",
      "metadata": {
        "id": "DU9v0qV2nExi"
      },
      "source": [
        "predictions = model.predict([sample_text])\n",
        "predictions"
      ],
      "execution_count": null,
      "outputs": []
    },
    {
      "cell_type": "code",
      "metadata": {
        "id": "kN86Tz7TnPKP"
      },
      "source": [
        "padding = \"the \"*2000\n",
        "predictions = model.predict(np.array([sample_text, padding]))\n",
        "predictions"
      ],
      "execution_count": null,
      "outputs": []
    },
    {
      "cell_type": "code",
      "metadata": {
        "id": "bEzfz_f_ngEw"
      },
      "source": [
        "model.compile(tf.keras.optimizers.Adam(1e-4), loss=tf.keras.losses.BinaryCrossentropy(True), metrics=['accuracy'])"
      ],
      "execution_count": null,
      "outputs": []
    },
    {
      "cell_type": "code",
      "metadata": {
        "id": "k9XB_CYHoKhB"
      },
      "source": [
        "history = model.fit(train_dataset, epochs=10, validation_data=test_dataset, validation_steps=30)"
      ],
      "execution_count": null,
      "outputs": []
    },
    {
      "cell_type": "code",
      "metadata": {
        "id": "hIvvjyksoWmd"
      },
      "source": [
        "test_loss, test_add = model.evaluate(test_dataset)\n",
        "print(\"Test loss: \", test_loss)\n",
        "print(\"Test acc: \", test_acc)"
      ],
      "execution_count": null,
      "outputs": []
    },
    {
      "cell_type": "code",
      "metadata": {
        "id": "0ebsSgZbozC3"
      },
      "source": [
        "plt.figure(figsize=(16, 8))\n",
        "plt.subplot(1,2,1)\n",
        "plot_graphs(history, 'accuracy')\n",
        "plt.ylim(None, 1)\n",
        "plt.subplot(1,2,2)\n",
        "plot_graphs(history, 'loss')\n",
        "plt.ylim(None, 1)"
      ],
      "execution_count": null,
      "outputs": []
    },
    {
      "cell_type": "code",
      "metadata": {
        "id": "UGQByE0_pPjx"
      },
      "source": [
        "sample_text = 'The movie was cool. The animation and the graphics were out of this world. I would recommend this movie.'\n",
        "predictions = model.predict(np.array([sample_text]))\n",
        "predictions"
      ],
      "execution_count": null,
      "outputs": []
    },
    {
      "cell_type": "code",
      "metadata": {
        "id": "tnZC30tJpn82"
      },
      "source": [
        "model = tf.keras.Sequential([\n",
        "    encoder,\n",
        "    tf.keras.layers.Embedding(len(encoder.get_vocabulary()), 64, mask_zero=True),\n",
        "    tf.keras.layers.Bidirectional(tf.keras.layers.LSTM(64, return_sequences=True)),\n",
        "    tf.keras.layers.Bidirectional(tf.keras.layers.LSTM(32,)),\n",
        "    tf.keras.layers.Dense(64, 'relu'),\n",
        "    tf.keras.layers.Dropout(0.5),\n",
        "    tf.keras.layers.Dense(1)\n",
        "])"
      ],
      "execution_count": null,
      "outputs": []
    },
    {
      "cell_type": "code",
      "metadata": {
        "id": "mmbPTKTPr634"
      },
      "source": [
        "model.compile(tf.keras.optimizers.Adam(1e-4), loss=tf.keras.losses.BinaryCrossentropy(True), metrics='accuracy')"
      ],
      "execution_count": null,
      "outputs": []
    },
    {
      "cell_type": "code",
      "metadata": {
        "id": "r3dB9DwlsGL-"
      },
      "source": [
        "history = model.fit(train_dataset, epochs=10, validation_data=test_dataset, validation_steps=30)"
      ],
      "execution_count": null,
      "outputs": []
    },
    {
      "cell_type": "code",
      "metadata": {
        "id": "pXig1nnJsPH_"
      },
      "source": [
        "test_loss, test_acc = model.evaluate(test_dataset)\n",
        "print(\"Test loss: \", test_loss)\n",
        "print(\"Test acc: \", test_acc)"
      ],
      "execution_count": null,
      "outputs": []
    },
    {
      "cell_type": "code",
      "metadata": {
        "id": "HUo8I-zPsYZL"
      },
      "source": [
        "plt.figure(figsize=(16,8))\n",
        "plt.subplot(1,2,1)\n",
        "plot_graphs(history, 'loss')\n",
        "plt.ylim(None, 1)\n",
        "plt.subplot(1,2,2)\n",
        "plot_graphs(history, 'accuracy')\n",
        "plt.ylim(None, 1)"
      ],
      "execution_count": null,
      "outputs": []
    },
    {
      "cell_type": "code",
      "metadata": {
        "id": "ZMom3gWVsrrr"
      },
      "source": [
        "sample_text = ('The movie was not good. The animation and the graphics '\n",
        "               'were terrible. I would not recommend this movie.')\n",
        "predictions = model.predict(np.array([sample_text]))\n",
        "print(predictions)"
      ],
      "execution_count": null,
      "outputs": []
    },
    {
      "cell_type": "code",
      "metadata": {
        "id": "cvq4w-qYxzAQ"
      },
      "source": [
        "sample_text = ('The movie was good')\n",
        "predictions = model.predict(np.array([sample_text]))\n",
        "print(predictions)"
      ],
      "execution_count": null,
      "outputs": []
    }
  ]
}