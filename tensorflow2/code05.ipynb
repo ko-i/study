{
  "nbformat": 4,
  "nbformat_minor": 0,
  "metadata": {
    "colab": {
      "name": "Untitled0.ipynb",
      "provenance": [],
      "collapsed_sections": [],
      "authorship_tag": "ABX9TyOpzcEUcx6pc5xjOgpNQL5l"
    },
    "kernelspec": {
      "name": "python3",
      "display_name": "Python 3"
    }
  },
  "cells": [
    {
      "cell_type": "code",
      "metadata": {
        "id": "Rjpd_gP5pupl"
      },
      "source": [
        "import tensorflow as tf\n",
        "from tensorflow import keras\n",
        "from tensorflow.keras import layers\n",
        "from tensorflow.keras import regularizers\n",
        "\n",
        "print(tf.__version__)"
      ],
      "execution_count": null,
      "outputs": []
    },
    {
      "cell_type": "code",
      "metadata": {
        "id": "M21MwTd-qDIf"
      },
      "source": [
        "!pip install -q git+https://github.com/tensorflow/docs\n",
        "\n",
        "import tensorflow_docs as tfdocs\n",
        "import tensorflow_docs.modeling\n",
        "import tensorflow_docs.plots"
      ],
      "execution_count": null,
      "outputs": []
    },
    {
      "cell_type": "code",
      "metadata": {
        "id": "xFC49eKu4Shl"
      },
      "source": [
        "from IPython import display\n",
        "from matplotlib import pyplot as plt\n",
        "\n",
        "import numpy as np\n",
        "\n",
        "import pathlib\n",
        "import shutil\n",
        "import tempfile"
      ],
      "execution_count": null,
      "outputs": []
    },
    {
      "cell_type": "code",
      "metadata": {
        "id": "NcXPB93w4zDz"
      },
      "source": [
        "logdir = pathlib.Path(tempfile.mkdtemp())\n",
        "shutil.rmtree(logdir, ignore_errors=True)"
      ],
      "execution_count": null,
      "outputs": []
    },
    {
      "cell_type": "code",
      "metadata": {
        "id": "RJK8vVlY5v8z"
      },
      "source": [
        "gz = keras.utils.get_file('HIGGS.csv.gz', 'http://mlphysics.ics.uci.edu/data/higgs/HIGGS.csv.gz')"
      ],
      "execution_count": null,
      "outputs": []
    },
    {
      "cell_type": "code",
      "metadata": {
        "id": "uvSsqGmH52mW"
      },
      "source": [
        "FEATURES = 28"
      ],
      "execution_count": null,
      "outputs": []
    },
    {
      "cell_type": "code",
      "metadata": {
        "id": "zRMsRd2f5_MW"
      },
      "source": [
        "ds = tf.data.experimental.CsvDataset(gz, [float(),] * (FEATURES + 1), compression_type='GZIP')"
      ],
      "execution_count": null,
      "outputs": []
    },
    {
      "cell_type": "code",
      "metadata": {
        "id": "2QLxbsje6aXw"
      },
      "source": [
        "print(ds)"
      ],
      "execution_count": null,
      "outputs": []
    },
    {
      "cell_type": "code",
      "metadata": {
        "id": "asTPO58I6wY1"
      },
      "source": [
        "def pack_row(*row):\n",
        "    label = row[0]\n",
        "    features = tf.stack(row[1:], 1)\n",
        "\n",
        "    return features, label"
      ],
      "execution_count": null,
      "outputs": []
    },
    {
      "cell_type": "code",
      "metadata": {
        "id": "gdxc9AgW7SFW"
      },
      "source": [
        "packed_ds = ds.batch(10000).map(pack_row).unbatch()"
      ],
      "execution_count": null,
      "outputs": []
    },
    {
      "cell_type": "code",
      "metadata": {
        "id": "rQjxmloW7oKZ"
      },
      "source": [
        "packed_ds"
      ],
      "execution_count": null,
      "outputs": []
    },
    {
      "cell_type": "code",
      "metadata": {
        "id": "FkWHHhIu7r-8"
      },
      "source": [
        "for features, label in packed_ds.batch(1000).take(1):\n",
        "    print(features[0])\n",
        "    \n",
        "    plt.hist(features.numpy().flatten(), bins = 202)"
      ],
      "execution_count": null,
      "outputs": []
    },
    {
      "cell_type": "code",
      "metadata": {
        "id": "irsoluWo8E5e"
      },
      "source": [
        "N_VALIDATION = 1000\n",
        "N_TRAIN = 10000\n",
        "BUFFER_SIZE = 10000\n",
        "BATCH_SIZE = 500\n",
        "STEPS_PER_EPOCH = N_TRAIN // BATCH_SIZE"
      ],
      "execution_count": null,
      "outputs": []
    },
    {
      "cell_type": "code",
      "metadata": {
        "id": "uuUG0UEq85aB"
      },
      "source": [
        "validate_ds = packed_ds.take(N_VALIDATION).cache()\n",
        "train_ds = packed_ds.skip(N_VALIDATION).take(N_TRAIN).cache()"
      ],
      "execution_count": null,
      "outputs": []
    },
    {
      "cell_type": "code",
      "metadata": {
        "id": "Q6e_gBHJ9S_X"
      },
      "source": [
        "train_ds"
      ],
      "execution_count": null,
      "outputs": []
    },
    {
      "cell_type": "code",
      "metadata": {
        "id": "axdmQKd-9X4q"
      },
      "source": [
        "validate_ds = validate_ds.batch(BATCH_SIZE)\n",
        "train_ds = train_ds.shuffle(BATCH_SIZE).repeat().batch(BATCH_SIZE)"
      ],
      "execution_count": null,
      "outputs": []
    },
    {
      "cell_type": "code",
      "metadata": {
        "id": "fwsTzTJf9u1K"
      },
      "source": [
        "lr_schedule = tf.keras.optimizers.schedules.InverseTimeDecay(0.001, STEPS_PER_EPOCH * 1000, 1, False)\n",
        "\n",
        "def get_optimizer():\n",
        "    return tf.keras.optimizers.Adam(lr_schedule)"
      ],
      "execution_count": null,
      "outputs": []
    },
    {
      "cell_type": "code",
      "metadata": {
        "id": "X3Tl4dYCFMls"
      },
      "source": [
        "step = np.linspace(0, 100000)\n",
        "lr = lr_schedule(step)\n",
        "\n",
        "plt.figure(figsize = (8, 6))\n",
        "plt.plot(step / STEPS_PER_EPOCH, lr)\n",
        "plt.ylim([0, max(plt.ylim())])\n",
        "plt.xlabel('Epoch')\n",
        "_ = plt.ylabel('Learning rate')"
      ],
      "execution_count": null,
      "outputs": []
    },
    {
      "cell_type": "code",
      "metadata": {
        "id": "w3HfwZ8uGPOx"
      },
      "source": [
        "def get_callbacks():\n",
        "    return [\n",
        "        tfdocs.modeling.EpochDots(),\n",
        "        tf.keras.callbacks.EarlyStopping(monitor = 'val_binary_crossentropy', patience = 200),\n",
        "        tf.keras.callbacks.TensorBoard(logdir/name),\n",
        "    ]"
      ],
      "execution_count": null,
      "outputs": []
    },
    {
      "cell_type": "code",
      "metadata": {
        "id": "HZxBySB9HPqz"
      },
      "source": [
        "def compile_and_fit(model, name, optimizer = None, max_epochs = 10000):\n",
        "    if optimizer is None:\n",
        "        optimizer = get_optimizer()\n",
        "    \n",
        "    model.compile(\n",
        "        optimizer = optimizer,\n",
        "        loss = tf.keras.losses.BinaryCrossentropy(from_logits = True),\n",
        "        metrics = [\n",
        "            tf.keras.losses.BinaryCrossentropy(from_logits=True, name = 'binary_crossentropy'),\n",
        "            'accuracy',\n",
        "        ])\n",
        "    \n",
        "    model.summary()\n",
        "\n",
        "    history = model.fit(train_ds, steps_per_epoch=STEPS_PER_EPOCH, epochs= EPOCHS, validation_data=validate_ds, callbacks=get_callbacks(), verbose=0)\n",
        "\n",
        "    return history"
      ],
      "execution_count": null,
      "outputs": []
    },
    {
      "cell_type": "code",
      "metadata": {
        "id": "70QH2oohJrrH"
      },
      "source": [
        "tiny_model = tf.keras.models.Sequential([\n",
        "    layers.Dense(16, activation = 'elu', input_shape = (FEATURES, )),\n",
        "    layers.Dense(1)\n",
        "])"
      ],
      "execution_count": null,
      "outputs": []
    },
    {
      "cell_type": "code",
      "metadata": {
        "id": "m-vXe_f6KSVE"
      },
      "source": [
        "size_histories = {}"
      ],
      "execution_count": null,
      "outputs": []
    },
    {
      "cell_type": "code",
      "metadata": {
        "id": "W_AMXAj1KVTa"
      },
      "source": [
        "size_histories['Tiny'] = compile_and_fit(tiny_model, 'sizes/Tiny')"
      ],
      "execution_count": null,
      "outputs": []
    },
    {
      "cell_type": "code",
      "metadata": {
        "id": "jPO-DNPwKg5Z"
      },
      "source": [
        "plotter = tfdocs.plots.HistoryPlotter(metric = 'binary_crossentropy', smoothing_std=10)\n",
        "plotter.plot(size_histories)\n",
        "\n",
        "plt.ylim([0.5, 0.75])"
      ],
      "execution_count": null,
      "outputs": []
    },
    {
      "cell_type": "code",
      "metadata": {
        "id": "ZVWxsgE6M-aY"
      },
      "source": [
        "small_model = tf.keras.models.Sequential([\n",
        "    layers.Dense(16, 'elu', input_shape = (FEATURES, )),\n",
        "    layers.Dense(16, 'elu'),\n",
        "    layers.Dense(1),\n",
        "])"
      ],
      "execution_count": null,
      "outputs": []
    },
    {
      "cell_type": "code",
      "metadata": {
        "id": "sUaHuNAFNhzR"
      },
      "source": [
        "size_histories['Small'] = compile_and_fit(small_model, 'sizes/Small')"
      ],
      "execution_count": null,
      "outputs": []
    },
    {
      "cell_type": "code",
      "metadata": {
        "id": "MZuFuNq3NpAb"
      },
      "source": [
        "medium_model = tf.keras.models.Sequential([\n",
        "    layers.Dense(64, 'elu', input_shape = (FEATURES, )),\n",
        "    layers.Dense(64, 'elu'),\n",
        "    layers.Dense(64, 'elu'),\n",
        "    layers.Dense(1),\n",
        "])"
      ],
      "execution_count": null,
      "outputs": []
    },
    {
      "cell_type": "code",
      "metadata": {
        "id": "UIzbb0i4N9EU"
      },
      "source": [
        "size_histories['Medium'] = compile_and_fit(medium_model, 'sizes/Medium')"
      ],
      "execution_count": null,
      "outputs": []
    },
    {
      "cell_type": "code",
      "metadata": {
        "id": "rPHogJlkOMn9"
      },
      "source": [
        "large_model = tf.keras.models.Sequential([\n",
        "    layers.Dense(512, 'elu', input_shape = (FEATURES, )),\n",
        "    layers.Dense(512, 'elu'),\n",
        "    layers.Dense(512, 'elu'),\n",
        "    layers.Dense(512, 'elu'),\n",
        "    layers.Dense(1),\n",
        "])"
      ],
      "execution_count": null,
      "outputs": []
    },
    {
      "cell_type": "code",
      "metadata": {
        "id": "2Byj7QJ6On9f"
      },
      "source": [
        "size_histories['Large'] = compile_and_fit(large_model, 'sizes/Large')"
      ],
      "execution_count": null,
      "outputs": []
    },
    {
      "cell_type": "code",
      "metadata": {
        "id": "fJrd2HDmOye5"
      },
      "source": [
        "plotter.plot(size_histories)\n",
        "a = plt.xscale('log')\n",
        "\n",
        "plt.xlim([5, max(plt.xlim())])\n",
        "plt.ylim([0.5, 0.7])\n",
        "\n",
        "plt.xlabel('Epoch [Log scale]')"
      ],
      "execution_count": null,
      "outputs": []
    },
    {
      "cell_type": "code",
      "metadata": {
        "id": "2ITzOz5jQI9z"
      },
      "source": [
        "# shutil.rmtree(logdir/'regularizers/Tiny', ignore_errors=True)\n",
        "# shutil.copytree(logdir/'sizes/Tiny', logdir/'regularizers/Tiny')"
      ],
      "execution_count": null,
      "outputs": []
    },
    {
      "cell_type": "code",
      "metadata": {
        "id": "eLeCW9uISIBb"
      },
      "source": [
        "regularizer_histories = {}\n",
        "regularizer_histories['Tiny'] = size_histories['Tiny']"
      ],
      "execution_count": null,
      "outputs": []
    },
    {
      "cell_type": "code",
      "metadata": {
        "id": "kowSqFK6Shz5"
      },
      "source": [
        "l2_model = tf.keras.models.Sequential([\n",
        "    layers.Dense(512, 'elu', kernel_regularizer = regularizers.l2(0.001), input_shape = (FEATURES, )),\n",
        "    layers.Dense(512, 'elu', kernel_regularizer = regularizers.l2(0.001)),\n",
        "    layers.Dense(512, 'elu', kernel_regularizer = regularizers.l2(0.001)),\n",
        "    layers.Dense(512, 'elu', kernel_regularizer = regularizers.l2(0.001)),\n",
        "    layers.Dense(1),\n",
        "])"
      ],
      "execution_count": null,
      "outputs": []
    },
    {
      "cell_type": "code",
      "metadata": {
        "id": "BBgunDH5UHFU"
      },
      "source": [
        "regularizer_histories['l2'] = compile_and_fit(l2_model, 'regularizers/l2')"
      ],
      "execution_count": null,
      "outputs": []
    },
    {
      "cell_type": "code",
      "metadata": {
        "id": "s5GGplsWUTlD"
      },
      "source": [
        "plotter.plot(regularizer_histories)\n",
        "plt.ylim([0.5, 0.7])"
      ],
      "execution_count": null,
      "outputs": []
    },
    {
      "cell_type": "code",
      "metadata": {
        "id": "J-Ad3SZlUjvZ"
      },
      "source": [
        "dropout_model = tf.keras.models.Sequential([\n",
        "    layers.Dense(512, 'elu', input_shape = (FEATURES, )),\n",
        "    layers.Dropout(0.5),\n",
        "    layers.Dense(512, 'elu'),\n",
        "    layers.Dropout(0.5),\n",
        "    layers.Dense(512, 'elu'),\n",
        "    layers.Dropout(0.5),\n",
        "    layers.Dense(512, 'elu'),\n",
        "    layers.Dropout(0.5),\n",
        "    layers.Dense(1),\n",
        "])"
      ],
      "execution_count": null,
      "outputs": []
    },
    {
      "cell_type": "code",
      "metadata": {
        "id": "Su_PyBLjWUbP"
      },
      "source": [
        "regularizer_histories['dropout'] = compile_and_fit(dropout_model, 'regularizers/dropout')"
      ],
      "execution_count": null,
      "outputs": []
    },
    {
      "cell_type": "code",
      "metadata": {
        "id": "TbrN8OddWh1i"
      },
      "source": [
        "plotter.plot(regularizer_histories)\n",
        "plt.ylim([0.5, 0.7])"
      ],
      "execution_count": null,
      "outputs": []
    },
    {
      "cell_type": "code",
      "metadata": {
        "id": "6dOMRAW8Ws4V"
      },
      "source": [
        "combined_model = tf.keras.models.Sequential([\n",
        "    layers.Dense(512, 'elu', kernel_regularizer = regularizers.l2(0.0001), input_shape = (FEATURES, )),\n",
        "    layers.Dropout(0.5),\n",
        "    layers.Dense(512, 'elu', kernel_regularizer = regularizers.l2(0.0001)),\n",
        "    layers.Dropout(0.5),\n",
        "    layers.Dense(512, 'elu', kernel_regularizer = regularizers.l2(0.0001)),\n",
        "    layers.Dropout(0.5),\n",
        "    layers.Dense(512, 'elu', kernel_regularizer = regularizers.l2(0.0001)),\n",
        "    layers.Dropout(0.5),\n",
        "    layers.Dense(1),\n",
        "])"
      ],
      "execution_count": null,
      "outputs": []
    },
    {
      "cell_type": "code",
      "metadata": {
        "id": "rPD3wG1JXzof"
      },
      "source": [
        "regularizer_histories['combined'] = compile_and_fit(combined_model, 'regularizers/combined')"
      ],
      "execution_count": null,
      "outputs": []
    },
    {
      "cell_type": "code",
      "metadata": {
        "id": "Knhq77xCYEqy"
      },
      "source": [
        "plotter.plot(regularizer_histories)\n",
        "plt.ylim([0.5, 0.7])"
      ],
      "execution_count": null,
      "outputs": []
    }
  ]
}