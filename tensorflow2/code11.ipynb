{
  "nbformat": 4,
  "nbformat_minor": 0,
  "metadata": {
    "colab": {
      "name": "Untitled0.ipynb",
      "provenance": [],
      "collapsed_sections": [],
      "authorship_tag": "ABX9TyMT0jhD71sTMB5/Y+O78wBR"
    },
    "kernelspec": {
      "name": "python3",
      "display_name": "Python 3"
    }
  },
  "cells": [
    {
      "cell_type": "code",
      "metadata": {
        "id": "VDvspbJgF8Hb"
      },
      "source": [
        "import os\n",
        "import matplotlib.pyplot as plt\n",
        "import tensorflow as tf"
      ],
      "execution_count": null,
      "outputs": []
    },
    {
      "cell_type": "code",
      "metadata": {
        "id": "ZY4lRP8DHfgd"
      },
      "source": [
        "print(\"Tensorflow version: {}\".format(tf.__version__))\n",
        "print(\"Eager execution: {}\".format(tf.executing_eagerly()))"
      ],
      "execution_count": null,
      "outputs": []
    },
    {
      "cell_type": "code",
      "metadata": {
        "id": "8KHmgCCQH8W7"
      },
      "source": [
        "train_dataset_url = \"https://storage.googleapis.com/download.tensorflow.org/data/iris_training.csv\"\n",
        "\n",
        "train_dataset_fp = tf.keras.utils.get_file(fname=os.path.basename(train_dataset_url), origin=train_dataset_url)"
      ],
      "execution_count": null,
      "outputs": []
    },
    {
      "cell_type": "code",
      "metadata": {
        "id": "zheZsX4CJysE"
      },
      "source": [
        "print(\"Local copy of dataset file: {}\".format(train_dataset_fp))"
      ],
      "execution_count": null,
      "outputs": []
    },
    {
      "cell_type": "code",
      "metadata": {
        "id": "aRt_B0CGKBzB"
      },
      "source": [
        "!head -n5 {train_dataset_fp}"
      ],
      "execution_count": null,
      "outputs": []
    },
    {
      "cell_type": "code",
      "metadata": {
        "id": "p7PZLHKCLEAO"
      },
      "source": [
        "column_names= ['sepal_length', 'sepal_width', 'petal_length', 'petal_width', 'species']\n",
        "\n",
        "feature_names = column_names[:-1]\n",
        "label_name = column_names[-1]\n",
        "\n",
        "print(\"Features: {}\".format(feature_names))\n",
        "print(\"Label: {}\".format(label_name))"
      ],
      "execution_count": null,
      "outputs": []
    },
    {
      "cell_type": "code",
      "metadata": {
        "id": "8uK_cbEaLiDi"
      },
      "source": [
        "class_names = ['Iris setosa', 'Iris versicolor', 'Iris virginica']"
      ],
      "execution_count": null,
      "outputs": []
    },
    {
      "cell_type": "code",
      "metadata": {
        "id": "z1A4mWjXLsSc"
      },
      "source": [
        "batch_size = 32\n",
        "\n",
        "train_dataset = tf.data.experimental.make_csv_dataset(train_dataset_fp, batch_size, column_names=column_names, label_name=label_name, num_epochs=1)"
      ],
      "execution_count": null,
      "outputs": []
    },
    {
      "cell_type": "code",
      "metadata": {
        "id": "ByFYZ-epNwju"
      },
      "source": [
        "train_dataset"
      ],
      "execution_count": null,
      "outputs": []
    },
    {
      "cell_type": "code",
      "metadata": {
        "id": "CAjskHgSNyWr"
      },
      "source": [
        "features, labels = next(iter(train_dataset))"
      ],
      "execution_count": null,
      "outputs": []
    },
    {
      "cell_type": "code",
      "metadata": {
        "id": "AEOcch0XN_OX"
      },
      "source": [
        "print(features)"
      ],
      "execution_count": null,
      "outputs": []
    },
    {
      "cell_type": "code",
      "metadata": {
        "id": "FS3QhypeOBDo"
      },
      "source": [
        "print(labels)"
      ],
      "execution_count": null,
      "outputs": []
    },
    {
      "cell_type": "code",
      "metadata": {
        "id": "zQu71H1wOLag"
      },
      "source": [
        "plt.scatter(features['petal_length'], features['sepal_length'], c = labels, cmap = 'viridis')\n",
        "plt.xlabel('Petal length')\n",
        "plt.ylabel('Sepal length')\n",
        "plt.show()"
      ],
      "execution_count": null,
      "outputs": []
    },
    {
      "cell_type": "code",
      "metadata": {
        "id": "r2P3PGW-QZyk"
      },
      "source": [
        "plt.scatter(features['sepal_width'], features['petal_width'], c = labels, cmap = 'viridis')\n",
        "plt.xlabel('sepal_width')\n",
        "plt.ylabel('petal_width')\n",
        "plt.show()"
      ],
      "execution_count": null,
      "outputs": []
    },
    {
      "cell_type": "code",
      "metadata": {
        "id": "Yus7jdzeRjBq"
      },
      "source": [
        "features.values()"
      ],
      "execution_count": null,
      "outputs": []
    },
    {
      "cell_type": "code",
      "metadata": {
        "id": "gzt--JvFSTM6"
      },
      "source": [
        "list(features.values())"
      ],
      "execution_count": null,
      "outputs": []
    },
    {
      "cell_type": "code",
      "metadata": {
        "id": "WcfwqyICSZ6d"
      },
      "source": [
        "tf.stack(list(features.values()))"
      ],
      "execution_count": null,
      "outputs": []
    },
    {
      "cell_type": "code",
      "metadata": {
        "id": "vfqOB1JTSfZk"
      },
      "source": [
        "tf.stack(list(features.values()), 1)"
      ],
      "execution_count": null,
      "outputs": []
    },
    {
      "cell_type": "code",
      "metadata": {
        "id": "VVBybAIRSpYv"
      },
      "source": [
        "def pack_features_vector(features, labels):\n",
        "    features = tf.stack(list(features.values()), axis=1)\n",
        "    return features, labels"
      ],
      "execution_count": null,
      "outputs": []
    },
    {
      "cell_type": "code",
      "metadata": {
        "id": "z_jOz1NbT-zF"
      },
      "source": [
        "train_dataset = train_dataset.map(pack_features_vector)"
      ],
      "execution_count": null,
      "outputs": []
    },
    {
      "cell_type": "code",
      "metadata": {
        "id": "oPVqmEgdSiic"
      },
      "source": [
        "features, labels = next(iter(train_dataset))"
      ],
      "execution_count": null,
      "outputs": []
    },
    {
      "cell_type": "code",
      "metadata": {
        "id": "TfT3Cz5uU1Q4"
      },
      "source": [
        "print(features)"
      ],
      "execution_count": null,
      "outputs": []
    },
    {
      "cell_type": "code",
      "metadata": {
        "id": "NNiZxIXXU2WJ"
      },
      "source": [
        "print(labels)"
      ],
      "execution_count": null,
      "outputs": []
    },
    {
      "cell_type": "code",
      "metadata": {
        "id": "bs1ctg1aU3pQ"
      },
      "source": [
        "model = tf.keras.Sequential([\n",
        "    tf.keras.layers.Dense(10, tf.nn.relu, input_shape=(4, )),\n",
        "    tf.keras.layers.Dense(10, tf.nn.relu),\n",
        "    tf.keras.layers.Dense(3)\n",
        "])"
      ],
      "execution_count": null,
      "outputs": []
    },
    {
      "cell_type": "code",
      "metadata": {
        "id": "iAMDUDsCYnjx"
      },
      "source": [
        "predictions = model(features)"
      ],
      "execution_count": null,
      "outputs": []
    },
    {
      "cell_type": "code",
      "metadata": {
        "id": "_-mSm0EVRW07"
      },
      "source": [
        "predictions[:5]"
      ],
      "execution_count": null,
      "outputs": []
    },
    {
      "cell_type": "code",
      "metadata": {
        "id": "DPbcu5zrY8zj"
      },
      "source": [
        "tf.nn.softmax(predictions[:5])"
      ],
      "execution_count": null,
      "outputs": []
    },
    {
      "cell_type": "code",
      "metadata": {
        "id": "ILCziz2KZFUw"
      },
      "source": [
        "print(\"Prediction: {}\".format(tf.argmax(predictions, 1)))\n",
        "print(\"Label:      {}\".format(labels))"
      ],
      "execution_count": null,
      "outputs": []
    },
    {
      "cell_type": "code",
      "metadata": {
        "id": "l3GJTohkZY9E"
      },
      "source": [
        "loss_object = tf.keras.losses.SparseCategoricalCrossentropy(from_logits=True)"
      ],
      "execution_count": null,
      "outputs": []
    },
    {
      "cell_type": "code",
      "metadata": {
        "id": "6I7u0Zvdagr3"
      },
      "source": [
        "def loss(model, x, y, training):\n",
        "    y_ = model(x, training = training)\n",
        "\n",
        "    return loss_object(y, y_)"
      ],
      "execution_count": null,
      "outputs": []
    },
    {
      "cell_type": "code",
      "metadata": {
        "id": "SYyMshWxa3rB"
      },
      "source": [
        "l = loss(model, features, labels, False)\n",
        "print(l)"
      ],
      "execution_count": null,
      "outputs": []
    },
    {
      "cell_type": "code",
      "metadata": {
        "id": "nYtPO668bAKL"
      },
      "source": [
        "def grad(model, inputs, targets):\n",
        "    with tf.GradientTape() as tape:\n",
        "        loss_value = loss(model, inputs, targets, True)\n",
        "\n",
        "    return loss_value, tape.gradient(loss_value, model.trainable_variables)"
      ],
      "execution_count": null,
      "outputs": []
    },
    {
      "cell_type": "code",
      "metadata": {
        "id": "p5aKgXfpcK7H"
      },
      "source": [
        "optimizer = tf.keras.optimizers.SGD(0.01)"
      ],
      "execution_count": null,
      "outputs": []
    },
    {
      "cell_type": "code",
      "metadata": {
        "id": "HuDV0WiJcunP"
      },
      "source": [
        "loss_value, grads = grad(model, features, labels)"
      ],
      "execution_count": null,
      "outputs": []
    },
    {
      "cell_type": "code",
      "metadata": {
        "id": "lRxCYM1hc2O5"
      },
      "source": [
        "loss_value"
      ],
      "execution_count": null,
      "outputs": []
    },
    {
      "cell_type": "code",
      "metadata": {
        "id": "LK8Od6jmc3uP"
      },
      "source": [
        "grads"
      ],
      "execution_count": null,
      "outputs": []
    },
    {
      "cell_type": "code",
      "metadata": {
        "id": "DQQgXb6RdKzI"
      },
      "source": [
        "print(\"Step: {}, Loss: {}\".format(optimizer.iterations.numpy(), loss_value.numpy()))"
      ],
      "execution_count": null,
      "outputs": []
    },
    {
      "cell_type": "code",
      "metadata": {
        "id": "_TPu1WA2c4hM"
      },
      "source": [
        "optimizer.apply_gradients(zip(grads, model.trainable_variables))"
      ],
      "execution_count": null,
      "outputs": []
    },
    {
      "cell_type": "code",
      "metadata": {
        "id": "P-er2zgMdyis"
      },
      "source": [
        "loss_value, grads = grad(model, features, labels)"
      ],
      "execution_count": null,
      "outputs": []
    },
    {
      "cell_type": "code",
      "metadata": {
        "id": "yh37ZNutdhJn"
      },
      "source": [
        "print(\"Step: {}, Loss: {}\".format(optimizer.iterations.numpy(), loss_value.numpy()))"
      ],
      "execution_count": null,
      "outputs": []
    },
    {
      "cell_type": "code",
      "metadata": {
        "id": "4if89HmUdiuL"
      },
      "source": [
        "train_loss_results = []\n",
        "train_accuracy_results = []\n",
        "\n",
        "num_epochs = 201\n",
        "\n",
        "for epoch in range(num_epochs):\n",
        "    epoch_loss_avg = tf.keras.metrics.Mean()\n",
        "    epoch_accuracy = tf.keras.metrics.SparseCategoricalAccuracy()\n",
        "\n",
        "    for x, y in train_dataset:\n",
        "        loss_value, grads = grad(model, x, y)\n",
        "        optimizer.apply_gradients(zip(grads, model.trainable_variables))\n",
        "\n",
        "        epoch_loss_avg.update_state(loss_value)\n",
        "        epoch_accuracy.update_state(y, model(x, training = True))\n",
        "    \n",
        "    train_loss_results.append(epoch_loss_avg.result())\n",
        "    train_accuracy_results.append(epoch_accuracy.result())\n",
        "\n",
        "    if epoch % 50 == 0:\n",
        "        print(\"Epoch: {:03d}, Loss: {:.3f}, Accuracy: {:.3f}\".format(epoch, epoch_loss_avg.result(), epoch_accuracy.result()))"
      ],
      "execution_count": null,
      "outputs": []
    },
    {
      "cell_type": "code",
      "metadata": {
        "id": "qNkZhYNnjnSz"
      },
      "source": [
        "fig, axes = plt.subplots(2, 1, True, figsize = (12,8))\n",
        "fig.suptitle('Training Metrics')\n",
        "\n",
        "axes[0].set_ylabel('Loss')\n",
        "axes[0].plot(train_loss_results)\n",
        "\n",
        "axes[1].set_ylabel('Acc')\n",
        "axes[1].set_xlabel('Epochs')\n",
        "axes[1].plot(train_accuracy_results)\n",
        "\n",
        "plt.show()"
      ],
      "execution_count": null,
      "outputs": []
    },
    {
      "cell_type": "code",
      "metadata": {
        "id": "ZA4RCDTclMvs"
      },
      "source": [
        "test_url = \"https://storage.googleapis.com/download.tensorflow.org/data/iris_test.csv\""
      ],
      "execution_count": null,
      "outputs": []
    },
    {
      "cell_type": "code",
      "metadata": {
        "id": "vdYQ30nXo9gG"
      },
      "source": [
        "os.path.basename(test_url)"
      ],
      "execution_count": null,
      "outputs": []
    },
    {
      "cell_type": "code",
      "metadata": {
        "id": "fIw0FL5Qowiu"
      },
      "source": [
        "test_fp = tf.keras.utils.get_file(fname=os.path.basename(test_url), origin=test_url)"
      ],
      "execution_count": null,
      "outputs": []
    },
    {
      "cell_type": "code",
      "metadata": {
        "id": "SIxoNzA-pIYy"
      },
      "source": [
        "test_dataset = tf.data.experimental.make_csv_dataset(test_fp, batch_size, column_names=column_names, label_name = 'species', num_epochs=1, shuffle=False)"
      ],
      "execution_count": null,
      "outputs": []
    },
    {
      "cell_type": "code",
      "metadata": {
        "id": "E4Jo9dnwp49y"
      },
      "source": [
        "test_dataset = test_dataset.map(pack_features_vector)"
      ],
      "execution_count": null,
      "outputs": []
    },
    {
      "cell_type": "code",
      "metadata": {
        "id": "9YC1kp57qF_I"
      },
      "source": [
        "test_acc = tf.keras.metrics.Accuracy()\n",
        "\n",
        "for (x, y) in test_dataset:\n",
        "    logits = model(x, training=False)\n",
        "    prediction = tf.argmax(logits, axis=1, output_type=tf.int32)\n",
        "    test_acc(prediction, y)\n",
        "\n",
        "print(\"Test acc: {}\".format(test_acc.result()))"
      ],
      "execution_count": null,
      "outputs": []
    },
    {
      "cell_type": "code",
      "metadata": {
        "id": "q-I8ix6BsiOA"
      },
      "source": [
        "tf.stack([y, prediction], 1)"
      ],
      "execution_count": null,
      "outputs": []
    },
    {
      "cell_type": "code",
      "metadata": {
        "id": "dZBnn0gWsriv"
      },
      "source": [
        "predict_dataset = tf.convert_to_tensor([\n",
        "    [5.1, 3.3, 1.7, 0.5,],\n",
        "    [5.9, 3.0, 4.2, 1.5,],\n",
        "    [6.9, 3.1, 5.4, 2.1] \n",
        "])"
      ],
      "execution_count": null,
      "outputs": []
    },
    {
      "cell_type": "code",
      "metadata": {
        "id": "n5xDXfLUtk8o"
      },
      "source": [
        "predictions = model(predict_dataset, training=False)"
      ],
      "execution_count": null,
      "outputs": []
    },
    {
      "cell_type": "code",
      "metadata": {
        "id": "_OhF0vB5tsT6"
      },
      "source": [
        "predictions"
      ],
      "execution_count": null,
      "outputs": []
    },
    {
      "cell_type": "code",
      "metadata": {
        "id": "PzWpec4AtteG"
      },
      "source": [
        "for i, logits in enumerate(predictions):\n",
        "    class_idx = tf.argmax(logits).numpy()\n",
        "    p = tf.nn.softmax(logits)[class_idx]\n",
        "    name = class_names[class_idx]\n",
        "\n",
        "    print(\"Example {}: prediction: {} ({:.4f})\".format(i, name, p))"
      ],
      "execution_count": null,
      "outputs": []
    },
    {
      "cell_type": "code",
      "metadata": {
        "id": "LUEgSck9uUa6"
      },
      "source": [
        ""
      ],
      "execution_count": null,
      "outputs": []
    }
  ]
}