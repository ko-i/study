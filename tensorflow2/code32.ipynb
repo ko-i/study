{
  "nbformat": 4,
  "nbformat_minor": 0,
  "metadata": {
    "colab": {
      "name": "Untitled0.ipynb",
      "provenance": [],
      "authorship_tag": "ABX9TyM0CW3SyZkxBnEon8zVV8+N"
    },
    "kernelspec": {
      "display_name": "Python 3",
      "name": "python3"
    },
    "language_info": {
      "name": "python"
    }
  },
  "cells": [
    {
      "cell_type": "code",
      "metadata": {
        "id": "3OVI_TX4ajtY"
      },
      "source": [
        "import tensorflow as tf\n",
        "from datetime import datetime"
      ],
      "execution_count": null,
      "outputs": []
    },
    {
      "cell_type": "code",
      "metadata": {
        "id": "bgPd3JQkaqiB"
      },
      "source": [
        "%load_ext tensorboard"
      ],
      "execution_count": null,
      "outputs": []
    },
    {
      "cell_type": "code",
      "metadata": {
        "id": "P5Vw3qwoayox"
      },
      "source": [
        "class SimpleModule(tf.Module):\n",
        "    def __init__(self, name=None):\n",
        "        super().__init__(name=name)\n",
        "        self.a_variable = tf.Variable(5.0, name='train_me')\n",
        "        self.non_trainable_value = tf.Variable(5.0, trainable=False, name='not_train_me')\n",
        "    \n",
        "    def __call__(self, x):\n",
        "        return self.a_variable * x + self.non_trainable_value\n",
        "\n",
        "simple_module = SimpleModule(name='simple')\n",
        "simple_module(tf.constant(5.0))"
      ],
      "execution_count": null,
      "outputs": []
    },
    {
      "cell_type": "code",
      "metadata": {
        "id": "zf9HA9q7zzD2"
      },
      "source": [
        "print(\"Trainable variables: \", simple_module.trainable_variables)\n",
        "print(\"All variables: \", simple_module.variables)"
      ],
      "execution_count": null,
      "outputs": []
    },
    {
      "cell_type": "code",
      "metadata": {
        "id": "LnJUDCOS3R_a"
      },
      "source": [
        "class Dense(tf.Module):\n",
        "    def __init__(self, in_features, out_features, name=None):\n",
        "        super().__init__(name=name)\n",
        "        self.w = tf.Variable(tf.random.normal([in_features, out_features]), name='w')\n",
        "        self.b = tf.Variable(tf.zeros([out_features]), name='b')\n",
        "    \n",
        "    def __call__(self, x):\n",
        "        y = tf.matmul(x, self.w) + self.b\n",
        "\n",
        "        return tf.nn.relu(y)"
      ],
      "execution_count": null,
      "outputs": []
    },
    {
      "cell_type": "code",
      "metadata": {
        "id": "slbQHmqG5dha"
      },
      "source": [
        "class SequentialModel(tf.Module):\n",
        "    def __init__(self, name=None):\n",
        "        super().__init__(name=name)\n",
        "\n",
        "        self.dense_1 = Dense(3, 3, 'dense1')\n",
        "        self.dense_2 = Dense(3, 2, 'dense2')\n",
        "    \n",
        "    def __call__(self, x):\n",
        "        x = self.dense_1(x)\n",
        "        return self.dense_2(x)\n",
        "\n",
        "my_model = SequentialModel('the_model')\n",
        "\n",
        "print(\"Model result: \", my_model(tf.constant([[1., 2., 3.]])))"
      ],
      "execution_count": null,
      "outputs": []
    },
    {
      "cell_type": "code",
      "metadata": {
        "id": "VNTVKTHH6tKI"
      },
      "source": [
        "print(\"Submodels: \", my_model.submodules)"
      ],
      "execution_count": null,
      "outputs": []
    },
    {
      "cell_type": "code",
      "metadata": {
        "id": "zPD0V6pc8ZMm"
      },
      "source": [
        "for var in my_model.variables:\n",
        "    print(var, '\\n')"
      ],
      "execution_count": null,
      "outputs": []
    },
    {
      "cell_type": "code",
      "metadata": {
        "id": "5ZCjRtlX8k6W"
      },
      "source": [
        "class FlexibleDenseLayer(tf.Module):\n",
        "    def __init__(self, out_features, name=None):\n",
        "        super().__init__(name=name)\n",
        "\n",
        "        self.is_built=False\n",
        "        self.out_features = out_features\n",
        "\n",
        "    def __call__(self, x):\n",
        "        if not self.is_built:\n",
        "            self.w = tf.Variable(tf.random.normal([x.shape[-1], self.out_features]), name='w')\n",
        "            self.b = tf.Variable(tf.zeros([self.out_features]), name='b')\n",
        "            self.is_built = True\n",
        "\n",
        "        y = tf.matmul(x, self.w) + self.b\n",
        "        return tf.nn.relu(y)  "
      ],
      "execution_count": null,
      "outputs": []
    },
    {
      "cell_type": "code",
      "metadata": {
        "id": "jc5F-9GXZtNw"
      },
      "source": [
        "class MySequentialModule(tf.Module):\n",
        "    def __init__(self, name=None):\n",
        "        super().__init__(name=name)\n",
        "        self.dense_1 = FlexibleDenseLayer(3)\n",
        "        self.dense_2 = FlexibleDenseLayer(2)\n",
        "    \n",
        "    def __call__(self, x):\n",
        "        x = self.dense_1(x)\n",
        "        return self.dense_2(x)"
      ],
      "execution_count": null,
      "outputs": []
    },
    {
      "cell_type": "code",
      "metadata": {
        "id": "yaOWSCGEaVn0"
      },
      "source": [
        "my_model = MySequentialModule(name='my_module')\n",
        "print(\"Module result: \", my_model(tf.constant([[2.0, 2.0, 2.0]])))"
      ],
      "execution_count": null,
      "outputs": []
    },
    {
      "cell_type": "code",
      "metadata": {
        "id": "Q_ddx0Icaj4f"
      },
      "source": [
        "chkp_path = 'my_checkpoint'\n",
        "checkpoint = tf.train.Checkpoint(model=my_model)\n",
        "checkpoint.write(chkp_path)"
      ],
      "execution_count": null,
      "outputs": []
    },
    {
      "cell_type": "code",
      "metadata": {
        "id": "LIHgzIUAh6Ul"
      },
      "source": [
        "tf.train.list_variables(chkp_path)"
      ],
      "execution_count": null,
      "outputs": []
    },
    {
      "cell_type": "code",
      "metadata": {
        "id": "bixo0Zv7l1ok"
      },
      "source": [
        "new_model = MySequentialModule()\n",
        "new_checkpoint = tf.train.Checkpoint(model=new_model)\n",
        "new_checkpoint.restore(\"my_checkpoint\")\n",
        "\n",
        "print(new_model(tf.constant([[2.0, 2.0, 2.0]])))"
      ],
      "execution_count": null,
      "outputs": []
    },
    {
      "cell_type": "code",
      "metadata": {
        "id": "V3nhP3b7uiwR"
      },
      "source": [
        "class MySequentialModule(tf.Module):\n",
        "    def __init__(self, name=None):\n",
        "        super().__init__(name=name)\n",
        "\n",
        "        self.dense_1 = Dense(in_features=3, out_features=3, name='dense1')\n",
        "        self.dense_2 = Dense(in_features=3, out_features=2, name='dense2')\n",
        "    \n",
        "    @tf.function\n",
        "    def __call__(self, x):\n",
        "        x = self.dense_1(x)\n",
        "        return self.dense_2(x)\n",
        "\n",
        "my_model = MySequentialModule('graph_model')"
      ],
      "execution_count": null,
      "outputs": []
    },
    {
      "cell_type": "code",
      "metadata": {
        "id": "9Itb8EkVvofR"
      },
      "source": [
        "print(my_model([[2.0, 2.0, 2.0], [2.0, 2.0, 2.0]]))\n",
        "print(my_model([[[2.0, 2.0, 2.0], [2.0, 2.0, 2.0]]]))"
      ],
      "execution_count": null,
      "outputs": []
    },
    {
      "cell_type": "code",
      "metadata": {
        "id": "w0Ss6JetwsgX"
      },
      "source": [
        "stamp = datetime.now().strftime(\"%Y%m%d-%H%M%S\")\n",
        "logdir = \"logs/func/%s\" % stamp\n",
        "writer = tf.summary.create_file_writer(logdir)\n",
        "\n",
        "new_model = MySequentialModule()\n",
        "\n",
        "tf.summary.trace_on(graph=True)\n",
        "tf.profiler.experimental.start(logdir=logdir)\n",
        "z = print(new_model(tf.constant([[2.0, 2.0, 2.0]])))\n",
        "with writer.as_default():\n",
        "    tf.summary.trace_export(name='my_func_trace', step=0, profiler_outdir=logdir)"
      ],
      "execution_count": null,
      "outputs": []
    },
    {
      "cell_type": "code",
      "metadata": {
        "id": "0M2uoZns7evr"
      },
      "source": [
        "tf.saved_model.save(my_model, 'the_saved_model')"
      ],
      "execution_count": null,
      "outputs": []
    },
    {
      "cell_type": "code",
      "metadata": {
        "id": "ybkgWv6I72pJ"
      },
      "source": [
        "!ls -l the_saved_model"
      ],
      "execution_count": null,
      "outputs": []
    },
    {
      "cell_type": "code",
      "metadata": {
        "id": "IoZRkkg-77rO"
      },
      "source": [
        "!ls -l the_saved_model/variables"
      ],
      "execution_count": null,
      "outputs": []
    },
    {
      "cell_type": "code",
      "metadata": {
        "id": "WLSGcW8d8DsY"
      },
      "source": [
        "new_model = tf.saved_model.load('the_saved_model')"
      ],
      "execution_count": null,
      "outputs": []
    },
    {
      "cell_type": "code",
      "metadata": {
        "id": "ZOsc0n_IBCc8"
      },
      "source": [
        "isinstance(new_model, SequentialModel)"
      ],
      "execution_count": null,
      "outputs": []
    },
    {
      "cell_type": "code",
      "metadata": {
        "id": "FTldnHJdBG5_"
      },
      "source": [
        "print(new_model([[2.0, 2.0, 2.0], [2.0, 2.0, 2.0]]))\n",
        "print(new_model([[[2.0, 2.0, 2.0], [2.0, 2.0, 2.0]]]))"
      ],
      "execution_count": null,
      "outputs": []
    },
    {
      "cell_type": "code",
      "metadata": {
        "id": "9vRP6ZuBBQqe"
      },
      "source": [
        "class MyDense(tf.keras.layers.Layer):\n",
        "    def __init__(self, in_features, out_features, **kwargs):\n",
        "        super().__init__(**kwargs)\n",
        "\n",
        "        self.w = tf.Variable(tf.random.normal([in_features, out_features]), name='w')\n",
        "        self.b = tf.Variable(tf.zeros([out_features]), name='b')\n",
        "    \n",
        "    def call(self, x):\n",
        "        y = tf.matmul(x, self.w) + self.b\n",
        "        return tf.nn.relu(y)\n",
        "\n",
        "simple_layer = MyDense(name='simple', in_features=3, out_features=3)"
      ],
      "execution_count": null,
      "outputs": []
    },
    {
      "cell_type": "code",
      "metadata": {
        "id": "ryZdkwzlG-yb"
      },
      "source": [
        "simple_layer([[2.0, 2.0, 2.0]])"
      ],
      "execution_count": null,
      "outputs": []
    },
    {
      "cell_type": "code",
      "metadata": {
        "id": "b6vyokK_HIII"
      },
      "source": [
        "class FlexibleDense(tf.keras.layers.Layer):\n",
        "    def __init__(self, out_features, **kwargs):\n",
        "        super().__init__(**kwargs)\n",
        "        self.out_features = out_features\n",
        "    \n",
        "    def build(self, input_shape):\n",
        "        self.w = tf.Variable(tf.random.normal([input_shape[-1], self.out_features]), name='w')\n",
        "        self.b = tf.Variable(tf.zeros([self.out_features]), name='b')\n",
        "\n",
        "    def call(self, x):\n",
        "        y = tf.matmul(x, self.w) + self.b\n",
        "        return tf.nn.relu(y)\n",
        "\n",
        "flexible_dense = FlexibleDense(out_features=3)"
      ],
      "execution_count": null,
      "outputs": []
    },
    {
      "cell_type": "code",
      "metadata": {
        "id": "44xbXm1xJbQU"
      },
      "source": [
        "flexible_dense.variables"
      ],
      "execution_count": null,
      "outputs": []
    },
    {
      "cell_type": "code",
      "metadata": {
        "id": "ntxSTBTrJeFj"
      },
      "source": [
        "print(\"Module result: \", flexible_dense(tf.constant([[2.0, 2.0, 2.0], [3.0, 3.0, 3.0]])))"
      ],
      "execution_count": null,
      "outputs": []
    },
    {
      "cell_type": "code",
      "metadata": {
        "id": "5tGa2GX_JvnH"
      },
      "source": [
        "flexible_dense.variables"
      ],
      "execution_count": null,
      "outputs": []
    },
    {
      "cell_type": "code",
      "metadata": {
        "id": "daUyuAeYKM5I"
      },
      "source": [
        "try:\n",
        "    print(\"Model result: \", flexible_dense(tf.constant([[4.0, 4.0, 4.0, 4.0]])))\n",
        "except tf.errors.InvalidArgumentError as e:\n",
        "    print('Failed: ', e)"
      ],
      "execution_count": null,
      "outputs": []
    },
    {
      "cell_type": "code",
      "metadata": {
        "id": "1QUHDDa7Ko6y"
      },
      "source": [
        "class MySequentialModel(tf.keras.Model):\n",
        "    def __init__(self, name=None, **kwargs):\n",
        "        super().__init__(**kwargs)\n",
        "        self.dense_1 = FlexibleDense(out_features=3)\n",
        "        self.dense_2 = FlexibleDense(out_features=2)\n",
        "    \n",
        "    def call(self, x):\n",
        "        x = self.dense_1(x)\n",
        "        return self.dense_2(x)\n",
        "\n",
        "my_sequential_model = MySequentialModel(name='the_model')"
      ],
      "execution_count": null,
      "outputs": []
    },
    {
      "cell_type": "code",
      "metadata": {
        "id": "8mGMv9fwMNfH"
      },
      "source": [
        "print(\"Model result: \", my_sequential_model(tf.constant([[2.0, 2.0, 2.0]])))"
      ],
      "execution_count": null,
      "outputs": []
    },
    {
      "cell_type": "code",
      "metadata": {
        "id": "kGwUH216OtTg"
      },
      "source": [
        "my_sequential_model.variables"
      ],
      "execution_count": null,
      "outputs": []
    },
    {
      "cell_type": "code",
      "metadata": {
        "id": "M51dfE6NOxUS"
      },
      "source": [
        "my_sequential_model.submodules"
      ],
      "execution_count": null,
      "outputs": []
    },
    {
      "cell_type": "code",
      "metadata": {
        "id": "pCLhmMeXPB5S"
      },
      "source": [
        "inputs = tf.keras.Input(shape=[3, ])\n",
        "\n",
        "x = FlexibleDense(3)(inputs)\n",
        "x = FlexibleDense(2)(x)\n",
        "\n",
        "my_functional_model = tf.keras.Model(inputs=inputs, outputs=x)\n",
        "\n",
        "my_functional_model.summary()"
      ],
      "execution_count": null,
      "outputs": []
    },
    {
      "cell_type": "code",
      "metadata": {
        "id": "PKOOGFHlQif_"
      },
      "source": [
        "my_functional_model(tf.constant([[2.0, 2.0, 2.0]]))"
      ],
      "execution_count": null,
      "outputs": []
    },
    {
      "cell_type": "code",
      "metadata": {
        "id": "e-dVX7URZ_bY"
      },
      "source": [
        "my_sequential_model.save('exname_of_file')"
      ],
      "execution_count": null,
      "outputs": []
    },
    {
      "cell_type": "code",
      "metadata": {
        "id": "wIfHp6ayiKp4"
      },
      "source": [
        "reconstructed_model = tf.keras.models.load_model('exname_of_file')"
      ],
      "execution_count": null,
      "outputs": []
    },
    {
      "cell_type": "code",
      "metadata": {
        "id": "XCHkuUvOiX_I"
      },
      "source": [
        "reconstructed_model(tf.constant([[2.0, 2.0, 2.0]]))"
      ],
      "execution_count": null,
      "outputs": []
    }
  ]
}