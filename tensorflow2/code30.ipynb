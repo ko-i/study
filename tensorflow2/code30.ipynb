{
  "nbformat": 4,
  "nbformat_minor": 0,
  "metadata": {
    "colab": {
      "name": "Untitled0.ipynb",
      "provenance": [],
      "authorship_tag": "ABX9TyPTgf9EP5xtUamBrvx0QnIm"
    },
    "kernelspec": {
      "name": "python3",
      "display_name": "Python 3"
    },
    "language_info": {
      "name": "python"
    }
  },
  "cells": [
    {
      "cell_type": "code",
      "metadata": {
        "id": "VeE6BtPhP3AY"
      },
      "source": [
        "import numpy as np\n",
        "import matplotlib.pyplot as plt\n",
        "import tensorflow as tf"
      ],
      "execution_count": 1,
      "outputs": []
    },
    {
      "cell_type": "code",
      "metadata": {
        "id": "x3YJVIUaP9Z-"
      },
      "source": [
        "x = tf.Variable(3.0)\n",
        "\n",
        "with tf.GradientTape() as tape:\n",
        "    y = x**2"
      ],
      "execution_count": 2,
      "outputs": []
    },
    {
      "cell_type": "code",
      "metadata": {
        "id": "jS_rf_90QoL0",
        "outputId": "2256fc1f-a6c8-4d09-faab-e2f00e014f21",
        "colab": {
          "base_uri": "https://localhost:8080/"
        }
      },
      "source": [
        "dy_dx = tape.gradient(y, x)\n",
        "print(dy_dx)"
      ],
      "execution_count": 3,
      "outputs": [
        {
          "output_type": "stream",
          "text": [
            "tf.Tensor(6.0, shape=(), dtype=float32)\n"
          ],
          "name": "stdout"
        }
      ]
    },
    {
      "cell_type": "code",
      "metadata": {
        "id": "tLAXB26LQ2lx",
        "outputId": "70f7e0f6-0a8a-496e-9711-ac98fca7a92f",
        "colab": {
          "base_uri": "https://localhost:8080/"
        }
      },
      "source": [
        "w = tf.Variable(tf.random.normal((3, 2)), name='w')\n",
        "w"
      ],
      "execution_count": 4,
      "outputs": [
        {
          "output_type": "execute_result",
          "data": {
            "text/plain": [
              "<tf.Variable 'w:0' shape=(3, 2) dtype=float32, numpy=\n",
              "array([[-0.78568846,  0.591777  ],\n",
              "       [-0.59852225, -0.8046522 ],\n",
              "       [ 0.48884556,  0.86965966]], dtype=float32)>"
            ]
          },
          "metadata": {
            "tags": []
          },
          "execution_count": 4
        }
      ]
    },
    {
      "cell_type": "code",
      "metadata": {
        "id": "utYUkVJbSPUd",
        "outputId": "53ba6412-ac24-4791-b32a-09d88dbc5094",
        "colab": {
          "base_uri": "https://localhost:8080/"
        }
      },
      "source": [
        "b = tf.Variable(tf.zeros(2, dtype=tf.float32), name='b')\n",
        "b"
      ],
      "execution_count": 5,
      "outputs": [
        {
          "output_type": "execute_result",
          "data": {
            "text/plain": [
              "<tf.Variable 'b:0' shape=(2,) dtype=float32, numpy=array([0., 0.], dtype=float32)>"
            ]
          },
          "metadata": {
            "tags": []
          },
          "execution_count": 5
        }
      ]
    },
    {
      "cell_type": "code",
      "metadata": {
        "id": "8gKLkZAKSZ9K",
        "outputId": "c17531e4-7720-47e0-e1ee-355ce89cf49a",
        "colab": {
          "base_uri": "https://localhost:8080/"
        }
      },
      "source": [
        "x = [[1., 2., 3.]]\n",
        "x"
      ],
      "execution_count": 6,
      "outputs": [
        {
          "output_type": "execute_result",
          "data": {
            "text/plain": [
              "[[1.0, 2.0, 3.0]]"
            ]
          },
          "metadata": {
            "tags": []
          },
          "execution_count": 6
        }
      ]
    },
    {
      "cell_type": "code",
      "metadata": {
        "id": "j0P-QXfmSeWb"
      },
      "source": [
        "with tf.GradientTape() as tape:\n",
        "    y = x @ w + b\n",
        "    loss = tf.reduce_mean(y**2)"
      ],
      "execution_count": 14,
      "outputs": []
    },
    {
      "cell_type": "code",
      "metadata": {
        "id": "h46b4qEFWfhl"
      },
      "source": [
        "[dl_dw, dl_db] = tape.gradient(loss, [w, b])"
      ],
      "execution_count": 8,
      "outputs": []
    },
    {
      "cell_type": "code",
      "metadata": {
        "id": "G5QjTtYbYZ4z",
        "outputId": "aa6a800c-1ce9-4c35-9194-72c8ab74f1b3",
        "colab": {
          "base_uri": "https://localhost:8080/"
        }
      },
      "source": [
        "print(w.shape)\n",
        "print(dl_dw.shape)"
      ],
      "execution_count": 9,
      "outputs": [
        {
          "output_type": "stream",
          "text": [
            "(3, 2)\n",
            "(3, 2)\n"
          ],
          "name": "stdout"
        }
      ]
    },
    {
      "cell_type": "code",
      "metadata": {
        "id": "nAA1HUBIYdDs",
        "outputId": "dd16a2c2-e91a-4cfc-fc5c-12b7e8e01df3",
        "colab": {
          "base_uri": "https://localhost:8080/"
        }
      },
      "source": [
        "print(b.shape)\n",
        "print(dl_db.shape)"
      ],
      "execution_count": 10,
      "outputs": [
        {
          "output_type": "stream",
          "text": [
            "(2,)\n",
            "(2,)\n"
          ],
          "name": "stdout"
        }
      ]
    },
    {
      "cell_type": "code",
      "metadata": {
        "id": "nNWlCntNYgIa",
        "outputId": "4b8dec22-01e4-4c91-a660-8b9872fe7b27",
        "colab": {
          "base_uri": "https://localhost:8080/"
        }
      },
      "source": [
        "print(dl_dw)\n",
        "print(dl_db)"
      ],
      "execution_count": 11,
      "outputs": [
        {
          "output_type": "stream",
          "text": [
            "tf.Tensor(\n",
            "[[-0.51619637  1.5914516 ]\n",
            " [-1.0323927   3.1829033 ]\n",
            " [-1.5485891   4.774355  ]], shape=(3, 2), dtype=float32)\n",
            "tf.Tensor([-0.51619637  1.5914516 ], shape=(2,), dtype=float32)\n"
          ],
          "name": "stdout"
        }
      ]
    },
    {
      "cell_type": "code",
      "metadata": {
        "id": "lXYX1GbrYneJ",
        "outputId": "bdfed4d0-bbb7-42b5-d058-0fd997246f11",
        "colab": {
          "base_uri": "https://localhost:8080/"
        }
      },
      "source": [
        "my_vars = {\n",
        "    'w': w,\n",
        "    'b': b\n",
        "}\n",
        "\n",
        "grad = tape.gradient(loss, my_vars)\n",
        "grad"
      ],
      "execution_count": 15,
      "outputs": [
        {
          "output_type": "execute_result",
          "data": {
            "text/plain": [
              "{'b': <tf.Tensor: shape=(2,), dtype=float32, numpy=array([-0.51619637,  1.5914516 ], dtype=float32)>,\n",
              " 'w': <tf.Tensor: shape=(3, 2), dtype=float32, numpy=\n",
              " array([[-0.51619637,  1.5914516 ],\n",
              "        [-1.0323927 ,  3.1829033 ],\n",
              "        [-1.5485891 ,  4.774355  ]], dtype=float32)>}"
            ]
          },
          "metadata": {
            "tags": []
          },
          "execution_count": 15
        }
      ]
    },
    {
      "cell_type": "code",
      "metadata": {
        "id": "zEpc01IDaKMV"
      },
      "source": [
        "layer = tf.keras.layers.Dense(2, activation='relu')\n",
        "x = tf.constant([[1., 2., 3.]])\n",
        "\n",
        "with tf.GradientTape() as tape:\n",
        "    y = layer(x)\n",
        "    loss = tf.reduce_mean(y**2)\n",
        "\n",
        "grad = tape.gradient(loss, layer.trainable_variables)"
      ],
      "execution_count": 16,
      "outputs": []
    },
    {
      "cell_type": "code",
      "metadata": {
        "id": "UYYjwxOwbrTT",
        "outputId": "317a8e1c-3203-4b28-ae81-44d09482b1a2",
        "colab": {
          "base_uri": "https://localhost:8080/"
        }
      },
      "source": [
        "for var, g in zip(layer.trainable_variables, grad):\n",
        "    print(f'{var.name}, shape: {g.shape}')"
      ],
      "execution_count": 17,
      "outputs": [
        {
          "output_type": "stream",
          "text": [
            "dense/kernel:0, shape: (3, 2)\n",
            "dense/bias:0, shape: (2,)\n"
          ],
          "name": "stdout"
        }
      ]
    },
    {
      "cell_type": "code",
      "metadata": {
        "id": "IDwzlXQjb8Ug"
      },
      "source": [
        "x0 = tf.Variable(3.0, name='x0')\n",
        "x1 = tf.Variable(3.0, name='x1', trainable=False)\n",
        "x2 = tf.Variable(3.0, name='x2') + 1\n",
        "x3 = tf.constant(3.0, name='x2')"
      ],
      "execution_count": 18,
      "outputs": []
    },
    {
      "cell_type": "code",
      "metadata": {
        "id": "xkYJJ8Rld9-F",
        "outputId": "781590e6-974e-423d-933f-76ef4fbdb119",
        "colab": {
          "base_uri": "https://localhost:8080/"
        }
      },
      "source": [
        "with tf.GradientTape() as tape:\n",
        "    y = (x0**2) + (x1**2) + (x2**2)\n",
        "\n",
        "grad = tape.gradient(y, [x0, x1, x2, x3])\n",
        "for g in grad:\n",
        "    print(g)"
      ],
      "execution_count": 19,
      "outputs": [
        {
          "output_type": "stream",
          "text": [
            "tf.Tensor(6.0, shape=(), dtype=float32)\n",
            "None\n",
            "None\n",
            "None\n"
          ],
          "name": "stdout"
        }
      ]
    },
    {
      "cell_type": "code",
      "metadata": {
        "id": "lSvOKumiePUi",
        "outputId": "213e9611-6a5d-408b-8bde-cb5509bda1ec",
        "colab": {
          "base_uri": "https://localhost:8080/"
        }
      },
      "source": [
        "[var.name for var in tape.watched_variables()]"
      ],
      "execution_count": 20,
      "outputs": [
        {
          "output_type": "execute_result",
          "data": {
            "text/plain": [
              "['x0:0']"
            ]
          },
          "metadata": {
            "tags": []
          },
          "execution_count": 20
        }
      ]
    },
    {
      "cell_type": "code",
      "metadata": {
        "id": "txl9dTyJese7",
        "outputId": "69a19269-7a74-488c-e5a4-3889cbb394ba",
        "colab": {
          "base_uri": "https://localhost:8080/"
        }
      },
      "source": [
        "x = tf.constant(3.0)\n",
        "with tf.GradientTape() as tape:\n",
        "    tape.watch(x)\n",
        "    y = x**2\n",
        "\n",
        "dy_dx = tape.gradient(y, x)\n",
        "print(dy_dx)"
      ],
      "execution_count": 21,
      "outputs": [
        {
          "output_type": "stream",
          "text": [
            "tf.Tensor(6.0, shape=(), dtype=float32)\n"
          ],
          "name": "stdout"
        }
      ]
    },
    {
      "cell_type": "code",
      "metadata": {
        "id": "iBbQyJ6ufqUI"
      },
      "source": [
        "x0 = tf.Variable(0.0)\n",
        "x1 = tf.Variable(10.0)\n",
        "\n",
        "with tf.GradientTape(watch_accessed_variables=False) as tape:\n",
        "    tape.watch(x1)\n",
        "    y0 = tf.sin(x0)\n",
        "    y1 = tf.nn.softplus(x1)\n",
        "    y = y0 + y1\n",
        "    ys = tf.reduce_sum(y)"
      ],
      "execution_count": 25,
      "outputs": []
    },
    {
      "cell_type": "code",
      "metadata": {
        "id": "3SfP9Kr1gRd0",
        "outputId": "99afbd8f-81a8-4f8c-e705-ba9ca6c9dbd6",
        "colab": {
          "base_uri": "https://localhost:8080/"
        }
      },
      "source": [
        "grad = tape.gradient(ys, {'x0': x0, 'x1': x1})\n",
        "print(grad)"
      ],
      "execution_count": 26,
      "outputs": [
        {
          "output_type": "stream",
          "text": [
            "{'x0': None, 'x1': <tf.Tensor: shape=(), dtype=float32, numpy=0.9999546>}\n"
          ],
          "name": "stdout"
        }
      ]
    },
    {
      "cell_type": "code",
      "metadata": {
        "id": "sPVtoFXKgc9b",
        "outputId": "27caf3df-1e56-466c-daa4-1d5b1274b2d4",
        "colab": {
          "base_uri": "https://localhost:8080/"
        }
      },
      "source": [
        "x = tf.constant(3.0)\n",
        "\n",
        "with tf.GradientTape() as tape:\n",
        "    tape.watch(x)\n",
        "    y = x*x\n",
        "    z = y*y\n",
        "\n",
        "print(tape.gradient(z, y))"
      ],
      "execution_count": 27,
      "outputs": [
        {
          "output_type": "stream",
          "text": [
            "tf.Tensor(18.0, shape=(), dtype=float32)\n"
          ],
          "name": "stdout"
        }
      ]
    },
    {
      "cell_type": "code",
      "metadata": {
        "id": "8sJEQqcgi82S",
        "outputId": "b50417dd-09d0-4cda-ec99-0a83941a5928",
        "colab": {
          "base_uri": "https://localhost:8080/"
        }
      },
      "source": [
        "x = tf.constant([1, 3.0])\n",
        "with tf.GradientTape(persistent=True) as tape:\n",
        "    tape.watch(x)\n",
        "    y = x*x\n",
        "    z = y*y\n",
        "\n",
        "print(tape.gradient(z, x).numpy())\n",
        "print(tape.gradient(y, x).numpy())"
      ],
      "execution_count": 28,
      "outputs": [
        {
          "output_type": "stream",
          "text": [
            "[  4. 108.]\n",
            "[2. 6.]\n"
          ],
          "name": "stdout"
        }
      ]
    },
    {
      "cell_type": "code",
      "metadata": {
        "id": "uS3wSKpijw-L"
      },
      "source": [
        "del tape"
      ],
      "execution_count": 29,
      "outputs": []
    },
    {
      "cell_type": "code",
      "metadata": {
        "id": "LOj8pLMJj2My",
        "outputId": "f1e76037-3964-4ff9-a286-63bffd596882",
        "colab": {
          "base_uri": "https://localhost:8080/"
        }
      },
      "source": [
        "x = tf.Variable(2.0)\n",
        "\n",
        "with tf.GradientTape(persistent=True) as tape:\n",
        "    y0 = x**2\n",
        "    y1 = 1 / x\n",
        "\n",
        "print(tape.gradient(y0, x).numpy())\n",
        "print(tape.gradient(y1, x).numpy())"
      ],
      "execution_count": 30,
      "outputs": [
        {
          "output_type": "stream",
          "text": [
            "4.0\n",
            "-0.25\n"
          ],
          "name": "stdout"
        }
      ]
    },
    {
      "cell_type": "code",
      "metadata": {
        "id": "XW_apl--l8aO",
        "outputId": "12a6ddfd-d840-41e1-deab-2753af62be08",
        "colab": {
          "base_uri": "https://localhost:8080/"
        }
      },
      "source": [
        "x = tf.Variable(2.0)\n",
        "\n",
        "with tf.GradientTape() as tape:\n",
        "    y0 = x**2\n",
        "    y1 = 1/x\n",
        "\n",
        "print(tape.gradient({'y0': y0, 'y1': y1}, x).numpy())"
      ],
      "execution_count": 31,
      "outputs": [
        {
          "output_type": "stream",
          "text": [
            "3.75\n"
          ],
          "name": "stdout"
        }
      ]
    },
    {
      "cell_type": "code",
      "metadata": {
        "id": "SBPHsVKTnIy-",
        "outputId": "176b2e12-a9ea-4af4-c3cb-3f9db998f62a",
        "colab": {
          "base_uri": "https://localhost:8080/"
        }
      },
      "source": [
        "x = tf.Variable(2.0)\n",
        "\n",
        "with tf.GradientTape() as tape:\n",
        "    y = x * [2., 4.]\n",
        "\n",
        "print(tape.gradient(y, x).numpy())"
      ],
      "execution_count": 32,
      "outputs": [
        {
          "output_type": "stream",
          "text": [
            "6.0\n"
          ],
          "name": "stdout"
        }
      ]
    },
    {
      "cell_type": "code",
      "metadata": {
        "id": "hxb4o8l_ndQ3"
      },
      "source": [
        "x = tf.linspace(-10.0, 10.0, 200+1)\n",
        "\n",
        "with tf.GradientTape() as tape:\n",
        "    tape.watch(x)\n",
        "    y = tf.nn.sigmoid(x)\n",
        "\n",
        "dy_dx = tape.gradient(y, x)"
      ],
      "execution_count": 33,
      "outputs": []
    },
    {
      "cell_type": "code",
      "metadata": {
        "id": "3ZVrM39WoP3W"
      },
      "source": [
        "dy_dx"
      ],
      "execution_count": null,
      "outputs": []
    },
    {
      "cell_type": "code",
      "metadata": {
        "id": "d8qUAX7HoTQm",
        "outputId": "2b2199fb-0df4-43d3-a508-68805ec201ce",
        "colab": {
          "base_uri": "https://localhost:8080/",
          "height": 296
        }
      },
      "source": [
        "plt.plot(x, y, label='y')\n",
        "plt.plot(x, dy_dx, label='dy_dx')\n",
        "plt.legend()\n",
        "plt.xlabel('x')"
      ],
      "execution_count": 35,
      "outputs": [
        {
          "output_type": "execute_result",
          "data": {
            "text/plain": [
              "Text(0.5, 0, 'x')"
            ]
          },
          "metadata": {
            "tags": []
          },
          "execution_count": 35
        },
        {
          "output_type": "display_data",
          "data": {
            "image/png": "[encoded data removed]",
            "text/plain": [
              "<Figure size 432x288 with 1 Axes>"
            ]
          },
          "metadata": {
            "tags": [],
            "needs_background": "light"
          }
        }
      ]
    },
    {
      "cell_type": "code",
      "metadata": {
        "id": "g6xLuGD4omei",
        "outputId": "4f8cd3aa-5cc6-4dc7-c8a8-4759f2fb5b7e",
        "colab": {
          "base_uri": "https://localhost:8080/"
        }
      },
      "source": [
        "x = tf.constant(1.0)\n",
        "\n",
        "v0 = tf.Variable(2.0)\n",
        "v1 = tf.Variable(2.0)\n",
        "\n",
        "with tf.GradientTape(persistent=True) as tape:\n",
        "    tape.watch(x)\n",
        "    if x >= 0.0:\n",
        "        result = v0\n",
        "    else:\n",
        "        result = v1**2\n",
        "\n",
        "dv0, dv1 = tape.gradient(result, [v0, v1])\n",
        "print(dv0)\n",
        "print(dv1)"
      ],
      "execution_count": 36,
      "outputs": [
        {
          "output_type": "stream",
          "text": [
            "tf.Tensor(1.0, shape=(), dtype=float32)\n",
            "None\n"
          ],
          "name": "stdout"
        }
      ]
    },
    {
      "cell_type": "code",
      "metadata": {
        "id": "8PNdq7gdpb6_",
        "outputId": "ce44373a-a504-4e97-fe8c-93bc6202520f",
        "colab": {
          "base_uri": "https://localhost:8080/"
        }
      },
      "source": [
        "dx = tape.gradient(result, x)\n",
        "print(dx)"
      ],
      "execution_count": 38,
      "outputs": [
        {
          "output_type": "stream",
          "text": [
            "None\n"
          ],
          "name": "stdout"
        }
      ]
    },
    {
      "cell_type": "code",
      "metadata": {
        "id": "Y7XEylK-qPvD",
        "outputId": "146b168d-f597-4c26-d2e9-04a953274bd1",
        "colab": {
          "base_uri": "https://localhost:8080/"
        }
      },
      "source": [
        "x = tf.Variable(2.)\n",
        "y = tf.Variable(3.)\n",
        "\n",
        "with tf.GradientTape() as tape:\n",
        "    z = y*y\n",
        "\n",
        "print(tape.gradient(z, x))"
      ],
      "execution_count": 39,
      "outputs": [
        {
          "output_type": "stream",
          "text": [
            "None\n"
          ],
          "name": "stdout"
        }
      ]
    },
    {
      "cell_type": "code",
      "metadata": {
        "id": "UNtCem7oqhRn",
        "outputId": "c0a9a20b-4186-4037-e1b9-543e64d15843",
        "colab": {
          "base_uri": "https://localhost:8080/"
        }
      },
      "source": [
        "x = tf.Variable(2.0)\n",
        "\n",
        "for epoch in range(2):\n",
        "    with tf.GradientTape() as tape:\n",
        "        y = x + 1\n",
        "    \n",
        "    print(type(x).__name__, \":\", tape.gradient(y, x))\n",
        "    x = x + 1"
      ],
      "execution_count": 40,
      "outputs": [
        {
          "output_type": "stream",
          "text": [
            "ResourceVariable : tf.Tensor(1.0, shape=(), dtype=float32)\n",
            "EagerTensor : None\n"
          ],
          "name": "stdout"
        }
      ]
    },
    {
      "cell_type": "code",
      "metadata": {
        "id": "6pwxXbH_r6na",
        "outputId": "e04adfb6-2321-47ae-9804-58214bea3537",
        "colab": {
          "base_uri": "https://localhost:8080/"
        }
      },
      "source": [
        "x = tf.Variable([[1.0, 2.0], [3.0, 4.0]], dtype=tf.float32)\n",
        "with tf.GradientTape() as tape:\n",
        "    x2 = x**2\n",
        "\n",
        "    y = np.mean(x2, axis=0)\n",
        "    y = tf.reduce_mean(y, axis=0)\n",
        "\n",
        "print(tape.gradient(y, x))"
      ],
      "execution_count": 41,
      "outputs": [
        {
          "output_type": "stream",
          "text": [
            "None\n"
          ],
          "name": "stdout"
        }
      ]
    },
    {
      "cell_type": "code",
      "metadata": {
        "id": "iXl2jRGDsdop",
        "outputId": "652f912d-f45c-4e75-f34e-315d2cf574a7",
        "colab": {
          "base_uri": "https://localhost:8080/"
        }
      },
      "source": [
        "x = tf.constant(10)\n",
        "\n",
        "with tf.GradientTape() as g:\n",
        "    g.watch(x)\n",
        "\n",
        "    y = x*x\n",
        "\n",
        "print(g.gradient(y, x))"
      ],
      "execution_count": 42,
      "outputs": [
        {
          "output_type": "stream",
          "text": [
            "WARNING:tensorflow:The dtype of the watched tensor must be floating (e.g. tf.float32), got tf.int32\n",
            "WARNING:tensorflow:The dtype of the target tensor must be floating (e.g. tf.float32) when calling GradientTape.gradient, got tf.int32\n",
            "WARNING:tensorflow:The dtype of the source tensor must be floating (e.g. tf.float32) when calling GradientTape.gradient, got tf.int32\n",
            "None\n"
          ],
          "name": "stdout"
        }
      ]
    },
    {
      "cell_type": "code",
      "metadata": {
        "id": "gOJ8LXzos9Yw",
        "outputId": "bfc35a37-7d29-44aa-fd2c-214d6b8751a8",
        "colab": {
          "base_uri": "https://localhost:8080/"
        }
      },
      "source": [
        "x0 = tf.Variable(3.0)\n",
        "x1 = tf.Variable(0.0)\n",
        "\n",
        "with tf.GradientTape() as tape:\n",
        "    x1.assign_add(x0)\n",
        "\n",
        "    y = x1**2\n",
        "\n",
        "print(tape.gradient(y, x0))"
      ],
      "execution_count": 43,
      "outputs": [
        {
          "output_type": "stream",
          "text": [
            "None\n"
          ],
          "name": "stdout"
        }
      ]
    },
    {
      "cell_type": "code",
      "metadata": {
        "id": "aiVgytWSuGbk",
        "outputId": "7b8d49f2-4c7a-4e3c-be49-b2efea6e9620",
        "colab": {
          "base_uri": "https://localhost:8080/"
        }
      },
      "source": [
        "image = tf.Variable([[[0.5, 0.0, 0.0]]])\n",
        "delta = tf.Variable(0.1)\n",
        "\n",
        "with tf.GradientTape() as tape:\n",
        "    new_image = tf.image.adjust_contrast(image, delta)\n",
        "\n",
        "try:\n",
        "    print(tape.gradient(new_image, image))\n",
        "    assert False\n",
        "except LookupError as e:\n",
        "    print(f'{type(e).__name__}: {e}')"
      ],
      "execution_count": 44,
      "outputs": [
        {
          "output_type": "stream",
          "text": [
            "LookupError: gradient registry has no entry for: AdjustContrastv2\n"
          ],
          "name": "stdout"
        }
      ]
    },
    {
      "cell_type": "code",
      "metadata": {
        "id": "LCexJIyxvppg",
        "outputId": "f0a46247-b43d-4e1b-b582-713320175af7",
        "colab": {
          "base_uri": "https://localhost:8080/"
        }
      },
      "source": [
        "x = tf.Variable([2., 2.])\n",
        "y = tf.Variable(3.)\n",
        "\n",
        "with tf.GradientTape() as tape:\n",
        "    z = y**2\n",
        "\n",
        "print(tape.gradient(z, x, unconnected_gradients=tf.UnconnectedGradients.ZERO))"
      ],
      "execution_count": 45,
      "outputs": [
        {
          "output_type": "stream",
          "text": [
            "tf.Tensor([0. 0.], shape=(2,), dtype=float32)\n"
          ],
          "name": "stdout"
        }
      ]
    },
    {
      "cell_type": "code",
      "metadata": {
        "id": "pb_qJY8_xAHL"
      },
      "source": [
        ""
      ],
      "execution_count": null,
      "outputs": []
    }
  ]
}